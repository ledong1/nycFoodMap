{
 "cells": [
  {
   "cell_type": "code",
   "execution_count": 57,
   "metadata": {},
   "outputs": [],
   "source": [
    "import numpy as np\n",
    "b=np.load('ny.eater-content-new2.npy', allow_pickle=True)\n",
    "content=b.tolist()"
   ]
  },
  {
   "cell_type": "code",
   "execution_count": 2,
   "metadata": {},
   "outputs": [],
   "source": [
    "# content"
   ]
  },
  {
   "cell_type": "code",
   "execution_count": 58,
   "metadata": {},
   "outputs": [],
   "source": [
    "import pandas as pd \n",
    "pd.DataFrame(b).to_csv(\"ny.eater-content-new2.csv\")"
   ]
  },
  {
   "cell_type": "code",
   "execution_count": null,
   "metadata": {},
   "outputs": [],
   "source": []
  },
  {
   "cell_type": "code",
   "execution_count": 59,
   "metadata": {},
   "outputs": [],
   "source": [
    "import re  # For preprocessing\n",
    "import pandas as pd  # For data handling\n",
    "from time import time  # To time our operations\n",
    "from collections import defaultdict  # For word frequency\n",
    "\n",
    "import spacy  # For preprocessing\n",
    "\n",
    "import logging  # Setting up the loggings to monitor gensim\n",
    "logging.basicConfig(format=\"%(levelname)s - %(asctime)s: %(message)s\", datefmt= '%H:%M:%S', level=logging.INFO)"
   ]
  },
  {
   "cell_type": "code",
   "execution_count": 60,
   "metadata": {},
   "outputs": [
    {
     "name": "stderr",
     "output_type": "stream",
     "text": [
      "C:\\Users\\godsh\\anaconda3\\envs\\nlp_course\\lib\\site-packages\\msgpack_numpy.py:184: DeprecationWarning: encoding is deprecated, Use raw=False instead.\n",
      "  return _unpackb(packed, **kwargs)\n",
      "C:\\Users\\godsh\\anaconda3\\envs\\nlp_course\\lib\\site-packages\\msgpack_numpy.py:184: DeprecationWarning: encoding is deprecated, Use raw=False instead.\n",
      "  return _unpackb(packed, **kwargs)\n"
     ]
    }
   ],
   "source": [
    "nlp = spacy.load('en_core_web_lg', disable=['ner', 'parser']) # disabling Named Entity Recognition for speed"
   ]
  },
  {
   "cell_type": "code",
   "execution_count": null,
   "metadata": {},
   "outputs": [],
   "source": []
  },
  {
   "cell_type": "code",
   "execution_count": 61,
   "metadata": {},
   "outputs": [],
   "source": [
    "def cleaning(doc):\n",
    "    # Lemmatizes and removes stopwords\n",
    "    # doc needs to be a spacy Doc object\n",
    "    txt = [token.lemma_ for token in doc if not token.is_stop]\n",
    "    # Word2Vec uses context words to learn the vector representation of a target word,\n",
    "    # if a sentence is only one or two words long,\n",
    "    # the benefit for the training is very small\n",
    "    if len(txt) > 2:\n",
    "        return ' '.join(txt)\n",
    "\n",
    "new_content = []\n",
    "for article in content:\n",
    "    if article != []:\n",
    "        text = \"\"\n",
    "        for sent in article:\n",
    "            text = text + sent\n",
    "        new_content.append(text)\n",
    "\n",
    "    "
   ]
  },
  {
   "cell_type": "code",
   "execution_count": null,
   "metadata": {},
   "outputs": [],
   "source": [
    "\n"
   ]
  },
  {
   "cell_type": "code",
   "execution_count": 7,
   "metadata": {},
   "outputs": [],
   "source": [
    "nlp.max_length = 3000200"
   ]
  },
  {
   "cell_type": "code",
   "execution_count": 8,
   "metadata": {},
   "outputs": [],
   "source": [
    "# a=''\n",
    "# for each in df_clean['clean']:\n",
    "#     a += each\n"
   ]
  },
  {
   "cell_type": "code",
   "execution_count": 9,
   "metadata": {},
   "outputs": [],
   "source": [
    "# doc1 = nlp(a)"
   ]
  },
  {
   "cell_type": "code",
   "execution_count": 10,
   "metadata": {},
   "outputs": [],
   "source": [
    "# len(set(doc1))"
   ]
  },
  {
   "cell_type": "code",
   "execution_count": 11,
   "metadata": {},
   "outputs": [],
   "source": [
    "# len(set(doc1))/len(a)"
   ]
  },
  {
   "cell_type": "code",
   "execution_count": 62,
   "metadata": {},
   "outputs": [
    {
     "name": "stdout",
     "output_type": "stream",
     "text": [
      "Time to clean up everything: 0.35 mins\n"
     ]
    },
    {
     "data": {
      "text/plain": [
       "(412, 1)"
      ]
     },
     "execution_count": 62,
     "metadata": {},
     "output_type": "execute_result"
    }
   ],
   "source": [
    "brief_cleaning = (re.sub(\"[^A-Za-z']+\", ' ', re.sub(\"'s\", '', re.sub(\"’s\", '',str(article)))).lower() for article in new_content)\n",
    "\n",
    "t = time()\n",
    "\n",
    "txt = [cleaning(doc) for doc in nlp.pipe(brief_cleaning, batch_size=5000, n_threads=-1)]\n",
    "\n",
    "print('Time to clean up everything: {} mins'.format(round((time() - t) / 60, 2)))\n",
    "\n",
    "df_clean = pd.DataFrame({'clean': txt})\n",
    "df_clean = df_clean.dropna().drop_duplicates()\n",
    "df_clean.shape"
   ]
  },
  {
   "cell_type": "code",
   "execution_count": 72,
   "metadata": {},
   "outputs": [
    {
     "data": {
      "text/plain": [
       "<generator object <genexpr> at 0x0000028D29576848>"
      ]
     },
     "execution_count": 72,
     "metadata": {},
     "output_type": "execute_result"
    }
   ],
   "source": [
    "brief_cleaning"
   ]
  },
  {
   "cell_type": "code",
   "execution_count": 13,
   "metadata": {},
   "outputs": [],
   "source": [
    "# df_clean[30:]"
   ]
  },
  {
   "cell_type": "code",
   "execution_count": 74,
   "metadata": {},
   "outputs": [
    {
     "data": {
      "text/plain": [
       "'jenny kwak be a chef at the top of -PRON- game move deftly between traditional korean and actually exciting fusion fare in park slopeamid new york ever globalize culinary scene a culture of cross pollination continue to thrive the city fine barbecue shack sell not just texas brisket but stellar jerk pork an ambitious indian spot in gramercy send out pitch perfect tandoori chicken and guacamole to boot an asian rotisserie in midtown stuff -PRON- breakfast pita with of all thing cream cheese and lox and now at haenyeo a knockout of a korean hangout in park slope the kitchen whip up bouillabaisse as masterful as that of any gallic temple chef owner jenny kwak infuse gochuchang chile powder into a classic french soup of fish fumet fennel tomato and pernod the rust color mixture zing -PRON- sinus with a pungent tang of the sea a filet of cod act as a steady conduit for the powerful broth as do a scattering of not something -PRON- d find in marseille glutinous rice cake mussel add a touch of funk as do head on shrimp and all -PRON- oozy inside and then there the prize an orb of uni float about like an egg yolk in ramen the warmth of the stew double the urchin natural sugar and triple -PRON- musk at this point -PRON- may search for the traditional bouillabaisse accompaniment of crouton with rouille to add a bit of garlicky cream and crunch to the stew except there none of that here kwak instead present a baguette slather with seaweed butter let -PRON- soak in the broth then appreciate how the sweet nori enrich the mixture if that still too european kwak offer more traditional dish too from bulgogi to raw fish bibimbap bowl alongside with mexican leaning fundido and louisiana style shellfish haenyeo may take -PRON- name from the woman who free dive for seafood off of korea jeju island but -PRON- approach to cuisine be often decidedly and unabashedly internationalist park slope collection of korean restaurant be still small which be fit that country cuisine didn t have a ton of east village representation there before kwak and -PRON- mother myung ja kwak come along nearly year ago the duo have function among a group of trailblazer for the city korean scene spread the gospel of -PRON- ancestral food outside the confine of nd street the mother daughter team open up dok suni on first avenue in the early s drawing in hip crowd with stretchy japchae noodle writer praise -PRON- effort though -PRON- sometimes use language that should ve come across as troublesome then as -PRON- be now new york magazine fran schumer begin -PRON- suni review with this slight -PRON- d rather have spaghetti than kimchi any day but there be time when cold pickle cabbage taste that good new york time critic william grime laud kwak use of tasting menu to demystify korean food at do hwa in the west village for year the city korean restaurant make no concession to newcomer who face a struggle figure out what the dish be how to order -PRON- and how to eat -PRON- -PRON- write in food will always adapt but point out a particular cuisine so call lack of concession or instruction be a dicey affair that say the korean restaurant community have evolve over the decade as have the journalist cover -PRON- -PRON- be age since a reviewer have use the word forbid in association with any of these fine venue or unnecessarily mention that the waiter speak english well korean fry chicken be about as ubiquitous as any other style a certain galbi sling barbecue spot in flatiron be hard to get into than any local steakhouse a multibillion dollar real estate complex be sell grammable rice cake shape like pinwheel and late last year mark the debut of haenyeo whose kitchen exhibit a stunning fluency in alternate between more traditional and more modern fusion y preparation there something profoundly warm about walk past a bustling al di la the italian pride of park slope and notice that haenyeo across the street be no less packed mile davis pipe through the sound system as family eat fry scallop with corn tartare an be -PRON- summer yet melange of oceanic and terrestrial sugar and scallion pancake the slice of spicy onion be hold together with so little batter -PRON- re effectively modernist tempura sculpture the corner space with handsome brown floor plank french style bar stool and ample natural light scream neighborhood cafe and that partly the plan haenyeo will open for lunch and brunch this summer serve up coffee and egg with jambalaya rice for now -PRON- dinner only with a no reservation policy for most party size the wait on saturday can surpass minute anyone who try the oyster will understand the pulsate crowd kwak grill -PRON- over hardwood briquette a hat tip to the new orlean heritage of -PRON- husband terrence segura with whom -PRON- share ownership -PRON- not the first person to do this in new york but -PRON- may be the most skilled the wellfleet bivalve display an aggressive plumpness -PRON- pop with a gentle press of the tongue gush with hot seaweed butter equally stunning be the rustic internationalist take on fundido typically a glorious gut bomb of melt cheese here that ingredient constitute just the epidermal layer of a deep bubble casserole beneath the scorch cheese an aggressively milky oaxacan variety lie a pool of chile sauce and mound of tteokbokki oblong korean rice cake pull -PRON- up with a pair of chopstick collect the other ingredient along the way perhaps some jalape os or crumble chorizo peek just beneath the surface the combination of flavor and texture chewy rice cake hot pepper tart sauce spice sausage and stretchy melty cheese feel like less of a true fundido and more of a korean mexican riff on baked ziti then a moment later kwak switch gear to modern refined fare -PRON- serve ordinary grill mackerel in a very distinct way by pair -PRON- with square sheet of nori the mackerel be soft and neutral boasting gently smoky overtone -PRON- borderline boring until -PRON- wrap -PRON- in seaweed which impart the fish with a hint of brine and a crisp snappy texture -PRON- dunk the hand roll a striking contrast of white and green in crimson gochujang paste light up the palate with salt and sweet chile the menu have a few minor miss from run of the mill beef kimchi gyoza ordinary fry dumpling to a bland mound of chile braise tofu better be the puffy fry chicken bite lace with jalapeno as well as the korean seafood stew a smaller more classic answer to the fancy bouillabaisse the soup chock full of silky soybean curd and firm shrimp be mild in flavor than the spendi french version sporting just a touch of shellfish concentrate and then there be the classic soy and sesame marinate ribeye bulgogi cut paper thin and pile high on a platter for wrap in crisp lettuce and shiso leave louisiana style beignet be the appropriate way to end a meal here the dough -PRON- be relatively unsweetened give the confection the taste of a classic street fair zeppole so much powdered sugar be apply that -PRON- will inhale some as -PRON- eat not korean be the disclaimer that kwak append to -PRON- instagram of that dessert for -PRON- stay true or preserve korean flavor be the main goal the chef write in an email but -PRON- add that there be so many influence around -PRON- mostly from travel but even from live in nyc that -PRON- allow -PRON- more room to experiment than -PRON- do earlier in career may -PRON- continue to do so cost starter at large share plate at seaweed baguette be a worthwhile supplement to the bouillabaisse sample dish sauteed glass noodle in sesame rice cake fundido with chorizo scallion pancake grill oyster with seaweed butter grill mackerel with nori spicy winter bouillabaisse thinly slice ribeye with lettuce wrap sugar dust beignet bonus tip reservation only available for six or more the good way to avoid the wait be to dine earlier in the week in the off hour or good of all at the bar where thing be first come first serve'"
      ]
     },
     "execution_count": 74,
     "metadata": {},
     "output_type": "execute_result"
    }
   ],
   "source": [
    "df_clean['clean'][0]"
   ]
  },
  {
   "cell_type": "code",
   "execution_count": 15,
   "metadata": {},
   "outputs": [],
   "source": [
    "# wordNum=0\n",
    "# count=0\n",
    "# for j in df_clean['clean']:\n",
    "#     wordNum =wordNum + len(j)\n",
    "#     count = count + 1\n",
    "# print(wordNum/count)    \n",
    "    "
   ]
  },
  {
   "cell_type": "code",
   "execution_count": 18,
   "metadata": {},
   "outputs": [
    {
     "name": "stdout",
     "output_type": "stream",
     "text": [
      "Collecting gensim\n",
      "  Using cached https://files.pythonhosted.org/packages/ef/92/325846f87c2ef1d6e5a6d54a55340877312b3afc4f23775448e3f97f3901/gensim-4.1.2-cp37-cp37m-win_amd64.whl\n",
      "Collecting Cython==0.29.23 (from gensim)\n",
      "  Using cached https://files.pythonhosted.org/packages/89/61/0b316f1d669345003a7077ba9f7ebedd2b04eb164e3f42ba3c0b95469fc5/Cython-0.29.23-cp37-cp37m-win_amd64.whl\n",
      "Requirement already satisfied: numpy>=1.17.0 in c:\\users\\godsh\\anaconda3\\envs\\nlp_course\\lib\\site-packages (from gensim) (1.21.4)\n",
      "Requirement already satisfied: scipy>=0.18.1 in c:\\users\\godsh\\anaconda3\\envs\\nlp_course\\lib\\site-packages (from gensim) (1.1.0)\n",
      "Requirement already satisfied: smart-open>=1.8.1 in c:\\users\\godsh\\anaconda3\\envs\\nlp_course\\lib\\site-packages (from gensim) (5.2.1)\n",
      "Installing collected packages: Cython, gensim\n",
      "Successfully installed Cython-0.29.23 gensim-4.1.2\n",
      "Note: you may need to restart the kernel to use updated packages.\n"
     ]
    }
   ],
   "source": []
  },
  {
   "cell_type": "code",
   "execution_count": 19,
   "metadata": {},
   "outputs": [],
   "source": [
    "from gensim.models.phrases import Phrases, Phraser"
   ]
  },
  {
   "cell_type": "code",
   "execution_count": 20,
   "metadata": {},
   "outputs": [],
   "source": [
    "sent = [row.split() for row in df_clean['clean']]"
   ]
  },
  {
   "cell_type": "code",
   "execution_count": 21,
   "metadata": {},
   "outputs": [
    {
     "name": "stderr",
     "output_type": "stream",
     "text": [
      "INFO - 07:32:14: collecting all words and their counts\n",
      "INFO - 07:32:14: PROGRESS: at sentence #0, processed 0 words and 0 word types\n",
      "INFO - 07:32:14: collected 256891 token types (unigram + bigrams) from a corpus of 545420 words and 412 sentences\n",
      "INFO - 07:32:14: merged Phrases<256891 vocab, min_count=30, threshold=10.0, max_vocab_size=40000000>\n",
      "INFO - 07:32:14: Phrases lifecycle event {'msg': 'built Phrases<256891 vocab, min_count=30, threshold=10.0, max_vocab_size=40000000> in 0.50s', 'datetime': '2021-11-24T07:32:14.745367', 'gensim': '4.1.2', 'python': '3.7.7 (default, May  6 2020, 11:45:54) [MSC v.1916 64 bit (AMD64)]', 'platform': 'Windows-10-10.0.19041-SP0', 'event': 'created'}\n"
     ]
    }
   ],
   "source": [
    "bigram = Phrases(sent, min_count=30, progress_per=10000)"
   ]
  },
  {
   "cell_type": "code",
   "execution_count": 22,
   "metadata": {},
   "outputs": [],
   "source": [
    "sentences = bigram[sent]"
   ]
  },
  {
   "cell_type": "code",
   "execution_count": 23,
   "metadata": {},
   "outputs": [
    {
     "data": {
      "text/plain": [
       "23530"
      ]
     },
     "execution_count": 23,
     "metadata": {},
     "output_type": "execute_result"
    }
   ],
   "source": [
    "word_freq = defaultdict(int)\n",
    "for sent in sentences:\n",
    "    for i in sent:\n",
    "        word_freq[i] += 1\n",
    "len(word_freq)"
   ]
  },
  {
   "cell_type": "code",
   "execution_count": null,
   "metadata": {},
   "outputs": [],
   "source": [
    "sorted(word_freq, key=word_freq.get, reverse=True)[:10]"
   ]
  },
  {
   "cell_type": "code",
   "execution_count": 24,
   "metadata": {},
   "outputs": [],
   "source": [
    "import numpy as np\n",
    "import pandas as pd\n",
    "\n",
    "import gensim\n",
    "import gensim.corpora as corpora\n",
    "from gensim.utils import simple_preprocess\n",
    "from gensim.models import CoherenceModel\n",
    "\n",
    "import spacy\n",
    "from spacy.lemmatizer import Lemmatizer\n",
    "from spacy.lang.en.stop_words import STOP_WORDS\n",
    "import en_core_web_lg\n",
    "\n",
    "from tqdm import tqdm_notebook as tqdm\n",
    "from pprint import pprint"
   ]
  },
  {
   "cell_type": "code",
   "execution_count": null,
   "metadata": {},
   "outputs": [],
   "source": []
  },
  {
   "cell_type": "code",
   "execution_count": 25,
   "metadata": {},
   "outputs": [
    {
     "name": "stderr",
     "output_type": "stream",
     "text": [
      "INFO - 07:32:27: adding document #0 to Dictionary(0 unique tokens: [])\n",
      "INFO - 07:32:28: built Dictionary(23530 unique tokens: ['-PRON-', '-PRON-_re', 'a', 'about', 'accompaniment']...) from 412 documents (total 530362 corpus positions)\n",
      "INFO - 07:32:28: Dictionary lifecycle event {'msg': \"built Dictionary(23530 unique tokens: ['-PRON-', '-PRON-_re', 'a', 'about', 'accompaniment']...) from 412 documents (total 530362 corpus positions)\", 'datetime': '2021-11-24T07:32:28.877065', 'gensim': '4.1.2', 'python': '3.7.7 (default, May  6 2020, 11:45:54) [MSC v.1916 64 bit (AMD64)]', 'platform': 'Windows-10-10.0.19041-SP0', 'event': 'created'}\n"
     ]
    }
   ],
   "source": [
    "doc_list=sentences\n",
    "# Creates, which is a mapping of word IDs to words.\n",
    "words = corpora.Dictionary(doc_list)\n",
    "\n",
    "# Turns each document into a bag of words.\n",
    "corpus = [words.doc2bow(doc) for doc in doc_list]"
   ]
  },
  {
   "cell_type": "code",
   "execution_count": 26,
   "metadata": {},
   "outputs": [
    {
     "name": "stderr",
     "output_type": "stream",
     "text": [
      "INFO - 07:32:33: using autotuned alpha, starting with [0.05, 0.05, 0.05, 0.05, 0.05, 0.05, 0.05, 0.05, 0.05, 0.05, 0.05, 0.05, 0.05, 0.05, 0.05, 0.05, 0.05, 0.05, 0.05, 0.05]\n",
      "INFO - 07:32:33: using symmetric eta at 0.05\n",
      "INFO - 07:32:33: using serial LDA version on this node\n",
      "INFO - 07:32:33: running online (multi-pass) LDA training, 20 topics, 10 passes over the supplied corpus of 412 documents, updating model once every 412 documents, evaluating perplexity every 412 documents, iterating 50x with a convergence threshold of 0.001000\n",
      "INFO - 07:32:35: -12.121 per-word bound, 4455.1 perplexity estimate based on a held-out corpus of 412 documents with 530362 words\n",
      "INFO - 07:32:35: PROGRESS: pass 0, at document #412/412\n",
      "INFO - 07:32:36: optimized alpha [0.09106496, 0.09232521, 0.092399396, 0.09631276, 0.054137222, 0.09529297, 0.09241304, 0.08772121, 0.09679173, 0.09404098, 0.09421782, 0.09471148, 0.09144975, 0.09704459, 0.09629294, 0.09759796, 0.09804256, 0.09594, 0.09663445, 0.08479934]\n",
      "INFO - 07:32:36: topic #4 (0.054): 0.013*\"-PRON-\" + 0.010*\"a\" + 0.008*\"the\" + 0.007*\"and\" + 0.006*\"be\" + 0.005*\"of\" + 0.005*\"to\" + 0.003*\"with\" + 0.002*\"in\" + 0.002*\"that\"\n",
      "INFO - 07:32:36: topic #19 (0.085): 0.037*\"the\" + 0.034*\"-PRON-\" + 0.029*\"a\" + 0.019*\"and\" + 0.016*\"to\" + 0.014*\"of\" + 0.013*\"be\" + 0.012*\"with\" + 0.011*\"in\" + 0.008*\"that\"\n",
      "INFO - 07:32:36: topic #13 (0.097): 0.051*\"the\" + 0.039*\"a\" + 0.033*\"-PRON-\" + 0.033*\"of\" + 0.028*\"and\" + 0.027*\"be\" + 0.016*\"with\" + 0.015*\"to\" + 0.012*\"in\" + 0.009*\"for\"\n",
      "INFO - 07:32:36: topic #15 (0.098): 0.062*\"the\" + 0.037*\"a\" + 0.035*\"and\" + 0.030*\"be\" + 0.028*\"-PRON-\" + 0.024*\"of\" + 0.017*\"in\" + 0.016*\"to\" + 0.013*\"with\" + 0.008*\"that\"\n",
      "INFO - 07:32:36: topic #16 (0.098): 0.064*\"the\" + 0.043*\"-PRON-\" + 0.035*\"a\" + 0.031*\"of\" + 0.030*\"and\" + 0.019*\"be\" + 0.017*\"with\" + 0.016*\"in\" + 0.015*\"to\" + 0.009*\"that\"\n",
      "INFO - 07:32:36: topic diff=7.602922, rho=1.000000\n",
      "INFO - 07:32:38: -7.914 per-word bound, 241.1 perplexity estimate based on a held-out corpus of 412 documents with 530362 words\n",
      "INFO - 07:32:38: PROGRESS: pass 1, at document #412/412\n",
      "INFO - 07:32:40: optimized alpha [0.05753017, 0.057867464, 0.057887025, 0.10024993, 0.04219475, 0.06172602, 0.05789052, 0.056577105, 0.115801804, 0.05849399, 0.059366524, 0.058597952, 0.057634585, 0.1226355, 0.08906425, 0.14024605, 0.14461966, 0.09267627, 0.10850194, 0.05567488]\n",
      "INFO - 07:32:40: topic #4 (0.042): 0.007*\"-PRON-\" + 0.005*\"a\" + 0.004*\"the\" + 0.003*\"and\" + 0.003*\"be\" + 0.003*\"of\" + 0.003*\"to\" + 0.001*\"with\" + 0.001*\"in\" + 0.001*\"that\"\n",
      "INFO - 07:32:40: topic #19 (0.056): 0.028*\"the\" + 0.026*\"-PRON-\" + 0.022*\"a\" + 0.014*\"and\" + 0.012*\"to\" + 0.010*\"of\" + 0.010*\"be\" + 0.009*\"with\" + 0.008*\"in\" + 0.006*\"that\"\n",
      "INFO - 07:32:40: topic #13 (0.123): 0.049*\"the\" + 0.040*\"a\" + 0.033*\"of\" + 0.031*\"-PRON-\" + 0.028*\"and\" + 0.028*\"be\" + 0.016*\"with\" + 0.015*\"to\" + 0.012*\"in\" + 0.009*\"for\"\n",
      "INFO - 07:32:40: topic #15 (0.140): 0.059*\"the\" + 0.037*\"a\" + 0.034*\"and\" + 0.030*\"be\" + 0.026*\"-PRON-\" + 0.026*\"of\" + 0.018*\"in\" + 0.016*\"to\" + 0.014*\"with\" + 0.009*\"that\"\n",
      "INFO - 07:32:40: topic #16 (0.145): 0.060*\"the\" + 0.041*\"-PRON-\" + 0.036*\"a\" + 0.031*\"and\" + 0.031*\"of\" + 0.020*\"be\" + 0.017*\"with\" + 0.016*\"in\" + 0.015*\"to\" + 0.010*\"that\"\n",
      "INFO - 07:32:40: topic diff=2.153577, rho=0.577350\n",
      "INFO - 07:32:42: -7.644 per-word bound, 200.0 perplexity estimate based on a held-out corpus of 412 documents with 530362 words\n",
      "INFO - 07:32:42: PROGRESS: pass 2, at document #412/412\n",
      "INFO - 07:32:43: optimized alpha [0.0453398, 0.045534406, 0.04554566, 0.0774634, 0.035622384, 0.047806893, 0.04554766, 0.04478539, 0.08410883, 0.045893732, 0.046570476, 0.04595314, 0.04540009, 0.109720245, 0.065894686, 0.15169004, 0.1819526, 0.06565881, 0.076434515, 0.04425461]\n",
      "INFO - 07:32:43: topic #4 (0.036): 0.004*\"-PRON-\" + 0.003*\"a\" + 0.002*\"the\" + 0.002*\"and\" + 0.002*\"be\" + 0.001*\"of\" + 0.001*\"to\" + 0.001*\"with\" + 0.001*\"in\" + 0.001*\"that\"\n",
      "INFO - 07:32:43: topic #19 (0.044): 0.020*\"the\" + 0.018*\"-PRON-\" + 0.016*\"a\" + 0.010*\"and\" + 0.009*\"to\" + 0.007*\"of\" + 0.007*\"be\" + 0.006*\"with\" + 0.006*\"in\" + 0.004*\"that\"\n",
      "INFO - 07:32:43: topic #13 (0.110): 0.048*\"the\" + 0.040*\"a\" + 0.032*\"of\" + 0.030*\"-PRON-\" + 0.028*\"and\" + 0.027*\"be\" + 0.016*\"to\" + 0.016*\"with\" + 0.013*\"in\" + 0.009*\"for\"\n",
      "INFO - 07:32:43: topic #15 (0.152): 0.058*\"the\" + 0.037*\"a\" + 0.034*\"and\" + 0.030*\"be\" + 0.027*\"of\" + 0.026*\"-PRON-\" + 0.018*\"in\" + 0.015*\"with\" + 0.015*\"to\" + 0.009*\"that\"\n",
      "INFO - 07:32:43: topic #16 (0.182): 0.058*\"the\" + 0.040*\"-PRON-\" + 0.037*\"a\" + 0.031*\"and\" + 0.030*\"of\" + 0.021*\"be\" + 0.017*\"with\" + 0.016*\"in\" + 0.016*\"to\" + 0.010*\"that\"\n",
      "INFO - 07:32:43: topic diff=1.661393, rho=0.500000\n",
      "INFO - 07:32:45: -7.500 per-word bound, 181.1 perplexity estimate based on a held-out corpus of 412 documents with 530362 words\n",
      "INFO - 07:32:45: PROGRESS: pass 3, at document #412/412\n",
      "INFO - 07:32:46: optimized alpha [0.038400687, 0.038535792, 0.038543604, 0.06401467, 0.031333894, 0.04016296, 0.038544994, 0.038014453, 0.06623531, 0.038784575, 0.03931607, 0.03882563, 0.038442563, 0.09427775, 0.054379243, 0.1454956, 0.20951283, 0.052329272, 0.061884575, 0.037642747]\n",
      "INFO - 07:32:46: topic #4 (0.031): 0.002*\"-PRON-\" + 0.002*\"a\" + 0.001*\"the\" + 0.001*\"and\" + 0.001*\"be\" + 0.001*\"of\" + 0.001*\"to\" + 0.000*\"with\" + 0.000*\"in\" + 0.000*\"that\"\n",
      "INFO - 07:32:46: topic #19 (0.038): 0.014*\"the\" + 0.012*\"-PRON-\" + 0.011*\"a\" + 0.007*\"and\" + 0.006*\"to\" + 0.005*\"of\" + 0.005*\"be\" + 0.004*\"with\" + 0.004*\"in\" + 0.003*\"that\"\n",
      "INFO - 07:32:46: topic #13 (0.094): 0.048*\"the\" + 0.040*\"a\" + 0.031*\"of\" + 0.029*\"-PRON-\" + 0.028*\"and\" + 0.026*\"be\" + 0.017*\"to\" + 0.015*\"with\" + 0.013*\"in\" + 0.009*\"for\"\n",
      "INFO - 07:32:46: topic #15 (0.145): 0.057*\"the\" + 0.036*\"a\" + 0.034*\"and\" + 0.029*\"be\" + 0.028*\"of\" + 0.026*\"-PRON-\" + 0.019*\"in\" + 0.016*\"with\" + 0.014*\"to\" + 0.009*\"that\"\n",
      "INFO - 07:32:46: topic #16 (0.210): 0.058*\"the\" + 0.039*\"-PRON-\" + 0.037*\"a\" + 0.031*\"and\" + 0.030*\"of\" + 0.022*\"be\" + 0.016*\"with\" + 0.016*\"in\" + 0.016*\"to\" + 0.010*\"that\"\n",
      "INFO - 07:32:46: topic diff=1.252488, rho=0.447214\n",
      "INFO - 07:32:48: -7.422 per-word bound, 171.5 perplexity estimate based on a held-out corpus of 412 documents with 530362 words\n",
      "INFO - 07:32:48: PROGRESS: pass 4, at document #412/412\n",
      "INFO - 07:32:50: optimized alpha [0.033784483, 0.03388711, 0.03389305, 0.05525317, 0.028258054, 0.035164937, 0.033894107, 0.033490427, 0.05551208, 0.034075815, 0.034525987, 0.034106914, 0.033816304, 0.08435964, 0.047391076, 0.13742152, 0.22908384, 0.044548374, 0.05348249, 0.03320658]\n",
      "INFO - 07:32:50: topic #4 (0.028): 0.001*\"-PRON-\" + 0.001*\"a\" + 0.001*\"the\" + 0.001*\"and\" + 0.001*\"be\" + 0.001*\"of\" + 0.001*\"to\" + 0.000*\"with\" + 0.000*\"in\" + 0.000*\"that\"\n",
      "INFO - 07:32:50: topic #19 (0.033): 0.009*\"the\" + 0.008*\"-PRON-\" + 0.007*\"a\" + 0.005*\"and\" + 0.004*\"to\" + 0.003*\"of\" + 0.003*\"be\" + 0.003*\"with\" + 0.003*\"in\" + 0.002*\"that\"\n",
      "INFO - 07:32:50: topic #13 (0.084): 0.048*\"the\" + 0.040*\"a\" + 0.031*\"of\" + 0.029*\"-PRON-\" + 0.028*\"and\" + 0.026*\"be\" + 0.017*\"to\" + 0.015*\"with\" + 0.013*\"in\" + 0.009*\"for\"\n",
      "INFO - 07:32:50: topic #15 (0.137): 0.056*\"the\" + 0.036*\"a\" + 0.034*\"and\" + 0.029*\"be\" + 0.028*\"of\" + 0.026*\"-PRON-\" + 0.019*\"in\" + 0.016*\"with\" + 0.014*\"to\" + 0.008*\"that\"\n",
      "INFO - 07:32:50: topic #16 (0.229): 0.057*\"the\" + 0.039*\"-PRON-\" + 0.037*\"a\" + 0.031*\"and\" + 0.029*\"of\" + 0.022*\"be\" + 0.016*\"with\" + 0.016*\"in\" + 0.016*\"to\" + 0.010*\"that\"\n",
      "INFO - 07:32:50: topic diff=0.943584, rho=0.408248\n",
      "INFO - 07:32:52: -7.377 per-word bound, 166.3 perplexity estimate based on a held-out corpus of 412 documents with 530362 words\n",
      "INFO - 07:32:52: PROGRESS: pass 5, at document #412/412\n",
      "INFO - 07:32:53: optimized alpha [0.03043899, 0.030521292, 0.030526051, 0.04953128, 0.025916314, 0.031580936, 0.03052691, 0.030202815, 0.048450522, 0.03067248, 0.031070447, 0.030697368, 0.030464508, 0.07769012, 0.042844653, 0.13077018, 0.24357565, 0.03935732, 0.047604922, 0.029974366]\n",
      "INFO - 07:32:53: topic #4 (0.026): 0.001*\"-PRON-\" + 0.001*\"a\" + 0.000*\"the\" + 0.000*\"and\" + 0.000*\"be\" + 0.000*\"of\" + 0.000*\"to\" + 0.000*\"with\" + 0.000*\"in\" + 0.000*\"that\"\n",
      "INFO - 07:32:53: topic #19 (0.030): 0.006*\"the\" + 0.006*\"-PRON-\" + 0.005*\"a\" + 0.003*\"and\" + 0.003*\"to\" + 0.002*\"of\" + 0.002*\"be\" + 0.002*\"with\" + 0.002*\"in\" + 0.001*\"that\"\n"
     ]
    },
    {
     "name": "stderr",
     "output_type": "stream",
     "text": [
      "INFO - 07:32:53: topic #13 (0.078): 0.048*\"the\" + 0.040*\"a\" + 0.031*\"of\" + 0.028*\"-PRON-\" + 0.028*\"and\" + 0.026*\"be\" + 0.017*\"to\" + 0.015*\"with\" + 0.013*\"in\" + 0.009*\"for\"\n",
      "INFO - 07:32:53: topic #15 (0.131): 0.056*\"the\" + 0.036*\"a\" + 0.034*\"and\" + 0.029*\"be\" + 0.029*\"of\" + 0.026*\"-PRON-\" + 0.019*\"in\" + 0.017*\"with\" + 0.014*\"to\" + 0.008*\"that\"\n",
      "INFO - 07:32:53: topic #16 (0.244): 0.057*\"the\" + 0.039*\"-PRON-\" + 0.037*\"a\" + 0.031*\"and\" + 0.029*\"of\" + 0.022*\"be\" + 0.016*\"with\" + 0.016*\"in\" + 0.016*\"to\" + 0.010*\"that\"\n",
      "INFO - 07:32:53: topic diff=0.715167, rho=0.377964\n",
      "INFO - 07:32:55: -7.350 per-word bound, 163.2 perplexity estimate based on a held-out corpus of 412 documents with 530362 words\n",
      "INFO - 07:32:55: PROGRESS: pass 6, at document #412/412\n",
      "INFO - 07:32:56: optimized alpha [0.02787701, 0.027945457, 0.027949413, 0.045415834, 0.024058368, 0.028856339, 0.027950123, 0.027680382, 0.043604966, 0.028071107, 0.028432645, 0.028091773, 0.027898239, 0.07311907, 0.039499056, 0.12572117, 0.2548424, 0.035541736, 0.043342814, 0.027489895]\n",
      "INFO - 07:32:56: topic #4 (0.024): 0.001*\"-PRON-\" + 0.000*\"a\" + 0.000*\"the\" + 0.000*\"and\" + 0.000*\"be\" + 0.000*\"of\" + 0.000*\"to\" + 0.000*\"with\" + 0.000*\"in\" + 0.000*\"that\"\n",
      "INFO - 07:32:56: topic #19 (0.027): 0.004*\"the\" + 0.004*\"-PRON-\" + 0.003*\"a\" + 0.002*\"and\" + 0.002*\"to\" + 0.002*\"of\" + 0.001*\"be\" + 0.001*\"with\" + 0.001*\"in\" + 0.001*\"that\"\n",
      "INFO - 07:32:56: topic #13 (0.073): 0.048*\"the\" + 0.040*\"a\" + 0.031*\"of\" + 0.028*\"and\" + 0.028*\"-PRON-\" + 0.026*\"be\" + 0.017*\"to\" + 0.015*\"with\" + 0.013*\"in\" + 0.009*\"that\"\n",
      "INFO - 07:32:56: topic #15 (0.126): 0.056*\"the\" + 0.036*\"a\" + 0.034*\"and\" + 0.029*\"of\" + 0.029*\"be\" + 0.026*\"-PRON-\" + 0.019*\"in\" + 0.017*\"with\" + 0.013*\"to\" + 0.008*\"that\"\n",
      "INFO - 07:32:56: topic #16 (0.255): 0.057*\"the\" + 0.039*\"-PRON-\" + 0.037*\"a\" + 0.030*\"and\" + 0.029*\"of\" + 0.022*\"be\" + 0.016*\"with\" + 0.016*\"in\" + 0.016*\"to\" + 0.010*\"that\"\n",
      "INFO - 07:32:56: topic diff=0.546011, rho=0.353553\n",
      "INFO - 07:32:58: -7.334 per-word bound, 161.3 perplexity estimate based on a held-out corpus of 412 documents with 530362 words\n",
      "INFO - 07:32:58: PROGRESS: pass 7, at document #412/412\n",
      "INFO - 07:32:59: optimized alpha [0.025836747, 0.025895178, 0.025898552, 0.042208355, 0.022538308, 0.026698312, 0.025899159, 0.025668766, 0.03993589, 0.026002366, 0.026337005, 0.026019996, 0.025854873, 0.06982221, 0.036922872, 0.121880025, 0.26369536, 0.032642964, 0.04009456, 0.02550584]\n",
      "INFO - 07:32:59: topic #4 (0.023): 0.000*\"-PRON-\" + 0.000*\"a\" + 0.000*\"the\" + 0.000*\"and\" + 0.000*\"be\" + 0.000*\"of\" + 0.000*\"to\" + 0.000*\"with\" + 0.000*\"in\" + 0.000*\"that\"\n",
      "INFO - 07:32:59: topic #19 (0.026): 0.003*\"the\" + 0.003*\"-PRON-\" + 0.002*\"a\" + 0.001*\"and\" + 0.001*\"to\" + 0.001*\"of\" + 0.001*\"be\" + 0.001*\"with\" + 0.001*\"in\" + 0.001*\"that\"\n",
      "INFO - 07:32:59: topic #13 (0.070): 0.048*\"the\" + 0.040*\"a\" + 0.030*\"of\" + 0.028*\"and\" + 0.028*\"-PRON-\" + 0.025*\"be\" + 0.017*\"to\" + 0.014*\"with\" + 0.013*\"in\" + 0.009*\"that\"\n",
      "INFO - 07:32:59: topic #15 (0.122): 0.056*\"the\" + 0.036*\"a\" + 0.034*\"and\" + 0.029*\"of\" + 0.029*\"be\" + 0.026*\"-PRON-\" + 0.019*\"in\" + 0.017*\"with\" + 0.013*\"to\" + 0.008*\"that\"\n",
      "INFO - 07:32:59: topic #16 (0.264): 0.057*\"the\" + 0.038*\"-PRON-\" + 0.037*\"a\" + 0.030*\"and\" + 0.029*\"of\" + 0.022*\"be\" + 0.016*\"in\" + 0.016*\"with\" + 0.016*\"to\" + 0.010*\"that\"\n",
      "INFO - 07:32:59: topic diff=0.419612, rho=0.333333\n",
      "INFO - 07:33:01: -7.322 per-word bound, 160.0 perplexity estimate based on a held-out corpus of 412 documents with 530362 words\n",
      "INFO - 07:33:01: PROGRESS: pass 8, at document #412/412\n",
      "INFO - 07:33:03: optimized alpha [0.024164189, 0.024215054, 0.024217993, 0.03972006, 0.021265227, 0.024936656, 0.024218516, 0.024017867, 0.037082836, 0.024308324, 0.024622254, 0.024323655, 0.024179969, 0.06726787, 0.034849066, 0.11908632, 0.27053535, 0.030334512, 0.03752284, 0.02387581]\n",
      "INFO - 07:33:03: topic #4 (0.021): 0.000*\"-PRON-\" + 0.000*\"a\" + 0.000*\"the\" + 0.000*\"and\" + 0.000*\"be\" + 0.000*\"of\" + 0.000*\"to\" + 0.000*\"with\" + 0.000*\"in\" + 0.000*\"that\"\n",
      "INFO - 07:33:03: topic #19 (0.024): 0.002*\"the\" + 0.002*\"-PRON-\" + 0.002*\"a\" + 0.001*\"and\" + 0.001*\"to\" + 0.001*\"of\" + 0.001*\"be\" + 0.001*\"with\" + 0.001*\"in\" + 0.000*\"that\"\n",
      "INFO - 07:33:03: topic #13 (0.067): 0.048*\"the\" + 0.040*\"a\" + 0.030*\"of\" + 0.028*\"and\" + 0.028*\"-PRON-\" + 0.025*\"be\" + 0.018*\"to\" + 0.014*\"with\" + 0.013*\"in\" + 0.009*\"that\"\n",
      "INFO - 07:33:03: topic #15 (0.119): 0.056*\"the\" + 0.036*\"a\" + 0.034*\"and\" + 0.030*\"of\" + 0.029*\"be\" + 0.026*\"-PRON-\" + 0.019*\"in\" + 0.017*\"with\" + 0.013*\"to\" + 0.008*\"that\"\n",
      "INFO - 07:33:03: topic #16 (0.271): 0.057*\"the\" + 0.038*\"-PRON-\" + 0.037*\"a\" + 0.030*\"and\" + 0.029*\"of\" + 0.023*\"be\" + 0.016*\"in\" + 0.016*\"with\" + 0.016*\"to\" + 0.010*\"that\"\n",
      "INFO - 07:33:03: topic diff=0.324468, rho=0.316228\n",
      "INFO - 07:33:05: -7.315 per-word bound, 159.2 perplexity estimate based on a held-out corpus of 412 documents with 530362 words\n",
      "INFO - 07:33:05: PROGRESS: pass 9, at document #412/412\n",
      "INFO - 07:33:06: optimized alpha [0.022761904, 0.02280687, 0.022809463, 0.037691984, 0.020179002, 0.023464674, 0.022809926, 0.022632496, 0.03473237, 0.022889277, 0.02318677, 0.02290282, 0.022775859, 0.06521114, 0.03323327, 0.11685881, 0.27591807, 0.02846172, 0.035453953, 0.02250677]\n",
      "INFO - 07:33:06: topic #4 (0.020): 0.000*\"-PRON-\" + 0.000*\"a\" + 0.000*\"the\" + 0.000*\"and\" + 0.000*\"be\" + 0.000*\"of\" + 0.000*\"to\" + 0.000*\"with\" + 0.000*\"in\" + 0.000*\"that\"\n",
      "INFO - 07:33:06: topic #19 (0.023): 0.001*\"the\" + 0.001*\"-PRON-\" + 0.001*\"a\" + 0.001*\"and\" + 0.001*\"to\" + 0.001*\"of\" + 0.001*\"be\" + 0.000*\"with\" + 0.000*\"in\" + 0.000*\"that\"\n",
      "INFO - 07:33:06: topic #13 (0.065): 0.048*\"the\" + 0.039*\"a\" + 0.030*\"of\" + 0.028*\"and\" + 0.028*\"-PRON-\" + 0.025*\"be\" + 0.018*\"to\" + 0.014*\"with\" + 0.013*\"in\" + 0.009*\"that\"\n",
      "INFO - 07:33:06: topic #15 (0.117): 0.056*\"the\" + 0.036*\"a\" + 0.034*\"and\" + 0.030*\"of\" + 0.029*\"be\" + 0.026*\"-PRON-\" + 0.019*\"in\" + 0.018*\"with\" + 0.013*\"to\" + 0.008*\"that\"\n",
      "INFO - 07:33:06: topic #16 (0.276): 0.057*\"the\" + 0.038*\"-PRON-\" + 0.037*\"a\" + 0.030*\"and\" + 0.029*\"of\" + 0.023*\"be\" + 0.016*\"in\" + 0.016*\"with\" + 0.016*\"to\" + 0.010*\"that\"\n",
      "INFO - 07:33:06: topic diff=0.252452, rho=0.301511\n",
      "INFO - 07:33:06: LdaModel lifecycle event {'msg': 'trained LdaModel(num_terms=23530, num_topics=20, decay=0.5, chunksize=2000) in 33.45s', 'datetime': '2021-11-24T07:33:06.796412', 'gensim': '4.1.2', 'python': '3.7.7 (default, May  6 2020, 11:45:54) [MSC v.1916 64 bit (AMD64)]', 'platform': 'Windows-10-10.0.19041-SP0', 'event': 'created'}\n"
     ]
    }
   ],
   "source": [
    "lda_model = gensim.models.ldamodel.LdaModel(corpus=corpus,\n",
    "                                           id2word=words,\n",
    "                                           num_topics=20, \n",
    "                                           random_state=2,\n",
    "                                           update_every=1,\n",
    "                                           passes=10,\n",
    "                                           alpha='auto',\n",
    "                                           per_word_topics=True)"
   ]
  },
  {
   "cell_type": "code",
   "execution_count": 27,
   "metadata": {},
   "outputs": [
    {
     "name": "stderr",
     "output_type": "stream",
     "text": [
      "INFO - 07:33:12: topic #0 (0.023): 0.003*\"the\" + 0.002*\"and\" + 0.001*\"-PRON-\" + 0.001*\"a\" + 0.001*\"of\" + 0.001*\"with\" + 0.001*\"be\" + 0.001*\"to\" + 0.001*\"in\" + 0.001*\"that\" + 0.000*\"for\" + 0.000*\"as\" + 0.000*\"on\" + 0.000*\"from\" + 0.000*\"but\" + 0.000*\"an\" + 0.000*\"like\" + 0.000*\"at\" + 0.000*\"restaurant\" + 0.000*\"or\"\n",
      "INFO - 07:33:12: topic #1 (0.023): 0.003*\"the\" + 0.002*\"a\" + 0.002*\"and\" + 0.002*\"of\" + 0.002*\"-PRON-\" + 0.002*\"be\" + 0.001*\"with\" + 0.001*\"to\" + 0.001*\"that\" + 0.001*\"in\" + 0.001*\"on\" + 0.001*\"for\" + 0.000*\"at\" + 0.000*\"as\" + 0.000*\"an\" + 0.000*\"but\" + 0.000*\"restaurant\" + 0.000*\"i\" + 0.000*\"one\" + 0.000*\"like\"\n",
      "INFO - 07:33:12: topic #2 (0.023): 0.003*\"the\" + 0.003*\"a\" + 0.003*\"-PRON-\" + 0.002*\"of\" + 0.002*\"and\" + 0.002*\"be\" + 0.001*\"to\" + 0.001*\"with\" + 0.001*\"in\" + 0.001*\"that\" + 0.001*\"at\" + 0.001*\"as\" + 0.000*\"for\" + 0.000*\"on\" + 0.000*\"an\" + 0.000*\"from\" + 0.000*\"or\" + 0.000*\"but\" + 0.000*\"more\" + 0.000*\"restaurant\"\n",
      "INFO - 07:33:12: topic #3 (0.038): 0.042*\"-PRON-\" + 0.038*\"a\" + 0.035*\"the\" + 0.031*\"and\" + 0.025*\"be\" + 0.023*\"of\" + 0.014*\"with\" + 0.014*\"to\" + 0.010*\"for\" + 0.010*\"in\" + 0.010*\"that\" + 0.008*\"i\" + 0.007*\"as\" + 0.007*\"on\" + 0.006*\"at\" + 0.005*\"but\" + 0.005*\"or\" + 0.004*\"like\" + 0.004*\"have\" + 0.004*\"not\"\n",
      "INFO - 07:33:12: topic #4 (0.020): 0.000*\"-PRON-\" + 0.000*\"a\" + 0.000*\"the\" + 0.000*\"and\" + 0.000*\"be\" + 0.000*\"of\" + 0.000*\"to\" + 0.000*\"with\" + 0.000*\"in\" + 0.000*\"that\" + 0.000*\"at\" + 0.000*\"for\" + 0.000*\"restaurant\" + 0.000*\"on\" + 0.000*\"as\" + 0.000*\"an\" + 0.000*\"but\" + 0.000*\"like\" + 0.000*\"this\" + 0.000*\"or\"\n",
      "INFO - 07:33:12: topic #5 (0.023): 0.014*\"the\" + 0.012*\"and\" + 0.012*\"a\" + 0.011*\"-PRON-\" + 0.008*\"of\" + 0.006*\"to\" + 0.006*\"yeast\" + 0.006*\"brett\" + 0.005*\"be\" + 0.005*\"with\" + 0.004*\"beer\" + 0.003*\"as\" + 0.003*\"in\" + 0.003*\"allagash\" + 0.003*\"ferment\" + 0.003*\"little\" + 0.003*\"ale\" + 0.003*\"create\" + 0.003*\"that\" + 0.003*\"i\"\n",
      "INFO - 07:33:12: topic #6 (0.023): 0.003*\"the\" + 0.002*\"-PRON-\" + 0.002*\"and\" + 0.002*\"of\" + 0.002*\"be\" + 0.001*\"a\" + 0.001*\"to\" + 0.001*\"in\" + 0.001*\"with\" + 0.001*\"for\" + 0.001*\"that\" + 0.001*\"at\" + 0.001*\"on\" + 0.000*\"as\" + 0.000*\"but\" + 0.000*\"from\" + 0.000*\"have\" + 0.000*\"restaurant\" + 0.000*\"or\" + 0.000*\"i\"\n",
      "INFO - 07:33:12: topic #7 (0.023): 0.002*\"the\" + 0.001*\"and\" + 0.001*\"a\" + 0.001*\"-PRON-\" + 0.001*\"of\" + 0.001*\"be\" + 0.000*\"to\" + 0.000*\"in\" + 0.000*\"with\" + 0.000*\"that\" + 0.000*\"for\" + 0.000*\"on\" + 0.000*\"as\" + 0.000*\"at\" + 0.000*\"from\" + 0.000*\"like\" + 0.000*\"but\" + 0.000*\"have\" + 0.000*\"not\" + 0.000*\"i\"\n",
      "INFO - 07:33:12: topic #8 (0.035): 0.046*\"the\" + 0.038*\"-PRON-\" + 0.034*\"a\" + 0.029*\"and\" + 0.027*\"of\" + 0.022*\"be\" + 0.017*\"to\" + 0.014*\"in\" + 0.012*\"with\" + 0.010*\"that\" + 0.008*\"for\" + 0.008*\"on\" + 0.006*\"i\" + 0.006*\"as\" + 0.005*\"at\" + 0.005*\"but\" + 0.005*\"one\" + 0.005*\"or\" + 0.004*\"have\" + 0.004*\"more\"\n",
      "INFO - 07:33:12: topic #9 (0.023): 0.006*\"the\" + 0.005*\"a\" + 0.004*\"-PRON-\" + 0.004*\"and\" + 0.003*\"of\" + 0.002*\"be\" + 0.002*\"in\" + 0.002*\"with\" + 0.001*\"that\" + 0.001*\"for\" + 0.001*\"to\" + 0.001*\"at\" + 0.001*\"as\" + 0.001*\"on\" + 0.001*\"restaurant\" + 0.001*\"but\" + 0.001*\"have\" + 0.001*\"more\" + 0.001*\"like\" + 0.000*\"one\"\n",
      "INFO - 07:33:12: topic #10 (0.023): 0.008*\"the\" + 0.008*\"chutney\" + 0.006*\"a\" + 0.005*\"of\" + 0.005*\"and\" + 0.005*\"be\" + 0.005*\"dosa\" + 0.004*\"-PRON-\" + 0.004*\"to\" + 0.003*\"idli\" + 0.003*\"with\" + 0.003*\"in\" + 0.003*\"masala\" + 0.002*\"ghee\" + 0.002*\"that\" + 0.002*\"for\" + 0.002*\"filling\" + 0.001*\"indian\" + 0.001*\"mysore\" + 0.001*\"kaju\"\n",
      "INFO - 07:33:12: topic #11 (0.023): 0.008*\"the\" + 0.005*\"a\" + 0.004*\"-PRON-\" + 0.004*\"of\" + 0.004*\"and\" + 0.003*\"be\" + 0.002*\"in\" + 0.002*\"to\" + 0.002*\"with\" + 0.001*\"that\" + 0.001*\"for\" + 0.001*\"on\" + 0.001*\"or\" + 0.001*\"at\" + 0.001*\"as\" + 0.001*\"an\" + 0.001*\"one\" + 0.001*\"have\" + 0.001*\"like\" + 0.001*\"i\"\n",
      "INFO - 07:33:12: topic #12 (0.023): 0.003*\"the\" + 0.002*\"and\" + 0.002*\"a\" + 0.002*\"of\" + 0.002*\"-PRON-\" + 0.001*\"be\" + 0.001*\"in\" + 0.001*\"to\" + 0.001*\"with\" + 0.001*\"that\" + 0.001*\"for\" + 0.000*\"at\" + 0.000*\"restaurant\" + 0.000*\"as\" + 0.000*\"but\" + 0.000*\"an\" + 0.000*\"or\" + 0.000*\"on\" + 0.000*\"more\" + 0.000*\"have\"\n",
      "INFO - 07:33:12: topic #13 (0.065): 0.048*\"the\" + 0.039*\"a\" + 0.030*\"of\" + 0.028*\"and\" + 0.028*\"-PRON-\" + 0.025*\"be\" + 0.018*\"to\" + 0.014*\"with\" + 0.013*\"in\" + 0.009*\"that\" + 0.009*\"for\" + 0.007*\"at\" + 0.007*\"on\" + 0.006*\"or\" + 0.005*\"as\" + 0.005*\"an\" + 0.004*\"one\" + 0.004*\"more\" + 0.004*\"but\" + 0.004*\"from\"\n",
      "INFO - 07:33:12: topic #14 (0.033): 0.044*\"the\" + 0.029*\"a\" + 0.027*\"-PRON-\" + 0.027*\"and\" + 0.026*\"of\" + 0.025*\"be\" + 0.016*\"with\" + 0.016*\"in\" + 0.011*\"to\" + 0.007*\"that\" + 0.007*\"for\" + 0.006*\"as\" + 0.006*\"on\" + 0.005*\"or\" + 0.005*\"an\" + 0.005*\"noodle\" + 0.005*\"but\" + 0.004*\"dish\" + 0.004*\"from\" + 0.004*\"have\"\n",
      "INFO - 07:33:12: topic #15 (0.117): 0.056*\"the\" + 0.036*\"a\" + 0.034*\"and\" + 0.030*\"of\" + 0.029*\"be\" + 0.026*\"-PRON-\" + 0.019*\"in\" + 0.018*\"with\" + 0.013*\"to\" + 0.008*\"that\" + 0.008*\"on\" + 0.005*\"as\" + 0.005*\"at\" + 0.005*\"for\" + 0.005*\"one\" + 0.005*\"but\" + 0.004*\"dish\" + 0.004*\"have\" + 0.004*\"from\" + 0.004*\"or\"\n",
      "INFO - 07:33:12: topic #16 (0.276): 0.057*\"the\" + 0.038*\"-PRON-\" + 0.037*\"a\" + 0.030*\"and\" + 0.029*\"of\" + 0.023*\"be\" + 0.016*\"in\" + 0.016*\"with\" + 0.016*\"to\" + 0.010*\"that\" + 0.009*\"for\" + 0.008*\"at\" + 0.007*\"as\" + 0.006*\"on\" + 0.005*\"restaurant\" + 0.005*\"but\" + 0.005*\"an\" + 0.004*\"have\" + 0.004*\"i\" + 0.004*\"from\"\n",
      "INFO - 07:33:12: topic #17 (0.028): 0.053*\"the\" + 0.034*\"-PRON-\" + 0.030*\"a\" + 0.023*\"of\" + 0.021*\"be\" + 0.018*\"and\" + 0.017*\"to\" + 0.013*\"with\" + 0.010*\"that\" + 0.008*\"in\" + 0.008*\"for\" + 0.006*\"at\" + 0.006*\"on\" + 0.006*\"as\" + 0.006*\"sushi\" + 0.005*\"one\" + 0.004*\"more\" + 0.004*\"this\" + 0.003*\"by\" + 0.003*\"chef\"\n",
      "INFO - 07:33:12: topic #18 (0.035): 0.044*\"the\" + 0.034*\"and\" + 0.032*\"a\" + 0.019*\"of\" + 0.018*\"to\" + 0.017*\"-PRON-\" + 0.016*\"in\" + 0.016*\"be\" + 0.012*\"with\" + 0.008*\"beer\" + 0.008*\"for\" + 0.006*\"that\" + 0.006*\"from\" + 0.005*\"on\" + 0.005*\"will\" + 0.005*\"open\" + 0.004*\"as\" + 0.004*\"at\" + 0.004*\"by\" + 0.004*\"an\"\n",
      "INFO - 07:33:12: topic #19 (0.023): 0.001*\"the\" + 0.001*\"-PRON-\" + 0.001*\"a\" + 0.001*\"and\" + 0.001*\"to\" + 0.001*\"of\" + 0.001*\"be\" + 0.000*\"with\" + 0.000*\"in\" + 0.000*\"that\" + 0.000*\"for\" + 0.000*\"at\" + 0.000*\"on\" + 0.000*\"have\" + 0.000*\"or\" + 0.000*\"more\" + 0.000*\"but\" + 0.000*\"as\" + 0.000*\"restaurant\" + 0.000*\"an\"\n"
     ]
    },
    {
     "name": "stdout",
     "output_type": "stream",
     "text": [
      "[(0,\n",
      "  '0.003*\"the\" + 0.002*\"and\" + 0.001*\"-PRON-\" + 0.001*\"a\" + 0.001*\"of\" + '\n",
      "  '0.001*\"with\" + 0.001*\"be\" + 0.001*\"to\" + 0.001*\"in\" + 0.001*\"that\" + '\n",
      "  '0.000*\"for\" + 0.000*\"as\" + 0.000*\"on\" + 0.000*\"from\" + 0.000*\"but\" + '\n",
      "  '0.000*\"an\" + 0.000*\"like\" + 0.000*\"at\" + 0.000*\"restaurant\" + 0.000*\"or\"'),\n",
      " (1,\n",
      "  '0.003*\"the\" + 0.002*\"a\" + 0.002*\"and\" + 0.002*\"of\" + 0.002*\"-PRON-\" + '\n",
      "  '0.002*\"be\" + 0.001*\"with\" + 0.001*\"to\" + 0.001*\"that\" + 0.001*\"in\" + '\n",
      "  '0.001*\"on\" + 0.001*\"for\" + 0.000*\"at\" + 0.000*\"as\" + 0.000*\"an\" + '\n",
      "  '0.000*\"but\" + 0.000*\"restaurant\" + 0.000*\"i\" + 0.000*\"one\" + 0.000*\"like\"'),\n",
      " (2,\n",
      "  '0.003*\"the\" + 0.003*\"a\" + 0.003*\"-PRON-\" + 0.002*\"of\" + 0.002*\"and\" + '\n",
      "  '0.002*\"be\" + 0.001*\"to\" + 0.001*\"with\" + 0.001*\"in\" + 0.001*\"that\" + '\n",
      "  '0.001*\"at\" + 0.001*\"as\" + 0.000*\"for\" + 0.000*\"on\" + 0.000*\"an\" + '\n",
      "  '0.000*\"from\" + 0.000*\"or\" + 0.000*\"but\" + 0.000*\"more\" + '\n",
      "  '0.000*\"restaurant\"'),\n",
      " (3,\n",
      "  '0.042*\"-PRON-\" + 0.038*\"a\" + 0.035*\"the\" + 0.031*\"and\" + 0.025*\"be\" + '\n",
      "  '0.023*\"of\" + 0.014*\"with\" + 0.014*\"to\" + 0.010*\"for\" + 0.010*\"in\" + '\n",
      "  '0.010*\"that\" + 0.008*\"i\" + 0.007*\"as\" + 0.007*\"on\" + 0.006*\"at\" + '\n",
      "  '0.005*\"but\" + 0.005*\"or\" + 0.004*\"like\" + 0.004*\"have\" + 0.004*\"not\"'),\n",
      " (4,\n",
      "  '0.000*\"-PRON-\" + 0.000*\"a\" + 0.000*\"the\" + 0.000*\"and\" + 0.000*\"be\" + '\n",
      "  '0.000*\"of\" + 0.000*\"to\" + 0.000*\"with\" + 0.000*\"in\" + 0.000*\"that\" + '\n",
      "  '0.000*\"at\" + 0.000*\"for\" + 0.000*\"restaurant\" + 0.000*\"on\" + 0.000*\"as\" + '\n",
      "  '0.000*\"an\" + 0.000*\"but\" + 0.000*\"like\" + 0.000*\"this\" + 0.000*\"or\"'),\n",
      " (5,\n",
      "  '0.014*\"the\" + 0.012*\"and\" + 0.012*\"a\" + 0.011*\"-PRON-\" + 0.008*\"of\" + '\n",
      "  '0.006*\"to\" + 0.006*\"yeast\" + 0.006*\"brett\" + 0.005*\"be\" + 0.005*\"with\" + '\n",
      "  '0.004*\"beer\" + 0.003*\"as\" + 0.003*\"in\" + 0.003*\"allagash\" + 0.003*\"ferment\" '\n",
      "  '+ 0.003*\"little\" + 0.003*\"ale\" + 0.003*\"create\" + 0.003*\"that\" + 0.003*\"i\"'),\n",
      " (6,\n",
      "  '0.003*\"the\" + 0.002*\"-PRON-\" + 0.002*\"and\" + 0.002*\"of\" + 0.002*\"be\" + '\n",
      "  '0.001*\"a\" + 0.001*\"to\" + 0.001*\"in\" + 0.001*\"with\" + 0.001*\"for\" + '\n",
      "  '0.001*\"that\" + 0.001*\"at\" + 0.001*\"on\" + 0.000*\"as\" + 0.000*\"but\" + '\n",
      "  '0.000*\"from\" + 0.000*\"have\" + 0.000*\"restaurant\" + 0.000*\"or\" + 0.000*\"i\"'),\n",
      " (7,\n",
      "  '0.002*\"the\" + 0.001*\"and\" + 0.001*\"a\" + 0.001*\"-PRON-\" + 0.001*\"of\" + '\n",
      "  '0.001*\"be\" + 0.000*\"to\" + 0.000*\"in\" + 0.000*\"with\" + 0.000*\"that\" + '\n",
      "  '0.000*\"for\" + 0.000*\"on\" + 0.000*\"as\" + 0.000*\"at\" + 0.000*\"from\" + '\n",
      "  '0.000*\"like\" + 0.000*\"but\" + 0.000*\"have\" + 0.000*\"not\" + 0.000*\"i\"'),\n",
      " (8,\n",
      "  '0.046*\"the\" + 0.038*\"-PRON-\" + 0.034*\"a\" + 0.029*\"and\" + 0.027*\"of\" + '\n",
      "  '0.022*\"be\" + 0.017*\"to\" + 0.014*\"in\" + 0.012*\"with\" + 0.010*\"that\" + '\n",
      "  '0.008*\"for\" + 0.008*\"on\" + 0.006*\"i\" + 0.006*\"as\" + 0.005*\"at\" + '\n",
      "  '0.005*\"but\" + 0.005*\"one\" + 0.005*\"or\" + 0.004*\"have\" + 0.004*\"more\"'),\n",
      " (9,\n",
      "  '0.006*\"the\" + 0.005*\"a\" + 0.004*\"-PRON-\" + 0.004*\"and\" + 0.003*\"of\" + '\n",
      "  '0.002*\"be\" + 0.002*\"in\" + 0.002*\"with\" + 0.001*\"that\" + 0.001*\"for\" + '\n",
      "  '0.001*\"to\" + 0.001*\"at\" + 0.001*\"as\" + 0.001*\"on\" + 0.001*\"restaurant\" + '\n",
      "  '0.001*\"but\" + 0.001*\"have\" + 0.001*\"more\" + 0.001*\"like\" + 0.000*\"one\"'),\n",
      " (10,\n",
      "  '0.008*\"the\" + 0.008*\"chutney\" + 0.006*\"a\" + 0.005*\"of\" + 0.005*\"and\" + '\n",
      "  '0.005*\"be\" + 0.005*\"dosa\" + 0.004*\"-PRON-\" + 0.004*\"to\" + 0.003*\"idli\" + '\n",
      "  '0.003*\"with\" + 0.003*\"in\" + 0.003*\"masala\" + 0.002*\"ghee\" + 0.002*\"that\" + '\n",
      "  '0.002*\"for\" + 0.002*\"filling\" + 0.001*\"indian\" + 0.001*\"mysore\" + '\n",
      "  '0.001*\"kaju\"'),\n",
      " (11,\n",
      "  '0.008*\"the\" + 0.005*\"a\" + 0.004*\"-PRON-\" + 0.004*\"of\" + 0.004*\"and\" + '\n",
      "  '0.003*\"be\" + 0.002*\"in\" + 0.002*\"to\" + 0.002*\"with\" + 0.001*\"that\" + '\n",
      "  '0.001*\"for\" + 0.001*\"on\" + 0.001*\"or\" + 0.001*\"at\" + 0.001*\"as\" + '\n",
      "  '0.001*\"an\" + 0.001*\"one\" + 0.001*\"have\" + 0.001*\"like\" + 0.001*\"i\"'),\n",
      " (12,\n",
      "  '0.003*\"the\" + 0.002*\"and\" + 0.002*\"a\" + 0.002*\"of\" + 0.002*\"-PRON-\" + '\n",
      "  '0.001*\"be\" + 0.001*\"in\" + 0.001*\"to\" + 0.001*\"with\" + 0.001*\"that\" + '\n",
      "  '0.001*\"for\" + 0.000*\"at\" + 0.000*\"restaurant\" + 0.000*\"as\" + 0.000*\"but\" + '\n",
      "  '0.000*\"an\" + 0.000*\"or\" + 0.000*\"on\" + 0.000*\"more\" + 0.000*\"have\"'),\n",
      " (13,\n",
      "  '0.048*\"the\" + 0.039*\"a\" + 0.030*\"of\" + 0.028*\"and\" + 0.028*\"-PRON-\" + '\n",
      "  '0.025*\"be\" + 0.018*\"to\" + 0.014*\"with\" + 0.013*\"in\" + 0.009*\"that\" + '\n",
      "  '0.009*\"for\" + 0.007*\"at\" + 0.007*\"on\" + 0.006*\"or\" + 0.005*\"as\" + '\n",
      "  '0.005*\"an\" + 0.004*\"one\" + 0.004*\"more\" + 0.004*\"but\" + 0.004*\"from\"'),\n",
      " (14,\n",
      "  '0.044*\"the\" + 0.029*\"a\" + 0.027*\"-PRON-\" + 0.027*\"and\" + 0.026*\"of\" + '\n",
      "  '0.025*\"be\" + 0.016*\"with\" + 0.016*\"in\" + 0.011*\"to\" + 0.007*\"that\" + '\n",
      "  '0.007*\"for\" + 0.006*\"as\" + 0.006*\"on\" + 0.005*\"or\" + 0.005*\"an\" + '\n",
      "  '0.005*\"noodle\" + 0.005*\"but\" + 0.004*\"dish\" + 0.004*\"from\" + 0.004*\"have\"'),\n",
      " (15,\n",
      "  '0.056*\"the\" + 0.036*\"a\" + 0.034*\"and\" + 0.030*\"of\" + 0.029*\"be\" + '\n",
      "  '0.026*\"-PRON-\" + 0.019*\"in\" + 0.018*\"with\" + 0.013*\"to\" + 0.008*\"that\" + '\n",
      "  '0.008*\"on\" + 0.005*\"as\" + 0.005*\"at\" + 0.005*\"for\" + 0.005*\"one\" + '\n",
      "  '0.005*\"but\" + 0.004*\"dish\" + 0.004*\"have\" + 0.004*\"from\" + 0.004*\"or\"'),\n",
      " (16,\n",
      "  '0.057*\"the\" + 0.038*\"-PRON-\" + 0.037*\"a\" + 0.030*\"and\" + 0.029*\"of\" + '\n",
      "  '0.023*\"be\" + 0.016*\"in\" + 0.016*\"with\" + 0.016*\"to\" + 0.010*\"that\" + '\n",
      "  '0.009*\"for\" + 0.008*\"at\" + 0.007*\"as\" + 0.006*\"on\" + 0.005*\"restaurant\" + '\n",
      "  '0.005*\"but\" + 0.005*\"an\" + 0.004*\"have\" + 0.004*\"i\" + 0.004*\"from\"'),\n",
      " (17,\n",
      "  '0.053*\"the\" + 0.034*\"-PRON-\" + 0.030*\"a\" + 0.023*\"of\" + 0.021*\"be\" + '\n",
      "  '0.018*\"and\" + 0.017*\"to\" + 0.013*\"with\" + 0.010*\"that\" + 0.008*\"in\" + '\n",
      "  '0.008*\"for\" + 0.006*\"at\" + 0.006*\"on\" + 0.006*\"as\" + 0.006*\"sushi\" + '\n",
      "  '0.005*\"one\" + 0.004*\"more\" + 0.004*\"this\" + 0.003*\"by\" + 0.003*\"chef\"'),\n",
      " (18,\n",
      "  '0.044*\"the\" + 0.034*\"and\" + 0.032*\"a\" + 0.019*\"of\" + 0.018*\"to\" + '\n",
      "  '0.017*\"-PRON-\" + 0.016*\"in\" + 0.016*\"be\" + 0.012*\"with\" + 0.008*\"beer\" + '\n",
      "  '0.008*\"for\" + 0.006*\"that\" + 0.006*\"from\" + 0.005*\"on\" + 0.005*\"will\" + '\n",
      "  '0.005*\"open\" + 0.004*\"as\" + 0.004*\"at\" + 0.004*\"by\" + 0.004*\"an\"'),\n",
      " (19,\n",
      "  '0.001*\"the\" + 0.001*\"-PRON-\" + 0.001*\"a\" + 0.001*\"and\" + 0.001*\"to\" + '\n",
      "  '0.001*\"of\" + 0.001*\"be\" + 0.000*\"with\" + 0.000*\"in\" + 0.000*\"that\" + '\n",
      "  '0.000*\"for\" + 0.000*\"at\" + 0.000*\"on\" + 0.000*\"have\" + 0.000*\"or\" + '\n",
      "  '0.000*\"more\" + 0.000*\"but\" + 0.000*\"as\" + 0.000*\"restaurant\" + 0.000*\"an\"')]\n"
     ]
    }
   ],
   "source": [
    "pprint(lda_model.print_topics(num_words=20))"
   ]
  },
  {
   "cell_type": "code",
   "execution_count": 28,
   "metadata": {},
   "outputs": [
    {
     "data": {
      "text/html": [
       "<div>\n",
       "<style scoped>\n",
       "    .dataframe tbody tr th:only-of-type {\n",
       "        vertical-align: middle;\n",
       "    }\n",
       "\n",
       "    .dataframe tbody tr th {\n",
       "        vertical-align: top;\n",
       "    }\n",
       "\n",
       "    .dataframe thead th {\n",
       "        text-align: right;\n",
       "    }\n",
       "</style>\n",
       "<table border=\"1\" class=\"dataframe\">\n",
       "  <thead>\n",
       "    <tr style=\"text-align: right;\">\n",
       "      <th></th>\n",
       "      <th>Topic0</th>\n",
       "      <th>Topic1</th>\n",
       "      <th>Topic2</th>\n",
       "      <th>Topic3</th>\n",
       "      <th>Topic4</th>\n",
       "      <th>Topic5</th>\n",
       "      <th>Topic6</th>\n",
       "      <th>Topic7</th>\n",
       "      <th>Topic8</th>\n",
       "      <th>Topic9</th>\n",
       "      <th>...</th>\n",
       "      <th>Topic11</th>\n",
       "      <th>Topic12</th>\n",
       "      <th>Topic13</th>\n",
       "      <th>Topic14</th>\n",
       "      <th>Topic15</th>\n",
       "      <th>Topic16</th>\n",
       "      <th>Topic17</th>\n",
       "      <th>Topic18</th>\n",
       "      <th>Topic19</th>\n",
       "      <th>Automated_topic_id</th>\n",
       "    </tr>\n",
       "  </thead>\n",
       "  <tbody>\n",
       "    <tr>\n",
       "      <th>0</th>\n",
       "      <td>0.000017</td>\n",
       "      <td>0.000017</td>\n",
       "      <td>0.000017</td>\n",
       "      <td>0.000028</td>\n",
       "      <td>0.000015</td>\n",
       "      <td>0.000017</td>\n",
       "      <td>0.000017</td>\n",
       "      <td>0.000017</td>\n",
       "      <td>0.000026</td>\n",
       "      <td>0.000017</td>\n",
       "      <td>...</td>\n",
       "      <td>0.000017</td>\n",
       "      <td>0.000017</td>\n",
       "      <td>0.366974</td>\n",
       "      <td>0.000025</td>\n",
       "      <td>0.000352</td>\n",
       "      <td>0.632347</td>\n",
       "      <td>0.000021</td>\n",
       "      <td>0.000026</td>\n",
       "      <td>0.000017</td>\n",
       "      <td>16</td>\n",
       "    </tr>\n",
       "    <tr>\n",
       "      <th>1</th>\n",
       "      <td>0.000019</td>\n",
       "      <td>0.000019</td>\n",
       "      <td>0.000019</td>\n",
       "      <td>0.000032</td>\n",
       "      <td>0.000017</td>\n",
       "      <td>0.000020</td>\n",
       "      <td>0.000019</td>\n",
       "      <td>0.000019</td>\n",
       "      <td>0.000029</td>\n",
       "      <td>0.000019</td>\n",
       "      <td>...</td>\n",
       "      <td>0.000019</td>\n",
       "      <td>0.000019</td>\n",
       "      <td>0.134963</td>\n",
       "      <td>0.000028</td>\n",
       "      <td>0.015889</td>\n",
       "      <td>0.848774</td>\n",
       "      <td>0.000024</td>\n",
       "      <td>0.000030</td>\n",
       "      <td>0.000019</td>\n",
       "      <td>16</td>\n",
       "    </tr>\n",
       "    <tr>\n",
       "      <th>2</th>\n",
       "      <td>0.000017</td>\n",
       "      <td>0.000017</td>\n",
       "      <td>0.000017</td>\n",
       "      <td>0.000028</td>\n",
       "      <td>0.000015</td>\n",
       "      <td>0.000017</td>\n",
       "      <td>0.000017</td>\n",
       "      <td>0.000017</td>\n",
       "      <td>0.000025</td>\n",
       "      <td>0.000017</td>\n",
       "      <td>...</td>\n",
       "      <td>0.000017</td>\n",
       "      <td>0.000017</td>\n",
       "      <td>0.008554</td>\n",
       "      <td>0.000024</td>\n",
       "      <td>0.000086</td>\n",
       "      <td>0.991036</td>\n",
       "      <td>0.000021</td>\n",
       "      <td>0.000026</td>\n",
       "      <td>0.000017</td>\n",
       "      <td>16</td>\n",
       "    </tr>\n",
       "    <tr>\n",
       "      <th>3</th>\n",
       "      <td>0.000016</td>\n",
       "      <td>0.000016</td>\n",
       "      <td>0.000016</td>\n",
       "      <td>0.000027</td>\n",
       "      <td>0.000014</td>\n",
       "      <td>0.000017</td>\n",
       "      <td>0.000016</td>\n",
       "      <td>0.000016</td>\n",
       "      <td>0.000025</td>\n",
       "      <td>0.000016</td>\n",
       "      <td>...</td>\n",
       "      <td>0.000016</td>\n",
       "      <td>0.000016</td>\n",
       "      <td>0.176904</td>\n",
       "      <td>0.000024</td>\n",
       "      <td>0.000084</td>\n",
       "      <td>0.822696</td>\n",
       "      <td>0.000020</td>\n",
       "      <td>0.000025</td>\n",
       "      <td>0.000016</td>\n",
       "      <td>16</td>\n",
       "    </tr>\n",
       "    <tr>\n",
       "      <th>4</th>\n",
       "      <td>0.000011</td>\n",
       "      <td>0.000011</td>\n",
       "      <td>0.000011</td>\n",
       "      <td>0.000018</td>\n",
       "      <td>0.000009</td>\n",
       "      <td>0.000011</td>\n",
       "      <td>0.000011</td>\n",
       "      <td>0.000011</td>\n",
       "      <td>0.000016</td>\n",
       "      <td>0.000011</td>\n",
       "      <td>...</td>\n",
       "      <td>0.000011</td>\n",
       "      <td>0.000011</td>\n",
       "      <td>0.007695</td>\n",
       "      <td>0.000015</td>\n",
       "      <td>0.000054</td>\n",
       "      <td>0.889787</td>\n",
       "      <td>0.102272</td>\n",
       "      <td>0.000016</td>\n",
       "      <td>0.000010</td>\n",
       "      <td>16</td>\n",
       "    </tr>\n",
       "  </tbody>\n",
       "</table>\n",
       "<p>5 rows × 21 columns</p>\n",
       "</div>"
      ],
      "text/plain": [
       "     Topic0    Topic1    Topic2    Topic3    Topic4    Topic5    Topic6  \\\n",
       "0  0.000017  0.000017  0.000017  0.000028  0.000015  0.000017  0.000017   \n",
       "1  0.000019  0.000019  0.000019  0.000032  0.000017  0.000020  0.000019   \n",
       "2  0.000017  0.000017  0.000017  0.000028  0.000015  0.000017  0.000017   \n",
       "3  0.000016  0.000016  0.000016  0.000027  0.000014  0.000017  0.000016   \n",
       "4  0.000011  0.000011  0.000011  0.000018  0.000009  0.000011  0.000011   \n",
       "\n",
       "     Topic7    Topic8    Topic9  ...   Topic11   Topic12   Topic13   Topic14  \\\n",
       "0  0.000017  0.000026  0.000017  ...  0.000017  0.000017  0.366974  0.000025   \n",
       "1  0.000019  0.000029  0.000019  ...  0.000019  0.000019  0.134963  0.000028   \n",
       "2  0.000017  0.000025  0.000017  ...  0.000017  0.000017  0.008554  0.000024   \n",
       "3  0.000016  0.000025  0.000016  ...  0.000016  0.000016  0.176904  0.000024   \n",
       "4  0.000011  0.000016  0.000011  ...  0.000011  0.000011  0.007695  0.000015   \n",
       "\n",
       "    Topic15   Topic16   Topic17   Topic18   Topic19  Automated_topic_id  \n",
       "0  0.000352  0.632347  0.000021  0.000026  0.000017                  16  \n",
       "1  0.015889  0.848774  0.000024  0.000030  0.000019                  16  \n",
       "2  0.000086  0.991036  0.000021  0.000026  0.000017                  16  \n",
       "3  0.000084  0.822696  0.000020  0.000025  0.000016                  16  \n",
       "4  0.000054  0.889787  0.102272  0.000016  0.000010                  16  \n",
       "\n",
       "[5 rows x 21 columns]"
      ]
     },
     "execution_count": 28,
     "metadata": {},
     "output_type": "execute_result"
    }
   ],
   "source": [
    "lda_df = lda_model.get_document_topics(corpus,minimum_probability=0)\n",
    "lda_df = pd.DataFrame(list(lda_df))\n",
    "num_topics = lda_model.num_topics\n",
    "lda_df.columns = ['Topic'+str(i) for i in range(num_topics)]\n",
    "for i in range(len(lda_df.columns)):\n",
    "    lda_df.iloc[:,i]=lda_df.iloc[:,i].apply(lambda x: x[1])\n",
    "lda_df['Automated_topic_id'] =lda_df.apply(lambda x: np.argmax(x),axis=1)\n",
    "lda_df.head()"
   ]
  },
  {
   "cell_type": "code",
   "execution_count": 29,
   "metadata": {},
   "outputs": [
    {
     "name": "stderr",
     "output_type": "stream",
     "text": [
      "INFO - 07:33:23: -7.309 per-word bound, 158.6 perplexity estimate based on a held-out corpus of 412 documents with 530362 words\n",
      "INFO - 07:33:23: using ParallelWordOccurrenceAccumulator(processes=7, batch_size=64) to estimate probabilities from sliding windows\n"
     ]
    },
    {
     "name": "stdout",
     "output_type": "stream",
     "text": [
      "\n",
      "Perplexity:  -7.309387651829852\n"
     ]
    },
    {
     "name": "stderr",
     "output_type": "stream",
     "text": [
      "INFO - 07:33:27: 1 batches submitted to accumulate stats from 64 documents (79180 virtual)\n",
      "INFO - 07:33:27: 2 batches submitted to accumulate stats from 128 documents (161481 virtual)\n",
      "INFO - 07:33:28: 3 batches submitted to accumulate stats from 192 documents (242227 virtual)\n",
      "INFO - 07:33:28: 4 batches submitted to accumulate stats from 256 documents (319383 virtual)\n",
      "INFO - 07:33:28: 5 batches submitted to accumulate stats from 320 documents (391983 virtual)\n",
      "INFO - 07:33:28: 6 batches submitted to accumulate stats from 384 documents (455620 virtual)\n",
      "INFO - 07:33:28: 7 batches submitted to accumulate stats from 448 documents (485454 virtual)\n",
      "INFO - 07:33:30: 7 accumulators retrieved from output queue\n",
      "INFO - 07:33:30: accumulated word occurrence stats for 485454 virtual documents\n"
     ]
    },
    {
     "name": "stdout",
     "output_type": "stream",
     "text": [
      "\n",
      "Coherence Score using c_v:  0.22856393850536377\n",
      "\n",
      "Coherence Score using u_mass:  -0.19573664217533498\n"
     ]
    }
   ],
   "source": [
    "# Compute Perplexity, a measure of how good the model is. lower the better.\n",
    "print('\\nPerplexity: ', lda_model.log_perplexity(corpus))\n",
    "# Compute Coherence Score for lda model\n",
    "coherence_model_lda = CoherenceModel(model=lda_model, texts=doc_list, dictionary=words, coherence='c_v')\n",
    "coherence_lda_c_v = coherence_model_lda.get_coherence()\n",
    "print('\\nCoherence Score using c_v: ', coherence_lda_c_v)\n",
    "# Compute Coherence Score for lda model\n",
    "coherence_model_lda = CoherenceModel(model=lda_model, texts=doc_list, dictionary=words, coherence='u_mass')\n",
    "coherence_lda_u_mass = coherence_model_lda.get_coherence()\n",
    "print('\\nCoherence Score using u_mass: ', coherence_lda_u_mass)"
   ]
  },
  {
   "cell_type": "code",
   "execution_count": 38,
   "metadata": {},
   "outputs": [
    {
     "name": "stdout",
     "output_type": "stream",
     "text": [
      "Collecting bokeh\n",
      "  Downloading https://files.pythonhosted.org/packages/87/6c/c2b2911555d34c9fa24ad0f41cf42ba6887e279a521bca0cb3d091d77c17/bokeh-2.4.2-py3-none-any.whl (18.5MB)\n",
      "Collecting packaging>=16.8 (from bokeh)\n",
      "  Using cached https://files.pythonhosted.org/packages/05/8e/8de486cbd03baba4deef4142bd643a3e7bbe954a784dc1bb17142572d127/packaging-21.3-py3-none-any.whl\n",
      "Requirement already satisfied: PyYAML>=3.10 in c:\\users\\godsh\\anaconda3\\envs\\nlp_course\\lib\\site-packages (from bokeh) (5.3.1)\n",
      "Requirement already satisfied: numpy>=1.11.3 in c:\\users\\godsh\\anaconda3\\envs\\nlp_course\\lib\\site-packages (from bokeh) (1.21.4)\n",
      "Requirement already satisfied: tornado>=5.1 in c:\\users\\godsh\\anaconda3\\envs\\nlp_course\\lib\\site-packages (from bokeh) (6.0.4)\n",
      "Collecting typing-extensions>=3.10.0 (from bokeh)\n",
      "  Using cached https://files.pythonhosted.org/packages/17/61/32c3ab8951142e061587d957226b5683d1387fb22d95b4f69186d92616d1/typing_extensions-4.0.0-py3-none-any.whl\n",
      "Requirement already satisfied: pillow>=7.1.0 in c:\\users\\godsh\\anaconda3\\envs\\nlp_course\\lib\\site-packages (from bokeh) (7.2.0)\n",
      "Requirement already satisfied: Jinja2>=2.9 in c:\\users\\godsh\\anaconda3\\envs\\nlp_course\\lib\\site-packages (from bokeh) (2.11.2)\n",
      "Requirement already satisfied: pyparsing!=3.0.5,>=2.0.2 in c:\\users\\godsh\\anaconda3\\envs\\nlp_course\\lib\\site-packages (from packaging>=16.8->bokeh) (2.4.7)\n",
      "Requirement already satisfied: MarkupSafe>=0.23 in c:\\users\\godsh\\anaconda3\\envs\\nlp_course\\lib\\site-packages (from Jinja2>=2.9->bokeh) (1.1.1)\n",
      "Installing collected packages: packaging, typing-extensions, bokeh\n",
      "Successfully installed bokeh-2.4.2 packaging-21.3 typing-extensions-4.0.0\n",
      "Note: you may need to restart the kernel to use updated packages.\n"
     ]
    }
   ],
   "source": [
    "%pip install bokeh"
   ]
  },
  {
   "cell_type": "code",
   "execution_count": 44,
   "metadata": {},
   "outputs": [
    {
     "data": {
      "text/html": [
       "\n",
       "    <div class=\"bk-root\">\n",
       "        <a href=\"https://bokeh.org\" target=\"_blank\" class=\"bk-logo bk-logo-small bk-logo-notebook\"></a>\n",
       "        <span id=\"1003\">Loading BokehJS ...</span>\n",
       "    </div>"
      ]
     },
     "metadata": {},
     "output_type": "display_data"
    },
    {
     "data": {
      "application/javascript": [
       "\n",
       "(function(root) {\n",
       "  function now() {\n",
       "    return new Date();\n",
       "  }\n",
       "\n",
       "  const force = true;\n",
       "\n",
       "  if (typeof root._bokeh_onload_callbacks === \"undefined\" || force === true) {\n",
       "    root._bokeh_onload_callbacks = [];\n",
       "    root._bokeh_is_loading = undefined;\n",
       "  }\n",
       "\n",
       "  const JS_MIME_TYPE = 'application/javascript';\n",
       "  const HTML_MIME_TYPE = 'text/html';\n",
       "  const EXEC_MIME_TYPE = 'application/vnd.bokehjs_exec.v0+json';\n",
       "  const CLASS_NAME = 'output_bokeh rendered_html';\n",
       "\n",
       "  /**\n",
       "   * Render data to the DOM node\n",
       "   */\n",
       "  function render(props, node) {\n",
       "    const script = document.createElement(\"script\");\n",
       "    node.appendChild(script);\n",
       "  }\n",
       "\n",
       "  /**\n",
       "   * Handle when an output is cleared or removed\n",
       "   */\n",
       "  function handleClearOutput(event, handle) {\n",
       "    const cell = handle.cell;\n",
       "\n",
       "    const id = cell.output_area._bokeh_element_id;\n",
       "    const server_id = cell.output_area._bokeh_server_id;\n",
       "    // Clean up Bokeh references\n",
       "    if (id != null && id in Bokeh.index) {\n",
       "      Bokeh.index[id].model.document.clear();\n",
       "      delete Bokeh.index[id];\n",
       "    }\n",
       "\n",
       "    if (server_id !== undefined) {\n",
       "      // Clean up Bokeh references\n",
       "      const cmd_clean = \"from bokeh.io.state import curstate; print(curstate().uuid_to_server['\" + server_id + \"'].get_sessions()[0].document.roots[0]._id)\";\n",
       "      cell.notebook.kernel.execute(cmd_clean, {\n",
       "        iopub: {\n",
       "          output: function(msg) {\n",
       "            const id = msg.content.text.trim();\n",
       "            if (id in Bokeh.index) {\n",
       "              Bokeh.index[id].model.document.clear();\n",
       "              delete Bokeh.index[id];\n",
       "            }\n",
       "          }\n",
       "        }\n",
       "      });\n",
       "      // Destroy server and session\n",
       "      const cmd_destroy = \"import bokeh.io.notebook as ion; ion.destroy_server('\" + server_id + \"')\";\n",
       "      cell.notebook.kernel.execute(cmd_destroy);\n",
       "    }\n",
       "  }\n",
       "\n",
       "  /**\n",
       "   * Handle when a new output is added\n",
       "   */\n",
       "  function handleAddOutput(event, handle) {\n",
       "    const output_area = handle.output_area;\n",
       "    const output = handle.output;\n",
       "\n",
       "    // limit handleAddOutput to display_data with EXEC_MIME_TYPE content only\n",
       "    if ((output.output_type != \"display_data\") || (!Object.prototype.hasOwnProperty.call(output.data, EXEC_MIME_TYPE))) {\n",
       "      return\n",
       "    }\n",
       "\n",
       "    const toinsert = output_area.element.find(\".\" + CLASS_NAME.split(' ')[0]);\n",
       "\n",
       "    if (output.metadata[EXEC_MIME_TYPE][\"id\"] !== undefined) {\n",
       "      toinsert[toinsert.length - 1].firstChild.textContent = output.data[JS_MIME_TYPE];\n",
       "      // store reference to embed id on output_area\n",
       "      output_area._bokeh_element_id = output.metadata[EXEC_MIME_TYPE][\"id\"];\n",
       "    }\n",
       "    if (output.metadata[EXEC_MIME_TYPE][\"server_id\"] !== undefined) {\n",
       "      const bk_div = document.createElement(\"div\");\n",
       "      bk_div.innerHTML = output.data[HTML_MIME_TYPE];\n",
       "      const script_attrs = bk_div.children[0].attributes;\n",
       "      for (let i = 0; i < script_attrs.length; i++) {\n",
       "        toinsert[toinsert.length - 1].firstChild.setAttribute(script_attrs[i].name, script_attrs[i].value);\n",
       "        toinsert[toinsert.length - 1].firstChild.textContent = bk_div.children[0].textContent\n",
       "      }\n",
       "      // store reference to server id on output_area\n",
       "      output_area._bokeh_server_id = output.metadata[EXEC_MIME_TYPE][\"server_id\"];\n",
       "    }\n",
       "  }\n",
       "\n",
       "  function register_renderer(events, OutputArea) {\n",
       "\n",
       "    function append_mime(data, metadata, element) {\n",
       "      // create a DOM node to render to\n",
       "      const toinsert = this.create_output_subarea(\n",
       "        metadata,\n",
       "        CLASS_NAME,\n",
       "        EXEC_MIME_TYPE\n",
       "      );\n",
       "      this.keyboard_manager.register_events(toinsert);\n",
       "      // Render to node\n",
       "      const props = {data: data, metadata: metadata[EXEC_MIME_TYPE]};\n",
       "      render(props, toinsert[toinsert.length - 1]);\n",
       "      element.append(toinsert);\n",
       "      return toinsert\n",
       "    }\n",
       "\n",
       "    /* Handle when an output is cleared or removed */\n",
       "    events.on('clear_output.CodeCell', handleClearOutput);\n",
       "    events.on('delete.Cell', handleClearOutput);\n",
       "\n",
       "    /* Handle when a new output is added */\n",
       "    events.on('output_added.OutputArea', handleAddOutput);\n",
       "\n",
       "    /**\n",
       "     * Register the mime type and append_mime function with output_area\n",
       "     */\n",
       "    OutputArea.prototype.register_mime_type(EXEC_MIME_TYPE, append_mime, {\n",
       "      /* Is output safe? */\n",
       "      safe: true,\n",
       "      /* Index of renderer in `output_area.display_order` */\n",
       "      index: 0\n",
       "    });\n",
       "  }\n",
       "\n",
       "  // register the mime type if in Jupyter Notebook environment and previously unregistered\n",
       "  if (root.Jupyter !== undefined) {\n",
       "    const events = require('base/js/events');\n",
       "    const OutputArea = require('notebook/js/outputarea').OutputArea;\n",
       "\n",
       "    if (OutputArea.prototype.mime_types().indexOf(EXEC_MIME_TYPE) == -1) {\n",
       "      register_renderer(events, OutputArea);\n",
       "    }\n",
       "  }\n",
       "\n",
       "  \n",
       "  if (typeof (root._bokeh_timeout) === \"undefined\" || force === true) {\n",
       "    root._bokeh_timeout = Date.now() + 5000;\n",
       "    root._bokeh_failed_load = false;\n",
       "  }\n",
       "\n",
       "  const NB_LOAD_WARNING = {'data': {'text/html':\n",
       "     \"<div style='background-color: #fdd'>\\n\"+\n",
       "     \"<p>\\n\"+\n",
       "     \"BokehJS does not appear to have successfully loaded. If loading BokehJS from CDN, this \\n\"+\n",
       "     \"may be due to a slow or bad network connection. Possible fixes:\\n\"+\n",
       "     \"</p>\\n\"+\n",
       "     \"<ul>\\n\"+\n",
       "     \"<li>re-rerun `output_notebook()` to attempt to load from CDN again, or</li>\\n\"+\n",
       "     \"<li>use INLINE resources instead, as so:</li>\\n\"+\n",
       "     \"</ul>\\n\"+\n",
       "     \"<code>\\n\"+\n",
       "     \"from bokeh.resources import INLINE\\n\"+\n",
       "     \"output_notebook(resources=INLINE)\\n\"+\n",
       "     \"</code>\\n\"+\n",
       "     \"</div>\"}};\n",
       "\n",
       "  function display_loaded() {\n",
       "    const el = document.getElementById(\"1003\");\n",
       "    if (el != null) {\n",
       "      el.textContent = \"BokehJS is loading...\";\n",
       "    }\n",
       "    if (root.Bokeh !== undefined) {\n",
       "      if (el != null) {\n",
       "        el.textContent = \"BokehJS \" + root.Bokeh.version + \" successfully loaded.\";\n",
       "      }\n",
       "    } else if (Date.now() < root._bokeh_timeout) {\n",
       "      setTimeout(display_loaded, 100)\n",
       "    }\n",
       "  }\n",
       "\n",
       "\n",
       "  function run_callbacks() {\n",
       "    try {\n",
       "      root._bokeh_onload_callbacks.forEach(function(callback) {\n",
       "        if (callback != null)\n",
       "          callback();\n",
       "      });\n",
       "    } finally {\n",
       "      delete root._bokeh_onload_callbacks\n",
       "    }\n",
       "    console.debug(\"Bokeh: all callbacks have finished\");\n",
       "  }\n",
       "\n",
       "  function load_libs(css_urls, js_urls, callback) {\n",
       "    if (css_urls == null) css_urls = [];\n",
       "    if (js_urls == null) js_urls = [];\n",
       "\n",
       "    root._bokeh_onload_callbacks.push(callback);\n",
       "    if (root._bokeh_is_loading > 0) {\n",
       "      console.debug(\"Bokeh: BokehJS is being loaded, scheduling callback at\", now());\n",
       "      return null;\n",
       "    }\n",
       "    if (js_urls == null || js_urls.length === 0) {\n",
       "      run_callbacks();\n",
       "      return null;\n",
       "    }\n",
       "    console.debug(\"Bokeh: BokehJS not loaded, scheduling load and callback at\", now());\n",
       "    root._bokeh_is_loading = css_urls.length + js_urls.length;\n",
       "\n",
       "    function on_load() {\n",
       "      root._bokeh_is_loading--;\n",
       "      if (root._bokeh_is_loading === 0) {\n",
       "        console.debug(\"Bokeh: all BokehJS libraries/stylesheets loaded\");\n",
       "        run_callbacks()\n",
       "      }\n",
       "    }\n",
       "\n",
       "    function on_error(url) {\n",
       "      console.error(\"failed to load \" + url);\n",
       "    }\n",
       "\n",
       "    for (let i = 0; i < css_urls.length; i++) {\n",
       "      const url = css_urls[i];\n",
       "      const element = document.createElement(\"link\");\n",
       "      element.onload = on_load;\n",
       "      element.onerror = on_error.bind(null, url);\n",
       "      element.rel = \"stylesheet\";\n",
       "      element.type = \"text/css\";\n",
       "      element.href = url;\n",
       "      console.debug(\"Bokeh: injecting link tag for BokehJS stylesheet: \", url);\n",
       "      document.body.appendChild(element);\n",
       "    }\n",
       "\n",
       "    for (let i = 0; i < js_urls.length; i++) {\n",
       "      const url = js_urls[i];\n",
       "      const element = document.createElement('script');\n",
       "      element.onload = on_load;\n",
       "      element.onerror = on_error.bind(null, url);\n",
       "      element.async = false;\n",
       "      element.src = url;\n",
       "      console.debug(\"Bokeh: injecting script tag for BokehJS library: \", url);\n",
       "      document.head.appendChild(element);\n",
       "    }\n",
       "  };\n",
       "\n",
       "  function inject_raw_css(css) {\n",
       "    const element = document.createElement(\"style\");\n",
       "    element.appendChild(document.createTextNode(css));\n",
       "    document.body.appendChild(element);\n",
       "  }\n",
       "\n",
       "  \n",
       "  const js_urls = [\"https://cdn.bokeh.org/bokeh/release/bokeh-2.4.2.min.js\", \"https://cdn.bokeh.org/bokeh/release/bokeh-gl-2.4.2.min.js\", \"https://cdn.bokeh.org/bokeh/release/bokeh-widgets-2.4.2.min.js\", \"https://cdn.bokeh.org/bokeh/release/bokeh-tables-2.4.2.min.js\", \"https://cdn.bokeh.org/bokeh/release/bokeh-mathjax-2.4.2.min.js\"];\n",
       "  const css_urls = [];\n",
       "  \n",
       "\n",
       "  const inline_js = [\n",
       "    function(Bokeh) {\n",
       "      Bokeh.set_log_level(\"info\");\n",
       "    },\n",
       "    function(Bokeh) {\n",
       "    \n",
       "    \n",
       "    }\n",
       "  ];\n",
       "\n",
       "  function run_inline_js() {\n",
       "    \n",
       "    if (root.Bokeh !== undefined || force === true) {\n",
       "      \n",
       "    for (let i = 0; i < inline_js.length; i++) {\n",
       "      inline_js[i].call(root, root.Bokeh);\n",
       "    }\n",
       "    if (force === true) {\n",
       "        display_loaded();\n",
       "      }} else if (Date.now() < root._bokeh_timeout) {\n",
       "      setTimeout(run_inline_js, 100);\n",
       "    } else if (!root._bokeh_failed_load) {\n",
       "      console.log(\"Bokeh: BokehJS failed to load within specified timeout.\");\n",
       "      root._bokeh_failed_load = true;\n",
       "    } else if (force !== true) {\n",
       "      const cell = $(document.getElementById(\"1003\")).parents('.cell').data().cell;\n",
       "      cell.output_area.append_execute_result(NB_LOAD_WARNING)\n",
       "    }\n",
       "\n",
       "  }\n",
       "\n",
       "  if (root._bokeh_is_loading === 0) {\n",
       "    console.debug(\"Bokeh: BokehJS loaded, going straight to plotting\");\n",
       "    run_inline_js();\n",
       "  } else {\n",
       "    load_libs(css_urls, js_urls, function() {\n",
       "      console.debug(\"Bokeh: BokehJS plotting callback run at\", now());\n",
       "      run_inline_js();\n",
       "    });\n",
       "  }\n",
       "}(window));"
      ],
      "application/vnd.bokehjs_load.v0+json": "\n(function(root) {\n  function now() {\n    return new Date();\n  }\n\n  const force = true;\n\n  if (typeof root._bokeh_onload_callbacks === \"undefined\" || force === true) {\n    root._bokeh_onload_callbacks = [];\n    root._bokeh_is_loading = undefined;\n  }\n\n  \n\n  \n  if (typeof (root._bokeh_timeout) === \"undefined\" || force === true) {\n    root._bokeh_timeout = Date.now() + 5000;\n    root._bokeh_failed_load = false;\n  }\n\n  const NB_LOAD_WARNING = {'data': {'text/html':\n     \"<div style='background-color: #fdd'>\\n\"+\n     \"<p>\\n\"+\n     \"BokehJS does not appear to have successfully loaded. If loading BokehJS from CDN, this \\n\"+\n     \"may be due to a slow or bad network connection. Possible fixes:\\n\"+\n     \"</p>\\n\"+\n     \"<ul>\\n\"+\n     \"<li>re-rerun `output_notebook()` to attempt to load from CDN again, or</li>\\n\"+\n     \"<li>use INLINE resources instead, as so:</li>\\n\"+\n     \"</ul>\\n\"+\n     \"<code>\\n\"+\n     \"from bokeh.resources import INLINE\\n\"+\n     \"output_notebook(resources=INLINE)\\n\"+\n     \"</code>\\n\"+\n     \"</div>\"}};\n\n  function display_loaded() {\n    const el = document.getElementById(\"1003\");\n    if (el != null) {\n      el.textContent = \"BokehJS is loading...\";\n    }\n    if (root.Bokeh !== undefined) {\n      if (el != null) {\n        el.textContent = \"BokehJS \" + root.Bokeh.version + \" successfully loaded.\";\n      }\n    } else if (Date.now() < root._bokeh_timeout) {\n      setTimeout(display_loaded, 100)\n    }\n  }\n\n\n  function run_callbacks() {\n    try {\n      root._bokeh_onload_callbacks.forEach(function(callback) {\n        if (callback != null)\n          callback();\n      });\n    } finally {\n      delete root._bokeh_onload_callbacks\n    }\n    console.debug(\"Bokeh: all callbacks have finished\");\n  }\n\n  function load_libs(css_urls, js_urls, callback) {\n    if (css_urls == null) css_urls = [];\n    if (js_urls == null) js_urls = [];\n\n    root._bokeh_onload_callbacks.push(callback);\n    if (root._bokeh_is_loading > 0) {\n      console.debug(\"Bokeh: BokehJS is being loaded, scheduling callback at\", now());\n      return null;\n    }\n    if (js_urls == null || js_urls.length === 0) {\n      run_callbacks();\n      return null;\n    }\n    console.debug(\"Bokeh: BokehJS not loaded, scheduling load and callback at\", now());\n    root._bokeh_is_loading = css_urls.length + js_urls.length;\n\n    function on_load() {\n      root._bokeh_is_loading--;\n      if (root._bokeh_is_loading === 0) {\n        console.debug(\"Bokeh: all BokehJS libraries/stylesheets loaded\");\n        run_callbacks()\n      }\n    }\n\n    function on_error(url) {\n      console.error(\"failed to load \" + url);\n    }\n\n    for (let i = 0; i < css_urls.length; i++) {\n      const url = css_urls[i];\n      const element = document.createElement(\"link\");\n      element.onload = on_load;\n      element.onerror = on_error.bind(null, url);\n      element.rel = \"stylesheet\";\n      element.type = \"text/css\";\n      element.href = url;\n      console.debug(\"Bokeh: injecting link tag for BokehJS stylesheet: \", url);\n      document.body.appendChild(element);\n    }\n\n    for (let i = 0; i < js_urls.length; i++) {\n      const url = js_urls[i];\n      const element = document.createElement('script');\n      element.onload = on_load;\n      element.onerror = on_error.bind(null, url);\n      element.async = false;\n      element.src = url;\n      console.debug(\"Bokeh: injecting script tag for BokehJS library: \", url);\n      document.head.appendChild(element);\n    }\n  };\n\n  function inject_raw_css(css) {\n    const element = document.createElement(\"style\");\n    element.appendChild(document.createTextNode(css));\n    document.body.appendChild(element);\n  }\n\n  \n  const js_urls = [\"https://cdn.bokeh.org/bokeh/release/bokeh-2.4.2.min.js\", \"https://cdn.bokeh.org/bokeh/release/bokeh-gl-2.4.2.min.js\", \"https://cdn.bokeh.org/bokeh/release/bokeh-widgets-2.4.2.min.js\", \"https://cdn.bokeh.org/bokeh/release/bokeh-tables-2.4.2.min.js\", \"https://cdn.bokeh.org/bokeh/release/bokeh-mathjax-2.4.2.min.js\"];\n  const css_urls = [];\n  \n\n  const inline_js = [\n    function(Bokeh) {\n      Bokeh.set_log_level(\"info\");\n    },\n    function(Bokeh) {\n    \n    \n    }\n  ];\n\n  function run_inline_js() {\n    \n    if (root.Bokeh !== undefined || force === true) {\n      \n    for (let i = 0; i < inline_js.length; i++) {\n      inline_js[i].call(root, root.Bokeh);\n    }\n    if (force === true) {\n        display_loaded();\n      }} else if (Date.now() < root._bokeh_timeout) {\n      setTimeout(run_inline_js, 100);\n    } else if (!root._bokeh_failed_load) {\n      console.log(\"Bokeh: BokehJS failed to load within specified timeout.\");\n      root._bokeh_failed_load = true;\n    } else if (force !== true) {\n      const cell = $(document.getElementById(\"1003\")).parents('.cell').data().cell;\n      cell.output_area.append_execute_result(NB_LOAD_WARNING)\n    }\n\n  }\n\n  if (root._bokeh_is_loading === 0) {\n    console.debug(\"Bokeh: BokehJS loaded, going straight to plotting\");\n    run_inline_js();\n  } else {\n    load_libs(css_urls, js_urls, function() {\n      console.debug(\"Bokeh: BokehJS plotting callback run at\", now());\n      run_inline_js();\n    });\n  }\n}(window));"
     },
     "metadata": {},
     "output_type": "display_data"
    }
   ],
   "source": [
    "from pyLDAvis import gensim_models as gensim\n",
    "from time import time \n",
    "import numpy as np\n",
    "import pandas as pd\n",
    "from IPython.display import display\n",
    "from tqdm import tqdm\n",
    "from collections import Counter\n",
    "import ast\n",
    "\n",
    "import matplotlib.pyplot as plt\n",
    "import matplotlib.mlab as mlab\n",
    "import seaborn as sb\n",
    "\n",
    "from sklearn.feature_extraction.text import CountVectorizer\n",
    "from textblob import TextBlob\n",
    "import scipy.stats as stats\n",
    "from scipy.sparse import csr_matrix\n",
    "import spacy\n",
    "\n",
    "from sklearn.decomposition import TruncatedSVD\n",
    "from sklearn.decomposition import LatentDirichletAllocation\n",
    "from sklearn.manifold import TSNE\n",
    "\n",
    "import re  # For preprocessing\n",
    "import pandas as pd  # For data handling\n",
    "from time import time  # To time our operations\n",
    "from collections import defaultdict  # For word frequency\n",
    "\n",
    "import spacy  # For preprocessing\n",
    "\n",
    "import logging  # Setting up the loggings to monitor gensim\n",
    "logging.basicConfig(format=\"%(levelname)s - %(asctime)s: %(message)s\", datefmt= '%H:%M:%S', level=logging.INFO)\n",
    "from bokeh.plotting import figure, output_file, show\n",
    "from bokeh.models import Label\n",
    "from bokeh.io import output_notebook\n",
    "output_notebook()\n",
    "\n",
    "\n",
    "%matplotlib inline"
   ]
  },
  {
   "cell_type": "code",
   "execution_count": 45,
   "metadata": {},
   "outputs": [],
   "source": [
    "import pyLDAvis"
   ]
  },
  {
   "cell_type": "code",
   "execution_count": 46,
   "metadata": {},
   "outputs": [
    {
     "name": "stderr",
     "output_type": "stream",
     "text": [
      "C:\\Users\\godsh\\anaconda3\\envs\\nlp_course\\lib\\site-packages\\pyLDAvis\\_prepare.py:247: FutureWarning: In a future version of pandas all arguments of DataFrame.drop except for the argument 'labels' will be keyword-only\n",
      "  by='saliency', ascending=False).head(R).drop('saliency', 1)\n"
     ]
    }
   ],
   "source": [
    "a=pyLDAvis.gensim_models.prepare(lda_model, corpus, words)"
   ]
  },
  {
   "cell_type": "code",
   "execution_count": 53,
   "metadata": {},
   "outputs": [
    {
     "data": {
      "text/html": [
       "\n",
       "<link rel=\"stylesheet\" type=\"text/css\" href=\"https://cdn.jsdelivr.net/gh/bmabey/pyLDAvis@3.3.1/pyLDAvis/js/ldavis.v1.0.0.css\">\n",
       "\n",
       "\n",
       "<div id=\"ldavis_el75442807057730632157253667\"></div>\n",
       "<script type=\"text/javascript\">\n",
       "\n",
       "var ldavis_el75442807057730632157253667_data = {\"mdsDat\": {\"x\": [0.20355025062035234, 0.22124789276261428, 0.22525009524405423, 0.20392892479608443, 0.2001479039552013, 0.20302407054176816, 0.1688024792863814, 0.15797140592815476, -0.04738772152203062, -0.0884592647580641, -0.09542598685449305, -0.1029494226526644, -0.13883204499284432, -0.13652270062074331, -0.1410668951537953, -0.14291372808793862, -0.15043578355323006, -0.16991892660551244, -0.1701123415661641, -0.1998982067671304], \"y\": [0.018413420129833952, -0.02423956310166945, 0.02215233905799833, 0.04036487050575292, 0.04004295753456084, -0.06560824013017703, -0.09858456006686883, 0.06807533909126579, -0.012392614970692857, 0.0016401741659146198, 0.002729512023086729, 0.006753622777577177, 0.0020598646742042903, 0.003216346893552526, -0.00037737770546032967, 0.00020846438846599516, -0.0009208849691132714, -0.0016054966946157502, 0.00016291063238277773, -0.0020910842359983823], \"topics\": [1, 2, 3, 4, 5, 6, 7, 8, 9, 10, 11, 12, 13, 14, 15, 16, 17, 18, 19, 20], \"cluster\": [1, 1, 1, 1, 1, 1, 1, 1, 1, 1, 1, 1, 1, 1, 1, 1, 1, 1, 1, 1], \"Freq\": [59.74162737709584, 18.29905775600698, 9.080051554817977, 3.3854681110585947, 2.95798292422252, 2.7339886349101663, 2.307802787790397, 1.3587709290694223, 0.09188367392985622, 0.025807190070001474, 0.001786751596517323, 0.0017856950235791806, 0.0017795045285930887, 0.0017794683501802778, 0.001779266071205606, 0.001776846749148137, 0.0017757580645243614, 0.0017656624221059729, 0.0017558539201802288, 0.0015742543022092114]}, \"tinfo\": {\"Term\": [\"the\", \"a\", \"-PRON-\", \"and\", \"of\", \"be\", \"to\", \"with\", \"in\", \"that\", \"for\", \"at\", \"as\", \"on\", \"i\", \"an\", \"restaurant\", \"but\", \"have\", \"one\", \"from\", \"or\", \"like\", \"this\", \"more\", \"by\", \"not\", \"dish\", \"make\", \"which\", \"seeger\", \"urasawa\", \"olmsted\", \"il\", \"seattle\", \"carbone\", \"nordic\", \"augustine\", \"baroo\", \"robbin\", \"baxtrom\", \"fehribach\", \"dover\", \"manzke\", \"brodo\", \"jaber\", \"easton\", \"minetta\", \"bern\", \"charles\", \"mansion\", \"will_travel\", \"breslin\", \"canora\", \"mangieri\", \"lowlife\", \"career\", \"angie\", \"orb\", \"ladner\", \"essential_restaurant\", \"review_series\", \"bill_addison\", \"to_chronicle\", \"torrisi\", \"this_travelogue\", \"check_back\", \"keller\", \"chef_owner\", \"restaurant_editor\", \"bloomfield\", \"progress_in\", \"to_formulate\", \"in_america\", \"what_happen\", \"find_out\", \"road_to\", \"sutton\", \"stupak\", \"-PRON-\", \"meyer\", \"danny_meyer\", \"the\", \"course\", \"year\", \"la_carte\", \"lean\", \"luxury\", \"foie_gras\", \"at\", \"a\", \"of\", \"and\", \"that\", \"to\", \"for\", \"chef\", \"with\", \"in\", \"i\", \"as\", \"restaurant\", \"be\", \"would\", \"dinner\", \"have\", \"about\", \"steak\", \"an\", \"over\", \"more\", \"then\", \"but\", \"not\", \"from\", \"this\", \"on\", \"like\", \"or\", \"one\", \"by\", \"all\", \"dish\", \"make\", \"which\", \"hyderabad\", \"salte\", \"pinsa\", \"georgian\", \"bhutanese\", \"banya\", \"adda\", \"emmy\", \"blp\", \"irani\", \"biryani\", \"puebla\", \"lassi\", \"tajine\", \"veronika\", \"nepalese\", \"diaz\", \"claro\", \"chola\", \"lechon\", \"mofongo\", \"pav\", \"mariscos\", \"bolita\", \"ema\", \"datsi\", \"gujarati\", \"kokum\", \"brasil\", \"robertsietsema\", \"saute\", \"bolivian\", \"chai\", \"tibetan\", \"pozole\", \"indo\", \"india\", \"paneer\", \"momo\", \"tax_but\", \"not_tip\", \"indian\", \"couscous\", \"app\", \"cevich\", \"feature\", \"cost_dinner\", \"entr_e\", \"naan\", \"to_drink\", \"vegetarian\", \"include\", \"the\", \"be\", \"chicken\", \"and\", \"in\", \"a\", \"of\", \"with\", \"menu\", \"dish\", \"curry\", \"sample_dish\", \"-PRON-\", \"on\", \"to\", \"one\", \"two\", \"which\", \"fry\", \"that\", \"but\", \"from\", \"have\", \"as\", \"like\", \"or\", \"good\", \"an\", \"restaurant\", \"at\", \"for\", \"make\", \"this\", \"quinto\", \"beep\", \"riddler\", \"zhen\", \"lankan\", \"sadelle\", \"raij\", \"rasa\", \"kaya\", \"radhaus\", \"noreetuh\", \"senya\", \"wei\", \"mixian\", \"soogil\", \"weck\", \"meme\", \"repucci\", \"pino\", \"tomi\", \"pelka\", \"abidjan\", \"han\", \"jjigae\", \"donnelly\", \"insa\", \"sia\", \"montero\", \"morsink\", \"hawaii\", \"nishi\", \"larb\", \"txikito\", \"sri\", \"hopper\", \"hot_pot\", \"mano\", \"ya\", \"kawi\", \"roti\", \"uncle\", \"korean\", \"rice_cake\", \"chang\", \"spam\", \"fuku\", \"bruno\", \"a\", \"the\", \"of\", \"be\", \"and\", \"to\", \"noodle\", \"-PRON-\", \"sushi\", \"with\", \"or\", \"sandwich\", \"for\", \"in\", \"that\", \"spicy\", \"on\", \"at\", \"more\", \"an\", \"one\", \"as\", \"chinese\", \"from\", \"all\", \"two\", \"by\", \"but\", \"which\", \"like\", \"restaurant\", \"have\", \"i\", \"this\", \"not\", \"blenheim\", \"jora\", \"octavia\", \"tate\", \"orkin\", \"waltuck\", \"alembic\", \"lululemon\", \"sepia\", \"pemoulie\", \"blanche\", \"bonar\", \"bengtsson\", \"sohm\", \"coq\", \"haight\", \"nayfeld\", \"cordero\", \"seco\", \"gwyneth\", \"cuv\", \"hern\", \"sarah\", \"valle\", \"boyfriend\", \"wail\", \"stifle\", \"perello\", \"christiane\", \"aude\", \"walzwerk\", \"dric\", \"crenn\", \"dupont\", \"baquedano\", \"wayan\", \"plascencia\", \"aldo\", \"ndez\", \"olvera\", \"mercerie\", \"carmichael\", \"pearl\", \"-PRON-\", \"a\", \"saison\", \"and\", \"ripert\", \"be\", \"i\", \"the\", \"of\", \"for\", \"to\", \"with\", \"that\", \"as\", \"on\", \"wine\", \"in\", \"so\", \"but\", \"at\", \"what\", \"like\", \"or\", \"not\", \"have\", \"good\", \"by\", \"from\", \"an\", \"one\", \"make\", \"this\", \"if\", \"restaurant\", \"sakurai\", \"jaeckle\", \"falansai\", \"tei\", \"barcino\", \"tran\", \"sisig\", \"barvale\", \"panza\", \"namu\", \"stonepot\", \"longaniza\", \"morabito\", \"xiaolongbao\", \"rijsttafel\", \"gyamtso\", \"choricera\", \"dulu\", \"cholsum\", \"jellyfish\", \"biddeford\", \"nopale\", \"hanson\", \"soba\", \"cervante\", \"mi'eatball\", \"nasr\", \"santos\", \"laph\", \"tarp\", \"chien\", \"all'onda\", \"fore\", \"pasquale\", \"pulpo\", \"suadero\", \"vandal\", \"frenchette\", \"hardy\", \"chen\", \"banh\", \"paella\", \"-PRON-\", \"the\", \"a\", \"and\", \"of\", \"be\", \"to\", \"in\", \"taco\", \"that\", \"with\", \"on\", \"for\", \"i\", \"portland\", \"one\", \"as\", \"but\", \"more\", \"or\", \"at\", \"have\", \"fish\", \"this\", \"good\", \"an\", \"what\", \"not\", \"like\", \"from\", \"restaurant\", \"which\", \"farida\", \"sorbillo\", \"lambi\", \"lola\", \"sweetwater\", \"accra\", \"djon\", \"corthaiyou\", \"pye\", \"tbilisi\", \"pivo\", \"citra\", \"yibin\", \"tipsample\", \"shakshuka\", \"som\", \"canning\", \"yun\", \"brewpub\", \"shashlyk\", \"kamin\", \"golae\", \"sreparplarn\", \"fricasseed\", \"fujianese\", \"lula\", \"chimichanga\", \"penh\", \"phnom\", \"hopdevil\", \"dizengoff\", \"moo\", \"session\", \"tod\", \"mao\", \"stony\", \"hunan\", \"ugly\", \"ipa\", \"ped\", \"isan\", \"pla\", \"thailand\", \"hummus\", \"chiang\", \"thai\", \"hop\", \"noodle\", \"papaya\", \"the\", \"hash\", \"be\", \"of\", \"and\", \"a\", \"-PRON-\", \"with\", \"in\", \"tea\", \"beer\", \"pork\", \"rice\", \"to\", \"or\", \"as\", \"for\", \"an\", \"dish\", \"that\", \"on\", \"but\", \"red\", \"from\", \"like\", \"have\", \"which\", \"menu\", \"at\", \"restaurant\", \"by\", \"one\", \"elv\", \"junewhere\", \"atcharawan\", \"nham\", \"caballo\", \"aprilwhere\", \"sahib\", \"hopwork\", \"mok\", \"lorena\", \"kashmir\", \"riegele\", \"nemeth\", \"chica\", \"bandito\", \"krajeck\", \"expiration\", \"rino\", \"gilmore\", \"micklethwait\", \"lodomajor\", \"knall\", \"coto\", \"situation\", \"fukuburger\", \"irvine\", \"ong\", \"finch\", \"vegasthe\", \"bicyclist\", \"schlafly\", \"isla\", \"kiin\", \"radler\", \"qui\", \"cuchifrito\", \"nevada\", \"brewery\", \"morton\", \"player\", \"lager\", \"szymanski\", \"coverage\", \"stout\", \"project\", \"ipa\", \"franklin\", \"beer\", \"sierra\", \"austin\", \"ale\", \"brewing\", \"location\", \"and\", \"the\", \"a\", \"to\", \"opening\", \"open\", \"in\", \"expect\", \"la_vegas\", \"of\", \"be\", \"will\", \"-PRON-\", \"with\", \"for\", \"from\", \"that\", \"by\", \"on\", \"as\", \"an\", \"at\", \"restaurant\", \"have\", \"or\", \"like\", \"this\", \"tangjantuk\", \"durney\", \"caserecce\", \"vesper\", \"maguy\", \"lau\", \"walu\", \"gestel\", \"handroll\", \"unequaled\", \"jovial\", \"maybell\", \"unagi\", \"weihenstephaner\", \"conviviality\", \"frankenstein\", \"smuttynose\", \"raquel\", \"atip\", \"elyx\", \"shuko\", \"eminem\", \"coze\", \"robinson\", \"unmarked\", \"wisdom\", \"jin\", \"fucking\", \"fracture\", \"regenerate\", \"ink\", \"sirena\", \"goatee\", \"nomad\", \"hometown\", \"toro\", \"sushi\", \"subside\", \"babbo\", \"bulgogi\", \"cocchi\", \"the\", \"-PRON-\", \"batali\", \"a\", \"kim\", \"braciole\", \"crab\", \"be\", \"of\", \"to\", \"with\", \"that\", \"and\", \"tuna\", \"for\", \"one\", \"claw\", \"on\", \"at\", \"as\", \"in\", \"more\", \"this\", \"about\", \"chef\", \"can\", \"do\", \"just\", \"by\", \"like\", \"from\", \"not\", \"restaurant\", \"an\", \"brett\", \"genus\", \"flavorsa\", \"enlivening\", \"lambic\", \"cura\", \"multiplication\", \"microscopic\", \"spontaneous\", \"brettanomyc\", \"dubbel\", \"misunderstand\", \"chugger\", \"getaway\", \"ao\", \"pilot\", \"odell\", \"secondly\", \"furthermore\", \"secretariat\", \"fingerprint\", \"mathematician\", \"coolship\", \"allagash\", \"souring\", \"curieux\", \"chocolaty\", \"clan\", \"victor\", \"unspoken\", \"carbonation\", \"yeast\", \"tinder\", \"ferment\", \"ale\", \"zesty\", \"polarize\", \"create\", \"beer\", \"potentially\", \"and\", \"the\", \"lager\", \"a\", \"-PRON-\", \"fruity\", \"strain\", \"little\", \"of\", \"funk\", \"to\", \"be\", \"with\", \"as\", \"tartness\", \"i\", \"this\", \"in\", \"that\", \"drink\", \"for\", \"like\", \"by\", \"not\", \"an\", \"flavor\", \"what\", \"mysore\", \"kaju\", \"idli\", \"telugu\", \"byzantine\", \"restrict\", \"ganesha\", \"caddie\", \"dosaye\", \"kaiser\", \"nilgiri\", \"betoken\", \"upma\", \"sheepishly\", \"sapthagiri\", \"grannie\", \"pesarattu\", \"gradual\", \"pongal\", \"mla\", \"paal\", \"appambut\", \"asafoetida\", \"bondabut\", \"darl\", \"khushbu\", \"flapjack\", \"bizarre\", \"mellifluous\", \"galore\", \"chutney\", \"dosa\", \"ghee\", \"masala\", \"newark\", \"the\", \"of\", \"a\", \"filling\", \"be\", \"and\", \"-PRON-\", \"to\", \"with\", \"in\", \"indian\", \"that\", \"mini\", \"spongy\", \"for\", \"ve\", \"on\", \"as\", \"south\", \"restaurant\", \"but\", \"bob\", \"dozy\", \"honjozo\", \"raymond\", \"sticki\", \"newbie\", \"goeng\", \"potrero\", \"weizen\", \"kqed\", \"swirling\", \"jacquemart\", \"bhaklep\", \"sichuanese\", \"suppleness\", \"quechua\", \"amidst\", \"okonomiyakitake\", \"aymara\", \"semillon\", \"edged\", \"trample\", \"grittiness\", \"refund\", \"cheesefor\", \"hydraulic\", \"petaluma\", \"sol\", \"culturally\", \"eventideoysterco\", \"independently\", \"undertake\", \"baller\", \"ge\", \"duckfat\", \"the\", \"a\", \"-PRON-\", \"of\", \"and\", \"be\", \"in\", \"to\", \"with\", \"that\", \"for\", \"or\", \"on\", \"one\", \"an\", \"like\", \"as\", \"have\", \"i\", \"at\", \"make\", \"restaurant\", \"by\", \"from\", \"but\", \"what\", \"come\", \"so\", \"dish\", \"this\", \"more\", \"which\", \"marcelino\", \"independently\", \"sticki\", \"mocha\", \"quechua\", \"aymara\", \"duckour\", \"culturally\", \"trample\", \"chaotic\", \"sol\", \"inaki\", \"quispe\", \"waterproof\", \"assent\", \"plentifully\", \"jacquemart\", \"hoodsie\", \"swirling\", \"newbie\", \"nouc\", \"conquest\", \"fricas\", \"chiller\", \"quilqui\", \"reimagination\", \"hiv\", \"perrier\", \"winterpoint\", \"overseer\", \"nicola\", \"andaman\", \"modernized\", \"hocks\", \"dogged\", \"barr\", \"clamshow\", \"the\", \"a\", \"-PRON-\", \"and\", \"of\", \"be\", \"in\", \"with\", \"for\", \"that\", \"at\", \"to\", \"as\", \"on\", \"restaurant\", \"more\", \"but\", \"have\", \"like\", \"one\", \"from\", \"i\", \"this\", \"dish\", \"which\", \"not\", \"make\", \"into\", \"menu\", \"over\", \"an\", \"or\", \"by\", \"timeline\", \"honjozo\", \"troubled\", \"flavorsfinca\", \"pugh\", \"mien\", \"wah\", \"grittiness\", \"humidifier\", \"gravitational\", \"resuscitate\", \"eddy\", \"glitch\", \"blouse\", \"barrientos\", \"okonomiyakitake\", \"messiness\", \"italianate\", \"suppleness\", \"adroitly\", \"culturally\", \"decoy\", \"briefcase\", \"imagining\", \"ovular\", \"recast\", \"sichuanese\", \"exhilaratingly\", \"edelweisse\", \"comrabelai\", \"fisher\", \"cloudlike\", \"gurpreet\", \"penniless\", \"patience\", \"fusiony\", \"molescoraz\", \"sysco\", \"glaring\", \"palacehere\", \"strauss\", \"chapter\", \"entirety\", \"edged\", \"counterin\", \"paisley\", \"kikunoi\", \"the\", \"abundancethe\", \"onsite\", \"-PRON-\", \"to\", \"and\", \"be\", \"of\", \"in\", \"a\", \"with\", \"for\", \"that\", \"at\", \"on\", \"as\", \"camembert\", \"from\", \"but\", \"have\", \"restaurant\", \"by\", \"i\", \"or\", \"an\", \"this\", \"one\", \"not\", \"food\", \"like\", \"more\", \"menu\", \"two\", \"make\", \"rilette\", \"matassa\", \"crumblehaute\", \"inaki\", \"headband\", \"empiricism\", \"lam\", \"limiting\", \"piedmontese\", \"shelling\", \"pavarotti\", \"spotanyone\", \"sudestada\", \"hesitation\", \"commis\", \"contractor\", \"adroitly\", \"eddy\", \"scamper\", \"decoy\", \"tartit\", \"mishima\", \"maaemo\", \"ebay\", \"tompkins\", \"wah\", \"eskimo\", \"wulf\", \"chateaubriand\", \"imagining\", \"karate\", \"montecristo\", \"parfaitsometim\", \"taverncontra\", \"-PRON-\", \"a\", \"the\", \"of\", \"and\", \"be\", \"to\", \"with\", \"in\", \"that\", \"at\", \"as\", \"for\", \"an\", \"on\", \"from\", \"or\", \"not\", \"more\", \"but\", \"which\", \"by\", \"this\", \"i\", \"restaurant\", \"dish\", \"one\", \"out\", \"have\", \"two\", \"like\", \"barrientos\", \"trample\", \"cooperation\", \"horror\", \"lowell\", \"tompkins\", \"wah\", \"eddy\", \"gardism\", \"quechua\", \"adroitly\", \"oozier\", \"okonomiyakitake\", \"decoy\", \"wattle\", \"smyth\", \"miserly\", \"avance\", \"honjozo\", \"penniless\", \"contractor\", \"jubilant\", \"lam\", \"nightingale\", \"lettucehungry\", \"culturally\", \"protege\", \"hypocritical\", \"sticki\", \"dausoa\", \"abraxas\", \"anoth\", \"trading\", \"comdur\", \"amphibian\", \"a\", \"the\", \"and\", \"of\", \"be\", \"with\", \"-PRON-\", \"to\", \"that\", \"on\", \"in\", \"for\", \"at\", \"an\", \"as\", \"restaurant\", \"i\", \"but\", \"one\", \"like\", \"have\", \"from\", \"by\", \"or\", \"dish\", \"not\", \"two\", \"will\", \"which\", \"chicken\", \"this\", \"more\", \"sticki\", \"swirling\", \"waterproof\", \"trample\", \"sorrento\", \"barrientos\", \"downgrade\", \"lam\", \"ribeyeof\", \"eddy\", \"contractor\", \"newbie\", \"wah\", \"plentifully\", \"carley\", \"quechua\", \"blouse\", \"amidst\", \"adroitly\", \"messiness\", \"exhilaratingly\", \"goeng\", \"overachieve\", \"furry\", \"decoy\", \"gravitational\", \"buckingham\", \"timeline\", \"mien\", \"echinoderm\", \"hesitation\", \"andaman\", \"reappearance\", \"bui\", \"cashier\", \"humidifier\", \"arealee\", \"birdcall\", \"stylishness\", \"the\", \"and\", \"of\", \"a\", \"ginseng\", \"-PRON-\", \"be\", \"in\", \"to\", \"with\", \"that\", \"for\", \"restaurant\", \"at\", \"as\", \"but\", \"an\", \"or\", \"more\", \"on\", \"have\", \"from\", \"dish\", \"which\", \"one\", \"like\", \"good\", \"not\", \"chef\", \"food\", \"this\", \"i\", \"by\", \"tompkins\", \"barrientos\", \"sticki\", \"wah\", \"eddy\", \"lam\", \"swirling\", \"cooperation\", \"contractor\", \"waterproof\", \"stagecraft\", \"trample\", \"adroitly\", \"briefcase\", \"birdcall\", \"refund\", \"honjozo\", \"interruption\", \"resuscitate\", \"translator\", \"grittiness\", \"quechua\", \"hesitation\", \"nightingale\", \"inaki\", \"newbie\", \"kreme\", \"lowell\", \"limiting\", \"undertake\", \"flailing\", \"fika\", \"jernmark\", \"troubled\", \"fixing\", \"aiolione\", \"roei\", \"truong\", \"backstage\", \"reheat\", \"the\", \"and\", \"-PRON-\", \"a\", \"with\", \"of\", \"to\", \"in\", \"be\", \"that\", \"for\", \"as\", \"from\", \"on\", \"like\", \"but\", \"an\", \"restaurant\", \"or\", \"have\", \"at\", \"which\", \"this\", \"more\", \"by\", \"one\", \"make\", \"i\", \"chef\", \"not\", \"eskimo\", \"sticki\", \"overachieve\", \"plentifully\", \"barrientos\", \"swirling\", \"cobblestoned\", \"translator\", \"seriousness\", \"resuscitate\", \"waterproof\", \"inaki\", \"eddy\", \"newbie\", \"melody\", \"loungea\", \"kreme\", \"trample\", \"carley\", \"contractor\", \"nemirow\", \"rilette\", \"wah\", \"echinoderm\", \"imagining\", \"agog\", \"shor\", \"honjozo\", \"troubled\", \"decoy\", \"crook\", \"oastthe\", \"fiercer\", \"fisher\", \"stance\", \"picket\", \"harmonious\", \"grillif\", \"unappetizingly\", \"stanhope\", \"nage\", \"mcnerney\", \"and\", \"the\", \"-PRON-\", \"a\", \"adorable\", \"of\", \"be\", \"to\", \"in\", \"with\", \"that\", \"on\", \"for\", \"as\", \"at\", \"from\", \"like\", \"but\", \"have\", \"not\", \"make\", \"i\", \"an\", \"restaurant\", \"what\", \"by\", \"one\", \"or\", \"dish\", \"more\", \"menu\", \"ebay\", \"raymond\", \"trample\", \"eskimo\", \"suppleness\", \"pugh\", \"sichuanese\", \"asiate\", \"ultraclean\", \"manifestly\", \"honjozo\", \"decoy\", \"eddy\", \"blouse\", \"edelweisse\", \"briefcase\", \"quechua\", \"dozy\", \"kqed\", \"refund\", \"wah\", \"interruption\", \"contractor\", \"grittiness\", \"barrientos\", \"butterfind\", \"messiness\", \"adroitly\", \"lam\", \"timeline\", \"glitch\", \"genuineness\", \"practiceto\", \"forestreet\", \"arp\", \"bimibap\", \"fixing\", \"hoppi\", \"comrabelai\", \"ge\", \"makgeolli\", \"crif\", \"namaste\", \"khmer\", \"chapter\", \"-PRON-\", \"the\", \"a\", \"to\", \"and\", \"with\", \"be\", \"of\", \"in\", \"that\", \"for\", \"at\", \"on\", \"have\", \"more\", \"or\", \"restaurant\", \"but\", \"i\", \"as\", \"an\", \"this\", \"one\", \"like\", \"if\", \"dish\", \"all\", \"from\", \"two\", \"new_york\", \"make\", \"trample\", \"eddy\", \"barrientos\", \"sticki\", \"wah\", \"decoy\", \"resuscitate\", \"lam\", \"contractor\", \"adroitly\", \"quechua\", \"honjozo\", \"swirling\", \"edelweisse\", \"inaki\", \"waterproof\", \"rilette\", \"briefcase\", \"grittiness\", \"sichuanese\", \"kreme\", \"marcelino\", \"imagining\", \"plentifully\", \"tompkins\", \"cooperation\", \"echinoderm\", \"blouse\", \"culturally\", \"spotanyone\", \"refund\", \"recast\", \"smorgas\", \"jacquemart\", \"fuzhou\", \"interruption\", \"ultraclean\", \"hesitation\", \"genuineness\", \"ge\", \"khmer\", \"reimagining\", \"arp\", \"sans\", \"fixing\", \"namaste\", \"practiceto\", \"regime\", \"subjective\", \"-PRON-\", \"sisamouth\", \"caddythe\", \"a\", \"the\", \"parental\", \"and\", \"to\", \"be\", \"foodunder\", \"of\", \"cumulatively\", \"finicky\", \"with\", \"that\", \"in\", \"rosengarten\", \"garibaldi\", \"restaurant\", \"at\", \"for\", \"on\", \"as\", \"an\", \"but\", \"like\", \"this\", \"or\", \"from\", \"have\", \"more\", \"make\", \"i\", \"one\", \"good\", \"by\", \"about\", \"there\", \"not\"], \"Freq\": [28585.0, 19528.0, 18221.0, 16232.0, 15236.0, 12704.0, 8200.0, 8387.0, 8481.0, 5021.0, 4262.0, 3823.0, 3320.0, 3286.0, 1978.0, 2320.0, 2349.0, 2406.0, 2243.0, 2044.0, 2161.0, 2221.0, 1926.0, 1693.0, 1649.0, 1535.0, 1506.0, 1465.0, 1280.0, 1445.0, 36.580970848827974, 23.401984905528675, 25.3917197854789, 22.345673733924645, 21.343335759765363, 41.32626200085084, 23.33546821896309, 18.3186212474199, 18.310708083220813, 23.311633053732386, 20.301854999025934, 18.292103790406053, 30.255375275294604, 15.282635807246514, 21.241664567483266, 15.286748577801847, 18.254223190977832, 23.220633394466336, 15.25700130489785, 19.230531292749074, 14.270338657751454, 39.04731220807657, 30.137319856366346, 19.208208446736023, 14.239130936334675, 16.21852625578004, 17.195878687742745, 14.238991461772681, 19.16205274085693, 15.20399059719909, 84.7634910930831, 79.65992091372013, 105.63756295999558, 79.47759423340617, 34.853512695637306, 79.4740163074522, 79.41184523327271, 52.05612535355501, 41.406036839582185, 84.17029310141625, 41.515661539944944, 78.88321589503285, 78.60428521396179, 163.68360204415157, 88.6537662942471, 82.19505665981944, 79.3123180301254, 52.773688547227444, 40.86228430916576, 12157.677307773323, 41.61892343384317, 35.20441455606201, 17957.274259231774, 466.38309072951125, 424.0436486245001, 105.94992142865202, 106.88233999800599, 102.62803849540184, 144.43459094827944, 2651.4237249350554, 11880.943842096347, 9264.521233134717, 9643.13337391329, 3246.204266448598, 5061.398678462789, 2779.0481223980228, 753.1709709671472, 5069.201950539216, 5082.928202388675, 1357.7283242503238, 2142.4303394172343, 1567.522705227057, 7147.318001244705, 480.6303181065355, 336.0092600430109, 1407.618628665752, 565.8025872398593, 291.2987780484748, 1429.2897941964143, 604.4415317626049, 1055.2033240054304, 428.7297725924969, 1450.9594842936933, 952.7431068358952, 1282.2877923967806, 1044.8524948781098, 1808.5130594822563, 1148.0139117629535, 1234.464717694384, 1115.3096767086352, 893.3622247271505, 711.9058287941904, 810.9861969414378, 748.3919684676856, 787.3275488720992, 20.42352701937019, 21.35985843372625, 20.39616547530671, 20.35806776638463, 16.529747967408085, 15.550720455182349, 13.658229192556158, 24.09105008246919, 16.485813298559588, 12.705554855318784, 55.32057928644292, 14.564066622220432, 14.57074671427268, 12.68635347444302, 14.529157845191367, 12.64220131422538, 12.622323450454683, 11.6945772960533, 14.493853629309317, 12.589489315122185, 20.98150536375132, 10.690601122908117, 10.679522479757194, 10.667020256735519, 9.731628715796113, 9.732920247335603, 9.705329913650038, 11.563571934762683, 8.78260088969593, 9.709119065230626, 11.547146393406726, 28.00152230315383, 22.5408323313277, 28.757988355228658, 14.312475713415408, 14.277607892553261, 58.4916147468003, 28.759937303861236, 20.945569857986108, 70.0719737670131, 87.36845789842073, 141.65426409261966, 25.75642103988218, 101.63504999435507, 29.252515711084754, 134.5754566940309, 81.33151324579737, 30.98552930886444, 31.18310468263303, 162.02187323361423, 88.61566074248945, 290.13434510393984, 5392.043312211698, 2815.979636511437, 318.43771153270524, 3291.308707213077, 1881.2673973810727, 3493.1067126328985, 2882.708203022076, 1704.2875863048466, 375.85970372606045, 429.1251364513906, 116.99340921950179, 157.57036157427248, 2503.20910605818, 731.2617512351746, 1267.4524768524877, 478.7372112982484, 294.4995381108009, 356.845308936494, 214.5715616350375, 763.8324000108016, 476.0119371094841, 423.1765158911452, 426.9415908947129, 522.1488953162902, 378.55119613852673, 407.2416407131019, 291.4323109984792, 399.84295717720534, 396.54219517656225, 496.42078487371873, 493.50872796730914, 280.01861250742104, 304.59651560743515, 13.31748067792423, 11.444390314906743, 12.338728296112375, 11.39679552796048, 11.364449685519284, 9.52826513194182, 12.274754208618457, 10.399437471672082, 8.57624955985891, 8.5388770318049, 11.263072936487271, 6.692398039129114, 13.872651579385849, 6.657792886160146, 6.648821517246825, 5.74861836871421, 6.6367569111531095, 5.733192827976822, 5.730233439528067, 5.725904379110785, 5.722719339920734, 5.714877976660648, 11.94386472687508, 5.70724089039152, 5.6711749642230656, 4.786469186244556, 10.988904482696109, 6.54825907306384, 4.76498996870997, 5.650364289567976, 22.92370603864821, 23.90715503930533, 8.868897547960671, 11.953388309403751, 10.195912416259706, 31.53086204149917, 9.389981171912385, 17.685919251898724, 8.436472941199153, 23.510940368735053, 19.178973121406777, 74.46606769833309, 22.387580900686533, 26.891104379926418, 9.793165086650996, 17.55221207755691, 11.454729603841843, 1901.88531493756, 2311.2281606309466, 1457.8069882557531, 1213.8288096567144, 1354.0648308008347, 852.2120207756153, 104.46023697913765, 1343.7025451119262, 75.19630713454912, 687.5257523123958, 292.6399599809777, 91.47938235739238, 425.3969793181588, 635.8791918678553, 431.1137637632719, 77.99144426855764, 315.18112914771604, 327.39349302870187, 194.68049380632002, 226.12978240406147, 198.31721009634995, 253.91136347455827, 60.835103480008165, 190.10942086666046, 135.48181510843034, 127.06470047803118, 154.23193969678007, 190.30344126056906, 144.6014912195229, 158.41535307223506, 171.54379729436283, 152.31907173321127, 138.10995948141957, 131.8464106761262, 123.00297592221845, 10.098139986987391, 9.197784582193101, 10.042225405419158, 4.623051570863491, 12.351373253435703, 4.620383347933702, 5.424735506440066, 3.7288817819759585, 3.703543854183531, 3.679193053910565, 3.687642426521563, 3.6866819498774284, 6.17798644048871, 11.074882026130451, 4.3716891371220425, 3.620853503970673, 2.7989263996016653, 2.7946363925233064, 2.793607459709214, 2.7874294210121073, 2.7900830120887754, 5.217276731836431, 2.782946064446082, 15.823736702426823, 2.778358194643481, 2.7535169660078815, 2.748283726969423, 2.7467246507627983, 2.73553964418442, 2.673025835575677, 13.85651435919277, 8.905975264613595, 18.50768887432035, 9.221933410636383, 4.89543710342532, 7.342770785144289, 5.455711139496502, 6.482709936145746, 4.772652862830941, 13.129041614945631, 6.92276709927904, 4.524136585804553, 16.972551424533567, 758.7050952568421, 675.7348962211983, 16.691544595086572, 548.3009202589591, 7.385155605671559, 454.98748933549797, 145.8487233055371, 620.1430849717469, 416.79239961662154, 187.42693157555993, 251.53349473628182, 252.72395902829652, 175.57795658574284, 128.95033760907506, 121.22203526145161, 46.7246783292113, 181.68945588565126, 61.02963494850787, 93.01627052816893, 110.39639535677557, 59.625537239872614, 79.75478660443693, 82.28291999191909, 69.53201667309722, 76.6721477889764, 58.05819821676436, 63.35220752176262, 66.61798279141078, 67.78901598248125, 63.17887440916583, 53.659708489104005, 57.53218727760611, 48.633708747452125, 50.51944943605432, 12.745940685987797, 10.180389583773204, 8.498055977246374, 7.661814317786706, 7.65522265179109, 7.646607416931265, 11.659580983832651, 5.9818211476312495, 6.77903924949728, 5.961521081008606, 5.1151478797852254, 5.0973398345662035, 4.289525391048426, 4.2666766869257815, 4.263715299819903, 4.265235715956593, 4.255043448863697, 3.4249115337082716, 4.195008014209849, 3.419272296559843, 3.4129107476011313, 3.419015926091149, 3.4012418961880977, 16.529536877888994, 3.390802390254956, 4.152308519584231, 3.366318439767879, 4.907724765901142, 3.326170093840087, 2.5599043314726937, 2.575507088421381, 8.463168590758526, 12.80877907399394, 9.216354436826867, 5.976526172875333, 5.912849501377609, 15.869500947299052, 6.203240765019913, 5.117555433625697, 11.01467616158203, 11.635720951859325, 10.071991675111345, 603.3904815021833, 727.6952339927197, 531.466970604811, 452.4533127254192, 422.0160317714707, 347.7915842747414, 260.1205289806524, 212.51445697824823, 33.42966811208428, 153.71726018407563, 192.5711703843944, 121.30998745635263, 130.59910362182072, 89.96838307388313, 17.35677475169835, 76.28574094438416, 87.7523267872815, 76.66551441360699, 64.76888731320301, 71.06648199891227, 81.71398999118192, 66.5250236540142, 38.64970141964861, 53.588442874067994, 45.297636509765184, 55.12612874648059, 40.04761858702705, 44.427333876192264, 46.94189944412699, 47.674632268796174, 46.77080194821141, 39.63040544116501, 9.282667255739836, 7.433938901704988, 6.485558749104141, 7.354074146057146, 8.189611834528773, 5.564825939179714, 5.558560406671901, 4.68496447184178, 4.680840623005897, 5.540067653925566, 4.626820397690341, 4.612132034757296, 3.7577327597404615, 3.729246467873932, 3.727679557238685, 6.227451895102436, 3.6906910976995686, 5.318644992679241, 2.834071223770085, 2.8249037626376365, 2.8188610496330315, 2.814751760026052, 2.8127056608569183, 2.8094376414765385, 5.266170577667188, 2.7933821880498537, 2.781041026019917, 2.7567840846479856, 2.753845230442799, 2.7645580798721165, 9.932658755021391, 5.966289291057687, 18.44393333078879, 3.745724560945432, 7.739265766108066, 5.611541651652425, 23.55853558347191, 10.944568208441167, 51.31172934010307, 4.801953573165166, 13.35452993828662, 5.337212018593313, 14.793103291791853, 22.328825129746207, 7.707671817382405, 46.90211786740995, 30.72494928709832, 75.52733769418954, 13.126859890817782, 642.9889710105643, 12.471106312943805, 368.3845407350412, 382.42503233013855, 390.53460891833896, 425.71878077812494, 390.548302189627, 233.23965052312445, 228.07763835705427, 30.7736522288146, 47.87407004461434, 50.02572320128663, 48.131149734466796, 158.99047977250214, 77.55847926015724, 88.84712973432077, 96.81096211110489, 75.59757985454924, 62.60145677519878, 98.42048191226047, 82.04457183929988, 72.05377745025974, 40.36849636065461, 59.07632394443562, 55.92819496099378, 56.724234516468755, 50.23439704209374, 45.79935376155722, 55.55884124994927, 51.43901329328394, 47.91881962817523, 49.210828389365965, 18.396979408189942, 5.86330657414665, 5.046130883691544, 5.047578571666809, 5.8165976198207, 5.019916474710308, 8.101683676945173, 4.2129575999093785, 4.209968893680916, 4.206172987415064, 4.204569986458201, 4.201761528781777, 4.1627095756931105, 3.378377949954392, 3.3771721370123964, 3.3766702196016807, 3.3695461271269456, 3.35966807900832, 3.359715456592156, 3.3585438410039066, 3.355332851976092, 3.331729553442369, 5.594092181447219, 18.316923403069588, 2.547463650742882, 2.5438998233933403, 2.542140262676357, 2.540806031546594, 2.540869795362434, 2.5425684420430565, 5.538028469759451, 3.2780995534295543, 8.288935562052885, 10.891539417821164, 8.81990219988633, 3.968162967564367, 10.052024306031212, 42.52278500936363, 8.383154258738346, 36.694031298953384, 34.92064772660765, 6.921743170392971, 10.86848826406147, 14.060970111495223, 23.705769479334652, 38.761318328513724, 9.083763994279577, 101.58847149884784, 7.402617809436617, 7.413178379740431, 18.148346122886895, 10.142648005904082, 31.526600264188698, 418.55367795324565, 543.0602242096819, 397.3286571840526, 223.28683365768978, 18.211199434183065, 57.48151117585843, 198.27292847928067, 31.15749682608573, 12.750675704465516, 238.20866657905117, 198.1775178623282, 59.13241122620242, 210.91286317808712, 149.45492930506725, 94.12598765945378, 69.16702622939724, 76.04696384728008, 49.35904120739439, 62.10261668628831, 53.53702310753719, 46.5471295982417, 52.900906731382214, 45.08476240888117, 40.768777087694716, 38.6635651928296, 35.58747617620638, 31.223435023667776, 4.842294336506686, 4.8190826562718145, 2.425534383873853, 2.423124959787018, 2.424771371615156, 2.425831576938881, 2.419997616249518, 2.412550591436561, 1.6417445127732033, 1.6379169723072655, 1.6392584309127143, 1.638362552170817, 1.6370163745505741, 1.6355873520039472, 1.6354703204370553, 1.6352851253231386, 1.6334626418096851, 1.6315585717737928, 1.635258698840292, 1.6230361359227745, 10.433624258559956, 1.623749021757659, 1.6154179681732872, 1.6105339975954598, 1.456148806933964, 1.4537044621376531, 3.2367120535680978, 2.641030186916032, 0.8408664599014077, 0.8401133575737786, 8.833644180250845, 9.184673443921348, 2.440291267469754, 4.73081484782047, 9.503028668625985, 14.501727934126013, 40.06682656878922, 2.414763075305992, 4.368805590261215, 4.820864975726021, 3.0013370336715934, 382.34615257265983, 246.66427410518222, 5.774313181302534, 215.24269941777067, 7.24515836357604, 2.317577587297881, 20.043374810023813, 154.25566566023704, 167.4160876752595, 121.86969045824702, 96.06606051685908, 74.5556887238258, 127.27819651888407, 13.361949534274318, 54.64097984463405, 37.38576508424244, 6.2126941353523675, 43.937536162595, 46.64898390773549, 41.073838318819824, 58.578267396493885, 30.392982148658884, 28.645991965742375, 21.70098643327346, 22.732451488764745, 21.621034158091163, 19.766551110186434, 20.08573100894308, 22.81101951960746, 22.08220564652225, 22.518631879777402, 20.353569704612628, 19.9716273285634, 18.951098642290773, 2.7406488102534583, 0.5131382469292199, 0.26224668310355115, 0.2619591984443053, 0.2617399328877221, 0.2614933229590114, 0.2616792590163727, 0.2614374712279749, 0.2615688603687373, 0.26141324706428515, 0.26048359514301006, 0.26055964313229846, 0.2601682271665428, 0.259477611577134, 0.2610653154579398, 0.2596219354001476, 0.25935546959956, 0.25960352617036464, 0.2597811794926001, 0.2600459149957813, 0.25945486242106935, 0.2574410515297859, 0.2576667276964322, 1.4917153768952909, 0.25571957580359245, 0.25549523281691505, 0.25615518526703973, 0.507890793840663, 0.26256247656298715, 0.25945523117297564, 0.7489493611609993, 2.897358612681723, 0.5123292052468312, 1.4821392870065138, 1.4629990207520855, 0.5075373025901923, 0.5073511679741123, 1.421345259266661, 2.128561265261541, 0.48847169441402105, 5.974378600287372, 7.050567309862265, 1.0536695412376458, 5.679277228589569, 5.440912365579112, 0.7532739700557817, 0.6817414329564173, 1.4753839790076273, 3.9839556568323458, 0.9813412942555814, 3.022631464133275, 2.655296245941417, 2.329675151085489, 1.7003480573573222, 0.5001243681147439, 1.244034365724456, 1.1772265049726616, 1.571660563253573, 1.358933828934781, 0.8323481076803566, 1.120233571882792, 1.0217159972057603, 0.924142824526255, 0.9165439823589766, 0.9309119181733303, 0.8588425917605402, 0.8399969866447647, 0.18184509994969847, 0.1815817118557318, 0.44075726938305304, 0.09321475138681029, 0.09312575234271768, 0.09304507081738192, 0.09305449574524527, 0.09303366211349322, 0.09291692207293382, 0.09283712488148887, 0.09291138502740125, 0.09292470580456738, 0.09288240915027612, 0.0928932362652096, 0.09289572196047026, 0.09284670914879202, 0.09268427055690193, 0.09265210789098106, 0.09256255912582119, 0.0924748108963309, 0.09227157344088355, 0.09245110118769072, 0.09220834755117636, 0.09206048851802671, 0.09165751907480729, 0.09182785293593879, 0.09318698648942754, 0.09274194346713256, 0.09202289237720915, 0.09158188064274075, 1.0314307715549484, 0.6227554467325541, 0.2695951937114315, 0.3447164099564179, 0.1410733878329689, 1.1010588562169679, 0.7519953476643014, 0.7783085990148267, 0.21951969950741476, 0.6962949959624464, 0.7255370336877948, 0.5866040684834185, 0.48683705625738194, 0.4332330379611306, 0.39340738783418794, 0.1861274429976178, 0.2613747286073631, 0.14967967745653574, 0.13144374065737488, 0.2318570973869604, 0.12898728418391017, 0.1485361939008537, 0.1390489165147087, 0.12208241313140891, 0.13163479661265057, 0.12547125230375486, 0.10555225283699178, 0.0003564074197619982, 0.00035561871434861236, 0.0003560301318852566, 0.0003549333976726487, 0.0003553821854631661, 0.00035513586584700024, 0.00035528127888282774, 0.0003552757285037931, 0.00035457696681029204, 0.0003539182298997677, 0.00035429603489256836, 0.000354334922020215, 0.00035425328663168026, 0.000354110700496976, 0.0003536876995606073, 0.00035522918805847134, 0.00035447430203535264, 0.0003543578130244325, 0.0003549472563830334, 0.0003561124912362741, 0.0003530805363583802, 0.00035353949409806047, 0.000354017343811101, 0.0003542616639118382, 0.0003540419240611117, 0.0003542027471555012, 0.0003537036956840364, 0.0003533960116288537, 0.0003554484797419466, 0.0003536796325500848, 0.0003540098973398495, 0.00035407357156393046, 0.0003540510597781563, 0.00035454845647823194, 0.07341761289420765, 0.04515093599258035, 0.04000095206233368, 0.03674082958302796, 0.03551232730367283, 0.026966681879172415, 0.02251233957097245, 0.019009045126478427, 0.01684023444973337, 0.012455590009266321, 0.010161043183282955, 0.00784956749439743, 0.008930317994361638, 0.006755700724811816, 0.007033793330626778, 0.00654345809165938, 0.0077698499859027974, 0.006704085647229805, 0.006360055365868691, 0.007784774920652614, 0.00502278385991936, 0.005467600199102624, 0.004589119576718498, 0.004989831294064944, 0.004817206645922692, 0.0035750820126962887, 0.0032849550819532432, 0.0032390153186457847, 0.003556116677804466, 0.003628265813555279, 0.003437212252246542, 0.00330794785461119, 0.0003613799252049218, 0.0003601446108457128, 0.00035901465687336327, 0.00035994667251264934, 0.0003591161928642315, 0.00035995377004034495, 0.0003634182593602508, 0.00035908442625969114, 0.00035835665403875143, 0.0003594595960610362, 0.0003590374309792214, 0.00035861609279383715, 0.000359342624670131, 0.00035848151539976476, 0.00035998843078239223, 0.0003584554681622024, 0.0003585736798977534, 0.0003598851376366091, 0.0003580977665479527, 0.00035858129423571805, 0.00035890450737801016, 0.00035853488467355336, 0.0003591007919182125, 0.00035927457798470017, 0.0003582901233301099, 0.000358350004413289, 0.0003592117338559782, 0.0003585022222645465, 0.0003595239217125296, 0.00035871252959005027, 0.0003597650653840894, 0.0003598878250500084, 0.0003590023223349409, 0.0003590511092243434, 0.0003601640773658487, 0.0003594244185087198, 0.00036060112658341345, 0.06047563273800395, 0.04774810903065977, 0.042160895537676366, 0.03427885040488172, 0.03228379848941713, 0.02256809618900164, 0.016515255110917174, 0.016061521604073176, 0.01204654472851299, 0.012361210793666729, 0.010033112559190089, 0.010836392827685665, 0.00782016626783928, 0.00728109870315516, 0.006241730132244066, 0.0053683770064306404, 0.005950709997418396, 0.005551607332683829, 0.004758374958348036, 0.004667638510494974, 0.004594673169463053, 0.00441306383584589, 0.0041181958762967165, 0.0038290723662505895, 0.0037587635678178887, 0.0036368437530401323, 0.003298926187155697, 0.003003314296451171, 0.003082742935616431, 0.0027026222297094754, 0.003484866253011805, 0.0034199711455099296, 0.0031387174844255106, 0.00037785317287816235, 0.0003773874930280368, 0.00037812197827126367, 0.0003788560858341579, 0.0003777021694142641, 0.00037751171552289443, 0.0003768741911214249, 0.00037707333166044494, 0.0003777552163337099, 0.0003773335877441986, 0.0003768156163352925, 0.00037656651898863906, 0.00037771765430790166, 0.0003770003363525214, 0.0003765299183309502, 0.0003775646937731889, 0.00037696617344970675, 0.0003780276611918347, 0.0003770205250830289, 0.0003766832565459956, 0.0003768516676397703, 0.00037659882782436625, 0.0003767364751383199, 0.0003769436156334764, 0.0003780634378197069, 0.000376990757005903, 0.00037699068833675165, 0.00037700545220429964, 0.000376717110437629, 0.00037735006834053135, 0.00037747102905069814, 0.0003775677152158499, 0.00037791500944898564, 0.00037718955419916605, 0.00037770598055216604, 0.00037950082049652295, 0.0003786865416993853, 0.0003780041763420606, 0.00037801890587503296, 0.0003783541143375247, 0.00037810209855193734, 0.00037804269973598826, 0.0003781511969951785, 0.00037816376344988213, 0.00037837783952932865, 0.0003784279336752649, 0.0003775101361324126, 0.03092105085570308, 0.0003790785395500735, 0.0003787828158496288, 0.019369354811313945, 0.013605473899469754, 0.017000896449856962, 0.015437166929316008, 0.016354761486156826, 0.011173099390608916, 0.013947423200538185, 0.009036011571713343, 0.007023795583170923, 0.006616185938253426, 0.005056613373460787, 0.0047875687370360605, 0.0043579237107919415, 0.00037854240515062566, 0.0032318573012875655, 0.0033128209775379557, 0.003155164296900186, 0.003139937599271809, 0.0027631546351180006, 0.0029195810392395353, 0.0029365634697305545, 0.00290021359178257, 0.002529108467741979, 0.002586306300050815, 0.0023348840906080278, 0.0020956127501647265, 0.0022936821877613967, 0.002151199741520345, 0.0019091284850984228, 0.001849467765005969, 0.0019308983914857855, 0.0003789671786754479, 0.0003789408102574125, 0.0003785482710342374, 0.00037815095940206897, 0.0003780228253706783, 0.0003787160606943141, 0.0003773598381932524, 0.00037772133959103164, 0.0003781684696796706, 0.00037804174333726356, 0.00037764947878510973, 0.00037743516672081697, 0.0003779049915025827, 0.00037740852363176043, 0.00037825560906114687, 0.00037680009298592066, 0.00037675192255557744, 0.0003764413726322311, 0.00037761462989929475, 0.00037662680990542, 0.00037781963748274427, 0.00037708969924390035, 0.00037727881024199783, 0.00037688400498289785, 0.00037672713349591396, 0.00037634994151604855, 0.00037672370010814895, 0.00037740852363176043, 0.00037800782146614514, 0.00037647714853274264, 0.00037698865464197575, 0.00037722995313410157, 0.0003772922691220367, 0.0003772780892305672, 0.02533320712751634, 0.025771116235302514, 0.028048259856315056, 0.01868540592767707, 0.016343723406154774, 0.01458878433065116, 0.010270532883985656, 0.009611398242303103, 0.008571767328370072, 0.007252137874107974, 0.006279937047853866, 0.0047532501403110185, 0.004677177803621001, 0.0037729882689266792, 0.003988432527168805, 0.0032222297480666707, 0.00317266316492263, 0.0027677368280333964, 0.002822694653981587, 0.0029794548992018986, 0.0026266407964812043, 0.0026326744948039454, 0.0026596035163935945, 0.0027233645485713037, 0.0028188127284389415, 0.0022786677705091928, 0.002412796222266558, 0.002030372308789285, 0.0024416787041589946, 0.002061450922831741, 0.0023192125092908384, 0.00037988269591249723, 0.00037828700435442203, 0.0003789347766486782, 0.0003790204299357718, 0.0003791781761699181, 0.0003787519008729878, 0.0003784274482812757, 0.0003782553864476432, 0.00037887747992075864, 0.0003782050587046054, 0.0003783032424324963, 0.0003791255483185696, 0.000379064887253121, 0.00037816829130160856, 0.0003792990176811684, 0.0003790766281044981, 0.00037907302345714547, 0.0003786756539989858, 0.0003780711374729613, 0.0003788490890316098, 0.00037807625263920456, 0.00037933664333353496, 0.0003780168274528482, 0.0003790499193841138, 0.00037887116320539784, 0.00037810028362155547, 0.00037905671671912167, 0.00037922520823537633, 0.0003775859862692712, 0.00037862820997383015, 0.0003785742089234902, 0.0003787958432407151, 0.0003793717972277169, 0.0003790957499004545, 0.0003787435930190893, 0.022599797010975944, 0.02580483027438122, 0.02065765421334518, 0.01711647611809498, 0.014999674492899016, 0.012216932876149805, 0.015023678011270096, 0.008110290111714201, 0.00689790865124433, 0.005778367526749667, 0.006845671612328813, 0.00490626862132585, 0.0035468169995888153, 0.0030877612456134402, 0.003273022542591862, 0.002969923744476915, 0.002847529419807061, 0.002970645223227039, 0.002829129926520213, 0.002654755351146249, 0.002647921214405449, 0.0025552324795988985, 0.002344421716824788, 0.0023546152475783467, 0.002096475945683767, 0.0020860177994845505, 0.0018785035382093882, 0.0018462129012446224, 0.001996464764575046, 0.0017396393394755148, 0.0019880003659915597, 0.0018557792920187717, 0.0003806575410523147, 0.0003806236691565793, 0.0003799238442500537, 0.0003791322429620669, 0.00038009107816442355, 0.0003788606506968684, 0.0003812312377155097, 0.0003789406336247538, 0.0003794125774675614, 0.00037859042976348114, 0.0003788013748793314, 0.0003793107903638787, 0.00037862944415350836, 0.00037888046644153953, 0.00037915922391545124, 0.0003784490111704562, 0.000378744876008712, 0.0003801053742985548, 0.00037850622999027647, 0.0003787185464379379, 0.00037889284271113517, 0.00037899528119742816, 0.0003790590138433514, 0.00037934575932506307, 0.0003783246313751848, 0.0003788053517415838, 0.0003790805094694912, 0.0003786726753888549, 0.0003786098683919042, 0.0003783643657144129, 0.00037872530024710783, 0.0003806470160806641, 0.0003798348790988053, 0.00038090393509548323, 0.0003791539785712736, 0.0003789645290815631, 0.0003791786625438743, 0.000379701654213352, 0.0003793329716559241, 0.024140155063555074, 0.019053110847789496, 0.017934751358505235, 0.018882712448132232, 0.00037965266338439865, 0.014162162692756698, 0.01169179510313884, 0.009886243690239688, 0.009324852261652533, 0.008008954619102884, 0.005806188170580286, 0.005309832427403325, 0.004387832294559586, 0.004564345737029132, 0.0042773056932444466, 0.003662511038468368, 0.0035837236376559537, 0.003317804846426614, 0.002825779494842905, 0.0032515887185933824, 0.0026351342037930865, 0.0025134520924605967, 0.002213057333833018, 0.0022035860935461235, 0.002358560164391104, 0.0022145818434074747, 0.0019814451505232402, 0.0019277771201615824, 0.0017757728054868301, 0.0017265978066712273, 0.0019089278901509514, 0.0019623115062949764, 0.0018061818141327389, 0.00038268473020223586, 0.00038190512606242855, 0.0003817998723084737, 0.0003819335980251683, 0.0003816667633129937, 0.0003818028873899672, 0.0003817932596865618, 0.00038195765015253683, 0.00038173974199005227, 0.0003817098310111452, 0.0003824630531878844, 0.0003810634729159766, 0.00038153708054648364, 0.0003816144790589133, 0.00038385447903484384, 0.000382101894392169, 0.00038138060466942907, 0.00038233796156819395, 0.0003813622058198608, 0.0003815761395567403, 0.0003813819408987273, 0.0003811525891314833, 0.0003817773619841416, 0.00038229324928013697, 0.00038134123729856507, 0.00038174042723584624, 0.00038131571189273944, 0.0003817588946099939, 0.00038152080595887667, 0.00038205762751387804, 0.00038259462038032794, 0.0003829332345894215, 0.00038183149640186575, 0.0003819126637661623, 0.00038239356926437514, 0.0003823296015695074, 0.00038352374515238097, 0.0003821541443839597, 0.0003824515753208353, 0.00038228156583934965, 0.026395810515108926, 0.019035327789586293, 0.014053440661497402, 0.012750744551416816, 0.008983105843698437, 0.010427119919772528, 0.008460282489776422, 0.008203753874343292, 0.008534378939774078, 0.006106329427487358, 0.0045982785837695075, 0.0036069992772195885, 0.002985694042377142, 0.003217303557463149, 0.002770146140505314, 0.0028357581511802687, 0.0027811676338556357, 0.0026289737207184504, 0.0025215238910430873, 0.0024531237522816, 0.0026326044270332566, 0.0019758532089074574, 0.0020195273495865647, 0.0019448965449187646, 0.001880701485496595, 0.0019348001333903114, 0.0017696686426136867, 0.001800247325022422, 0.0015165411761543807, 0.00160365907787666, 0.00038866520303048544, 0.0003878774943013011, 0.00038871180737014136, 0.0003881000572771579, 0.0003875132105264906, 0.0003876469935980029, 0.0003891131565846782, 0.00038786666083638106, 0.0003887347688649718, 0.0003874869785516843, 0.00038748633126918904, 0.00038756673056859547, 0.0003871722629890078, 0.00038795097789825854, 0.0003879481162282797, 0.00038782925472165725, 0.00038751014445151323, 0.00038686408838628305, 0.0003879267899734371, 0.00038731176940047784, 0.00038866278423800327, 0.00038748295858671394, 0.00038714671236419644, 0.00038746425552935203, 0.00038759224712590706, 0.00038830248636066337, 0.00038849844261921665, 0.0003871588403941069, 0.00038801379836779477, 0.0003870841644346582, 0.00038843667824217264, 0.00038896816530574864, 0.00038774119023480744, 0.000387941847808326, 0.0003880375093476197, 0.0003881162734070382, 0.0003879836145630176, 0.00038824126706361536, 0.0003889132484961541, 0.00038839368505749007, 0.00038867957951537927, 0.00038900090417300694, 0.012192839921980283, 0.014265929588754665, 0.00917034736077534, 0.009199508050400047, 0.0003889295327610339, 0.006251538826244899, 0.005067686669025278, 0.0044200561402267325, 0.004131024746960651, 0.00397727430503579, 0.0028171674676808573, 0.0025784096200636058, 0.0027035103848599873, 0.0023039596617698698, 0.0021092123906476883, 0.0018611512539291233, 0.0015891508851373017, 0.0015827884388842756, 0.0015491692674324859, 0.0014103014171777469, 0.0013186508490344029, 0.0013886425272676545, 0.0013242670807729383, 0.0012997545608139142, 0.0011290254902294066, 0.001198720031729852, 0.0012002976295082046, 0.0011935318240581564, 0.0011013427168787885, 0.0011003976163007662, 0.0010247741034140946, 0.0003862616140889376, 0.00038613284286061786, 0.0003852382199123834, 0.00038594149850451425, 0.00038582109520394906, 0.00038601762293230546, 0.0003858465716479628, 0.00038590555368124476, 0.00038615493147962985, 0.00038577956046942656, 0.00038525753051489386, 0.0003852740292226528, 0.0003850318336132716, 0.0003855096524515304, 0.0003854527708697496, 0.0003852809403856565, 0.0003850756381905453, 0.0003858472492129632, 0.0003857058413973866, 0.000385710313326389, 0.0003849324687059678, 0.00038598486266453775, 0.000385056666370535, 0.00038516338285809283, 0.0003848283269654114, 0.00038576936311617103, 0.00038527179325815157, 0.00038502211055551635, 0.00038496234932248395, 0.0003853562517354473, 0.00038594759658951757, 0.0003856891055418776, 0.0003860163355588048, 0.00038575682816366423, 0.00038584714757821314, 0.00038571397217739104, 0.00038598421897778737, 0.0003856046470645818, 0.0003855918749643249, 0.00038574408994165735, 0.0003860217222005577, 0.0003861656708848857, 0.00038587387751747764, 0.00038569906574738294, 0.00038609842255859925, 0.01203948337129622, 0.01329370713986347, 0.010446806670161674, 0.00605992020606587, 0.006929525557304822, 0.004522806816247415, 0.004880641631163208, 0.00508056341811948, 0.004094798762451619, 0.0029930588290089503, 0.0026299335865702924, 0.002441748309524377, 0.0022347508467822734, 0.0019477531489338442, 0.0016592805275926163, 0.001671151466399045, 0.0015740803876474743, 0.0015799037877996282, 0.0014592477554892845, 0.0015767177416549027, 0.0014638088520457545, 0.0013733569057827685, 0.0013745850601024337, 0.0012255793016377368, 0.001103307615584018, 0.0011557414574329147, 0.0011045079897386682, 0.0011754183515825711, 0.0010582521855631174, 0.0009844003107831215, 0.0010518579368981546, 0.0003537291084125494, 0.0003539206189023165, 0.0003539157893752947, 0.00035371972272795973, 0.0003538442273270962, 0.0003539321915425388, 0.00035388994077469325, 0.00035386427442039457, 0.00035388562761219574, 0.0003538781251394007, 0.0003537322673484631, 0.00035371972272795973, 0.00035371972272795973, 0.00035393437849817137, 0.00035382284376091124, 0.00035371972272795973, 0.00035384222261776633, 0.00035372819718103586, 0.0003537275289445926, 0.00035400144513756955, 0.00035371972272795973, 0.00035373357344696587, 0.00035387727465665473, 0.00035371972272795973, 0.00035371972272795973, 0.00035371972272795973, 0.00035371972272795973, 0.0003537534079195778, 0.00035371972272795973, 0.000353848783484664, 0.00035406699305777853, 0.00035388732857768773, 0.00035406924076217863, 0.0003538658842627352, 0.00035386451741546487, 0.00035410070862378036, 0.0003540289339548954, 0.0003539150907644676, 0.0003540090387335159, 0.00035410031375679115, 0.0003540657173336595, 0.0003540432402896583, 0.0003540413570778636, 0.0003539259951682466, 0.00035408306110680103, 0.00035408278773734695, 0.00035400296385675885, 0.00035403923087099865, 0.0003539715263695409, 0.001654131837112899, 0.0003539869565565039, 0.00035402938957065217, 0.0013557683961048334, 0.0011209406331287046, 0.0003542049838833157, 0.0010078456245223228, 0.0008688214624487425, 0.0009019072459771606, 0.0003541341204459443, 0.0008795068061718507, 0.00035408609854517954, 0.0003540635000036432, 0.0006436993478211066, 0.000578080047810257, 0.0005891727120199278, 0.00035424122052317176, 0.0003541365200222634, 0.0005396549336025012, 0.000547993856178185, 0.0005473870974876873, 0.0005385785869386808, 0.0005243090051801245, 0.0004905179284602087, 0.000478724253847154, 0.0004720841705565891, 0.0004669358947512617, 0.00045495754388479167, 0.00045357578279200874, 0.0004473427769929362, 0.0004429673470086453, 0.0004389559540140227, 0.00044179231397190597, 0.000439937471851665, 0.00043153752713895625, 0.00043177329310589875, 0.00042367557351185496, 0.00042443994487981527, 0.00042584002172602075], \"Total\": [28585.0, 19528.0, 18221.0, 16232.0, 15236.0, 12704.0, 8200.0, 8387.0, 8481.0, 5021.0, 4262.0, 3823.0, 3320.0, 3286.0, 1978.0, 2320.0, 2349.0, 2406.0, 2243.0, 2044.0, 2161.0, 2221.0, 1926.0, 1693.0, 1649.0, 1535.0, 1506.0, 1465.0, 1280.0, 1445.0, 37.142937834103066, 23.86530300967529, 25.90002303342014, 22.833091406235145, 21.814791287607044, 42.24613223766856, 23.86406004961986, 18.752407710325024, 18.747256074230567, 23.867469695518068, 20.793622525695707, 18.737318121875557, 31.003953361868756, 15.687023941693816, 21.804982907672283, 15.692501837224716, 18.739866046147178, 23.84595171438267, 15.675683816936154, 19.76072288678412, 14.670586159591585, 40.14299509774633, 30.988600087937204, 19.75824387553833, 14.654971253403584, 16.696074696886892, 17.705091916960917, 14.660982950266678, 19.737136974021634, 15.667765771432968, 87.97829093474083, 82.91162187271641, 110.36455735910162, 82.87604279951272, 36.04786974580514, 82.89587611650829, 82.89169017693759, 54.408495185420115, 43.080431207024084, 88.8532132415194, 43.208649871466754, 83.6288735833843, 83.60981219345894, 178.106079097739, 94.89922689632319, 87.85483971813589, 85.75076977668485, 56.262392372653956, 43.16525081078115, 18221.030459262885, 44.116669869888305, 36.94545157339303, 28585.22890892743, 578.824738804214, 528.5371640426664, 119.57211922094051, 120.7239073952008, 115.65720951086891, 167.03793537339814, 3823.1715061055074, 19528.093312621953, 15236.792348141518, 16232.509556037543, 5021.152973890608, 8200.464637884066, 4262.964488937334, 1020.5131225458397, 8387.923869042923, 8481.265129812215, 1978.8335505083583, 3320.530914243015, 2349.9010979302666, 12704.200473336012, 638.0474928480932, 427.89463169572343, 2243.2403399650466, 787.6605875585266, 369.59600080382137, 2320.337515975527, 858.165686304458, 1649.0482942499398, 580.6203184232016, 2406.6319879510406, 1506.5225477695788, 2161.1684280707686, 1693.584049922275, 3286.3619118583924, 1926.3965584832763, 2221.610667695255, 2044.5343250758142, 1535.9166303153254, 1139.3219815544319, 1465.3865691023163, 1280.2555796402237, 1445.685469785972, 20.889686225717693, 21.87525926248345, 20.909680832063213, 20.874687132382036, 16.992085157643515, 16.012319898783883, 14.066472098220359, 24.811336870722347, 16.981678968252695, 13.092629020439318, 57.06533545002704, 15.031551945808816, 15.038795876698153, 13.095687131417845, 15.032878857308855, 13.087250101221025, 13.068733230055205, 12.109219649886192, 15.022237918385853, 13.064649674024283, 21.81048584525841, 11.116727414782728, 11.12055300150176, 11.11513618287161, 10.145565940673192, 10.149829499032123, 10.123044481970748, 12.076445814981017, 9.175807765734167, 10.152608480824602, 12.086700998033733, 29.66010137387848, 23.804729319601286, 30.585500129629377, 15.031805536993954, 15.02437183183777, 65.54556254298052, 31.713053858513685, 22.648205992276203, 83.81551535630874, 107.04156158715973, 183.6609495533061, 28.841775267242394, 141.57532778209506, 34.21170466965816, 199.20142395251386, 115.98189179969337, 37.353998466006075, 37.72660264375652, 291.04723173752484, 148.03723094163686, 673.3819217068692, 28585.22890892743, 12704.200473336012, 771.9840308405591, 16232.509556037543, 8481.265129812215, 19528.093312621953, 15236.792348141518, 8387.923869042923, 1119.4056686450765, 1465.3865691023163, 237.8171898352296, 364.97421168863013, 18221.030459262885, 3286.3619118583924, 8200.464637884066, 2044.5343250758142, 1020.33875356995, 1445.685469785972, 662.1207217311293, 5021.152973890608, 2406.6319879510406, 2161.1684280707686, 2243.2403399650466, 3320.530914243015, 1926.3965584832763, 2221.610667695255, 1186.8840862035756, 2320.337515975527, 2349.9010979302666, 3823.1715061055074, 4262.964488937334, 1280.2555796402237, 1693.584049922275, 13.764104074759102, 11.853752341145446, 12.797562575210081, 11.845562773374544, 11.834377584871458, 9.940955957859012, 12.808956393177125, 10.88198440357312, 8.983253934519105, 8.9786843929529, 11.861179150197081, 7.07423080665194, 14.710055100700346, 7.061599262193063, 7.064609580455208, 6.117290822718011, 7.063887494879659, 6.114169546015749, 6.113560835422564, 6.1137592345899385, 6.112110478834301, 6.1080484357694855, 12.790159823045522, 6.114968791155968, 6.102562729349954, 5.16000091683096, 11.857659853826757, 7.067821375064319, 5.1555388374216955, 6.1176723249322, 26.341358839265563, 28.03397341136967, 9.93503353730892, 14.053445607507845, 11.846769049303807, 43.875123797656805, 10.856971538737929, 23.608913258063783, 9.757037296047262, 34.06926454417522, 27.483238733180755, 154.82878123051512, 34.233116608638824, 45.878651246514, 11.867942470293308, 26.26832176315954, 14.874308383760754, 19528.093312621953, 28585.22890892743, 15236.792348141518, 12704.200473336012, 16232.509556037543, 8200.464637884066, 375.6489847433558, 18221.030459262885, 250.6236065080484, 8387.923869042923, 2221.610667695255, 347.3619637045397, 4262.964488937334, 8481.265129812215, 5021.152973890608, 293.58424170696526, 3286.3619118583924, 3823.1715061055074, 1649.0482942499398, 2320.337515975527, 2044.5343250758142, 3320.530914243015, 233.68456373366334, 2161.1684280707686, 1139.3219815544319, 1020.33875356995, 1535.9166303153254, 2406.6319879510406, 1445.685469785972, 1926.3965584832763, 2349.9010979302666, 2243.2403399650466, 1978.8335505083583, 1693.584049922275, 1506.5225477695788, 10.560537262410355, 9.65148377520084, 10.58419281536793, 5.00791539608215, 13.390190423477076, 5.015115966318373, 5.941850973114859, 4.089150399273586, 4.090239066476947, 4.078581248427039, 4.090477807313348, 4.0906689878789395, 6.858525767302314, 12.301825982588594, 4.888042753387605, 4.083757661699801, 3.1628216450754696, 3.1600144492728335, 3.1592051127847225, 3.1548467907949114, 3.1640829752001474, 5.928891747225712, 3.1644447491118473, 17.99293087376508, 3.161433295276582, 3.1584382538961284, 3.154162594572911, 3.1643122601950067, 3.1614477693485763, 3.115735656880242, 16.188913809484266, 10.616757094564713, 22.96328677091884, 11.581628427811227, 5.926054675294427, 9.726098370425893, 6.888321384076457, 8.482653809959864, 5.951336700931776, 20.39415142832175, 9.846116876673813, 5.9581611406664745, 37.03077331630042, 18221.030459262885, 19528.093312621953, 47.6614674962099, 16232.509556037543, 12.868117013496757, 12704.200473336012, 1978.8335505083583, 28585.22890892743, 15236.792348141518, 4262.964488937334, 8200.464637884066, 8387.923869042923, 5021.152973890608, 3320.530914243015, 3286.3619118583924, 481.0031975626624, 8481.265129812215, 911.9678824090674, 2406.6319879510406, 3823.1715061055074, 918.7601753184097, 1926.3965584832763, 2221.610667695255, 1506.5225477695788, 2243.2403399650466, 1186.8840862035756, 1535.9166303153254, 2161.1684280707686, 2320.337515975527, 2044.5343250758142, 1280.2555796402237, 1693.584049922275, 944.091121953305, 2349.9010979302666, 13.204725833480824, 10.64573944510802, 8.936892892147805, 8.07782252692971, 8.088809495909874, 8.080856418025363, 12.382894849374583, 6.369757991769913, 7.231895949054845, 6.371368460601115, 5.516395810686045, 5.519259169068216, 4.66145942605935, 4.656903248139359, 4.654002556893385, 4.65885613470705, 4.663299982481329, 3.797387286584274, 4.651881459307488, 3.8021757801594083, 3.7984692206150776, 3.805753088364617, 3.793341865687411, 18.49805929679611, 3.809340261860872, 4.670640117169942, 3.797634098919852, 5.542805894729862, 3.79887208978269, 2.926383609709649, 2.94431348775021, 9.8754041261649, 15.194076471909097, 11.778548593085535, 7.341070422561447, 7.296603349835919, 23.665812933660153, 8.324709512573298, 6.493841654171518, 18.23603997380301, 21.77472035355482, 19.687618368917168, 18221.030459262885, 28585.22890892743, 19528.093312621953, 16232.509556037543, 15236.792348141518, 12704.200473336012, 8200.464637884066, 8481.265129812215, 229.16023539954062, 5021.152973890608, 8387.923869042923, 3286.3619118583924, 4262.964488937334, 1978.8335505083583, 63.945580424969584, 2044.5343250758142, 3320.530914243015, 2406.6319879510406, 1649.0482942499398, 2221.610667695255, 3823.1715061055074, 2243.2403399650466, 545.4327272949732, 1693.584049922275, 1186.8840862035756, 2320.337515975527, 918.7601753184097, 1506.5225477695788, 1926.3965584832763, 2161.1684280707686, 2349.9010979302666, 1445.685469785972, 9.72022438838628, 7.852181206005234, 6.9256767593418935, 7.855799432846501, 8.78420099031943, 5.991820741381315, 5.990207258495875, 5.052115560609396, 5.050875443499751, 5.988843919682434, 5.05771839634719, 5.051820044540352, 4.11726294758991, 4.115160414886969, 4.117757705308947, 6.913411974034064, 4.118054862123771, 5.978541592909118, 3.187132262339098, 3.1843257526984647, 3.181958315145799, 3.181709988529467, 3.1821085115895884, 3.1862472710674363, 5.984173248854388, 3.1829856334279927, 3.1832362139140487, 3.167378970209298, 3.171533262796219, 3.1846875423738226, 11.589165985000607, 6.938945733572068, 23.210824986766045, 4.379875814658766, 9.764091625956464, 6.9421940254243335, 36.36111947388675, 15.403935156086913, 96.74946103989615, 5.995867976016832, 20.966863426553108, 6.937304429473782, 27.79115256356043, 49.84454043137553, 11.60564970746939, 158.40766296379692, 93.46294414751415, 375.6489847433558, 30.50759232317572, 28585.22890892743, 28.685913190979157, 12704.200473336012, 15236.792348141518, 16232.509556037543, 19528.093312621953, 18221.030459262885, 8387.923869042923, 8481.265129812215, 172.14747186887524, 438.73132337350046, 509.2382696127302, 533.6669412717001, 8200.464637884066, 2221.610667695255, 3320.530914243015, 4262.964488937334, 2320.337515975527, 1465.3865691023163, 5021.152973890608, 3286.3619118583924, 2406.6319879510406, 504.75670344637695, 2161.1684280707686, 1926.3965584832763, 2243.2403399650466, 1445.685469785972, 1119.4056686450765, 3823.1715061055074, 2349.9010979302666, 1535.9166303153254, 2044.5343250758142, 18.833678617935096, 6.258298588505513, 5.415257910739899, 5.418703699468637, 6.258605006816906, 5.420603044839672, 8.781475112870783, 4.582161616307339, 4.580001069438437, 4.577850316671265, 4.579212930453611, 4.576439047660815, 4.576383055660643, 3.7393058137336386, 3.738909565748389, 3.7410304152079292, 3.737918507768642, 3.7396523983639063, 3.7419072536524687, 3.7418223953272842, 3.7428509862436683, 3.730532317851393, 6.309499898138957, 20.74755623537677, 2.9011180509123524, 2.900694096705509, 2.9007253508970328, 2.9002743395885906, 2.900367974796524, 2.9027623861161715, 6.327472046073866, 3.748946467969837, 9.715194158501484, 13.201133028009036, 10.67359692957271, 4.618709754837387, 12.322316374371864, 61.24731508448111, 10.697931606705003, 59.07756162557994, 63.43127623291164, 9.058238896377281, 16.277264116609434, 23.17576855011019, 48.50810530577322, 96.74946103989615, 14.146759585424617, 438.73132337350046, 10.73984088557087, 10.880272862325684, 49.84828028051786, 19.499565391713013, 141.18781610837522, 16232.509556037543, 28585.22890892743, 19528.093312621953, 8200.464637884066, 64.77258173298931, 646.4178130589086, 8481.265129812215, 201.2491538660281, 32.08160081191707, 15236.792348141518, 12704.200473336012, 951.2439572243347, 18221.030459262885, 8387.923869042923, 4262.964488937334, 2161.1684280707686, 5021.152973890608, 1535.9166303153254, 3286.3619118583924, 3320.530914243015, 2320.337515975527, 3823.1715061055074, 2349.9010979302666, 2243.2403399650466, 2221.610667695255, 1926.3965584832763, 1693.584049922275, 5.235262953530058, 5.2376831437877245, 2.805846990298788, 2.805158080291931, 2.8076161154435155, 2.811950677583309, 2.809808099760804, 2.810038665806739, 2.0004576110956687, 1.998931484296531, 2.001046315616016, 2.0014019942812515, 2.00016775719226, 1.999463677454146, 1.999919755053116, 1.9999539603602956, 1.9983876917167982, 1.99611086372319, 2.0010452429791523, 1.9899789952790459, 12.802130603628793, 1.9924624707782146, 1.997769148302323, 1.999308503984812, 2.0308722171207747, 2.0320015726831264, 4.55604664634194, 3.7261943350940077, 1.1927793231827266, 1.1925700279236178, 13.265351073017255, 14.177837389387726, 3.731927556865906, 8.224849586112484, 20.060230097058206, 41.266598230134875, 250.6236065080484, 3.696458172658423, 9.391662751295115, 12.677387746912542, 5.685478844605399, 28585.22890892743, 18221.030459262885, 20.222326525343718, 19528.093312621953, 32.64871037803329, 3.809889531804381, 229.64505978387348, 12704.200473336012, 15236.792348141518, 8200.464637884066, 8387.923869042923, 5021.152973890608, 16232.509556037543, 147.9324428923458, 4262.964488937334, 2044.5343250758142, 27.0265883029698, 3286.3619118583924, 3823.1715061055074, 3320.530914243015, 8481.265129812215, 1649.0482942499398, 1693.584049922275, 787.6605875585266, 1020.5131225458397, 944.7771956957309, 715.1430885089393, 825.0346910770862, 1535.9166303153254, 1926.3965584832763, 2161.1684280707686, 1506.5225477695788, 2349.9010979302666, 2320.337515975527, 3.2953340125581696, 0.9020553713130361, 0.6424237135255509, 0.6429128229067146, 0.6427866682583003, 0.6423338537549887, 0.6429072578081202, 0.6425562823428106, 0.6431206029369317, 0.6429945534027757, 0.6410501392161423, 0.6415017931898472, 0.6416286463086762, 0.6401516869684291, 0.6441605275996377, 0.6410306825747366, 0.640798388072437, 0.6415708036991061, 0.6421099967394428, 0.643109641702154, 0.6420204664663549, 0.6391338335538402, 0.6423188865100298, 3.742446220347304, 0.6514184781546484, 0.651040739665879, 0.6970733378367895, 1.8749082798437533, 1.0760473689381584, 1.2720293958679203, 3.922452196842132, 31.571091654724665, 2.7905846014529447, 44.86666185076931, 49.84828028051786, 3.7733672940401735, 3.9243516391539184, 92.68926872476493, 438.73132337350046, 4.8651441729927365, 16232.509556037543, 28585.22890892743, 63.43127623291164, 19528.093312621953, 18221.030459262885, 24.627278680518437, 21.60395652577796, 378.10761823015304, 15236.792348141518, 85.6794912555982, 8200.464637884066, 12704.200473336012, 8387.923869042923, 3320.530914243015, 16.03831684627435, 1978.8335505083583, 1693.584049922275, 8481.265129812215, 5021.152973890608, 259.56060905098406, 4262.964488937334, 1926.3965584832763, 1535.9166303153254, 1506.5225477695788, 2320.337515975527, 787.753731044476, 918.7601753184097, 0.5802765004314595, 0.5822833702213552, 1.9070796746455216, 0.480988830649995, 0.4811641879605712, 0.48120376485638733, 0.48164784139868244, 0.4818311361744427, 0.4813619721974938, 0.48162563944349546, 0.4820657878806255, 0.4822240701514441, 0.48234442529515337, 0.48262089194524616, 0.48298461030411216, 0.4827734227637063, 0.4835956883930289, 0.48375914022317357, 0.4840072631476103, 0.48486911924678094, 0.48515593245190736, 0.48651926366336534, 0.48736490797985454, 0.48702682075626497, 0.48767348835499147, 1.3705990017071654, 1.4085142040045504, 1.4323012488664604, 1.421547926616237, 1.4530841309369378, 26.14971928807014, 19.760178673833174, 6.764217679861237, 23.447452841927216, 4.887051317772648, 28585.22890892743, 15236.792348141518, 19528.093312621953, 37.18660723847837, 12704.200473336012, 16232.509556037543, 18221.030459262885, 8200.464637884066, 8387.923869042923, 8481.265129812215, 183.6609495533061, 5021.152973890608, 41.3174040432574, 12.993504010114693, 4262.964488937334, 112.98959567980592, 3286.3619118583924, 3320.530914243015, 168.50007141819913, 2349.9010979302666, 2406.6319879510406, 20.726708119742497, 0.3948759643349057, 0.39407326962436046, 0.3945697483495955, 0.3938649248421759, 0.3947022707831026, 0.3947514463535314, 0.3949779960840446, 0.39524776417091495, 0.3947802749089963, 0.39410617398823233, 0.3945898451488153, 0.39464287979677115, 0.3946015064221304, 0.39450317554222375, 0.3940447963173587, 0.39582766506992434, 0.3950182641540395, 0.3949760690787785, 0.3956469743110338, 0.3969569709987111, 0.3936566554380827, 0.394256515347441, 0.39479813064406777, 0.3951448944549321, 0.39495488194039413, 0.3951827303771275, 0.39468747934789533, 0.3943647283924468, 0.39665804617597744, 0.3946935019656928, 0.39511894512945667, 0.3953888736035829, 0.3953607255958789, 0.39644324125045777, 28585.22890892743, 19528.093312621953, 18221.030459262885, 15236.792348141518, 16232.509556037543, 12704.200473336012, 8481.265129812215, 8200.464637884066, 8387.923869042923, 5021.152973890608, 4262.964488937334, 2221.610667695255, 3286.3619118583924, 2044.5343250758142, 2320.337515975527, 1926.3965584832763, 3320.530914243015, 2243.2403399650466, 1978.8335505083583, 3823.1715061055074, 1280.2555796402237, 2349.9010979302666, 1535.9166303153254, 2161.1684280707686, 2406.6319879510406, 918.7601753184097, 846.7035487578955, 911.9678824090674, 1465.3865691023163, 1693.584049922275, 1649.0482942499398, 1445.685469785972, 0.3943210932351498, 0.3946935019656928, 0.3938649248421759, 0.39490364501679387, 0.3940447963173587, 0.3949760690787785, 0.3991086827835675, 0.3943647283924468, 0.3936566554380827, 0.39514443407822175, 0.39468747934789533, 0.3942843706742634, 0.3950950649202676, 0.3941865884005168, 0.3959933994571375, 0.39433410589709106, 0.3945898451488153, 0.3960426360917783, 0.39410617398823233, 0.3947022707831026, 0.39509175207451996, 0.3947071370493086, 0.39544398291854727, 0.39568327348908033, 0.3945993838163712, 0.3946903319466142, 0.395661565096497, 0.3948958276571391, 0.396032313432099, 0.39515092174543076, 0.3964484302340629, 0.3967909288212197, 0.3956496142619284, 0.3958116675403806, 0.3978340863400147, 0.3965450029099877, 0.39925430314539095, 28585.22890892743, 19528.093312621953, 18221.030459262885, 16232.509556037543, 15236.792348141518, 12704.200473336012, 8481.265129812215, 8387.923869042923, 4262.964488937334, 5021.152973890608, 3823.1715061055074, 8200.464637884066, 3320.530914243015, 3286.3619118583924, 2349.9010979302666, 1649.0482942499398, 2406.6319879510406, 2243.2403399650466, 1926.3965584832763, 2044.5343250758142, 2161.1684280707686, 1978.8335505083583, 1693.584049922275, 1465.3865691023163, 1445.685469785972, 1506.5225477695788, 1280.2555796402237, 1003.3348636102037, 1119.4056686450765, 858.165686304458, 2320.337515975527, 2221.610667695255, 1535.9166303153254, 0.39451945408381306, 0.39407326962436046, 0.39499493937972924, 0.3958454903953225, 0.39474317876132586, 0.39460479600083714, 0.3940044133444153, 0.394256515347441, 0.3950273568053719, 0.39463798726133686, 0.3941191367971235, 0.39389147951962195, 0.39513603281525106, 0.39440203874413854, 0.39391630989438375, 0.3950182641540395, 0.3944226122324767, 0.3955376784792127, 0.39450317554222375, 0.3941694333095666, 0.3943647283924468, 0.394104860563999, 0.3942537113724199, 0.39448412521298765, 0.3957109242573068, 0.39459488150549366, 0.3946015064221304, 0.3946415560361813, 0.3943494590902191, 0.3950161324763758, 0.39515210963876957, 0.3952870093919538, 0.39586940034568174, 0.3949145125026069, 0.3956835109129316, 0.39852282900115127, 0.39730660456417144, 0.3962619258067133, 0.3964279246834003, 0.39704037150944355, 0.3966185865567595, 0.39651067399639667, 0.3968950884180805, 0.3969569709987111, 0.39743207814970466, 0.3977750395984139, 0.39561553511822534, 28585.22890892743, 0.3998275643197186, 0.3990619787097683, 18221.030459262885, 8200.464637884066, 16232.509556037543, 12704.200473336012, 15236.792348141518, 8481.265129812215, 19528.093312621953, 8387.923869042923, 4262.964488937334, 5021.152973890608, 3823.1715061055074, 3286.3619118583924, 3320.530914243015, 0.39849379478583075, 2161.1684280707686, 2406.6319879510406, 2243.2403399650466, 2349.9010979302666, 1535.9166303153254, 1978.8335505083583, 2221.610667695255, 2320.337515975527, 1693.584049922275, 2044.5343250758142, 1506.5225477695788, 992.3166962196482, 1926.3965584832763, 1649.0482942499398, 1119.4056686450765, 1020.33875356995, 1280.2555796402237, 0.3943385057335268, 0.39491933115705763, 0.39464048462561535, 0.3942843706742634, 0.3946274114853971, 0.3954173548970816, 0.3941146645252968, 0.39454488364411094, 0.395124520002136, 0.3950238094448444, 0.39465101573438405, 0.39451521121888095, 0.3950601745624968, 0.39472987189141334, 0.3956446059985762, 0.3941394604975174, 0.3941694333095666, 0.39389147951962195, 0.3951331136870676, 0.394104860563999, 0.39542678564062395, 0.39467452953725934, 0.39487553376438567, 0.3944990249427013, 0.3943350320563902, 0.3940044133444153, 0.3944214830395452, 0.39522132421862105, 0.39589549367800275, 0.39448412521298765, 0.39502174893543074, 0.3953832028282856, 0.39567905789431607, 0.39567476146367364, 18221.030459262885, 19528.093312621953, 28585.22890892743, 15236.792348141518, 16232.509556037543, 12704.200473336012, 8200.464637884066, 8387.923869042923, 8481.265129812215, 5021.152973890608, 3823.1715061055074, 3320.530914243015, 4262.964488937334, 2320.337515975527, 3286.3619118583924, 2161.1684280707686, 2221.610667695255, 1506.5225477695788, 1649.0482942499398, 2406.6319879510406, 1445.685469785972, 1535.9166303153254, 1693.584049922275, 1978.8335505083583, 2349.9010979302666, 1465.3865691023163, 2044.5343250758142, 908.0830541365116, 2243.2403399650466, 1020.33875356995, 1926.3965584832763, 0.39391630989438375, 0.3936566554380827, 0.3943513882882513, 0.39445748895030086, 0.39476694826436004, 0.3943350320563902, 0.3940044133444153, 0.39389147951962195, 0.39470481212166764, 0.3940447963173587, 0.3941694333095666, 0.39506029697098266, 0.3950182641540395, 0.394104860563999, 0.3952859603263267, 0.3950694684070026, 0.39507671280427575, 0.39470090688434933, 0.39407326962436046, 0.3949145125026069, 0.3941394604975174, 0.3954796568588994, 0.3941146645252968, 0.3952651531801402, 0.3950925213362263, 0.3943647283924468, 0.39537199247054217, 0.3955544798020432, 0.3938649248421759, 0.394976560980379, 0.39500805526810995, 0.39532588350526404, 0.39626582548714245, 0.3959201099075329, 0.39561329366031023, 19528.093312621953, 28585.22890892743, 16232.509556037543, 15236.792348141518, 12704.200473336012, 8387.923869042923, 18221.030459262885, 8200.464637884066, 5021.152973890608, 3286.3619118583924, 8481.265129812215, 4262.964488937334, 3823.1715061055074, 2320.337515975527, 3320.530914243015, 2349.9010979302666, 1978.8335505083583, 2406.6319879510406, 2044.5343250758142, 1926.3965584832763, 2243.2403399650466, 2161.1684280707686, 1535.9166303153254, 2221.610667695255, 1465.3865691023163, 1506.5225477695788, 1020.33875356995, 951.2439572243347, 1445.685469785972, 771.9840308405591, 1693.584049922275, 1649.0482942499398, 0.3938649248421759, 0.39410617398823233, 0.3941865884005168, 0.3936566554380827, 0.3949709997584536, 0.39391630989438375, 0.39640290637326236, 0.3941146645252968, 0.3946628203199174, 0.39389147951962195, 0.3941394604975174, 0.3947022707831026, 0.3940044133444153, 0.39433410589709106, 0.3947593289501694, 0.3940447963173587, 0.39440203874413854, 0.39582766506992434, 0.3941694333095666, 0.3944226122324767, 0.3946415560361813, 0.3947514463535314, 0.3948226165210505, 0.3951242501142053, 0.394104860563999, 0.39463798726133686, 0.3949432211909201, 0.39451945408381306, 0.39460479600083714, 0.39435287843274075, 0.39472987189141334, 0.3967909288212197, 0.3959655825973908, 0.3972418679278399, 0.39527353364660633, 0.3950273568053719, 0.3954505430002362, 0.396569482372466, 0.39581745598318524, 28585.22890892743, 16232.509556037543, 15236.792348141518, 19528.093312621953, 0.39697139308798235, 18221.030459262885, 12704.200473336012, 8481.265129812215, 8200.464637884066, 8387.923869042923, 5021.152973890608, 4262.964488937334, 2349.9010979302666, 3823.1715061055074, 3320.530914243015, 2406.6319879510406, 2320.337515975527, 2221.610667695255, 1649.0482942499398, 3286.3619118583924, 2243.2403399650466, 2161.1684280707686, 1465.3865691023163, 1445.685469785972, 2044.5343250758142, 1926.3965584832763, 1186.8840862035756, 1506.5225477695788, 1020.5131225458397, 992.3166962196482, 1693.584049922275, 1978.8335505083583, 1535.9166303153254, 0.3943350320563902, 0.39391630989438375, 0.3938649248421759, 0.3940044133444153, 0.39389147951962195, 0.3941146645252968, 0.39410617398823233, 0.3943513882882513, 0.3941394604975174, 0.3941865884005168, 0.39499396676962933, 0.3936566554380827, 0.3941694333095666, 0.3942537113724199, 0.396569482372466, 0.39479813064406777, 0.39407326962436046, 0.3950877185249097, 0.3941191367971235, 0.394375373793624, 0.394256515347441, 0.3940447963173587, 0.39472987189141334, 0.3952651531801402, 0.3942843706742634, 0.3947022707831026, 0.39429527594303876, 0.39476694826436004, 0.39454488364411094, 0.39511894512945667, 0.3957058279904929, 0.3961521987400781, 0.39489324637049344, 0.39499493937972924, 0.3956335253403509, 0.3957003580830326, 0.3976846578136345, 0.39542349807225524, 0.3961639717421832, 0.3960859328596987, 28585.22890892743, 16232.509556037543, 18221.030459262885, 19528.093312621953, 8387.923869042923, 15236.792348141518, 8200.464637884066, 8481.265129812215, 12704.200473336012, 5021.152973890608, 4262.964488937334, 3320.530914243015, 2161.1684280707686, 3286.3619118583924, 1926.3965584832763, 2406.6319879510406, 2320.337515975527, 2349.9010979302666, 2221.610667695255, 2243.2403399650466, 3823.1715061055074, 1445.685469785972, 1693.584049922275, 1649.0482942499398, 1535.9166303153254, 2044.5343250758142, 1280.2555796402237, 1978.8335505083583, 1020.5131225458397, 1506.5225477695788, 0.3944214830395452, 0.3938649248421759, 0.3948226165210505, 0.39433410589709106, 0.39391630989438375, 0.39410617398823233, 0.3956210129879242, 0.394375373793624, 0.3953803165173469, 0.3941191367971235, 0.3941865884005168, 0.3942843706742634, 0.39389147951962195, 0.3947022707831026, 0.3947112546823761, 0.3946139874429469, 0.39429527594303876, 0.3936566554380827, 0.3947593289501694, 0.3941394604975174, 0.3955146223255132, 0.3943385057335268, 0.3940044133444153, 0.39435287843274075, 0.39448412521298765, 0.3952111813756577, 0.39541148281938077, 0.39407326962436046, 0.39499493937972924, 0.394104860563999, 0.3955175775685947, 0.3961297508600826, 0.3948455645454889, 0.39515210963876957, 0.39533098020815194, 0.39550033177824373, 0.3954023296778916, 0.39594189157904414, 0.39747783959298616, 0.39668947092702234, 0.3974894800729459, 0.398488477535846, 16232.509556037543, 28585.22890892743, 18221.030459262885, 19528.093312621953, 0.398819470993146, 15236.792348141518, 12704.200473336012, 8200.464637884066, 8481.265129812215, 8387.923869042923, 5021.152973890608, 3286.3619118583924, 4262.964488937334, 3320.530914243015, 3823.1715061055074, 2161.1684280707686, 1926.3965584832763, 2406.6319879510406, 2243.2403399650466, 1506.5225477695788, 1280.2555796402237, 1978.8335505083583, 2320.337515975527, 2349.9010979302666, 918.7601753184097, 1535.9166303153254, 2044.5343250758142, 2221.610667695255, 1465.3865691023163, 1649.0482942499398, 1119.4056686450765, 0.3944990249427013, 0.3945697483495955, 0.3936566554380827, 0.3944214830395452, 0.39450317554222375, 0.39474317876132586, 0.3946015064221304, 0.394666683361577, 0.39497776597703876, 0.39459623928135545, 0.39407326962436046, 0.394104860563999, 0.39389147951962195, 0.39440203874413854, 0.3943494590902191, 0.3942537113724199, 0.3940447963173587, 0.3948759643349057, 0.3947802749089963, 0.39479813064406777, 0.3940044133444153, 0.3950877185249097, 0.3941394604975174, 0.394256515347441, 0.39391630989438375, 0.3948819563897887, 0.3944226122324767, 0.3941694333095666, 0.3941146645252968, 0.39451945408381306, 0.39513603281525106, 0.3950188359223916, 0.3954443951366757, 0.3951591580660121, 0.3952988129995928, 0.3951208707144498, 0.3956335253403509, 0.3949854125692663, 0.3950161324763758, 0.3953607255958789, 0.39602750978462575, 0.3963739499142763, 0.39575176912987553, 0.3953081581199616, 0.39651067399639667, 18221.030459262885, 28585.22890892743, 19528.093312621953, 8200.464637884066, 16232.509556037543, 8387.923869042923, 12704.200473336012, 15236.792348141518, 8481.265129812215, 5021.152973890608, 4262.964488937334, 3823.1715061055074, 3286.3619118583924, 2243.2403399650466, 1649.0482942499398, 2221.610667695255, 2349.9010979302666, 2406.6319879510406, 1978.8335505083583, 3320.530914243015, 2320.337515975527, 1693.584049922275, 2044.5343250758142, 1926.3965584832763, 944.091121953305, 1465.3865691023163, 1139.3219815544319, 2161.1684280707686, 1020.33875356995, 620.4842973359443, 1280.2555796402237, 0.3936566554380827, 0.39389147951962195, 0.39391630989438375, 0.3938649248421759, 0.3940044133444153, 0.394104860563999, 0.3941191367971235, 0.3941146645252968, 0.3941394604975174, 0.3941694333095666, 0.3940447963173587, 0.39407326962436046, 0.39410617398823233, 0.3943494590902191, 0.3942843706742634, 0.3941865884005168, 0.3943385057335268, 0.3942537113724199, 0.394256515347441, 0.3946015064221304, 0.39429527594303876, 0.3943210932351498, 0.39448412521298765, 0.39433410589709106, 0.3943350320563902, 0.3943513882882513, 0.39435287843274075, 0.39440203874413854, 0.3943647283924468, 0.39451521121888095, 0.39479813064406777, 0.39459488150549366, 0.3948852158217402, 0.3945898451488153, 0.3946124592506172, 0.3950877185249097, 0.39497776597703876, 0.39472987189141334, 0.3950188359223916, 0.3953607255958789, 0.3953081581199616, 0.3952706114501234, 0.3952988129995928, 0.3948665861683759, 0.3956335253403509, 0.39575176912987553, 0.3954443951366757, 0.3958062591239463, 0.395362694178284, 18221.030459262885, 0.3954912655076478, 0.3958558647410137, 19528.093312621953, 28585.22890892743, 0.3978623442866388, 16232.509556037543, 8200.464637884066, 12704.200473336012, 0.3972930141728643, 15236.792348141518, 0.39686137239033786, 0.39657738043769025, 8387.923869042923, 5021.152973890608, 8481.265129812215, 0.4001268803240127, 0.3982183977094579, 2349.9010979302666, 3823.1715061055074, 4262.964488937334, 3286.3619118583924, 3320.530914243015, 2320.337515975527, 2406.6319879510406, 1926.3965584832763, 1693.584049922275, 2221.610667695255, 2161.1684280707686, 2243.2403399650466, 1649.0482942499398, 1280.2555796402237, 1978.8335505083583, 2044.5343250758142, 1186.8840862035756, 1535.9166303153254, 787.6605875585266, 1013.0345276475241, 1506.5225477695788], \"Category\": [\"Default\", \"Default\", \"Default\", \"Default\", \"Default\", \"Default\", \"Default\", \"Default\", \"Default\", \"Default\", \"Default\", \"Default\", \"Default\", \"Default\", \"Default\", \"Default\", \"Default\", \"Default\", \"Default\", \"Default\", \"Default\", \"Default\", \"Default\", \"Default\", \"Default\", \"Default\", \"Default\", \"Default\", \"Default\", \"Default\", \"Topic1\", \"Topic1\", \"Topic1\", \"Topic1\", \"Topic1\", \"Topic1\", \"Topic1\", \"Topic1\", \"Topic1\", \"Topic1\", \"Topic1\", \"Topic1\", \"Topic1\", \"Topic1\", \"Topic1\", \"Topic1\", \"Topic1\", \"Topic1\", \"Topic1\", \"Topic1\", \"Topic1\", \"Topic1\", \"Topic1\", \"Topic1\", \"Topic1\", \"Topic1\", \"Topic1\", \"Topic1\", \"Topic1\", \"Topic1\", \"Topic1\", \"Topic1\", \"Topic1\", \"Topic1\", \"Topic1\", \"Topic1\", \"Topic1\", \"Topic1\", \"Topic1\", \"Topic1\", \"Topic1\", \"Topic1\", \"Topic1\", \"Topic1\", \"Topic1\", \"Topic1\", \"Topic1\", \"Topic1\", \"Topic1\", \"Topic1\", \"Topic1\", \"Topic1\", \"Topic1\", \"Topic1\", \"Topic1\", \"Topic1\", \"Topic1\", \"Topic1\", \"Topic1\", \"Topic1\", \"Topic1\", \"Topic1\", \"Topic1\", \"Topic1\", \"Topic1\", \"Topic1\", \"Topic1\", \"Topic1\", \"Topic1\", \"Topic1\", \"Topic1\", \"Topic1\", \"Topic1\", \"Topic1\", \"Topic1\", \"Topic1\", \"Topic1\", \"Topic1\", \"Topic1\", \"Topic1\", \"Topic1\", \"Topic1\", \"Topic1\", \"Topic1\", \"Topic1\", \"Topic1\", \"Topic1\", \"Topic1\", \"Topic1\", \"Topic1\", \"Topic1\", \"Topic1\", \"Topic1\", \"Topic1\", \"Topic1\", \"Topic2\", \"Topic2\", \"Topic2\", \"Topic2\", \"Topic2\", \"Topic2\", \"Topic2\", \"Topic2\", \"Topic2\", \"Topic2\", \"Topic2\", \"Topic2\", \"Topic2\", \"Topic2\", \"Topic2\", \"Topic2\", \"Topic2\", \"Topic2\", \"Topic2\", \"Topic2\", \"Topic2\", \"Topic2\", \"Topic2\", \"Topic2\", \"Topic2\", \"Topic2\", \"Topic2\", \"Topic2\", \"Topic2\", \"Topic2\", \"Topic2\", \"Topic2\", \"Topic2\", \"Topic2\", \"Topic2\", \"Topic2\", \"Topic2\", \"Topic2\", \"Topic2\", \"Topic2\", \"Topic2\", \"Topic2\", \"Topic2\", \"Topic2\", \"Topic2\", \"Topic2\", \"Topic2\", \"Topic2\", \"Topic2\", \"Topic2\", \"Topic2\", \"Topic2\", \"Topic2\", \"Topic2\", \"Topic2\", \"Topic2\", \"Topic2\", \"Topic2\", \"Topic2\", \"Topic2\", \"Topic2\", \"Topic2\", \"Topic2\", \"Topic2\", \"Topic2\", \"Topic2\", \"Topic2\", \"Topic2\", \"Topic2\", \"Topic2\", \"Topic2\", \"Topic2\", \"Topic2\", \"Topic2\", \"Topic2\", \"Topic2\", \"Topic2\", \"Topic2\", \"Topic2\", \"Topic2\", \"Topic2\", \"Topic2\", \"Topic2\", \"Topic2\", \"Topic2\", \"Topic3\", \"Topic3\", \"Topic3\", \"Topic3\", \"Topic3\", \"Topic3\", \"Topic3\", \"Topic3\", \"Topic3\", \"Topic3\", \"Topic3\", \"Topic3\", \"Topic3\", \"Topic3\", \"Topic3\", \"Topic3\", \"Topic3\", \"Topic3\", \"Topic3\", \"Topic3\", \"Topic3\", \"Topic3\", \"Topic3\", \"Topic3\", \"Topic3\", \"Topic3\", \"Topic3\", \"Topic3\", \"Topic3\", \"Topic3\", \"Topic3\", \"Topic3\", \"Topic3\", \"Topic3\", \"Topic3\", \"Topic3\", \"Topic3\", \"Topic3\", \"Topic3\", \"Topic3\", \"Topic3\", \"Topic3\", \"Topic3\", \"Topic3\", \"Topic3\", \"Topic3\", \"Topic3\", \"Topic3\", \"Topic3\", \"Topic3\", \"Topic3\", \"Topic3\", \"Topic3\", \"Topic3\", \"Topic3\", \"Topic3\", \"Topic3\", \"Topic3\", \"Topic3\", \"Topic3\", \"Topic3\", \"Topic3\", \"Topic3\", \"Topic3\", \"Topic3\", \"Topic3\", \"Topic3\", \"Topic3\", \"Topic3\", \"Topic3\", \"Topic3\", \"Topic3\", \"Topic3\", \"Topic3\", \"Topic3\", \"Topic3\", \"Topic3\", \"Topic3\", \"Topic3\", \"Topic3\", \"Topic3\", \"Topic3\", \"Topic4\", \"Topic4\", \"Topic4\", \"Topic4\", \"Topic4\", \"Topic4\", \"Topic4\", \"Topic4\", \"Topic4\", \"Topic4\", \"Topic4\", \"Topic4\", \"Topic4\", \"Topic4\", \"Topic4\", \"Topic4\", \"Topic4\", \"Topic4\", \"Topic4\", \"Topic4\", \"Topic4\", \"Topic4\", \"Topic4\", \"Topic4\", \"Topic4\", \"Topic4\", \"Topic4\", \"Topic4\", \"Topic4\", \"Topic4\", \"Topic4\", \"Topic4\", \"Topic4\", \"Topic4\", \"Topic4\", \"Topic4\", \"Topic4\", \"Topic4\", \"Topic4\", \"Topic4\", \"Topic4\", \"Topic4\", \"Topic4\", \"Topic4\", \"Topic4\", \"Topic4\", \"Topic4\", \"Topic4\", \"Topic4\", \"Topic4\", \"Topic4\", \"Topic4\", \"Topic4\", \"Topic4\", \"Topic4\", \"Topic4\", \"Topic4\", \"Topic4\", \"Topic4\", \"Topic4\", \"Topic4\", \"Topic4\", \"Topic4\", \"Topic4\", \"Topic4\", \"Topic4\", \"Topic4\", \"Topic4\", \"Topic4\", \"Topic4\", \"Topic4\", \"Topic4\", \"Topic4\", \"Topic4\", \"Topic4\", \"Topic4\", \"Topic4\", \"Topic5\", \"Topic5\", \"Topic5\", \"Topic5\", \"Topic5\", \"Topic5\", \"Topic5\", \"Topic5\", \"Topic5\", \"Topic5\", \"Topic5\", \"Topic5\", \"Topic5\", \"Topic5\", \"Topic5\", \"Topic5\", \"Topic5\", \"Topic5\", \"Topic5\", \"Topic5\", \"Topic5\", \"Topic5\", \"Topic5\", \"Topic5\", \"Topic5\", \"Topic5\", \"Topic5\", \"Topic5\", \"Topic5\", \"Topic5\", \"Topic5\", \"Topic5\", \"Topic5\", \"Topic5\", \"Topic5\", \"Topic5\", \"Topic5\", \"Topic5\", \"Topic5\", \"Topic5\", \"Topic5\", \"Topic5\", \"Topic5\", \"Topic5\", \"Topic5\", \"Topic5\", \"Topic5\", \"Topic5\", \"Topic5\", \"Topic5\", \"Topic5\", \"Topic5\", \"Topic5\", \"Topic5\", \"Topic5\", \"Topic5\", \"Topic5\", \"Topic5\", \"Topic5\", \"Topic5\", \"Topic5\", \"Topic5\", \"Topic5\", \"Topic5\", \"Topic5\", \"Topic5\", \"Topic5\", \"Topic5\", \"Topic5\", \"Topic5\", \"Topic5\", \"Topic5\", \"Topic5\", \"Topic5\", \"Topic6\", \"Topic6\", \"Topic6\", \"Topic6\", \"Topic6\", \"Topic6\", \"Topic6\", \"Topic6\", \"Topic6\", \"Topic6\", \"Topic6\", \"Topic6\", \"Topic6\", \"Topic6\", \"Topic6\", \"Topic6\", \"Topic6\", \"Topic6\", \"Topic6\", \"Topic6\", \"Topic6\", \"Topic6\", \"Topic6\", \"Topic6\", \"Topic6\", \"Topic6\", \"Topic6\", \"Topic6\", \"Topic6\", \"Topic6\", \"Topic6\", \"Topic6\", \"Topic6\", \"Topic6\", \"Topic6\", \"Topic6\", \"Topic6\", \"Topic6\", \"Topic6\", \"Topic6\", \"Topic6\", \"Topic6\", \"Topic6\", \"Topic6\", \"Topic6\", \"Topic6\", \"Topic6\", \"Topic6\", \"Topic6\", \"Topic6\", \"Topic6\", \"Topic6\", \"Topic6\", \"Topic6\", \"Topic6\", \"Topic6\", \"Topic6\", \"Topic6\", \"Topic6\", \"Topic6\", \"Topic6\", \"Topic6\", \"Topic6\", \"Topic6\", \"Topic6\", \"Topic6\", \"Topic6\", \"Topic6\", \"Topic6\", \"Topic6\", \"Topic6\", \"Topic6\", \"Topic6\", \"Topic6\", \"Topic6\", \"Topic6\", \"Topic6\", \"Topic6\", \"Topic6\", \"Topic6\", \"Topic6\", \"Topic7\", \"Topic7\", \"Topic7\", \"Topic7\", \"Topic7\", \"Topic7\", \"Topic7\", \"Topic7\", \"Topic7\", \"Topic7\", \"Topic7\", \"Topic7\", \"Topic7\", \"Topic7\", \"Topic7\", \"Topic7\", \"Topic7\", \"Topic7\", \"Topic7\", \"Topic7\", \"Topic7\", \"Topic7\", \"Topic7\", \"Topic7\", \"Topic7\", \"Topic7\", \"Topic7\", \"Topic7\", \"Topic7\", \"Topic7\", \"Topic7\", \"Topic7\", \"Topic7\", \"Topic7\", \"Topic7\", \"Topic7\", \"Topic7\", \"Topic7\", \"Topic7\", \"Topic7\", \"Topic7\", \"Topic7\", \"Topic7\", \"Topic7\", \"Topic7\", \"Topic7\", \"Topic7\", \"Topic7\", \"Topic7\", \"Topic7\", \"Topic7\", \"Topic7\", \"Topic7\", \"Topic7\", \"Topic7\", \"Topic7\", \"Topic7\", \"Topic7\", \"Topic7\", \"Topic7\", \"Topic7\", \"Topic7\", \"Topic7\", \"Topic7\", \"Topic7\", \"Topic7\", \"Topic7\", \"Topic7\", \"Topic7\", \"Topic7\", \"Topic7\", \"Topic7\", \"Topic7\", \"Topic7\", \"Topic7\", \"Topic7\", \"Topic7\", \"Topic7\", \"Topic7\", \"Topic7\", \"Topic8\", \"Topic8\", \"Topic8\", \"Topic8\", \"Topic8\", \"Topic8\", \"Topic8\", \"Topic8\", \"Topic8\", \"Topic8\", \"Topic8\", \"Topic8\", \"Topic8\", \"Topic8\", \"Topic8\", \"Topic8\", \"Topic8\", \"Topic8\", \"Topic8\", \"Topic8\", \"Topic8\", \"Topic8\", \"Topic8\", \"Topic8\", \"Topic8\", \"Topic8\", \"Topic8\", \"Topic8\", \"Topic8\", \"Topic8\", \"Topic8\", \"Topic8\", \"Topic8\", \"Topic8\", \"Topic8\", \"Topic8\", \"Topic8\", \"Topic8\", \"Topic8\", \"Topic8\", \"Topic8\", \"Topic8\", \"Topic8\", \"Topic8\", \"Topic8\", \"Topic8\", \"Topic8\", \"Topic8\", \"Topic8\", \"Topic8\", \"Topic8\", \"Topic8\", \"Topic8\", \"Topic8\", \"Topic8\", \"Topic8\", \"Topic8\", \"Topic8\", \"Topic8\", \"Topic8\", \"Topic8\", \"Topic8\", \"Topic8\", \"Topic8\", \"Topic8\", \"Topic8\", \"Topic8\", \"Topic8\", \"Topic8\", \"Topic8\", \"Topic8\", \"Topic8\", \"Topic8\", \"Topic8\", \"Topic8\", \"Topic9\", \"Topic9\", \"Topic9\", \"Topic9\", \"Topic9\", \"Topic9\", \"Topic9\", \"Topic9\", \"Topic9\", \"Topic9\", \"Topic9\", \"Topic9\", \"Topic9\", \"Topic9\", \"Topic9\", \"Topic9\", \"Topic9\", \"Topic9\", \"Topic9\", \"Topic9\", \"Topic9\", \"Topic9\", \"Topic9\", \"Topic9\", \"Topic9\", \"Topic9\", \"Topic9\", \"Topic9\", \"Topic9\", \"Topic9\", \"Topic9\", \"Topic9\", \"Topic9\", \"Topic9\", \"Topic9\", \"Topic9\", \"Topic9\", \"Topic9\", \"Topic9\", \"Topic9\", \"Topic9\", \"Topic9\", \"Topic9\", \"Topic9\", \"Topic9\", \"Topic9\", \"Topic9\", \"Topic9\", \"Topic9\", \"Topic9\", \"Topic9\", \"Topic9\", \"Topic9\", \"Topic9\", \"Topic9\", \"Topic9\", \"Topic9\", \"Topic9\", \"Topic9\", \"Topic9\", \"Topic9\", \"Topic9\", \"Topic9\", \"Topic9\", \"Topic9\", \"Topic9\", \"Topic9\", \"Topic10\", \"Topic10\", \"Topic10\", \"Topic10\", \"Topic10\", \"Topic10\", \"Topic10\", \"Topic10\", \"Topic10\", \"Topic10\", \"Topic10\", \"Topic10\", \"Topic10\", \"Topic10\", \"Topic10\", \"Topic10\", \"Topic10\", \"Topic10\", \"Topic10\", \"Topic10\", \"Topic10\", \"Topic10\", \"Topic10\", \"Topic10\", \"Topic10\", \"Topic10\", \"Topic10\", \"Topic10\", \"Topic10\", \"Topic10\", \"Topic10\", \"Topic10\", \"Topic10\", \"Topic10\", \"Topic10\", \"Topic10\", \"Topic10\", \"Topic10\", \"Topic10\", \"Topic10\", \"Topic10\", \"Topic10\", \"Topic10\", \"Topic10\", \"Topic10\", \"Topic10\", \"Topic10\", \"Topic10\", \"Topic10\", \"Topic10\", \"Topic10\", \"Topic10\", \"Topic10\", \"Topic10\", \"Topic10\", \"Topic10\", \"Topic10\", \"Topic11\", \"Topic11\", \"Topic11\", \"Topic11\", \"Topic11\", \"Topic11\", \"Topic11\", \"Topic11\", \"Topic11\", \"Topic11\", \"Topic11\", \"Topic11\", \"Topic11\", \"Topic11\", \"Topic11\", \"Topic11\", \"Topic11\", \"Topic11\", \"Topic11\", \"Topic11\", \"Topic11\", \"Topic11\", \"Topic11\", \"Topic11\", \"Topic11\", \"Topic11\", \"Topic11\", \"Topic11\", \"Topic11\", \"Topic11\", \"Topic11\", \"Topic11\", \"Topic11\", \"Topic11\", \"Topic11\", \"Topic11\", \"Topic11\", \"Topic11\", \"Topic11\", \"Topic11\", \"Topic11\", \"Topic11\", \"Topic11\", \"Topic11\", \"Topic11\", \"Topic11\", \"Topic11\", \"Topic11\", \"Topic11\", \"Topic11\", \"Topic11\", \"Topic11\", \"Topic11\", \"Topic11\", \"Topic11\", \"Topic11\", \"Topic11\", \"Topic11\", \"Topic11\", \"Topic11\", \"Topic11\", \"Topic11\", \"Topic11\", \"Topic11\", \"Topic11\", \"Topic11\", \"Topic12\", \"Topic12\", \"Topic12\", \"Topic12\", \"Topic12\", \"Topic12\", \"Topic12\", \"Topic12\", \"Topic12\", \"Topic12\", \"Topic12\", \"Topic12\", \"Topic12\", \"Topic12\", \"Topic12\", \"Topic12\", \"Topic12\", \"Topic12\", \"Topic12\", \"Topic12\", \"Topic12\", \"Topic12\", \"Topic12\", \"Topic12\", \"Topic12\", \"Topic12\", \"Topic12\", \"Topic12\", \"Topic12\", \"Topic12\", \"Topic12\", \"Topic12\", \"Topic12\", \"Topic12\", \"Topic12\", \"Topic12\", \"Topic12\", \"Topic12\", \"Topic12\", \"Topic12\", \"Topic12\", \"Topic12\", \"Topic12\", \"Topic12\", \"Topic12\", \"Topic12\", \"Topic12\", \"Topic12\", \"Topic12\", \"Topic12\", \"Topic12\", \"Topic12\", \"Topic12\", \"Topic12\", \"Topic12\", \"Topic12\", \"Topic12\", \"Topic12\", \"Topic12\", \"Topic12\", \"Topic12\", \"Topic12\", \"Topic12\", \"Topic12\", \"Topic12\", \"Topic12\", \"Topic12\", \"Topic12\", \"Topic12\", \"Topic12\", \"Topic13\", \"Topic13\", \"Topic13\", \"Topic13\", \"Topic13\", \"Topic13\", \"Topic13\", \"Topic13\", \"Topic13\", \"Topic13\", \"Topic13\", \"Topic13\", \"Topic13\", \"Topic13\", \"Topic13\", \"Topic13\", \"Topic13\", \"Topic13\", \"Topic13\", \"Topic13\", \"Topic13\", \"Topic13\", \"Topic13\", \"Topic13\", \"Topic13\", \"Topic13\", \"Topic13\", \"Topic13\", \"Topic13\", \"Topic13\", \"Topic13\", \"Topic13\", \"Topic13\", \"Topic13\", \"Topic13\", \"Topic13\", \"Topic13\", \"Topic13\", \"Topic13\", \"Topic13\", \"Topic13\", \"Topic13\", \"Topic13\", \"Topic13\", \"Topic13\", \"Topic13\", \"Topic13\", \"Topic13\", \"Topic13\", \"Topic13\", \"Topic13\", \"Topic13\", \"Topic13\", \"Topic13\", \"Topic13\", \"Topic13\", \"Topic13\", \"Topic13\", \"Topic13\", \"Topic13\", \"Topic13\", \"Topic13\", \"Topic13\", \"Topic13\", \"Topic13\", \"Topic13\", \"Topic13\", \"Topic13\", \"Topic13\", \"Topic13\", \"Topic13\", \"Topic13\", \"Topic13\", \"Topic13\", \"Topic13\", \"Topic13\", \"Topic13\", \"Topic13\", \"Topic13\", \"Topic13\", \"Topic13\", \"Topic14\", \"Topic14\", \"Topic14\", \"Topic14\", \"Topic14\", \"Topic14\", \"Topic14\", \"Topic14\", \"Topic14\", \"Topic14\", \"Topic14\", \"Topic14\", \"Topic14\", \"Topic14\", \"Topic14\", \"Topic14\", \"Topic14\", \"Topic14\", \"Topic14\", \"Topic14\", \"Topic14\", \"Topic14\", \"Topic14\", \"Topic14\", \"Topic14\", \"Topic14\", \"Topic14\", \"Topic14\", \"Topic14\", \"Topic14\", \"Topic14\", \"Topic14\", \"Topic14\", \"Topic14\", \"Topic14\", \"Topic14\", \"Topic14\", \"Topic14\", \"Topic14\", \"Topic14\", \"Topic14\", \"Topic14\", \"Topic14\", \"Topic14\", \"Topic14\", \"Topic14\", \"Topic14\", \"Topic14\", \"Topic14\", \"Topic14\", \"Topic14\", \"Topic14\", \"Topic14\", \"Topic14\", \"Topic14\", \"Topic14\", \"Topic14\", \"Topic14\", \"Topic14\", \"Topic14\", \"Topic14\", \"Topic14\", \"Topic14\", \"Topic14\", \"Topic14\", \"Topic15\", \"Topic15\", \"Topic15\", \"Topic15\", \"Topic15\", \"Topic15\", \"Topic15\", \"Topic15\", \"Topic15\", \"Topic15\", \"Topic15\", \"Topic15\", \"Topic15\", \"Topic15\", \"Topic15\", \"Topic15\", \"Topic15\", \"Topic15\", \"Topic15\", \"Topic15\", \"Topic15\", \"Topic15\", \"Topic15\", \"Topic15\", \"Topic15\", \"Topic15\", \"Topic15\", \"Topic15\", \"Topic15\", \"Topic15\", \"Topic15\", \"Topic15\", \"Topic15\", \"Topic15\", \"Topic15\", \"Topic15\", \"Topic15\", \"Topic15\", \"Topic15\", \"Topic15\", \"Topic15\", \"Topic15\", \"Topic15\", \"Topic15\", \"Topic15\", \"Topic15\", \"Topic15\", \"Topic15\", \"Topic15\", \"Topic15\", \"Topic15\", \"Topic15\", \"Topic15\", \"Topic15\", \"Topic15\", \"Topic15\", \"Topic15\", \"Topic15\", \"Topic15\", \"Topic15\", \"Topic15\", \"Topic15\", \"Topic15\", \"Topic15\", \"Topic15\", \"Topic15\", \"Topic15\", \"Topic16\", \"Topic16\", \"Topic16\", \"Topic16\", \"Topic16\", \"Topic16\", \"Topic16\", \"Topic16\", \"Topic16\", \"Topic16\", \"Topic16\", \"Topic16\", \"Topic16\", \"Topic16\", \"Topic16\", \"Topic16\", \"Topic16\", \"Topic16\", \"Topic16\", \"Topic16\", \"Topic16\", \"Topic16\", \"Topic16\", \"Topic16\", \"Topic16\", \"Topic16\", \"Topic16\", \"Topic16\", \"Topic16\", \"Topic16\", \"Topic16\", \"Topic16\", \"Topic16\", \"Topic16\", \"Topic16\", \"Topic16\", \"Topic16\", \"Topic16\", \"Topic16\", \"Topic16\", \"Topic16\", \"Topic16\", \"Topic16\", \"Topic16\", \"Topic16\", \"Topic16\", \"Topic16\", \"Topic16\", \"Topic16\", \"Topic16\", \"Topic16\", \"Topic16\", \"Topic16\", \"Topic16\", \"Topic16\", \"Topic16\", \"Topic16\", \"Topic16\", \"Topic16\", \"Topic16\", \"Topic16\", \"Topic16\", \"Topic16\", \"Topic16\", \"Topic16\", \"Topic16\", \"Topic16\", \"Topic16\", \"Topic16\", \"Topic16\", \"Topic16\", \"Topic16\", \"Topic17\", \"Topic17\", \"Topic17\", \"Topic17\", \"Topic17\", \"Topic17\", \"Topic17\", \"Topic17\", \"Topic17\", \"Topic17\", \"Topic17\", \"Topic17\", \"Topic17\", \"Topic17\", \"Topic17\", \"Topic17\", \"Topic17\", \"Topic17\", \"Topic17\", \"Topic17\", \"Topic17\", \"Topic17\", \"Topic17\", \"Topic17\", \"Topic17\", \"Topic17\", \"Topic17\", \"Topic17\", \"Topic17\", \"Topic17\", \"Topic17\", \"Topic17\", \"Topic17\", \"Topic17\", \"Topic17\", \"Topic17\", \"Topic17\", \"Topic17\", \"Topic17\", \"Topic17\", \"Topic17\", \"Topic17\", \"Topic17\", \"Topic17\", \"Topic17\", \"Topic17\", \"Topic17\", \"Topic17\", \"Topic17\", \"Topic17\", \"Topic17\", \"Topic17\", \"Topic17\", \"Topic17\", \"Topic17\", \"Topic17\", \"Topic17\", \"Topic17\", \"Topic17\", \"Topic17\", \"Topic17\", \"Topic17\", \"Topic17\", \"Topic17\", \"Topic17\", \"Topic17\", \"Topic17\", \"Topic17\", \"Topic17\", \"Topic17\", \"Topic18\", \"Topic18\", \"Topic18\", \"Topic18\", \"Topic18\", \"Topic18\", \"Topic18\", \"Topic18\", \"Topic18\", \"Topic18\", \"Topic18\", \"Topic18\", \"Topic18\", \"Topic18\", \"Topic18\", \"Topic18\", \"Topic18\", \"Topic18\", \"Topic18\", \"Topic18\", \"Topic18\", \"Topic18\", \"Topic18\", \"Topic18\", \"Topic18\", \"Topic18\", \"Topic18\", \"Topic18\", \"Topic18\", \"Topic18\", \"Topic18\", \"Topic18\", \"Topic18\", \"Topic18\", \"Topic18\", \"Topic18\", \"Topic18\", \"Topic18\", \"Topic18\", \"Topic18\", \"Topic18\", \"Topic18\", \"Topic18\", \"Topic18\", \"Topic18\", \"Topic18\", \"Topic18\", \"Topic18\", \"Topic18\", \"Topic18\", \"Topic18\", \"Topic18\", \"Topic18\", \"Topic18\", \"Topic18\", \"Topic18\", \"Topic18\", \"Topic18\", \"Topic18\", \"Topic18\", \"Topic18\", \"Topic18\", \"Topic18\", \"Topic18\", \"Topic18\", \"Topic18\", \"Topic18\", \"Topic18\", \"Topic18\", \"Topic18\", \"Topic18\", \"Topic18\", \"Topic18\", \"Topic19\", \"Topic19\", \"Topic19\", \"Topic19\", \"Topic19\", \"Topic19\", \"Topic19\", \"Topic19\", \"Topic19\", \"Topic19\", \"Topic19\", \"Topic19\", \"Topic19\", \"Topic19\", \"Topic19\", \"Topic19\", \"Topic19\", \"Topic19\", \"Topic19\", \"Topic19\", \"Topic19\", \"Topic19\", \"Topic19\", \"Topic19\", \"Topic19\", \"Topic19\", \"Topic19\", \"Topic19\", \"Topic19\", \"Topic19\", \"Topic19\", \"Topic19\", \"Topic19\", \"Topic19\", \"Topic19\", \"Topic19\", \"Topic19\", \"Topic19\", \"Topic19\", \"Topic19\", \"Topic19\", \"Topic19\", \"Topic19\", \"Topic19\", \"Topic19\", \"Topic19\", \"Topic19\", \"Topic19\", \"Topic19\", \"Topic19\", \"Topic19\", \"Topic19\", \"Topic19\", \"Topic19\", \"Topic19\", \"Topic19\", \"Topic19\", \"Topic19\", \"Topic19\", \"Topic19\", \"Topic19\", \"Topic19\", \"Topic19\", \"Topic19\", \"Topic19\", \"Topic19\", \"Topic19\", \"Topic19\", \"Topic19\", \"Topic19\", \"Topic19\", \"Topic19\", \"Topic19\", \"Topic19\", \"Topic19\", \"Topic19\", \"Topic20\", \"Topic20\", \"Topic20\", \"Topic20\", \"Topic20\", \"Topic20\", \"Topic20\", \"Topic20\", \"Topic20\", \"Topic20\", \"Topic20\", \"Topic20\", \"Topic20\", \"Topic20\", \"Topic20\", \"Topic20\", \"Topic20\", \"Topic20\", \"Topic20\", \"Topic20\", \"Topic20\", \"Topic20\", \"Topic20\", \"Topic20\", \"Topic20\", \"Topic20\", \"Topic20\", \"Topic20\", \"Topic20\", \"Topic20\", \"Topic20\", \"Topic20\", \"Topic20\", \"Topic20\", \"Topic20\", \"Topic20\", \"Topic20\", \"Topic20\", \"Topic20\", \"Topic20\", \"Topic20\", \"Topic20\", \"Topic20\", \"Topic20\", \"Topic20\", \"Topic20\", \"Topic20\", \"Topic20\", \"Topic20\", \"Topic20\", \"Topic20\", \"Topic20\", \"Topic20\", \"Topic20\", \"Topic20\", \"Topic20\", \"Topic20\", \"Topic20\", \"Topic20\", \"Topic20\", \"Topic20\", \"Topic20\", \"Topic20\", \"Topic20\", \"Topic20\", \"Topic20\", \"Topic20\", \"Topic20\", \"Topic20\", \"Topic20\", \"Topic20\", \"Topic20\", \"Topic20\", \"Topic20\", \"Topic20\", \"Topic20\", \"Topic20\", \"Topic20\", \"Topic20\", \"Topic20\", \"Topic20\", \"Topic20\", \"Topic20\", \"Topic20\", \"Topic20\", \"Topic20\", \"Topic20\", \"Topic20\"], \"logprob\": [30.0, 29.0, 28.0, 27.0, 26.0, 25.0, 24.0, 23.0, 22.0, 21.0, 20.0, 19.0, 18.0, 17.0, 16.0, 15.0, 14.0, 13.0, 12.0, 11.0, 10.0, 9.0, 8.0, 7.0, 6.0, 5.0, 4.0, 3.0, 2.0, 1.0, -9.0666, -9.5134, -9.4318, -9.5595, -9.6054, -8.9447, -9.5162, -9.7583, -9.7587, -9.5172, -9.6555, -9.7597, -9.2565, -9.9395, -9.6102, -9.9392, -9.7618, -9.5211, -9.9411, -9.7097, -10.008, -9.0014, -9.2604, -9.7108, -10.0102, -9.88, -9.8215, -10.0102, -9.7132, -9.9446, -8.2263, -8.2884, -8.0062, -8.2907, -9.115, -8.2907, -8.2915, -8.7139, -8.9427, -8.2333, -8.9401, -8.2982, -8.3017, -7.5682, -8.1814, -8.2571, -8.2928, -8.7002, -8.956, -3.2605, -8.9376, -9.105, -2.8704, -6.5212, -6.6163, -8.0032, -7.9944, -8.0351, -7.6933, -4.7833, -3.2835, -3.5322, -3.4922, -4.5809, -4.1368, -4.7363, -6.0419, -4.1352, -4.1325, -5.4526, -4.9965, -5.3089, -3.7917, -6.4911, -6.849, -5.4165, -6.3279, -6.9918, -5.4012, -6.2619, -5.7047, -6.6053, -5.3862, -5.8068, -5.5098, -5.7145, -5.1659, -5.6204, -5.5478, -5.6493, -5.8712, -6.0982, -5.9679, -6.0482, -5.9975, -8.4663, -8.4215, -8.4676, -8.4695, -8.6778, -8.7389, -8.8687, -8.3012, -8.6805, -8.941, -7.4698, -8.8044, -8.804, -8.9425, -8.8068, -8.946, -8.9475, -9.0239, -8.8093, -8.9501, -8.4394, -9.1136, -9.1147, -9.1158, -9.2076, -9.2075, -9.2103, -9.0351, -9.3102, -9.2099, -9.0366, -8.1507, -8.3677, -8.1241, -8.8219, -8.8243, -7.4141, -8.124, -8.4411, -7.2335, -7.0129, -6.5296, -8.2343, -6.8616, -8.107, -6.5809, -7.0845, -8.0495, -8.0431, -6.3953, -6.9987, -5.8127, -2.8903, -3.5399, -5.7196, -3.384, -3.9433, -3.3244, -3.5165, -4.0421, -5.5538, -5.4212, -6.7209, -6.4231, -3.6577, -4.8882, -4.3382, -5.3118, -5.7977, -5.6057, -6.1144, -4.8446, -5.3176, -5.4352, -5.4263, -5.225, -5.5466, -5.4736, -5.8082, -5.4919, -5.5002, -5.2756, -5.2815, -5.8481, -5.764, -8.1931, -8.3447, -8.2695, -8.3489, -8.3517, -8.528, -8.2747, -8.4405, -8.6332, -8.6376, -8.3607, -8.8813, -8.1523, -8.8864, -8.8878, -9.0333, -8.8896, -9.036, -9.0365, -9.0372, -9.0378, -9.0392, -8.302, -9.0405, -9.0468, -9.2164, -8.3853, -8.903, -9.2209, -9.0505, -7.6501, -7.608, -8.5997, -8.3012, -8.4602, -7.3313, -8.5426, -7.9095, -8.6497, -7.6248, -7.8284, -6.4719, -7.6737, -7.4904, -8.5005, -7.917, -8.3438, -3.2316, -3.0367, -3.4975, -3.6807, -3.5714, -4.0344, -6.1334, -3.579, -6.4621, -4.2491, -5.1033, -6.2661, -4.7292, -4.3272, -4.7159, -6.4256, -5.0291, -4.9911, -5.5109, -5.3611, -5.4924, -5.2452, -6.6741, -5.5346, -5.8734, -5.9375, -5.7438, -5.5336, -5.8082, -5.717, -5.6374, -5.7562, -5.8542, -5.9006, -5.97, -7.4833, -7.5767, -7.4888, -8.2646, -7.2819, -8.2652, -8.1047, -8.4795, -8.4863, -8.4929, -8.4906, -8.4909, -7.9746, -7.391, -8.3205, -8.5089, -8.7664, -8.7679, -8.7683, -8.7705, -8.7696, -8.1437, -8.7721, -7.0341, -8.7738, -8.7828, -8.7847, -8.7852, -8.7893, -8.8124, -7.1669, -7.6089, -6.8775, -7.5741, -8.2073, -7.8019, -8.099, -7.9265, -8.2327, -7.2208, -7.8608, -8.2862, -6.964, -3.164, -3.2798, -6.9807, -3.4888, -7.7962, -3.6754, -4.8131, -3.3657, -3.763, -4.5622, -4.2681, -4.2633, -4.6276, -4.9362, -4.998, -5.9514, -4.5933, -5.6843, -5.2629, -5.0916, -5.7076, -5.4167, -5.3855, -5.5538, -5.4561, -5.7342, -5.6469, -5.5967, -5.5792, -5.6497, -5.813, -5.7433, -5.9113, -5.8733, -7.1154, -7.3402, -7.5208, -7.6244, -7.6253, -7.6264, -7.2045, -7.8719, -7.7468, -7.8753, -8.0284, -8.0319, -8.2045, -8.2098, -8.2105, -8.2102, -8.2125, -8.4296, -8.2268, -8.4312, -8.4331, -8.4313, -8.4365, -6.8555, -8.4396, -8.237, -8.4468, -8.0698, -8.4588, -8.7207, -8.7146, -7.5249, -7.1105, -7.4397, -7.8728, -7.8835, -6.8963, -7.8356, -8.028, -7.2614, -7.2066, -7.3509, -3.2581, -3.0708, -3.385, -3.546, -3.6156, -3.809, -4.0995, -4.3016, -6.1512, -4.6255, -4.4002, -4.8623, -4.7885, -5.1612, -6.8067, -5.3262, -5.1861, -5.3212, -5.4898, -5.397, -5.2574, -5.4631, -6.0061, -5.6793, -5.8474, -5.651, -5.9706, -5.8668, -5.8117, -5.7963, -5.8154, -5.9811, -7.3538, -7.5759, -7.7123, -7.5867, -7.479, -7.8654, -7.8666, -8.0375, -8.0384, -7.8699, -8.05, -8.0532, -8.2581, -8.2657, -8.2661, -7.7529, -8.2761, -7.9107, -8.5402, -8.5434, -8.5456, -8.547, -8.5478, -8.5489, -7.9206, -8.5547, -8.5591, -8.5678, -8.5689, -8.565, -7.2861, -7.7958, -6.6672, -8.2613, -7.5356, -7.8571, -6.4224, -7.1891, -5.644, -8.0129, -6.9901, -7.9072, -6.8877, -6.476, -7.5397, -5.7338, -6.1568, -5.2574, -7.0072, -3.1158, -7.0585, -3.6728, -3.6354, -3.6144, -3.5281, -3.6144, -4.1298, -4.1522, -6.1552, -5.7133, -5.6694, -5.708, -4.5131, -5.2309, -5.095, -5.0091, -5.2565, -5.4451, -4.9927, -5.1746, -5.3045, -5.8839, -5.5031, -5.5578, -5.5437, -5.6652, -5.7576, -5.5645, -5.6415, -5.7124, -5.6858, -6.5003, -7.6437, -7.7938, -7.7935, -7.6517, -7.799, -7.3204, -7.9743, -7.975, -7.9759, -7.9763, -7.9769, -7.9863, -8.195, -8.1954, -8.1956, -8.1977, -8.2006, -8.2006, -8.2009, -8.2019, -8.2089, -7.6907, -6.5046, -8.4773, -8.4787, -8.4794, -8.48, -8.4799, -8.4793, -7.7008, -8.2252, -7.2975, -7.0245, -7.2354, -8.0341, -7.1047, -5.6624, -7.2862, -5.8098, -5.8594, -7.4778, -7.0266, -6.769, -6.2467, -5.755, -7.206, -4.7915, -7.4106, -7.4092, -6.5139, -7.0957, -5.9616, -3.3756, -3.1152, -3.4277, -4.004, -6.5104, -5.361, -4.1228, -5.9734, -6.8669, -3.9393, -4.1233, -5.3327, -4.061, -4.4054, -4.8678, -5.1759, -5.0811, -5.5133, -5.2837, -5.4321, -5.572, -5.444, -5.6039, -5.7045, -5.7575, -5.8404, -5.9713, -7.3053, -7.3101, -7.9967, -7.9977, -7.997, -7.9966, -7.999, -8.002, -8.387, -8.3893, -8.3885, -8.389, -8.3899, -8.3907, -8.3908, -8.3909, -8.392, -8.3932, -8.3909, -8.3984, -6.5377, -8.398, -8.4031, -8.4062, -8.5069, -8.5086, -7.7082, -7.9116, -9.056, -9.0569, -6.7042, -6.6652, -7.9906, -7.3286, -6.6311, -6.2085, -5.1922, -8.0011, -7.4082, -7.3098, -7.7837, -2.9364, -3.3747, -7.1293, -3.511, -6.9024, -8.0422, -5.8848, -3.8441, -3.7622, -4.0798, -4.3177, -4.5712, -4.0364, -6.2903, -4.8819, -5.2614, -7.0561, -5.1, -5.0401, -5.1674, -4.8124, -5.4685, -5.5277, -5.8054, -5.7589, -5.8091, -5.8987, -5.8827, -5.7555, -5.788, -5.7684, -5.8695, -5.8884, -5.9409, -5.1807, -6.8561, -7.5274, -7.5285, -7.5293, -7.5303, -7.5295, -7.5305, -7.53, -7.5306, -7.5341, -7.5338, -7.5353, -7.538, -7.5319, -7.5374, -7.5385, -7.5375, -7.5368, -7.5358, -7.5381, -7.5459, -7.545, -5.789, -7.5526, -7.5535, -7.5509, -6.8664, -7.5262, -7.5381, -6.478, -5.1251, -6.8577, -5.7954, -5.8084, -6.8671, -6.8675, -5.8373, -5.4335, -6.9054, -4.4014, -4.2358, -6.1366, -4.4521, -4.495, -6.4722, -6.572, -5.8, -4.8066, -6.2077, -5.0828, -5.2124, -5.3432, -5.6581, -6.8818, -5.9706, -6.0258, -5.7368, -5.8822, -6.3724, -6.0754, -6.1674, -6.2678, -6.2761, -6.2605, -6.3411, -6.3633, -6.6236, -6.6251, -5.7383, -7.2919, -7.2928, -7.2937, -7.2936, -7.2938, -7.2951, -7.296, -7.2952, -7.295, -7.2955, -7.2953, -7.2953, -7.2958, -7.2976, -7.2979, -7.2989, -7.2999, -7.3021, -7.3001, -7.3027, -7.3044, -7.3087, -7.3069, -7.2922, -7.297, -7.3048, -7.3096, -4.8881, -5.3926, -6.2299, -5.9841, -6.8775, -4.8228, -5.2041, -5.1697, -6.4354, -5.281, -5.2399, -5.4524, -5.6389, -5.7555, -5.852, -6.6004, -6.2608, -6.8183, -6.9482, -6.3807, -6.9671, -6.826, -6.892, -7.0221, -6.9468, -6.9947, -7.1676, -10.1882, -10.1904, -10.1893, -10.1924, -10.1911, -10.1918, -10.1914, -10.1914, -10.1934, -10.1952, -10.1942, -10.1941, -10.1943, -10.1947, -10.1959, -10.1915, -10.1937, -10.194, -10.1923, -10.1891, -10.1976, -10.1963, -10.195, -10.1943, -10.1949, -10.1944, -10.1958, -10.1967, -10.1909, -10.1959, -10.195, -10.1948, -10.1949, -10.1935, -4.8604, -5.3465, -5.4676, -5.5527, -5.5867, -5.8619, -6.0425, -6.2116, -6.3328, -6.6344, -6.838, -7.0961, -6.9671, -7.2462, -7.2058, -7.2781, -7.1063, -7.2538, -7.3065, -7.1044, -7.5426, -7.4577, -7.6329, -7.5491, -7.5843, -7.8826, -7.9672, -7.9813, -7.8879, -7.8678, -7.9219, -7.9602, -10.1738, -10.1772, -10.1803, -10.1778, -10.1801, -10.1777, -10.1682, -10.1802, -10.1822, -10.1791, -10.1803, -10.1815, -10.1794, -10.1818, -10.1776, -10.1819, -10.1816, -10.1779, -10.1829, -10.1816, -10.1807, -10.1817, -10.1801, -10.1796, -10.1824, -10.1822, -10.1798, -10.1818, -10.1789, -10.1812, -10.1783, -10.1779, -10.1804, -10.1802, -10.1771, -10.1792, -10.1759, -5.0537, -5.29, -5.4145, -5.6214, -5.6814, -6.0394, -6.3517, -6.3795, -6.6672, -6.6414, -6.8501, -6.773, -7.0992, -7.1707, -7.3247, -7.4754, -7.3724, -7.4419, -7.596, -7.6153, -7.6311, -7.6714, -7.7405, -7.8133, -7.8319, -7.8648, -7.9624, -8.0562, -8.0301, -8.1617, -7.9075, -7.9263, -8.0121, -10.1257, -10.127, -10.125, -10.1231, -10.1261, -10.1266, -10.1283, -10.1278, -10.126, -10.1271, -10.1285, -10.1291, -10.1261, -10.128, -10.1292, -10.1265, -10.1281, -10.1253, -10.1279, -10.1288, -10.1284, -10.1291, -10.1287, -10.1281, -10.1252, -10.128, -10.128, -10.128, -10.1287, -10.1271, -10.1267, -10.1265, -10.1256, -10.1275, -10.1261, -10.1214, -10.1235, -10.1253, -10.1253, -10.1244, -10.1251, -10.1252, -10.1249, -10.1249, -10.1243, -10.1242, -10.1266, -5.721, -10.1225, -10.1233, -6.1888, -6.542, -6.3192, -6.4157, -6.358, -6.739, -6.5172, -6.9513, -7.2032, -7.263, -7.5318, -7.5865, -7.6805, -10.1239, -7.9794, -7.9547, -8.0034, -8.0083, -8.1361, -8.081, -8.0752, -8.0877, -8.2246, -8.2022, -8.3045, -8.4126, -8.3223, -8.3865, -8.5058, -8.5376, -8.4945, -10.1228, -10.1228, -10.1239, -10.1249, -10.1253, -10.1234, -10.127, -10.1261, -10.1249, -10.1252, -10.1262, -10.1268, -10.1256, -10.1269, -10.1246, -10.1285, -10.1286, -10.1295, -10.1263, -10.129, -10.1258, -10.1277, -10.1272, -10.1283, -10.1287, -10.1297, -10.1287, -10.1269, -10.1253, -10.1294, -10.128, -10.1274, -10.1272, -10.1272, -5.9203, -5.9032, -5.8185, -6.2247, -6.3586, -6.4722, -6.8232, -6.8895, -7.004, -7.1712, -7.3151, -7.5936, -7.6098, -7.8246, -7.7691, -7.9824, -7.9979, -8.1344, -8.1148, -8.0607, -8.1868, -8.1845, -8.1743, -8.1506, -8.1161, -8.3289, -8.2717, -8.4442, -8.2598, -8.429, -8.3112, -10.1202, -10.1244, -10.1227, -10.1225, -10.1221, -10.1232, -10.1241, -10.1245, -10.1229, -10.1247, -10.1244, -10.1222, -10.1224, -10.1248, -10.1218, -10.1224, -10.1224, -10.1234, -10.125, -10.123, -10.125, -10.1217, -10.1252, -10.1224, -10.1229, -10.1249, -10.1224, -10.122, -10.1263, -10.1235, -10.1237, -10.1231, -10.1216, -10.1223, -10.1232, -6.0344, -5.9018, -6.1243, -6.3123, -6.4443, -6.6495, -6.4427, -7.0592, -7.2211, -7.3982, -7.2287, -7.5618, -7.8863, -8.0249, -7.9666, -8.0638, -8.1059, -8.0636, -8.1124, -8.176, -8.1786, -8.2142, -8.3003, -8.296, -8.4121, -8.4171, -8.5219, -8.5392, -8.461, -8.5987, -8.4652, -8.534, -10.1168, -10.1169, -10.1188, -10.1209, -10.1183, -10.1216, -10.1153, -10.1214, -10.1201, -10.1223, -10.1217, -10.1204, -10.1222, -10.1215, -10.1208, -10.1227, -10.1219, -10.1183, -10.1225, -10.1219, -10.1215, -10.1212, -10.121, -10.1203, -10.123, -10.1217, -10.121, -10.1221, -10.1222, -10.1229, -10.1219, -10.1169, -10.119, -10.1162, -10.1208, -10.1213, -10.1207, -10.1194, -10.1203, -5.9671, -6.2038, -6.2642, -6.2127, -10.1195, -6.5004, -6.6921, -6.8598, -6.9183, -7.0704, -7.3921, -7.4814, -7.6721, -7.6327, -7.6977, -7.8528, -7.8746, -7.9517, -8.1122, -7.9718, -8.1821, -8.2293, -8.3566, -8.3609, -8.2929, -8.3559, -8.4672, -8.4946, -8.5767, -8.6048, -8.5044, -8.4769, -8.5598, -10.1109, -10.113, -10.1132, -10.1129, -10.1136, -10.1132, -10.1132, -10.1128, -10.1134, -10.1135, -10.1115, -10.1152, -10.1139, -10.1137, -10.1079, -10.1124, -10.1143, -10.1118, -10.1144, -10.1138, -10.1143, -10.1149, -10.1133, -10.1119, -10.1144, -10.1134, -10.1145, -10.1133, -10.114, -10.1126, -10.1112, -10.1103, -10.1131, -10.1129, -10.1117, -10.1118, -10.1087, -10.1123, -10.1115, -10.112, -5.8772, -6.2041, -6.5075, -6.6048, -6.955, -6.806, -7.015, -7.0458, -7.0063, -7.341, -7.6247, -7.8675, -8.0565, -7.9818, -8.1315, -8.1081, -8.1275, -8.1838, -8.2255, -8.253, -8.1824, -8.4694, -8.4475, -8.4852, -8.5187, -8.4904, -8.5796, -8.5624, -8.7339, -8.6781, -10.0897, -10.0917, -10.0896, -10.0912, -10.0927, -10.0923, -10.0886, -10.0918, -10.0895, -10.0927, -10.0927, -10.0925, -10.0936, -10.0915, -10.0916, -10.0919, -10.0927, -10.0944, -10.0916, -10.0932, -10.0897, -10.0928, -10.0936, -10.0928, -10.0925, -10.0906, -10.0901, -10.0936, -10.0914, -10.0938, -10.0903, -10.0889, -10.0921, -10.0916, -10.0913, -10.0911, -10.0915, -10.0908, -10.0891, -10.0904, -10.0897, -10.0888, -6.6438, -6.4868, -6.9287, -6.9255, -10.089, -7.3118, -7.5218, -7.6585, -7.7261, -7.7641, -8.1089, -8.1975, -8.1501, -8.31, -8.3984, -8.5235, -8.6815, -8.6855, -8.707, -8.8009, -8.8681, -8.8163, -8.8638, -8.8825, -9.0233, -8.9634, -8.9621, -8.9678, -9.0481, -9.049, -9.1202, -10.0903, -10.0907, -10.093, -10.0912, -10.0915, -10.091, -10.0914, -10.0913, -10.0906, -10.0916, -10.0929, -10.0929, -10.0935, -10.0923, -10.0924, -10.0929, -10.0934, -10.0914, -10.0918, -10.0918, -10.0938, -10.0911, -10.0935, -10.0932, -10.0941, -10.0916, -10.0929, -10.0936, -10.0937, -10.0927, -10.0912, -10.0918, -10.091, -10.0916, -10.0914, -10.0918, -10.0911, -10.092, -10.0921, -10.0917, -10.091, -10.0906, -10.0913, -10.0918, -10.0908, -6.6509, -6.5518, -6.7928, -7.3374, -7.2033, -7.63, -7.5538, -7.5137, -7.7294, -8.0428, -8.1721, -8.2464, -8.335, -8.4724, -8.6327, -8.6256, -8.6854, -8.6817, -8.7612, -8.6838, -8.7581, -8.8218, -8.8209, -8.9357, -9.0408, -8.9944, -9.0397, -8.9775, -9.0825, -9.1548, -9.0885, -10.0692, -10.0686, -10.0686, -10.0692, -10.0688, -10.0686, -10.0687, -10.0688, -10.0687, -10.0687, -10.0691, -10.0692, -10.0692, -10.0686, -10.0689, -10.0692, -10.0688, -10.0692, -10.0692, -10.0684, -10.0692, -10.0691, -10.0687, -10.0692, -10.0692, -10.0692, -10.0692, -10.0691, -10.0692, -10.0688, -10.0682, -10.0687, -10.0682, -10.0688, -10.0688, -10.0681, -10.0683, -10.0686, -10.0684, -10.0681, -10.0682, -10.0683, -10.0683, -10.0686, -10.0682, -10.0682, -10.0684, -10.0683, -10.0685, -8.5267, -10.0684, -10.0683, -8.7256, -8.9158, -10.0678, -9.0221, -9.1705, -9.1332, -10.068, -9.1583, -10.0681, -10.0682, -9.4705, -9.578, -9.559, -10.0677, -10.068, -9.6468, -9.6314, -9.6325, -9.6487, -9.6756, -9.7422, -9.7666, -9.7805, -9.7915, -9.8175, -9.8205, -9.8344, -9.8442, -9.8533, -9.8468, -9.851, -9.8703, -9.8698, -9.8887, -9.8869, -9.8836], \"loglift\": [30.0, 29.0, 28.0, 27.0, 26.0, 25.0, 24.0, 23.0, 22.0, 21.0, 20.0, 19.0, 18.0, 17.0, 16.0, 15.0, 14.0, 13.0, 12.0, 11.0, 10.0, 9.0, 8.0, 7.0, 6.0, 5.0, 4.0, 3.0, 2.0, 1.0, 0.4999, 0.4955, 0.4953, 0.4936, 0.4933, 0.4931, 0.4927, 0.4917, 0.4916, 0.4916, 0.4912, 0.4911, 0.4907, 0.489, 0.489, 0.4889, 0.4889, 0.4886, 0.4881, 0.4879, 0.4875, 0.4875, 0.4873, 0.4869, 0.4864, 0.4861, 0.486, 0.4859, 0.4856, 0.4851, 0.4779, 0.4751, 0.4714, 0.4733, 0.4814, 0.473, 0.4723, 0.4709, 0.4755, 0.461, 0.4752, 0.4567, 0.4534, 0.4307, 0.4471, 0.4486, 0.4371, 0.4511, 0.4603, 0.1105, 0.4569, 0.4669, 0.0502, 0.2991, 0.2949, 0.3942, 0.3934, 0.3956, 0.3697, 0.1492, 0.0182, 0.0176, -0.0056, 0.079, 0.0326, 0.0873, 0.2114, 0.0115, 0.0032, 0.1384, 0.077, 0.1103, -0.0601, 0.2318, 0.2734, 0.0491, 0.1843, 0.2771, 0.0306, 0.1646, 0.0687, 0.2119, 0.0091, 0.0569, -0.0069, 0.0322, -0.0821, -0.0025, -0.0725, -0.0909, -0.0267, 0.0449, -0.0765, -0.0217, -0.0926, 1.6758, 1.6745, 1.6735, 1.6733, 1.6707, 1.6691, 1.6689, 1.6689, 1.6687, 1.6683, 1.6673, 1.6667, 1.6667, 1.6666, 1.6642, 1.6637, 1.6636, 1.6635, 1.6625, 1.6613, 1.6596, 1.6592, 1.6579, 1.6572, 1.6567, 1.6564, 1.6562, 1.6549, 1.6545, 1.6537, 1.6527, 1.6408, 1.6438, 1.6367, 1.6493, 1.6473, 1.5845, 1.6006, 1.6202, 1.5192, 1.4952, 1.4386, 1.5852, 1.3669, 1.5417, 1.3061, 1.3434, 1.5114, 1.5078, 1.1126, 1.1852, 0.8564, 0.0304, 0.1917, 0.8128, 0.1026, 0.1924, -0.0227, 0.0333, 0.1047, 0.607, 0.4702, 0.9889, 0.8584, -0.2867, 0.1956, -0.1689, 0.2465, 0.4557, 0.2993, 0.5715, -0.1847, 0.0778, 0.0677, 0.0393, -0.1516, 0.0713, 0.0017, 0.294, -0.0601, -0.081, -0.3431, -0.4579, 0.1784, -0.0173, 2.3661, 2.3639, 2.3626, 2.3605, 2.3586, 2.3567, 2.3565, 2.3537, 2.3527, 2.3489, 2.3473, 2.3436, 2.3405, 2.3402, 2.3384, 2.3369, 2.3367, 2.3348, 2.3343, 2.3335, 2.3333, 2.3326, 2.3306, 2.3301, 2.3258, 2.3239, 2.323, 2.3227, 2.3203, 2.3196, 2.2601, 2.2399, 2.2856, 2.2372, 2.249, 2.0687, 2.2539, 2.1102, 2.2537, 2.0282, 2.0393, 1.6671, 1.9744, 1.8649, 2.2069, 1.9959, 2.1379, 0.0701, -0.116, 0.0523, 0.0509, -0.0848, 0.135, 1.1192, -0.2081, 1.1952, -0.1024, 0.372, 1.0648, 0.0944, -0.1915, -0.056, 1.0735, 0.0547, -0.0586, 0.2625, 0.0707, 0.066, -0.1718, 1.0533, -0.0317, 0.2697, 0.3159, 0.1007, -0.1383, 0.0967, -0.0991, -0.2182, -0.2906, -0.2631, -0.1539, -0.1063, 3.3409, 3.3375, 3.3331, 3.3057, 3.3049, 3.3037, 3.2946, 3.2934, 3.2864, 3.2826, 3.282, 3.2817, 3.2812, 3.2806, 3.274, 3.2654, 3.2634, 3.2628, 3.2627, 3.2619, 3.2599, 3.2578, 3.2572, 3.2572, 3.2565, 3.2485, 3.2479, 3.2442, 3.241, 3.2324, 3.2301, 3.21, 3.17, 3.1578, 3.1946, 3.1046, 3.1525, 3.1168, 3.165, 2.9453, 3.0334, 3.1103, 2.6055, 0.207, 0.0219, 2.3365, -0.0023, 2.8304, 0.0563, 0.778, -0.445, -0.2132, 0.2613, -0.0987, -0.1166, 0.0323, 0.1372, 0.0858, 1.0541, -0.4576, 0.6814, 0.1325, -0.1591, 0.6507, 0.2012, 0.0899, 0.3099, 0.0095, 0.368, 0.1975, -0.0938, -0.1474, -0.0913, 0.2135, 0.0034, 0.4198, -0.4541, 3.4853, 3.476, 3.4703, 3.4678, 3.4656, 3.4654, 3.4605, 3.4578, 3.456, 3.4542, 3.4451, 3.4411, 3.4375, 3.4331, 3.4331, 3.4324, 3.429, 3.4174, 3.4173, 3.4145, 3.4136, 3.4135, 3.4116, 3.4081, 3.4043, 3.403, 3.4001, 3.399, 3.3878, 3.3869, 3.3868, 3.3663, 3.3499, 3.2754, 3.315, 3.3104, 3.121, 3.2265, 3.2825, 3.0165, 2.894, 2.8504, 0.1129, -0.1501, -0.0833, -0.0594, -0.0658, -0.0774, 0.0699, -0.1659, 1.5957, 0.0344, -0.2534, 0.2215, 0.0351, 0.4299, 2.2166, 0.2322, -0.1127, 0.0741, 0.2835, 0.0783, -0.3249, 0.0026, 0.8736, 0.0674, 0.2548, -0.2192, 0.3877, -0.003, -0.1938, -0.2933, -0.3962, -0.0761, 3.5533, 3.5447, 3.5338, 3.5334, 3.5293, 3.5255, 3.5246, 3.524, 3.5233, 3.5215, 3.5104, 3.5084, 3.508, 3.5009, 3.4999, 3.4949, 3.4898, 3.4825, 3.482, 3.4796, 3.4782, 3.4769, 3.476, 3.4735, 3.4716, 3.4688, 3.4643, 3.4606, 3.4582, 3.4579, 3.4452, 3.4484, 3.3695, 3.443, 3.367, 3.3866, 3.1654, 3.2576, 2.9652, 3.3774, 3.1483, 3.3372, 2.9689, 2.7964, 3.1901, 2.3823, 2.4869, 1.9952, 2.7561, -0.1951, 2.7664, 0.0588, -0.0855, -0.1278, -0.2264, -0.2434, 0.0169, -0.0165, 1.8777, 1.3841, 1.279, 1.1936, -0.3437, 0.2445, -0.0216, -0.1856, 0.1754, 0.4463, -0.3328, -0.0909, 0.0908, 1.0734, -0.0002, 0.0601, -0.0781, 0.2398, 0.4031, -0.632, -0.2223, 0.132, -0.1274, 3.7454, 3.7037, 3.6983, 3.6979, 3.6956, 3.6921, 3.6883, 3.6849, 3.6846, 3.6842, 3.6835, 3.6835, 3.6741, 3.6674, 3.6671, 3.6664, 3.6651, 3.6617, 3.6611, 3.6608, 3.6596, 3.6558, 3.6485, 3.6443, 3.6389, 3.6376, 3.6369, 3.6366, 3.6365, 3.6364, 3.6356, 3.6347, 3.6101, 3.5766, 3.5781, 3.6171, 3.5652, 3.404, 3.525, 3.2926, 3.172, 3.4999, 3.365, 3.2692, 3.0529, 2.8542, 3.3259, 2.3059, 3.3967, 3.3852, 2.7585, 3.1152, 2.2696, 0.1109, -0.1946, -0.126, 0.1654, 2.5, 1.3489, 0.0129, 1.9034, 2.8462, -0.3894, -0.3917, 0.9909, -0.69, -0.2587, -0.0442, 0.327, -0.4212, 0.3311, -0.1999, -0.3586, -0.1401, -0.5115, -0.1847, -0.2389, -0.2822, -0.2225, -0.2246, 4.2206, 4.2153, 4.1529, 4.1522, 4.152, 4.1509, 4.1492, 4.1461, 4.101, 4.0994, 4.0992, 4.0984, 4.0982, 4.0977, 4.0974, 4.0973, 4.097, 4.0969, 4.0967, 4.0948, 4.094, 4.094, 4.0862, 4.0824, 3.9659, 3.9637, 3.9567, 3.9544, 3.949, 3.9483, 3.892, 3.8644, 3.8738, 3.7455, 3.5515, 3.2528, 2.4652, 3.8728, 3.5333, 3.3317, 3.6597, -0.0157, -0.0037, 3.0452, -0.2093, 2.7931, 3.8015, 1.86, -0.1125, -0.2124, 0.0896, -0.1709, 0.0887, -0.5498, 1.8942, -0.0583, 0.297, 2.8284, -0.0162, -0.1076, -0.0939, -0.6767, 0.3048, 0.219, 0.7069, 0.4943, 0.5213, 0.7101, 0.5832, 0.089, -0.17, -0.2655, -0.0057, -0.4692, -0.509, 6.8081, 6.4283, 6.0964, 6.0946, 6.0939, 6.0937, 6.0935, 6.0931, 6.0928, 6.0924, 6.0918, 6.0914, 6.0897, 6.0894, 6.0892, 6.0886, 6.0879, 6.0876, 6.0875, 6.0869, 6.0864, 6.0831, 6.079, 6.0726, 6.0573, 6.057, 5.9913, 5.6864, 5.5818, 5.4026, 5.3366, 4.604, 5.2974, 3.5822, 3.4639, 4.9862, 4.9466, 2.8148, 1.664, 4.6938, -0.9149, -1.3151, 2.8947, -1.1504, -1.124, 3.5052, 3.5364, 1.4461, -1.2568, 2.523, -0.9134, -1.4807, -1.1964, -0.5846, 3.5245, -0.3795, -0.279, -1.6011, -1.2223, 1.2499, -1.2518, -0.5495, -0.4234, -0.4123, -0.8287, 0.171, -0.005, 7.1019, 7.097, 6.7974, 6.6213, 6.62, 6.6191, 6.6182, 6.6176, 6.6174, 6.616, 6.6158, 6.6157, 6.6149, 6.6145, 6.6138, 6.6137, 6.6102, 6.6095, 6.6081, 6.6053, 6.6025, 6.6017, 6.5973, 6.5964, 6.5907, 5.5592, 5.5466, 5.5251, 5.5248, 5.4981, 5.0294, 4.805, 5.0398, 4.0425, 4.7172, -1.9021, -1.6542, -1.868, 3.13, -1.5494, -1.7533, -2.0815, -1.4695, -1.6088, -1.7163, 1.3679, -1.6009, 2.6417, 3.6686, -1.5571, 1.4869, -1.7422, -1.8185, 1.0323, -1.5276, -1.5994, 2.9823, 3.9223, 3.9221, 3.922, 3.9207, 3.9198, 3.919, 3.9189, 3.9182, 3.9174, 3.9172, 3.9171, 3.917, 3.9169, 3.9168, 3.9167, 3.9166, 3.9165, 3.9163, 3.9162, 3.9162, 3.916, 3.9158, 3.9157, 3.9156, 3.9154, 3.9153, 3.9151, 3.9151, 3.9151, 3.9151, 3.9149, 3.9144, 3.9144, 3.9131, -1.9397, -2.0448, -2.0967, -2.0028, -2.1001, -2.1303, -1.9068, -2.0423, -2.186, -1.9745, -2.0144, -1.6208, -1.8833, -1.6878, -1.774, -1.6602, -2.0329, -1.7882, -1.7155, -2.1719, -1.5161, -2.0385, -1.7884, -2.0462, -2.189, -1.5243, -1.5272, -1.6156, -1.9964, -2.1211, -2.1485, -2.0552, 3.9381, 3.9338, 3.9327, 3.9327, 3.9325, 3.9325, 3.9317, 3.9316, 3.9314, 3.9307, 3.9307, 3.9305, 3.9305, 3.9304, 3.93, 3.93, 3.9296, 3.9296, 3.9295, 3.9294, 3.9293, 3.9292, 3.929, 3.9288, 3.9288, 3.9288, 3.9287, 3.9287, 3.9286, 3.9286, 3.9283, 3.9277, 3.9282, 3.9279, 3.9259, 3.9271, 3.9235, -2.133, -1.9883, -2.0435, -2.1349, -2.1315, -2.3078, -2.216, -2.2328, -1.8436, -1.9815, -1.9176, -2.6037, -2.0258, -2.0869, -1.9055, -1.7021, -1.9771, -1.9762, -1.9781, -2.0569, -2.1281, -2.0803, -1.9938, -1.9219, -1.9269, -2.0011, -1.9359, -1.786, -1.8694, -1.7352, -2.4757, -2.451, -2.1677, 3.9857, 3.9856, 3.9852, 3.985, 3.9847, 3.9846, 3.9844, 3.9843, 3.9841, 3.984, 3.9839, 3.9839, 3.9838, 3.9837, 3.9837, 3.9836, 3.9836, 3.9836, 3.9835, 3.9835, 3.9834, 3.9834, 3.9834, 3.9834, 3.9832, 3.9832, 3.9832, 3.9831, 3.9831, 3.9831, 3.9831, 3.983, 3.9824, 3.9829, 3.9823, 3.9799, 3.9808, 3.9817, 3.9813, 3.9806, 3.981, 3.9811, 3.9805, 3.9803, 3.9797, 3.979, 3.982, -2.8004, 3.9755, 3.9767, -2.8178, -2.3726, -2.8327, -2.6841, -2.8081, -2.6033, -3.2155, -2.8045, -2.3796, -2.6031, -2.5993, -2.5027, -2.607, 3.9775, -2.4765, -2.5593, -2.5378, -2.5891, -2.2917, -2.49, -2.5999, -2.6558, -2.4779, -2.6439, -2.4408, -2.1314, -2.7044, -2.6131, -2.3451, -2.2842, -2.468, 3.9891, 3.9876, 3.9872, 3.9871, 3.9859, 3.9857, 3.9854, 3.9853, 3.985, 3.9849, 3.9848, 3.9846, 3.9845, 3.984, 3.9839, 3.9839, 3.9837, 3.9835, 3.9835, 3.9835, 3.9833, 3.9833, 3.9833, 3.9832, 3.9832, 3.983, 3.9829, 3.9827, 3.9826, 3.9821, 3.9821, 3.9819, 3.9813, 3.9812, -2.5494, -2.6015, -2.8979, -2.6749, -2.8721, -2.7406, -2.6538, -2.7427, -2.8683, -2.5113, -2.3826, -2.5202, -2.7862, -2.3927, -2.6853, -2.4795, -2.5226, -2.2707, -2.3414, -2.6654, -2.2818, -2.34, -2.4276, -2.5595, -2.697, -2.4374, -2.7133, -2.0743, -2.7941, -2.1756, -2.6933, 3.9927, 3.9891, 3.9891, 3.989, 3.9887, 3.9886, 3.9886, 3.9885, 3.988, 3.9879, 3.9879, 3.9878, 3.9877, 3.9877, 3.9877, 3.9876, 3.9876, 3.9875, 3.9875, 3.9874, 3.9874, 3.9873, 3.9873, 3.9871, 3.987, 3.9869, 3.9868, 3.9868, 3.9868, 3.9867, 3.9865, 3.9863, 3.9854, 3.9855, 3.9854, -2.7327, -2.9811, -2.6377, -2.7625, -2.7127, -2.5028, -3.0717, -2.8898, -2.5612, -2.3144, -3.093, -2.7382, -2.9538, -2.5931, -2.8932, -2.6446, -2.5148, -2.6682, -2.554, -2.5581, -2.7129, -2.7113, -2.4559, -2.8206, -2.5206, -2.5533, -2.2684, -2.2157, -2.556, -2.0663, -2.7185, -2.7607, 3.9962, 3.9955, 3.9935, 3.9927, 3.9919, 3.9914, 3.9913, 3.9911, 3.9909, 3.9907, 3.9906, 3.9906, 3.9905, 3.9904, 3.99, 3.9899, 3.9898, 3.9898, 3.9898, 3.9897, 3.9896, 3.9896, 3.9896, 3.9896, 3.9895, 3.9894, 3.9893, 3.9893, 3.989, 3.9889, 3.9889, 3.9888, 3.9887, 3.9883, 3.9887, 3.9888, 3.9883, 3.9869, 3.9878, -3.0464, -2.7172, -2.7144, -2.911, 3.9857, -3.1294, -2.9605, -2.7241, -2.7489, -2.9237, -2.7322, -2.6578, -2.253, -2.7002, -2.6242, -2.4575, -2.4427, -2.4764, -2.3388, -2.8881, -2.7164, -2.7264, -2.4652, -2.4559, -2.7345, -2.738, -2.3649, -2.6309, -2.3235, -2.3236, -2.7577, -2.8858, -2.7153, 4.001, 4.0, 3.9998, 3.9998, 3.9994, 3.9992, 3.9992, 3.999, 3.999, 3.9988, 3.9987, 3.9984, 3.9984, 3.9984, 3.9984, 3.9983, 3.9982, 3.9981, 3.998, 3.9979, 3.9977, 3.9977, 3.9976, 3.9976, 3.9976, 3.9976, 3.9975, 3.9974, 3.9974, 3.9973, 3.9972, 3.997, 3.9973, 3.9973, 3.9969, 3.9966, 3.9947, 3.9968, 3.9957, 3.9955, -2.9565, -2.7175, -3.1365, -3.3031, -2.8083, -3.2561, -2.8456, -2.9101, -3.2746, -2.6811, -2.8011, -2.7941, -2.5536, -2.8981, -2.5136, -2.7127, -2.6957, -2.7646, -2.7502, -2.7874, -3.2499, -2.5644, -2.7008, -2.7118, -2.6743, -2.932, -2.5531, -2.9714, -2.4807, -2.8143, 4.0219, 4.0213, 4.021, 4.0207, 4.0203, 4.0201, 4.0201, 4.02, 4.0197, 4.0197, 4.0195, 4.0195, 4.0194, 4.0194, 4.0194, 4.0193, 4.0193, 4.0192, 4.0192, 4.0192, 4.0192, 4.0191, 4.0191, 4.019, 4.019, 4.019, 4.019, 4.0189, 4.0188, 4.0187, 4.0186, 4.0184, 4.0185, 4.0182, 4.018, 4.0178, 4.0177, 4.017, 4.0149, 4.0155, 4.0142, 4.0125, -3.1573, -3.5661, -3.5577, -3.6238, 4.0115, -3.762, -3.7902, -3.4891, -3.5904, -3.6173, -3.449, -3.1137, -3.3265, -3.2366, -3.4659, -3.0206, -3.0636, -3.2902, -3.2413, -2.9371, -2.8416, -3.2253, -3.432, -3.4633, -2.665, -3.119, -3.4037, -3.4924, -3.1567, -3.2756, -2.9594, 4.0211, 4.0206, 4.0206, 4.0205, 4.02, 4.0199, 4.0198, 4.0198, 4.0196, 4.0196, 4.0196, 4.0196, 4.0195, 4.0194, 4.0194, 4.0192, 4.0192, 4.0191, 4.019, 4.0189, 4.0189, 4.0189, 4.0189, 4.0189, 4.0189, 4.0189, 4.0187, 4.0187, 4.0187, 4.0187, 4.0187, 4.0183, 4.0181, 4.0181, 4.018, 4.0181, 4.0175, 4.0182, 4.0181, 4.0176, 4.0166, 4.0161, 4.0169, 4.0176, 4.0156, -3.2799, -3.6311, -3.4911, -3.168, -3.7168, -3.4832, -3.8222, -3.9638, -3.5937, -3.3829, -3.3485, -3.3139, -3.2512, -3.0068, -2.8594, -3.1503, -3.2662, -3.2864, -3.1701, -3.6103, -3.3262, -3.0751, -3.2626, -3.3178, -2.7097, -3.1029, -2.8966, -3.4746, -2.8291, -2.404, -3.062, 4.0444, 4.0444, 4.0443, 4.0439, 4.0439, 4.0439, 4.0437, 4.0437, 4.0437, 4.0436, 4.0435, 4.0434, 4.0433, 4.0433, 4.0431, 4.0431, 4.043, 4.0429, 4.0429, 4.0428, 4.0428, 4.0428, 4.0428, 4.0427, 4.0427, 4.0427, 4.0426, 4.0426, 4.0426, 4.0426, 4.0425, 4.0425, 4.0423, 4.0425, 4.0424, 4.0419, 4.0419, 4.0422, 4.0418, 4.0412, 4.0412, 4.0412, 4.0412, 4.0419, 4.0404, 4.0401, 4.0407, 4.0399, 4.0408, -5.1557, 4.0405, 4.0397, -5.4239, -5.9951, 4.0352, -5.5356, -5.0012, -5.4015, 4.0364, -5.6085, 4.0373, 4.038, -5.3237, -4.9181, -5.4233, 4.0296, 4.0341, -4.2276, -4.6989, -4.8089, -4.565, -4.6022, -4.3104, -4.3712, -4.1626, -4.0448, -4.3422, -4.3176, -4.3687, -4.0708, -3.8268, -4.2558, -4.2927, -3.7681, -4.0253, -3.3765, -3.6263, -4.0199]}, \"token.table\": {\"Topic\": [1, 2, 3, 4, 5, 6, 7, 8, 9, 10, 1, 2, 3, 4, 5, 6, 7, 8, 9, 10, 3, 1, 2, 3, 4, 5, 6, 7, 8, 6, 2, 4, 8, 1, 2, 3, 4, 6, 7, 9, 4, 1, 2, 3, 4, 5, 6, 7, 8, 3, 5, 4, 7, 9, 1, 2, 3, 4, 5, 6, 7, 8, 9, 1, 2, 3, 4, 5, 6, 7, 8, 9, 10, 1, 1, 2, 3, 5, 6, 7, 7, 1, 2, 3, 4, 5, 6, 7, 8, 9, 1, 2, 3, 4, 5, 6, 7, 8, 9, 7, 8, 4, 1, 1, 2, 7, 1, 8, 7, 1, 2, 5, 8, 2, 4, 5, 1, 5, 1, 2, 8, 1, 1, 2, 3, 4, 5, 6, 7, 8, 9, 10, 3, 1, 2, 3, 4, 5, 6, 7, 8, 9, 4, 1, 2, 7, 5, 1, 2, 3, 7, 2, 3, 1, 4, 4, 1, 2, 2, 1, 2, 3, 4, 6, 8, 2, 2, 3, 4, 4, 1, 8, 2, 1, 9, 1, 4, 6, 7, 1, 4, 6, 7, 6, 1, 1, 3, 3, 5, 8, 1, 2, 3, 4, 5, 6, 7, 8, 1, 2, 3, 4, 5, 6, 7, 8, 9, 7, 1, 2, 3, 4, 5, 6, 7, 8, 6, 1, 1, 6, 7, 9, 1, 1, 3, 4, 8, 5, 1, 2, 3, 7, 2, 6, 1, 2, 3, 8, 1, 1, 2, 7, 1, 2, 3, 4, 5, 6, 7, 8, 1, 5, 2, 3, 4, 5, 1, 3, 6, 7, 7, 1, 2, 3, 4, 5, 6, 7, 8, 5, 6, 1, 2, 3, 4, 5, 6, 8, 2, 5, 5, 4, 1, 2, 3, 10, 6, 1, 9, 2, 1, 2, 3, 5, 8, 1, 8, 1, 2, 3, 4, 5, 6, 7, 8, 8, 4, 4, 6, 1, 2, 3, 6, 7, 7, 1, 2, 3, 4, 5, 7, 8, 1, 2, 1, 3, 7, 8, 1, 2, 3, 4, 5, 6, 8, 1, 2, 3, 4, 5, 6, 7, 8, 9, 1, 4, 7, 1, 2, 3, 4, 5, 6, 7, 4, 1, 7, 2, 2, 1, 2, 3, 4, 5, 6, 7, 8, 1, 2, 3, 4, 5, 6, 7, 8, 3, 6, 6, 1, 2, 3, 4, 5, 6, 7, 8, 3, 1, 2, 4, 10, 1, 2, 4, 1, 2, 3, 4, 5, 6, 7, 8, 9, 5, 2, 4, 8, 1, 7, 8, 2, 8, 2, 1, 2, 3, 6, 1, 2, 7, 1, 2, 3, 4, 5, 6, 7, 8, 7, 5, 6, 1, 2, 3, 5, 6, 7, 1, 1, 2, 4, 5, 6, 7, 9, 1, 2, 3, 4, 5, 7, 1, 2, 4, 7, 1, 2, 3, 4, 5, 6, 7, 8, 6, 1, 2, 3, 4, 5, 6, 7, 8, 9, 1, 2, 3, 4, 5, 8, 1, 2, 3, 4, 5, 6, 7, 8, 1, 2, 3, 4, 5, 6, 7, 8, 9, 1, 5, 8, 8, 1, 2, 5, 7, 8, 1, 5, 6, 1, 2, 3, 4, 5, 6, 7, 8, 1, 2, 3, 4, 5, 8, 9, 1, 2, 3, 4, 5, 6, 7, 8, 1, 8, 6, 1, 2, 3, 7, 7, 1, 2, 3, 4, 5, 7, 9, 1, 9, 2, 8, 1, 7, 4, 8, 6, 1, 2, 3, 4, 5, 6, 7, 8, 2, 4, 5, 4, 3, 8, 5, 1, 5, 1, 3, 6, 7, 8, 1, 2, 3, 4, 5, 6, 7, 8, 9, 3, 4, 1, 2, 6, 8, 1, 2, 3, 4, 5, 6, 7, 8, 6, 2, 3, 7, 2, 3, 5, 6, 1, 2, 3, 4, 6, 2, 3, 6, 2, 1, 2, 3, 4, 5, 6, 7, 8, 9, 2, 1, 2, 3, 4, 5, 6, 7, 8, 1, 1, 2, 3, 4, 5, 6, 7, 8, 9, 1, 2, 3, 5, 7, 8, 1, 2, 3, 4, 5, 6, 7, 8, 1, 2, 3, 6, 1, 2, 3, 4, 7, 8, 2, 1, 2, 8, 3, 1, 2, 3, 4, 5, 6, 7, 8, 1, 2, 3, 6, 7, 8, 2, 7, 2, 3, 6, 7, 7, 1, 5, 5, 3, 8, 3, 4, 8, 7, 1, 2, 3, 4, 5, 6, 7, 8, 6, 7, 3, 8, 3, 1, 3, 2, 6, 7, 1, 3, 8, 7, 2, 1, 2, 3, 5, 6, 8, 7, 1, 2, 3, 4, 5, 1, 2, 7, 8, 1, 1, 2, 3, 4, 6, 7, 9, 6, 3, 5, 2, 3, 6, 2, 8, 1, 2, 3, 5, 6, 7, 2, 1, 2, 3, 4, 5, 6, 7, 8, 9, 1, 2, 3, 4, 5, 6, 7, 8, 9, 1, 2, 3, 4, 6, 7, 7, 6, 5, 7, 1, 6, 4, 1, 2, 3, 8, 8, 1, 2, 3, 4, 5, 6, 7, 8, 9, 1, 3, 4, 1, 1, 3, 6, 2, 1, 2, 3, 8, 6, 3, 1, 2, 3, 4, 5, 6, 7, 8, 1, 4, 1, 4, 5, 7, 1, 1, 2, 3, 4, 5, 3, 2, 7, 2, 8, 3, 2, 6, 5, 1, 2, 3, 4, 5, 6, 7, 8, 3, 2, 7, 1, 2, 5, 5, 4, 2, 4, 7, 2, 6, 7, 1, 2, 3, 4, 5, 6, 7, 8, 2, 7, 1, 3, 1, 2, 8, 1, 2, 3, 4, 5, 6, 7, 5, 1, 3, 1, 2, 3, 4, 5, 6, 7, 8, 9, 2, 3, 5, 6, 7, 4, 1, 2, 3, 4, 5, 6, 7, 8, 9, 10, 1, 1, 2, 4, 1, 2, 3, 4, 5, 6, 7, 8, 9, 1, 2, 3, 4, 5, 6, 7, 8, 9, 7, 1, 2, 3, 4, 5, 6, 7, 8, 1, 2, 3, 4, 5, 7, 1, 2, 3, 4, 5, 6, 7, 8, 1, 1, 4, 1, 2, 3, 4, 5, 6, 7, 8, 1, 2, 3, 4, 5, 6, 7, 8, 1, 2, 3, 5, 1, 2, 5, 1, 2, 3, 5, 6, 7, 1, 2, 5, 2, 1, 3, 4, 7, 3, 6, 3, 4, 6, 4, 6, 3, 2, 6, 1, 6, 2, 4, 1, 2, 5, 7, 8, 1, 9, 1, 2, 3, 4, 5, 6, 7, 8, 1, 2, 3, 5, 7, 1, 3, 2, 1, 2, 7, 1, 2, 3, 7, 8, 2, 1, 5, 6, 1, 7, 3, 3, 3, 7, 3, 8, 3, 1, 2, 3, 4, 5, 6, 7, 8, 8, 3, 1, 2, 3, 4, 5, 6, 7, 8, 1, 2, 3, 7, 1, 2, 7, 1, 2, 3, 4, 5, 6, 7, 8, 1, 2, 3, 5, 6, 3, 7, 5, 7, 1, 4, 8, 1, 2, 7, 1, 2, 8, 1, 2, 3, 3, 7, 1, 2, 3, 4, 6, 5, 2, 1, 2, 3, 4, 5, 6, 7, 8, 1, 2, 3, 4, 5, 7, 8, 5, 4, 2, 7, 1, 4, 1, 3, 4, 1, 2, 6, 7, 6, 6, 3, 8, 3, 4, 6, 7, 1, 3, 8, 5, 1, 4, 7, 8, 1, 2, 3, 4, 5, 6, 7, 8, 9, 1, 3, 5, 4, 8, 6, 3, 6, 1, 2, 3, 4, 5, 6, 7, 8, 1, 2, 3, 1, 2, 3, 4, 5, 6, 7, 8, 1, 2, 3, 6, 2, 3, 1, 2, 3, 4, 5, 7, 8, 4, 5, 1, 6, 1, 2, 4, 5, 6, 7, 1, 2, 3, 4, 7, 9, 1, 3, 2, 5, 1, 8, 1, 2, 3, 5, 7, 8, 1, 3, 4, 6, 1, 7, 1, 2, 3, 4, 5, 7, 2, 8, 5, 1, 2, 3, 9, 4, 2, 3, 6, 7, 6, 1, 2, 3, 4, 5, 6, 7, 5, 1, 2, 3, 4, 5, 6, 7, 8, 1, 2, 3, 6, 7, 8, 1, 2, 3, 4, 5, 6, 7, 8, 9, 1, 2, 3, 4, 5, 6, 7, 8, 9, 10, 1, 2, 3, 4, 5, 6, 7, 8, 1, 2, 3, 4, 5, 6, 7, 8, 1, 2, 3, 4, 5, 6, 7, 8, 9, 1, 2, 7, 2, 4, 1, 4, 9, 6, 1, 2, 3, 4, 5, 6, 7, 8, 9, 1, 2, 7, 1, 2, 3, 4, 5, 6, 7, 8, 1, 2, 7, 6, 3, 1, 3, 5, 8, 1, 5, 1, 2, 3, 4, 5, 8, 1, 2, 3, 4, 5, 6, 7, 8, 9, 1, 3, 1, 3, 5, 6, 8, 1, 2, 3, 8, 8, 2, 1, 2, 4, 1, 3, 5, 1, 2, 3, 4, 5, 6, 8, 7, 1, 2, 3, 4, 5, 6, 7, 2, 8, 4, 4, 8, 3, 4, 2, 4, 3, 3, 8, 1, 2, 3, 4, 5, 6, 7, 8, 9, 1, 2, 3, 4, 7, 1, 2, 3, 4, 5, 6, 7, 8, 1, 2, 3, 4, 5, 6, 7, 8, 1, 1, 2, 3, 4, 5, 6, 7, 8, 8, 1, 2, 3, 4, 5, 6, 7, 8, 9, 1, 2, 3, 4, 5, 6, 7, 8, 5, 1, 2, 3, 1, 2, 3, 4, 5, 6, 7, 8, 1, 2, 3, 4, 7, 9, 6, 6, 2, 4, 9, 3], \"Freq\": [0.6672509563705455, 0.1373687402365089, 0.07376092164517298, 0.04165516333979635, 0.03309362779169592, 0.02145872050837994, 0.011580025645187128, 0.01355576461782569, 0.0002744081906442447, 5.488163812884895e-05, 0.6084055319584495, 0.1788705094799145, 0.0973981417208123, 0.03461679484924769, 0.027191594770636873, 0.021814725748194555, 0.02032968573247239, 0.011009779426905703, 0.0003072496584252754, 5.120827640421257e-05, 0.982310481505559, 0.7185836246477723, 0.07236619541505833, 0.07617494254216667, 0.043165800773894446, 0.043165800773894446, 0.007617494254216667, 0.012695823757027777, 0.02793081226546111, 1.0013650706474237, 0.9952744300236611, 0.7073258127020499, 0.2357752709006833, 0.28085221638973173, 0.020060872599266553, 0.06018261779779966, 0.020060872599266553, 0.24073047119119864, 0.3610957067867979, 0.020060872599266553, 0.8414886241044314, 0.6249330843495041, 0.14043440097741666, 0.11849152582469531, 0.026331450183265624, 0.03159774021991875, 0.024576020171047916, 0.021942875152721353, 0.01053258007330625, 0.10126167873479712, 0.810093429878377, 0.26720490853364853, 0.26720490853364853, 0.26720490853364853, 0.6158586801106878, 0.17238871381684753, 0.09739962330651886, 0.02930608134886408, 0.023703448149816536, 0.03275385562520103, 0.020255673873479586, 0.008188463906300257, 0.0004309717845421188, 0.5940547865818671, 0.20274129447691844, 0.08341285710171606, 0.033759413361698964, 0.02784535554651083, 0.02408746464311003, 0.025812398172539903, 0.007823805651342644, 0.0003696286134492588, 6.16047689082098e-05, 0.9549155092459435, 0.09182390889469727, 0.7204645159430093, 0.09182390889469727, 0.007063377607284405, 0.07769715368012846, 0.007063377607284405, 0.9224065954727898, 0.6450775660037226, 0.15720377658914247, 0.07649379167364405, 0.038849209157086936, 0.026501786091656206, 0.026802942751788662, 0.01626245964715267, 0.012347423065430732, 0.0006023133202649137, 0.6934033683203645, 0.1297352209305548, 0.08553108315381336, 0.028771923996695623, 0.021448161524809464, 0.014647524943772318, 0.013862836107498801, 0.012293458434951767, 0.0002615629454245057, 0.9233170575465424, 0.9994776515009745, 0.9628544685346871, 0.9598767410591894, 0.18381891936968345, 0.09190945968484172, 0.6433662177938921, 0.5323870897419626, 0.4259096717935701, 0.8023729772665718, 0.1836992592810489, 0.1836992592810489, 0.5510977778431467, 0.09184962964052445, 0.9992305987600948, 0.8437316687010793, 0.9890206963144847, 0.9601405095619447, 0.9419510141126772, 0.6428538271156731, 0.04945029439351331, 0.29670176636107987, 0.9618333686343018, 0.5625698378265012, 0.22165897066173604, 0.09555894544863194, 0.0358149260124609, 0.027392514840299764, 0.02896679730238596, 0.015585396374653315, 0.01212197495806369, 0.000236142369312929, 7.871412310430967e-05, 0.9279761955054523, 0.1549923526707262, 0.3168226032533962, 0.12308216241498844, 0.02735159164777521, 0.025072292343793944, 0.10940636659110084, 0.2324885290060893, 0.0068378979119438025, 0.004558598607962535, 0.8748235704828443, 0.9568960547541704, 1.0004657958268839, 1.0334983029781952, 0.7897918413339721, 0.9604532699306687, 0.018121759810012617, 0.009060879905006309, 0.009060879905006309, 0.9638075298473329, 0.017523773269951505, 0.6981771472945454, 0.9778808707502133, 0.9469215203278004, 0.9720275945889969, 0.02314351415688088, 0.9421918780770767, 0.24123464136774453, 0.4342223544619402, 0.19298771309419563, 0.04824692827354891, 0.04824692827354891, 0.04824692827354891, 0.9896414959765374, 0.9440291402597658, 0.03371532643784878, 0.9778351687346004, 0.9489366751726898, 0.2624748018681779, 0.5249496037363558, 0.9808400774926108, 0.968097942948961, 0.910378125120949, 0.06530898529156134, 0.016327246322890336, 0.21225420219757438, 0.7020715918842845, 0.2051327770464019, 0.051283194261600475, 0.2051327770464019, 0.5128319426160047, 0.9412850654017859, 0.9630826168917086, 0.20169004989000325, 0.7395301829300119, 0.4732836227606309, 0.15776120758687698, 0.39440301896719243, 0.6029172749570877, 0.19778678351452358, 0.0789485060247048, 0.038643216106829185, 0.03199492086264352, 0.0299173285988355, 0.012465553582848125, 0.007063813696947271, 0.5814117657002426, 0.17579079142112597, 0.10026585881056814, 0.04101785133159606, 0.022136618178956603, 0.031251696252644616, 0.031902773257908044, 0.014974771121058878, 0.0006510770052634295, 0.9586800882089168, 0.6033168482440495, 0.1757028014184425, 0.10372815987353834, 0.02222746283004393, 0.019052110997180512, 0.03387041955054313, 0.020110561608134986, 0.023285913440998403, 0.9713323726671073, 0.9616239236485449, 0.25494255884241873, 0.25494255884241873, 0.25494255884241873, 0.25494255884241873, 0.9705030455650221, 0.9601757550727279, 0.1678370182328001, 0.8391850911640004, 0.7127972433689354, 0.7875379445716653, 0.05845952487055606, 0.8476631106230628, 0.02922976243527803, 0.05845952487055606, 0.9661945612236533, 0.042008459183637104, 0.3051528242357334, 0.043593260605104774, 0.5885090181689144, 0.043593260605104774, 0.9615032865375139, 0.9530509008969352, 0.02412787090878317, 0.012063935454391585, 0.7378641032283018, 0.07545223897553684, 0.06271354927836828, 0.03135677463918414, 0.025477379394337113, 0.014698488112117564, 0.02939697622423513, 0.0225376817719136, 0.9517082083736228, 0.023212395326185922, 0.21934586707126116, 0.10967293353563058, 0.05483646676781529, 0.6032011344459682, 0.08616493046110126, 0.1723298609222025, 0.68931944368881, 0.08616493046110126, 0.8022879511436768, 0.38083689332263015, 0.41192561930815097, 0.09456154153929251, 0.02590727165460069, 0.019430453740950517, 0.04922381614374131, 0.015544362992760413, 0.0012953635827300345, 1.0189132415693753, 0.9424371295120619, 0.14549527558333175, 0.4322065539387208, 0.2610356414877423, 0.01283781843382339, 0.05563054654656802, 0.07702691060294034, 0.01283781843382339, 0.9319516889600898, 0.8598671387029427, 0.8577616741420978, 0.9489323306512057, 0.7265852375198558, 0.19120664145259364, 0.03824132829051873, 0.03824132829051873, 0.989742301965733, 0.5333594238985043, 0.5333594238985043, 0.990980455137155, 0.6290102105907303, 0.03700060062298413, 0.07400120124596826, 0.03700060062298413, 0.2220036037379048, 0.35177336063745573, 0.5276600409561836, 0.6011549151372959, 0.19605445169507096, 0.08149251305397529, 0.04015573107007478, 0.022439967362688846, 0.02834522193181749, 0.015353661879734474, 0.014172610965908746, 1.0000401240833194, 0.8183234480156384, 0.949362747594507, 0.9896844084454969, 0.07759832039594128, 0.6983848835634715, 0.0862203559954903, 0.12070849839368643, 0.00862203559954903, 0.9509470000577627, 0.8050796186816461, 0.07256082400135007, 0.03800805066737385, 0.031097496000578605, 0.034552773333976224, 0.006910554666795245, 0.010365832000192868, 0.10401578863307032, 0.9014701681532761, 0.24574154301019002, 0.061435385752547506, 0.6757892432780226, 1.0011166714129973, 0.6183455465301142, 0.06967273763719598, 0.18724548239996416, 0.008709092204649497, 0.0043545461023247484, 0.02177273051162374, 0.08709092204649496, 0.6041691856075437, 0.15104229640188593, 0.07552114820094297, 0.0323662063718327, 0.021577470914555134, 0.04315494182911027, 0.05394367728638783, 0.010788735457277567, 0.010788735457277567, 0.17419109206377542, 0.8274076873029332, 0.8660427288834541, 0.23127007781946485, 0.4919745291795889, 0.16819642023233808, 0.004204910505808452, 0.008409821011616903, 0.08409821011616904, 0.012614731517425357, 0.9481420125558597, 0.9473425958936151, 0.027066931311246146, 0.9852382250316214, 0.99474063561898, 0.7852400453552083, 0.07011071833528645, 0.06076262255724826, 0.021033215500585935, 0.01635916761156684, 0.004674047889019097, 0.025707263389605033, 0.018696191556076387, 0.5534375823417106, 0.2927555151967865, 0.06005241337369979, 0.012283448190074958, 0.023884482591812417, 0.042992068665262353, 0.0068241378833749766, 0.008188965460049972, 0.08628748619997849, 0.8628748619997849, 1.0016347917662174, 0.61805813004718, 0.13563719143569336, 0.10906908177303178, 0.0461446115193596, 0.03915300371339602, 0.013983215611927152, 0.01118657248954172, 0.027966431223854303, 0.9831934985515702, 0.20242731940966102, 0.6578887880813984, 0.050606829852415255, 0.050606829852415255, 0.9676185372184342, 0.09419072048958844, 0.847716484406296, 0.5239624012952068, 0.2234545534935441, 0.06934796487730678, 0.038526647154059325, 0.03082131772324746, 0.03082131772324746, 0.053937306015683056, 0.03082131772324746, 0.0038526647154059324, 0.7900168651742869, 0.17268728766995795, 0.7770927945148107, 0.9546205569785882, 0.9605191390202444, 0.9557346902404296, 1.0050357339171556, 0.9856522601573536, 1.003783021930065, 0.9672997519259137, 0.026770895782684358, 0.8298977692632151, 0.053541791565368715, 0.08031268734805307, 0.9661474336100707, 0.022732880790825194, 0.011366440395412597, 0.586337868921192, 0.09441033482629363, 0.08447240484457852, 0.029813789945145358, 0.019875859963430238, 0.009937929981715119, 0.15403791471658435, 0.019875859963430238, 0.8025857154897836, 0.8951657020561381, 0.9259045512111013, 0.07028062210708572, 0.6777059988897551, 0.05522048879842449, 0.010040088872440817, 0.11044097759684898, 0.07530066654330612, 0.9606497516304242, 0.66864791723937, 0.156017847355853, 0.022288263907979, 0.022288263907979, 0.066864791723937, 0.022288263907979, 0.022288263907979, 0.3226968226233651, 0.4840452339350476, 0.05378280377056085, 0.026891401885280424, 0.1075656075411217, 1.0343849059553296, 0.9333578009257095, 0.03414723661923327, 0.011382412206411093, 0.011382412206411093, 0.5041868341194685, 0.22917583369066752, 0.11367121351057109, 0.012833846686677381, 0.07150286011148826, 0.0458351667381335, 0.009167033347626702, 0.014667253356202722, 0.7099679912044177, 0.6639130725621049, 0.17264278751136952, 0.060932748533424536, 0.013963754872243122, 0.017772051655582155, 0.036813535572277324, 0.0228497807000342, 0.0114248903500171, 0.001269432261113011, 0.8620796208843283, 0.04190664823743263, 0.04190664823743263, 0.03591998420351368, 0.011973328067837893, 0.005986664033918947, 0.5935605056771367, 0.22774987144827316, 0.08263490910955044, 0.023178084262434877, 0.019147113086359246, 0.02720905543851051, 0.01813937029234034, 0.00906968514617017, 0.6518937718603294, 0.11588180039546697, 0.0996958809070313, 0.043866187599093776, 0.030729789173696707, 0.022754118701134203, 0.022050383071202218, 0.012901819882086404, 0.00023457854331066188, 0.1316302444375354, 0.8555965888439802, 0.8383780474427339, 1.0000230203497764, 0.14137513173409666, 0.07068756586704833, 0.07068756586704833, 0.636188092803435, 0.14137513173409666, 0.24024862332785096, 0.7207458699835528, 0.9415465106055498, 0.5931976348296072, 0.19572745673394995, 0.0879154060979917, 0.031001748466133915, 0.022210207856334745, 0.02730004715674479, 0.0319271737934812, 0.010642391264493734, 0.48726455552284287, 0.20302689813451785, 0.12181613888071072, 0.08121075925380715, 0.040605379626903575, 0.040605379626903575, 0.040605379626903575, 0.48480585105498347, 0.3247141993047397, 0.11780329091055673, 0.006041194405669576, 0.012082388811339152, 0.03624716643401745, 0.010572090209921758, 0.007551493007086969, 0.26837032910007125, 0.8051109873002138, 0.8355373068380334, 0.038068667234100476, 0.22841200340460285, 0.6852360102138085, 0.038068667234100476, 1.0340840832232079, 0.7703126971553725, 0.03501421350706239, 0.12838544952589542, 0.023342809004708257, 0.023342809004708257, 0.011671404502354129, 0.011671404502354129, 0.6881913983570982, 1.1085793974536122, 0.9580981919951668, 0.7117339787300814, 0.8870205371810397, 0.8017301864100735, 0.26795804172570964, 0.5359160834514193, 0.9428892044892344, 0.5181634897196815, 0.24517979757467856, 0.09267964856774791, 0.04886745106299435, 0.03791440168680596, 0.03033152134944477, 0.012638133895601988, 0.013480676155308785, 0.9878451110049066, 0.9509178096233651, 0.8585798497191673, 0.9794900509191973, 0.9382212705722567, 0.9997712467921687, 0.7908593810477333, 0.15399205173991568, 0.7699602586995784, 0.20916189629573365, 0.24402221234502258, 0.4183237925914673, 0.034860316049288936, 0.06972063209857787, 0.6276634629448306, 0.19034964394704731, 0.06775912384063511, 0.03432534562979542, 0.029867508535016792, 0.025409671440238167, 0.018277132088592364, 0.006686755642167939, 0.0004457837094778626, 0.980765180172754, 0.843327929260917, 0.3489491379775617, 0.04984987685393739, 0.04984987685393739, 0.49849876853937386, 0.23538740621392182, 0.09629484799660439, 0.07489599288624785, 0.042797710220713055, 0.021398855110356527, 0.3316822542105262, 0.19258969599320877, 0.010699427555178264, 0.9420076412783155, 0.08441120071119868, 0.8441120071119868, 0.8729504401949729, 0.06837587544676553, 0.7293426714321657, 0.06837587544676553, 0.13675175089353106, 0.38118517766571913, 0.12037426663127972, 0.0401247555437599, 0.02006237777187995, 0.441372310981359, 0.2750190352962493, 0.05500380705924987, 0.6600456847109984, 0.9574102637969553, 0.6862628742327178, 0.08439315169135779, 0.06973805349345734, 0.07378083920322298, 0.04548133923486348, 0.016171142839062572, 0.014655098197900455, 0.009096267846972697, 0.0005053482137207054, 0.5243619410845407, 0.6005776209682904, 0.16206062788033232, 0.09321134152594278, 0.051901769713309044, 0.03601347286229607, 0.029658154121890882, 0.011651417690742847, 0.01588829685101297, 0.9635138583990581, 0.5993209647618389, 0.2217829499738381, 0.07498881243134559, 0.02145906267689449, 0.02511417774823366, 0.026882781815010682, 0.023345573681456643, 0.006956509329322939, 0.00023581387557026912, 0.9207995641182015, 0.04491705190820495, 0.016843894465576856, 0.011229262977051237, 0.0056146314885256185, 0.0056146314885256185, 0.3727453795667285, 0.43066199232809266, 0.06979694358420813, 0.016335454881410413, 0.02227562029283238, 0.05346148870279771, 0.02970082705710984, 0.0059401654114219675, 0.07628281467141769, 0.8848806501884452, 0.015256562934283537, 0.015256562934283537, 0.20145817654754666, 0.7731638126959899, 0.010889631164732252, 0.005444815582366126, 0.005444815582366126, 0.005444815582366126, 0.9318193237425707, 0.22615307981574878, 0.07538435993858293, 0.6784592394472463, 0.9689920758910979, 0.6528229245848951, 0.15946819531844766, 0.0926908885288477, 0.028903610401468636, 0.020930200635546254, 0.01395346709036417, 0.015946819531844767, 0.014950143311104468, 0.031007924672189165, 0.01033597489072972, 0.01033597489072972, 0.5271347194272158, 0.4031030207384591, 0.02067194978145944, 0.9929251015747325, 1.0342352209449726, 0.04769430599397943, 0.28616583596387657, 0.6200259779217326, 0.04769430599397943, 0.8002248166601821, 0.9558705269301285, 0.9393429222612851, 0.789021910994926, 0.21948853416654593, 0.6584656024996378, 0.9811987934718087, 0.9324991068342461, 0.9994771157429737, 0.9587270270261754, 0.6181558248589437, 0.12241909472696727, 0.12969151619589603, 0.047270739548036865, 0.035150037099822284, 0.014544842937857499, 0.007272421468928749, 0.024241404896429165, 0.9428156194631162, 0.8735125578892364, 0.8199210228745291, 0.10249012785931613, 1.0018641425037031, 0.9557331042291807, 0.03675896554727618, 0.7296080025991836, 0.10293155069113354, 0.8234524055290683, 0.5513234609141181, 0.1837744869713727, 0.21440356813326814, 0.8041747783940538, 0.9936698415947691, 0.39398359604200994, 0.07750496971318228, 0.47794731323129075, 0.01937624242829557, 0.006458747476098523, 0.012917494952197047, 0.8019180993034664, 0.8864942822008323, 0.008363153605668229, 0.033452614422672916, 0.041815768028341145, 0.025089460817004687, 0.5298987447560647, 0.06234102879483114, 0.40521668716640236, 0.03117051439741557, 0.9573796429449752, 0.07882546744985283, 0.09459056093982339, 0.03153018697994113, 0.047295280469911695, 0.18918112187964678, 0.5517782721489698, 0.015765093489970565, 0.866341327857488, 0.9294954399682085, 0.7897080841623207, 0.03567100479571806, 0.8561041150972334, 0.10701301438715417, 0.9974202803857279, 0.7112500286523061, 0.8863198873254299, 0.024850090298843826, 0.041416817164739717, 0.008283363432947943, 0.024850090298843826, 0.008283363432947943, 0.9950515570155071, 0.5959312971903683, 0.19674038469960764, 0.08201841895128763, 0.04152831339305702, 0.024397884118421, 0.029069819375139916, 0.01868774102687566, 0.011420286183090681, 0.0005191039174132128, 0.5236604354252338, 0.21951422293077982, 0.11636898565005195, 0.04496074445570189, 0.03702649543410744, 0.031736996086377804, 0.007934249021594451, 0.013223748369324086, 0.002644749673864817, 0.5099590176020081, 0.1204069902671408, 0.08499316960033468, 0.035413820666806116, 0.02124829240008367, 0.22664845226755917, 0.8015280359880972, 0.8910614457303669, 0.9059186834388355, 0.8737725620763759, 0.958309081055041, 0.9425113228579288, 0.9781983075776761, 0.8905627278714566, 0.01729248015284382, 0.06916992061137528, 0.01729248015284382, 0.7123480980889236, 0.5842583402059472, 0.21870633055837596, 0.06717408724292977, 0.04217907803625822, 0.029681573432922454, 0.02890047939521397, 0.022651727093546084, 0.006248752301667885, 0.0007810940377084856, 0.955307230421795, 0.8289604488588543, 0.09210671653987271, 0.9542904317321256, 0.956204316112006, 0.10241608111722761, 0.8193286489378209, 0.9891594418474081, 0.17059422304701086, 0.6397283364262907, 0.12794566728525814, 0.9992994939121388, 0.703458519601472, 0.990955759852352, 0.46989220684996885, 0.33589252809047204, 0.07414648891358824, 0.025013273368439407, 0.02233327979324947, 0.04109323481957903, 0.025013273368439407, 0.0071466495338398306, 0.30468864401835655, 0.7109401693761652, 0.9520210869013703, 0.045334337471493825, 0.8564136605805759, 0.8017483683208327, 0.9645243048163837, 0.6776805234589595, 0.07260862751345994, 0.07260862751345994, 0.04840575167563996, 0.09681150335127992, 0.9912768680427877, 0.9628396244352985, 0.8733622414831549, 0.9272257593895827, 0.04415360758998013, 0.990404203577697, 0.14411411162387266, 0.864684669743236, 0.8581003575057335, 0.6397629491378, 0.13644233512417533, 0.1182500237742853, 0.025469235889846065, 0.03941667459142843, 0.014553849079912038, 0.007883334918285686, 0.018192311349890047, 0.9698307311172384, 0.18695202713265488, 0.7478081085306195, 0.1590389693091794, 0.8217013414307602, 0.9417129204035898, 0.7899655211262401, 0.9485201306469545, 0.168029478124374, 0.8401473906218699, 0.8740527074219234, 0.993333198300162, 0.16230714577006233, 0.8115357288503117, 0.7155700827665076, 0.12248496912219499, 0.08380550518887026, 0.02256302062777276, 0.014504798974996775, 0.016116443305551974, 0.009669865983331184, 0.016116443305551974, 0.8184894612121782, 0.9227299142579627, 0.11388934102853004, 0.8731516145520637, 0.24316554109110583, 0.12158277054555292, 0.6079138527277645, 0.2768542022576023, 0.16504769749972448, 0.2768542022576023, 0.02129647709673864, 0.04791707346766194, 0.2023165324190171, 0.00532411927418466, 0.7882802510682951, 0.9637924121954419, 0.9273951485520922, 0.6325826330385335, 0.1513419101078548, 0.08164497782134272, 0.046464621524341394, 0.02920633352958602, 0.02987011383707661, 0.0152669470722836, 0.013275606149811827, 0.0006637803074905912, 0.812768411727246, 0.04671082826018655, 0.00934216565203731, 0.11210598782444772, 0.00934216565203731, 0.9448051612854502, 0.6080676160904748, 0.18921305312345804, 0.095689431652446, 0.02736796501993826, 0.027696118077731285, 0.025070893615387085, 0.015620085550947975, 0.010960312130287024, 0.00026252244623441975, 6.563061155860494e-05, 0.9652501068335424, 0.2942019932080962, 0.0490336655346827, 0.6374376519508751, 0.5504567203850763, 0.22243441824294682, 0.09585067270386902, 0.03681882983227985, 0.03681882983227985, 0.0249516036879913, 0.01886584669092025, 0.013388665393556307, 0.0003042878498535524, 0.5453564590844686, 0.23428317838696008, 0.0968435685190357, 0.030813862710602265, 0.037172278825488445, 0.02396633766380176, 0.012227723297858041, 0.0180970304808299, 0.0004891089319143217, 1.0342240774612692, 0.604871945204839, 0.15933966842991923, 0.08044332775102718, 0.02320480608202707, 0.021657819009891933, 0.01701685779348652, 0.08817826311170288, 0.004640961216405414, 0.509474828964441, 0.0926317870844438, 0.0463158935422219, 0.03087726236148127, 0.03087726236148127, 0.2778953612533314, 0.5554528603700744, 0.18320041666987052, 0.13188629504735153, 0.036910157658303154, 0.03195879504560395, 0.035109662162776174, 0.017554831081388087, 0.007652105855989679, 0.9626522846250767, 0.0746815368843968, 0.8961784426127616, 0.6585300730764468, 0.12443795695257273, 0.09580621464490113, 0.041846392603520036, 0.037441509171570554, 0.019821975443772646, 0.013214650295848432, 0.008809766863898954, 0.7038267896739399, 0.12934565174471413, 0.07457767307803337, 0.02680135126241824, 0.029131903546106782, 0.011652761418442714, 0.008156932992909899, 0.016313865985819798, 0.3555534178299396, 0.05079334540427709, 0.05079334540427709, 0.5079334540427709, 0.06306551267257032, 0.9144499337522697, 0.9679342802097212, 0.22945107977866563, 0.06555745136533304, 0.1311149027306661, 0.03277872568266652, 0.4261234338746648, 0.1311149027306661, 0.16980020791136163, 0.08490010395568082, 0.7641009356011274, 0.9894998401573194, 0.4320730723967093, 0.05400913404958866, 0.4590776394215036, 0.02700456702479433, 0.16678152420966394, 0.8339076210483196, 0.9816576484959607, 0.9807331903814973, 0.9471553698551463, 0.9480733105066942, 0.9459147205522338, 0.9814247639829506, 0.9564947528673754, 0.9885880565456401, 0.1441482077320129, 0.7207410386600646, 0.145173249655812, 0.72586624827906, 0.3046842067396058, 0.016926900374422543, 0.033853800748845086, 0.6262953138536341, 0.016926900374422543, 0.7644574889947409, 0.254819162998247, 0.40256204655612415, 0.2827752912394238, 0.12175047261697414, 0.011782303801642658, 0.05498408440766574, 0.09818586501368881, 0.019637173002737762, 0.007854869201095105, 0.2971276493813925, 0.15638297335862764, 0.23457446003794147, 0.265851054709667, 0.03127659467172553, 0.4110875092052459, 0.4110875092052459, 0.9313585094981016, 0.9446498154878414, 0.023915185202223833, 0.023915185202223833, 0.26799644962535357, 0.1443057805674981, 0.08246044603857033, 0.494762676231422, 0.020615111509642584, 0.9979009522155419, 0.13621991650246013, 0.8173194990147608, 0.9899274008894388, 0.09368912903478288, 0.8432021613130459, 0.9444857383663401, 1.0023740234219425, 0.1515021472593732, 0.8332618099265525, 0.9368444728558818, 1.0019483568510599, 0.9189500397295626, 0.4972692750511734, 0.26943673867314577, 0.07528379462926131, 0.03367959233414322, 0.029717287353655784, 0.07924609960974875, 0.007924609960974875, 0.005943457470731156, 0.8385251822411627, 0.9813270559220677, 0.6672621249383877, 0.1689432803574872, 0.07319456982742518, 0.021703041053480723, 0.02000084175516851, 0.021703041053480723, 0.0191497421060124, 0.008510996491561068, 0.9453794290103221, 0.02250903402405529, 0.011254517012027645, 0.011254517012027645, 0.9648828257492508, 0.024122070643731272, 0.012061035321865636, 0.45534017794121523, 0.25858824920118395, 0.11242967356573216, 0.007495311571048811, 0.039350385748006256, 0.08994373885258573, 0.009369139463811012, 0.02623359049867084, 0.23369183973103919, 0.029211479966379898, 0.6426525592603578, 0.029211479966379898, 0.029211479966379898, 0.9376785563248563, 0.8740420135267716, 0.8594752476178394, 0.8022135964595256, 0.0777114475218983, 0.5439801326532882, 0.3108457900875932, 0.92127452856382, 0.05830851446606456, 0.011661702893212911, 0.963654727267509, 0.9849685446737323, 1.0003458675906243, 0.05870393819058643, 0.23481575276234573, 0.7044472582870372, 1.0059394732650746, 0.9110086741889873, 0.5664953560682342, 0.020981309484008673, 0.04196261896801735, 0.35668226122814745, 0.020981309484008673, 0.9844960178603832, 0.9599886222155758, 0.36440930822111367, 0.4329072984882403, 0.11507662364877273, 0.019179437274795454, 0.01643951766411039, 0.03835887454959091, 0.00547983922137013, 0.01095967844274026, 0.34833980873887677, 0.2936418222426895, 0.2619745669027916, 0.01727304836721703, 0.05757682789072343, 0.014394206972680857, 0.0028788413945361716, 0.9020701960272566, 0.9480336165900822, 0.9928267442002713, 0.9482459908650155, 0.9626495950905601, 0.9496059587456197, 0.9961516820575289, 0.9895068723822044, 0.9779379481222664, 0.08616669166823351, 0.04308334583411676, 0.7755002250141017, 0.04308334583411676, 0.9714024685917958, 0.9421146682175141, 0.15622399598337916, 0.7811199799168957, 0.9276703949683656, 0.09311124910086092, 0.18622249820172185, 0.6517787437060265, 0.28213047520167256, 0.07053261880041814, 0.6347935692037633, 0.9690787288407022, 0.048198447501730086, 0.048198447501730086, 0.8675720550311415, 1.0008068045504306, 0.5877399964833133, 0.17763783475801634, 0.08443279800226702, 0.06688832049530245, 0.03070283563718801, 0.026316716260446866, 0.008772238753482289, 0.01644794766277929, 0.001096529844185286, 0.05405972507468399, 0.05405972507468399, 0.9190153262696278, 0.8941761991731036, 0.08128874537937306, 0.8678782665542386, 0.9908544726046921, 0.8914720402334197, 0.47477724683836225, 0.39762594422712844, 0.05934715585479528, 0.005934715585479529, 0.011869431170959057, 0.023738862341918115, 0.017804146756438585, 0.005934715585479529, 0.08426060393392569, 0.08426060393392569, 0.8426060393392568, 0.3167744953178581, 0.23162006109262745, 0.26568183478271973, 0.05790501527315686, 0.04428030579711995, 0.074935902118203, 0.006812354738018455, 0.0034061773690092275, 0.5387307376478973, 0.38480766974849806, 0.07696153394969961, 0.9427711182926889, 0.1423138535457475, 0.8538831212744851, 0.7873461816878816, 0.1244602211602837, 0.043290511707924764, 0.01352828490872649, 0.010822627926981191, 0.01352828490872649, 0.0054113139634905955, 0.9511240812892257, 0.906388912542187, 0.144046679815878, 0.8642800788952678, 0.12944554539856828, 0.0862970302657122, 0.0431485151328561, 0.0431485151328561, 0.12944554539856828, 0.6040792118599854, 0.509165994056447, 0.09257563528299036, 0.04628781764149518, 0.13886345292448554, 0.13886345292448554, 0.04628781764149518, 0.9498381042595413, 0.04633356606144104, 0.1370500700195643, 0.8223004201173857, 0.2705292345512512, 0.5410584691025024, 0.518706125936406, 0.003990047122587738, 0.29925353419408035, 0.011970141367763214, 0.003990047122587738, 0.15960188490350952, 0.9420146880522694, 0.017773862038722065, 0.03554772407744413, 0.9107259736903045, 0.22079347021857335, 0.7727771457650068, 0.49310474744008104, 0.30109935905633267, 0.017455035307613487, 0.013091276480710116, 0.14400404128781127, 0.026182552961420233, 0.9926932332410201, 0.9550618649687073, 1.0251560971179903, 0.8105588712708254, 0.06235068240544811, 0.06235068240544811, 0.06235068240544811, 0.9984194229622285, 0.8351675665587988, 0.04772386094621708, 0.09544772189243415, 0.01193096523655427, 1.0018628103298703, 0.3485383743869443, 0.325302482761148, 0.09875253940963422, 0.005808972906449071, 0.03485383743869443, 0.18007816009992123, 0.005808972906449071, 0.9903659028568322, 0.25882586254283857, 0.06312825915678989, 0.2272617329644436, 0.012625651831357979, 0.018938477747036966, 0.2967028180369125, 0.10100521465086383, 0.018938477747036966, 0.1799133730983135, 0.1079480238589881, 0.1079480238589881, 0.5397401192949406, 0.0359826746196627, 0.0359826746196627, 0.6464650682579897, 0.15215628840083306, 0.08583685903240713, 0.03505171041694584, 0.030670246614827607, 0.019517429663981203, 0.015135965861862975, 0.014936808416312146, 0.00019915744555082862, 0.6281915760482808, 0.1886288900179501, 0.08084595045094263, 0.02168952370384441, 0.025467698800643115, 0.02249413506705154, 0.018995824792237926, 0.013363545249788007, 0.000244881719236953, 3.4983102748136144e-05, 0.7388649456240888, 0.10678234645383101, 0.07405872415346344, 0.018945255016002277, 0.029279030479276245, 0.012056071373819631, 0.005166887731636985, 0.013778367284365291, 0.541936118677901, 0.22111783348606526, 0.11352031629864957, 0.048369526075076774, 0.03356252829699205, 0.01974266370411297, 0.009871331852056485, 0.010858465037262132, 0.6170346255020287, 0.1800914457206878, 0.07794121585288784, 0.03424689787475375, 0.03188504284890866, 0.02361855025845086, 0.018304376450299416, 0.017123448937376873, 0.0005904637564612715, 0.953002775300514, 0.02412665253925352, 0.01206332626962676, 0.9481617065959487, 0.03269523126192927, 0.35834785280451287, 0.35834785280451287, 0.35834785280451287, 0.9720155708947905, 0.6171601517089, 0.1545034404693097, 0.10389655191779941, 0.03072996606019419, 0.031705520538295597, 0.019389145252265382, 0.027193581077076607, 0.014877205791046394, 0.0003658329292880261, 0.9532308412831759, 0.02413242636159939, 0.012066213180799696, 0.20615210679656903, 0.5566106883507365, 0.08246084271862762, 0.054973895145751746, 0.02405107912626639, 0.054973895145751746, 0.006871736893218968, 0.013743473786437936, 0.9448651770345733, 0.023920637393280337, 0.023920637393280337, 0.9132679028507199, 0.9813929155164762, 0.6058168366721293, 0.024232673466885173, 0.024232673466885173, 0.3634901020032776, 0.9709311603377873, 0.9899940781220908, 0.49346849529906, 0.09463779361899781, 0.17575590243528164, 0.08787795121764082, 0.05407873921085589, 0.08787795121764082, 0.48513299947502675, 0.2881395996881977, 0.12446846653197656, 0.024501666640152867, 0.03234219996500178, 0.02744186663697121, 0.009800666656061146, 0.006860466659242803, 0.0009800666656061146, 0.10065391286750178, 0.905885215807516, 0.12983695268346374, 0.06491847634173187, 0.06491847634173187, 0.7141032397590505, 0.9999161284388989, 0.1819290676962121, 0.10915744061772725, 0.6913304572456059, 1.0005345434357622, 0.49239927139174144, 0.7861453542256297, 0.9637422156624416, 0.05557738241845125, 0.88923811869522, 0.21127522701273632, 0.08451009080509453, 0.6760807264407562, 0.407117130769779, 0.1681570757527348, 0.1416059585286188, 0.17700744816077346, 0.01770074481607735, 0.0708029792643094, 0.01770074481607735, 1.0343515119699478, 0.2769573555193295, 0.6012001132004956, 0.020265172355072886, 0.0067550574516909625, 0.02702022980676385, 0.0540404596135277, 0.013510114903381925, 0.9978128702013142, 0.7129722970164524, 0.9498365200900524, 0.9969859188860454, 0.7117923818962077, 0.12354133350369073, 0.8647893345258351, 0.20563230226844012, 0.7197130579395404, 0.9808263451718817, 0.9517299496270044, 1.000268233202684, 0.5061168436462187, 0.22965732045021967, 0.10557706200792089, 0.06530539918015725, 0.043536932786771496, 0.019591619754047173, 0.022856889713055037, 0.006530539918015725, 0.0010884233196692874, 0.937836934090432, 0.021074987282931057, 0.010537493641465528, 0.021074987282931057, 0.010537493641465528, 0.5443784394654754, 0.24694168092652438, 0.10029844183290207, 0.019367974974629363, 0.02766853567804195, 0.03458566959755244, 0.01660112140682517, 0.010375700879265731, 0.5813440346192752, 0.17871335603124192, 0.09356169815753254, 0.02523012085146945, 0.027332630922425237, 0.0168200805676463, 0.06202404709319573, 0.014717570496690511, 0.971526910362239, 0.48440426421416055, 0.21621477887670687, 0.10810738943835344, 0.09771244814620406, 0.03326381213487798, 0.024947859101158484, 0.02702684735958836, 0.006236964775289621, 0.4921256033673068, 0.6043211740044538, 0.20314919717963886, 0.08202268055140348, 0.03016241014462948, 0.023009269398867545, 0.027778029896042167, 0.017763632851975464, 0.011445025193219091, 0.00023843802485873106, 0.7538623776310596, 0.07836407251882116, 0.07836407251882116, 0.031345629007528464, 0.023509221755646348, 0.017240095954140656, 0.0031345629007528465, 0.015672814503764232, 0.8589398977954242, 0.2117844199496229, 0.04235688398992458, 0.7624239118186424, 0.8022141655222799, 0.09270871252498046, 0.043516334450501036, 0.01892014541326132, 0.005676043623978395, 0.01135208724795679, 0.017028130871935186, 0.005676043623978395, 0.4434436462669759, 0.1266981846477074, 0.0633490923238537, 0.03167454616192685, 0.22172182313348796, 0.09502363848578056, 0.9715191987777825, 0.8363243647799118, 0.5300305653146701, 0.26501528265733504, 0.26501528265733504, 0.9286177626549641], \"Term\": [\"-PRON-\", \"-PRON-\", \"-PRON-\", \"-PRON-\", \"-PRON-\", \"-PRON-\", \"-PRON-\", \"-PRON-\", \"-PRON-\", \"-PRON-\", \"a\", \"a\", \"a\", \"a\", \"a\", \"a\", \"a\", \"a\", \"a\", \"a\", \"abidjan\", \"about\", \"about\", \"about\", \"about\", \"about\", \"about\", \"about\", \"about\", \"accra\", \"adda\", \"aldo\", \"aldo\", \"ale\", \"ale\", \"ale\", \"ale\", \"ale\", \"ale\", \"ale\", \"alembic\", \"all\", \"all\", \"all\", \"all\", \"all\", \"all\", \"all\", \"all\", \"all'onda\", \"all'onda\", \"allagash\", \"allagash\", \"allagash\", \"an\", \"an\", \"an\", \"an\", \"an\", \"an\", \"an\", \"an\", \"an\", \"and\", \"and\", \"and\", \"and\", \"and\", \"and\", \"and\", \"and\", \"and\", \"and\", \"angie\", \"app\", \"app\", \"app\", \"app\", \"app\", \"app\", \"aprilwhere\", \"as\", \"as\", \"as\", \"as\", \"as\", \"as\", \"as\", \"as\", \"as\", \"at\", \"at\", \"at\", \"at\", \"at\", \"at\", \"at\", \"at\", \"at\", \"atcharawan\", \"atip\", \"aude\", \"augustine\", \"austin\", \"austin\", \"austin\", \"babbo\", \"babbo\", \"bandito\", \"banh\", \"banh\", \"banh\", \"banh\", \"banya\", \"baquedano\", \"barcino\", \"baroo\", \"barvale\", \"batali\", \"batali\", \"batali\", \"baxtrom\", \"be\", \"be\", \"be\", \"be\", \"be\", \"be\", \"be\", \"be\", \"be\", \"be\", \"beep\", \"beer\", \"beer\", \"beer\", \"beer\", \"beer\", \"beer\", \"beer\", \"beer\", \"beer\", \"bengtsson\", \"bern\", \"bhutanese\", \"bicyclist\", \"biddeford\", \"bill_addison\", \"bill_addison\", \"bill_addison\", \"bill_addison\", \"biryani\", \"biryani\", \"bizarre\", \"blanche\", \"blenheim\", \"bloomfield\", \"bloomfield\", \"blp\", \"bob\", \"bob\", \"bob\", \"bob\", \"bob\", \"bob\", \"bolita\", \"bolivian\", \"bolivian\", \"bonar\", \"boyfriend\", \"braciole\", \"braciole\", \"brasil\", \"breslin\", \"brett\", \"brewery\", \"brewery\", \"brewery\", \"brewery\", \"brewing\", \"brewing\", \"brewing\", \"brewing\", \"brewpub\", \"brodo\", \"bruno\", \"bruno\", \"bulgogi\", \"bulgogi\", \"bulgogi\", \"but\", \"but\", \"but\", \"but\", \"but\", \"but\", \"but\", \"but\", \"by\", \"by\", \"by\", \"by\", \"by\", \"by\", \"by\", \"by\", \"by\", \"caballo\", \"can\", \"can\", \"can\", \"can\", \"can\", \"can\", \"can\", \"can\", \"canning\", \"canora\", \"carbonation\", \"carbonation\", \"carbonation\", \"carbonation\", \"carbone\", \"career\", \"carmichael\", \"carmichael\", \"caserecce\", \"cervante\", \"cevich\", \"cevich\", \"cevich\", \"cevich\", \"chai\", \"chai\", \"chang\", \"chang\", \"chang\", \"chang\", \"charles\", \"check_back\", \"check_back\", \"check_back\", \"chef\", \"chef\", \"chef\", \"chef\", \"chef\", \"chef\", \"chef\", \"chef\", \"chef_owner\", \"chef_owner\", \"chen\", \"chen\", \"chen\", \"chen\", \"chiang\", \"chiang\", \"chiang\", \"chiang\", \"chica\", \"chicken\", \"chicken\", \"chicken\", \"chicken\", \"chicken\", \"chicken\", \"chicken\", \"chicken\", \"chien\", \"chimichanga\", \"chinese\", \"chinese\", \"chinese\", \"chinese\", \"chinese\", \"chinese\", \"chinese\", \"chola\", \"cholsum\", \"choricera\", \"christiane\", \"chutney\", \"chutney\", \"chutney\", \"chutney\", \"citra\", \"clan\", \"clan\", \"claro\", \"claw\", \"claw\", \"claw\", \"claw\", \"claw\", \"cocchi\", \"cocchi\", \"come\", \"come\", \"come\", \"come\", \"come\", \"come\", \"come\", \"come\", \"conviviality\", \"coq\", \"cordero\", \"corthaiyou\", \"cost_dinner\", \"cost_dinner\", \"cost_dinner\", \"cost_dinner\", \"cost_dinner\", \"coto\", \"course\", \"course\", \"course\", \"course\", \"course\", \"course\", \"course\", \"couscous\", \"couscous\", \"coverage\", \"coverage\", \"coverage\", \"coze\", \"crab\", \"crab\", \"crab\", \"crab\", \"crab\", \"crab\", \"crab\", \"create\", \"create\", \"create\", \"create\", \"create\", \"create\", \"create\", \"create\", \"create\", \"crenn\", \"crenn\", \"cuchifrito\", \"curry\", \"curry\", \"curry\", \"curry\", \"curry\", \"curry\", \"curry\", \"cuv\", \"danny_meyer\", \"danny_meyer\", \"datsi\", \"diaz\", \"dinner\", \"dinner\", \"dinner\", \"dinner\", \"dinner\", \"dinner\", \"dinner\", \"dinner\", \"dish\", \"dish\", \"dish\", \"dish\", \"dish\", \"dish\", \"dish\", \"dish\", \"dizengoff\", \"dizengoff\", \"djon\", \"do\", \"do\", \"do\", \"do\", \"do\", \"do\", \"do\", \"do\", \"donnelly\", \"dosa\", \"dosa\", \"dosa\", \"dosa\", \"dover\", \"dric\", \"dric\", \"drink\", \"drink\", \"drink\", \"drink\", \"drink\", \"drink\", \"drink\", \"drink\", \"drink\", \"dulu\", \"dupont\", \"dupont\", \"durney\", \"easton\", \"elv\", \"elyx\", \"ema\", \"eminem\", \"emmy\", \"entr_e\", \"entr_e\", \"entr_e\", \"entr_e\", \"essential_restaurant\", \"essential_restaurant\", \"essential_restaurant\", \"expect\", \"expect\", \"expect\", \"expect\", \"expect\", \"expect\", \"expect\", \"expect\", \"expiration\", \"falansai\", \"farida\", \"feature\", \"feature\", \"feature\", \"feature\", \"feature\", \"feature\", \"fehribach\", \"ferment\", \"ferment\", \"ferment\", \"ferment\", \"ferment\", \"ferment\", \"ferment\", \"filling\", \"filling\", \"filling\", \"filling\", \"filling\", \"finch\", \"find_out\", \"find_out\", \"find_out\", \"find_out\", \"fish\", \"fish\", \"fish\", \"fish\", \"fish\", \"fish\", \"fish\", \"fish\", \"flapjack\", \"flavor\", \"flavor\", \"flavor\", \"flavor\", \"flavor\", \"flavor\", \"flavor\", \"flavor\", \"flavor\", \"foie_gras\", \"foie_gras\", \"foie_gras\", \"foie_gras\", \"foie_gras\", \"foie_gras\", \"food\", \"food\", \"food\", \"food\", \"food\", \"food\", \"food\", \"food\", \"for\", \"for\", \"for\", \"for\", \"for\", \"for\", \"for\", \"for\", \"for\", \"fore\", \"fore\", \"fracture\", \"frankenstein\", \"franklin\", \"franklin\", \"franklin\", \"franklin\", \"franklin\", \"frenchette\", \"frenchette\", \"fricasseed\", \"from\", \"from\", \"from\", \"from\", \"from\", \"from\", \"from\", \"from\", \"fruity\", \"fruity\", \"fruity\", \"fruity\", \"fruity\", \"fruity\", \"fruity\", \"fry\", \"fry\", \"fry\", \"fry\", \"fry\", \"fry\", \"fry\", \"fry\", \"fucking\", \"fucking\", \"fujianese\", \"fuku\", \"fuku\", \"fuku\", \"fuku\", \"fukuburger\", \"funk\", \"funk\", \"funk\", \"funk\", \"funk\", \"funk\", \"funk\", \"galore\", \"genus\", \"georgian\", \"gestel\", \"ghee\", \"gilmore\", \"goatee\", \"goatee\", \"golae\", \"good\", \"good\", \"good\", \"good\", \"good\", \"good\", \"good\", \"good\", \"gujarati\", \"gwyneth\", \"gyamtso\", \"haight\", \"han\", \"handroll\", \"hanson\", \"hardy\", \"hardy\", \"hash\", \"hash\", \"hash\", \"hash\", \"hash\", \"have\", \"have\", \"have\", \"have\", \"have\", \"have\", \"have\", \"have\", \"have\", \"hawaii\", \"hern\", \"hometown\", \"hometown\", \"hometown\", \"hometown\", \"hop\", \"hop\", \"hop\", \"hop\", \"hop\", \"hop\", \"hop\", \"hop\", \"hopdevil\", \"hopper\", \"hopper\", \"hopwork\", \"hot_pot\", \"hot_pot\", \"hot_pot\", \"hot_pot\", \"hummus\", \"hummus\", \"hummus\", \"hummus\", \"hummus\", \"hunan\", \"hunan\", \"hunan\", \"hyderabad\", \"i\", \"i\", \"i\", \"i\", \"i\", \"i\", \"i\", \"i\", \"i\", \"idli\", \"if\", \"if\", \"if\", \"if\", \"if\", \"if\", \"if\", \"if\", \"il\", \"in\", \"in\", \"in\", \"in\", \"in\", \"in\", \"in\", \"in\", \"in\", \"in_america\", \"in_america\", \"in_america\", \"in_america\", \"in_america\", \"in_america\", \"include\", \"include\", \"include\", \"include\", \"include\", \"include\", \"include\", \"include\", \"india\", \"india\", \"india\", \"india\", \"indian\", \"indian\", \"indian\", \"indian\", \"indian\", \"indian\", \"indo\", \"ink\", \"ink\", \"ink\", \"insa\", \"into\", \"into\", \"into\", \"into\", \"into\", \"into\", \"into\", \"into\", \"ipa\", \"ipa\", \"ipa\", \"ipa\", \"ipa\", \"ipa\", \"irani\", \"irvine\", \"isan\", \"isan\", \"isan\", \"isan\", \"isla\", \"jaber\", \"jaeckle\", \"jellyfish\", \"jin\", \"jin\", \"jjigae\", \"jora\", \"jovial\", \"junewhere\", \"just\", \"just\", \"just\", \"just\", \"just\", \"just\", \"just\", \"just\", \"kamin\", \"kashmir\", \"kawi\", \"kawi\", \"kaya\", \"keller\", \"keller\", \"khushbu\", \"kiin\", \"kiin\", \"kim\", \"kim\", \"kim\", \"knall\", \"kokum\", \"korean\", \"korean\", \"korean\", \"korean\", \"korean\", \"korean\", \"krajeck\", \"la_carte\", \"la_carte\", \"la_carte\", \"la_carte\", \"la_carte\", \"la_vegas\", \"la_vegas\", \"la_vegas\", \"la_vegas\", \"ladner\", \"lager\", \"lager\", \"lager\", \"lager\", \"lager\", \"lager\", \"lager\", \"lambi\", \"lankan\", \"laph\", \"larb\", \"larb\", \"larb\", \"lassi\", \"lau\", \"lean\", \"lean\", \"lean\", \"lean\", \"lean\", \"lean\", \"lechon\", \"like\", \"like\", \"like\", \"like\", \"like\", \"like\", \"like\", \"like\", \"like\", \"little\", \"little\", \"little\", \"little\", \"little\", \"little\", \"little\", \"little\", \"little\", \"location\", \"location\", \"location\", \"location\", \"location\", \"location\", \"lodomajor\", \"lola\", \"longaniza\", \"lorena\", \"lowlife\", \"lula\", \"lululemon\", \"luxury\", \"luxury\", \"luxury\", \"luxury\", \"maguy\", \"make\", \"make\", \"make\", \"make\", \"make\", \"make\", \"make\", \"make\", \"make\", \"mangieri\", \"mano\", \"mano\", \"mansion\", \"manzke\", \"mao\", \"mao\", \"mariscos\", \"masala\", \"masala\", \"masala\", \"maybell\", \"mellifluous\", \"meme\", \"menu\", \"menu\", \"menu\", \"menu\", \"menu\", \"menu\", \"menu\", \"menu\", \"mercerie\", \"mercerie\", \"meyer\", \"meyer\", \"mi'eatball\", \"micklethwait\", \"minetta\", \"mini\", \"mini\", \"mini\", \"mini\", \"mini\", \"mixian\", \"mofongo\", \"mok\", \"momo\", \"momo\", \"montero\", \"moo\", \"moo\", \"morabito\", \"more\", \"more\", \"more\", \"more\", \"more\", \"more\", \"more\", \"more\", \"morsink\", \"morton\", \"morton\", \"naan\", \"naan\", \"namu\", \"nasr\", \"nayfeld\", \"ndez\", \"ndez\", \"nemeth\", \"nepalese\", \"nevada\", \"nevada\", \"new_york\", \"new_york\", \"new_york\", \"new_york\", \"new_york\", \"new_york\", \"new_york\", \"new_york\", \"newark\", \"nham\", \"nishi\", \"nishi\", \"nomad\", \"nomad\", \"nomad\", \"noodle\", \"noodle\", \"noodle\", \"noodle\", \"noodle\", \"noodle\", \"noodle\", \"nopale\", \"nordic\", \"noreetuh\", \"not\", \"not\", \"not\", \"not\", \"not\", \"not\", \"not\", \"not\", \"not\", \"not_tip\", \"not_tip\", \"not_tip\", \"not_tip\", \"not_tip\", \"octavia\", \"of\", \"of\", \"of\", \"of\", \"of\", \"of\", \"of\", \"of\", \"of\", \"of\", \"olmsted\", \"olvera\", \"olvera\", \"olvera\", \"on\", \"on\", \"on\", \"on\", \"on\", \"on\", \"on\", \"on\", \"on\", \"one\", \"one\", \"one\", \"one\", \"one\", \"one\", \"one\", \"one\", \"one\", \"ong\", \"open\", \"open\", \"open\", \"open\", \"open\", \"open\", \"open\", \"open\", \"opening\", \"opening\", \"opening\", \"opening\", \"opening\", \"opening\", \"or\", \"or\", \"or\", \"or\", \"or\", \"or\", \"or\", \"or\", \"orb\", \"orkin\", \"orkin\", \"out\", \"out\", \"out\", \"out\", \"out\", \"out\", \"out\", \"out\", \"over\", \"over\", \"over\", \"over\", \"over\", \"over\", \"over\", \"over\", \"paella\", \"paella\", \"paella\", \"paella\", \"paneer\", \"paneer\", \"panza\", \"papaya\", \"papaya\", \"papaya\", \"papaya\", \"papaya\", \"papaya\", \"pasquale\", \"pasquale\", \"pasquale\", \"pav\", \"pearl\", \"pearl\", \"pearl\", \"pearl\", \"ped\", \"ped\", \"pelka\", \"pemoulie\", \"penh\", \"perello\", \"phnom\", \"pino\", \"pinsa\", \"pivo\", \"pla\", \"pla\", \"plascencia\", \"plascencia\", \"player\", \"player\", \"player\", \"player\", \"player\", \"polarize\", \"polarize\", \"pork\", \"pork\", \"pork\", \"pork\", \"pork\", \"pork\", \"pork\", \"pork\", \"portland\", \"portland\", \"portland\", \"portland\", \"portland\", \"potentially\", \"potentially\", \"pozole\", \"progress_in\", \"progress_in\", \"progress_in\", \"project\", \"project\", \"project\", \"project\", \"project\", \"puebla\", \"pulpo\", \"pulpo\", \"pye\", \"qui\", \"qui\", \"quinto\", \"radhaus\", \"radler\", \"radler\", \"raij\", \"raquel\", \"rasa\", \"red\", \"red\", \"red\", \"red\", \"red\", \"red\", \"red\", \"red\", \"regenerate\", \"repucci\", \"restaurant\", \"restaurant\", \"restaurant\", \"restaurant\", \"restaurant\", \"restaurant\", \"restaurant\", \"restaurant\", \"restaurant_editor\", \"restaurant_editor\", \"restaurant_editor\", \"restaurant_editor\", \"review_series\", \"review_series\", \"review_series\", \"rice\", \"rice\", \"rice\", \"rice\", \"rice\", \"rice\", \"rice\", \"rice\", \"rice_cake\", \"rice_cake\", \"rice_cake\", \"rice_cake\", \"rice_cake\", \"riddler\", \"riegele\", \"rijsttafel\", \"rino\", \"ripert\", \"ripert\", \"ripert\", \"road_to\", \"road_to\", \"road_to\", \"robbin\", \"robertsietsema\", \"robinson\", \"roti\", \"roti\", \"roti\", \"sadelle\", \"sahib\", \"saison\", \"saison\", \"saison\", \"saison\", \"saison\", \"sakurai\", \"salte\", \"sample_dish\", \"sample_dish\", \"sample_dish\", \"sample_dish\", \"sample_dish\", \"sample_dish\", \"sample_dish\", \"sample_dish\", \"sandwich\", \"sandwich\", \"sandwich\", \"sandwich\", \"sandwich\", \"sandwich\", \"sandwich\", \"santos\", \"sarah\", \"saute\", \"schlafly\", \"seattle\", \"seco\", \"seeger\", \"senya\", \"sepia\", \"session\", \"session\", \"session\", \"session\", \"shakshuka\", \"shashlyk\", \"shuko\", \"shuko\", \"sia\", \"sierra\", \"sierra\", \"sierra\", \"sirena\", \"sirena\", \"sirena\", \"sisig\", \"situation\", \"situation\", \"situation\", \"smuttynose\", \"so\", \"so\", \"so\", \"so\", \"so\", \"so\", \"so\", \"so\", \"so\", \"soba\", \"soba\", \"soba\", \"sohm\", \"sohm\", \"som\", \"soogil\", \"sorbillo\", \"south\", \"south\", \"south\", \"south\", \"south\", \"south\", \"south\", \"south\", \"spam\", \"spam\", \"spam\", \"spicy\", \"spicy\", \"spicy\", \"spicy\", \"spicy\", \"spicy\", \"spicy\", \"spicy\", \"spongy\", \"spongy\", \"spongy\", \"sreparplarn\", \"sri\", \"sri\", \"steak\", \"steak\", \"steak\", \"steak\", \"steak\", \"steak\", \"steak\", \"stifle\", \"stonepot\", \"stony\", \"stony\", \"stout\", \"stout\", \"stout\", \"stout\", \"stout\", \"stout\", \"strain\", \"strain\", \"strain\", \"strain\", \"strain\", \"strain\", \"stupak\", \"stupak\", \"suadero\", \"suadero\", \"subside\", \"subside\", \"sushi\", \"sushi\", \"sushi\", \"sushi\", \"sushi\", \"sushi\", \"sutton\", \"sutton\", \"sutton\", \"sweetwater\", \"szymanski\", \"szymanski\", \"taco\", \"taco\", \"taco\", \"taco\", \"taco\", \"taco\", \"tajine\", \"tangjantuk\", \"tarp\", \"tartness\", \"tartness\", \"tartness\", \"tartness\", \"tate\", \"tax_but\", \"tax_but\", \"tax_but\", \"tax_but\", \"tbilisi\", \"tea\", \"tea\", \"tea\", \"tea\", \"tea\", \"tea\", \"tea\", \"tei\", \"thai\", \"thai\", \"thai\", \"thai\", \"thai\", \"thai\", \"thai\", \"thai\", \"thailand\", \"thailand\", \"thailand\", \"thailand\", \"thailand\", \"thailand\", \"that\", \"that\", \"that\", \"that\", \"that\", \"that\", \"that\", \"that\", \"that\", \"the\", \"the\", \"the\", \"the\", \"the\", \"the\", \"the\", \"the\", \"the\", \"the\", \"then\", \"then\", \"then\", \"then\", \"then\", \"then\", \"then\", \"then\", \"there\", \"there\", \"there\", \"there\", \"there\", \"there\", \"there\", \"there\", \"this\", \"this\", \"this\", \"this\", \"this\", \"this\", \"this\", \"this\", \"this\", \"this_travelogue\", \"this_travelogue\", \"this_travelogue\", \"tibetan\", \"tibetan\", \"tinder\", \"tinder\", \"tinder\", \"tipsample\", \"to\", \"to\", \"to\", \"to\", \"to\", \"to\", \"to\", \"to\", \"to\", \"to_chronicle\", \"to_chronicle\", \"to_chronicle\", \"to_drink\", \"to_drink\", \"to_drink\", \"to_drink\", \"to_drink\", \"to_drink\", \"to_drink\", \"to_drink\", \"to_formulate\", \"to_formulate\", \"to_formulate\", \"tod\", \"tomi\", \"toro\", \"toro\", \"toro\", \"toro\", \"torrisi\", \"tran\", \"tuna\", \"tuna\", \"tuna\", \"tuna\", \"tuna\", \"tuna\", \"two\", \"two\", \"two\", \"two\", \"two\", \"two\", \"two\", \"two\", \"two\", \"txikito\", \"txikito\", \"ugly\", \"ugly\", \"ugly\", \"ugly\", \"unagi\", \"uncle\", \"uncle\", \"uncle\", \"unequaled\", \"unmarked\", \"unspoken\", \"urasawa\", \"valle\", \"valle\", \"vandal\", \"vandal\", \"vandal\", \"ve\", \"ve\", \"ve\", \"ve\", \"ve\", \"ve\", \"ve\", \"vegasthe\", \"vegetarian\", \"vegetarian\", \"vegetarian\", \"vegetarian\", \"vegetarian\", \"vegetarian\", \"vegetarian\", \"veronika\", \"vesper\", \"wail\", \"waltuck\", \"walu\", \"walzwerk\", \"walzwerk\", \"wayan\", \"wayan\", \"weck\", \"wei\", \"weihenstephaner\", \"what\", \"what\", \"what\", \"what\", \"what\", \"what\", \"what\", \"what\", \"what\", \"what_happen\", \"what_happen\", \"what_happen\", \"what_happen\", \"what_happen\", \"which\", \"which\", \"which\", \"which\", \"which\", \"which\", \"which\", \"which\", \"will\", \"will\", \"will\", \"will\", \"will\", \"will\", \"will\", \"will\", \"will_travel\", \"wine\", \"wine\", \"wine\", \"wine\", \"wine\", \"wine\", \"wine\", \"wine\", \"wisdom\", \"with\", \"with\", \"with\", \"with\", \"with\", \"with\", \"with\", \"with\", \"with\", \"would\", \"would\", \"would\", \"would\", \"would\", \"would\", \"would\", \"would\", \"xiaolongbao\", \"ya\", \"ya\", \"ya\", \"year\", \"year\", \"year\", \"year\", \"year\", \"year\", \"year\", \"year\", \"yeast\", \"yeast\", \"yeast\", \"yeast\", \"yeast\", \"yeast\", \"yibin\", \"yun\", \"zesty\", \"zesty\", \"zesty\", \"zhen\"]}, \"R\": 30, \"lambda.step\": 0.01, \"plot.opts\": {\"xlab\": \"PC1\", \"ylab\": \"PC2\"}, \"topic.order\": [17, 16, 14, 4, 9, 15, 19, 18, 6, 11, 12, 10, 7, 3, 2, 13, 1, 8, 20, 5]};\n",
       "\n",
       "function LDAvis_load_lib(url, callback){\n",
       "  var s = document.createElement('script');\n",
       "  s.src = url;\n",
       "  s.async = true;\n",
       "  s.onreadystatechange = s.onload = callback;\n",
       "  s.onerror = function(){console.warn(\"failed to load library \" + url);};\n",
       "  document.getElementsByTagName(\"head\")[0].appendChild(s);\n",
       "}\n",
       "\n",
       "if(typeof(LDAvis) !== \"undefined\"){\n",
       "   // already loaded: just create the visualization\n",
       "   !function(LDAvis){\n",
       "       new LDAvis(\"#\" + \"ldavis_el75442807057730632157253667\", ldavis_el75442807057730632157253667_data);\n",
       "   }(LDAvis);\n",
       "}else if(typeof define === \"function\" && define.amd){\n",
       "   // require.js is available: use it to load d3/LDAvis\n",
       "   require.config({paths: {d3: \"https://d3js.org/d3.v5\"}});\n",
       "   require([\"d3\"], function(d3){\n",
       "      window.d3 = d3;\n",
       "      LDAvis_load_lib(\"https://cdn.jsdelivr.net/gh/bmabey/pyLDAvis@3.3.1/pyLDAvis/js/ldavis.v3.0.0.js\", function(){\n",
       "        new LDAvis(\"#\" + \"ldavis_el75442807057730632157253667\", ldavis_el75442807057730632157253667_data);\n",
       "      });\n",
       "    });\n",
       "}else{\n",
       "    // require.js not available: dynamically load d3 & LDAvis\n",
       "    LDAvis_load_lib(\"https://d3js.org/d3.v5.js\", function(){\n",
       "         LDAvis_load_lib(\"https://cdn.jsdelivr.net/gh/bmabey/pyLDAvis@3.3.1/pyLDAvis/js/ldavis.v3.0.0.js\", function(){\n",
       "                 new LDAvis(\"#\" + \"ldavis_el75442807057730632157253667\", ldavis_el75442807057730632157253667_data);\n",
       "            })\n",
       "         });\n",
       "}\n",
       "</script>"
      ],
      "text/plain": [
       "<IPython.core.display.HTML object>"
      ]
     },
     "execution_count": 53,
     "metadata": {},
     "output_type": "execute_result"
    }
   ],
   "source": [
    "pyLDAvis.display(a)"
   ]
  },
  {
   "cell_type": "code",
   "execution_count": 48,
   "metadata": {},
   "outputs": [],
   "source": [
    "import multiprocessing\n",
    "\n",
    "from gensim.models import Word2Vec"
   ]
  },
  {
   "cell_type": "code",
   "execution_count": 49,
   "metadata": {},
   "outputs": [],
   "source": [
    "cores = multiprocessing.cpu_count() # Count the number of cores in a computer"
   ]
  },
  {
   "cell_type": "code",
   "execution_count": 52,
   "metadata": {},
   "outputs": [
    {
     "ename": "TypeError",
     "evalue": "__init__() got an unexpected keyword argument 'size'",
     "output_type": "error",
     "traceback": [
      "\u001b[1;31m---------------------------------------------------------------------------\u001b[0m",
      "\u001b[1;31mTypeError\u001b[0m                                 Traceback (most recent call last)",
      "\u001b[1;32m<ipython-input-52-e51795cb0107>\u001b[0m in \u001b[0;36m<module>\u001b[1;34m\u001b[0m\n\u001b[0;32m      6\u001b[0m                      \u001b[0mmin_alpha\u001b[0m\u001b[1;33m=\u001b[0m\u001b[1;36m0.0007\u001b[0m\u001b[1;33m,\u001b[0m\u001b[1;33m\u001b[0m\u001b[1;33m\u001b[0m\u001b[0m\n\u001b[0;32m      7\u001b[0m                      \u001b[0mnegative\u001b[0m\u001b[1;33m=\u001b[0m\u001b[1;36m20\u001b[0m\u001b[1;33m,\u001b[0m\u001b[1;33m\u001b[0m\u001b[1;33m\u001b[0m\u001b[0m\n\u001b[1;32m----> 8\u001b[1;33m                      workers=3)\n\u001b[0m",
      "\u001b[1;31mTypeError\u001b[0m: __init__() got an unexpected keyword argument 'size'"
     ]
    }
   ],
   "source": [
    "w2v_model = Word2Vec(min_count=20,\n",
    "                     window=20,\n",
    "                     size=300,\n",
    "                     sample=6e-5, \n",
    "                     alpha=0.03, \n",
    "                     min_alpha=0.0007, \n",
    "                     negative=20,\n",
    "                     workers=3)"
   ]
  },
  {
   "cell_type": "code",
   "execution_count": null,
   "metadata": {},
   "outputs": [],
   "source": [
    "t = time()\n",
    "\n",
    "w2v_model.build_vocab(sentences, progress_per=10000)\n",
    "\n",
    "print('Time to build vocab: {} mins'.format(round((time() - t) / 60, 2)))"
   ]
  },
  {
   "cell_type": "code",
   "execution_count": null,
   "metadata": {},
   "outputs": [],
   "source": [
    "t = time()\n",
    "\n",
    "w2v_model.train(sentences, total_examples=w2v_model.corpus_count, epochs=30, report_delay=1)\n",
    "\n",
    "print('Time to train the model: {} mins'.format(round((time() - t) / 60, 2)))"
   ]
  },
  {
   "cell_type": "code",
   "execution_count": null,
   "metadata": {},
   "outputs": [],
   "source": [
    "w2v_model.init_sims(replace=True)"
   ]
  },
  {
   "cell_type": "code",
   "execution_count": null,
   "metadata": {},
   "outputs": [],
   "source": [
    "w2v_model.wv.most_similar(positive=[\"beef\",\"chicken\",\"fish\",\"short_rib\",\"steak\"])"
   ]
  },
  {
   "cell_type": "code",
   "execution_count": null,
   "metadata": {},
   "outputs": [],
   "source": [
    "all=[]\n",
    "for i in sent:\n",
    "    all +=i\n"
   ]
  },
  {
   "cell_type": "code",
   "execution_count": null,
   "metadata": {
    "scrolled": false
   },
   "outputs": [],
   "source": [
    "for each in w2v_model.predict_output_word(['steak'],100):\n",
    "    if nlp(each[0])[0].pos_ == 'VERB' or nlp(each[0])[0].pos_ == 'ADJ': #NOUN,VERB\n",
    "        print (each)"
   ]
  },
  {
   "cell_type": "code",
   "execution_count": null,
   "metadata": {},
   "outputs": [],
   "source": [
    "import numpy as np\n",
    "labels = []\n",
    "count = 0\n",
    "max_count = 20\n",
    "X = np.zeros(shape=(max_count,len(w2v_model['chicken'])))\n",
    "\n",
    "for term in w2v_model.wv.vocab:\n",
    "    X[count] = w2v_model[term]\n",
    "    labels.append(term)\n",
    "    count+= 1\n",
    "    if count >= max_count: break\n",
    "\n",
    "# It is recommended to use PCA first to reduce to ~50 dimensions\n",
    "from sklearn.decomposition import PCA\n",
    "pca = PCA(n_components=20)\n",
    "X_50 = pca.fit_transform(X)\n",
    "\n",
    "# Using TSNE to further reduce to 2 dimensions\n",
    "from sklearn.manifold import TSNE\n",
    "model_tsne = TSNE(n_components=2, random_state=0)\n",
    "Y = model_tsne.fit_transform(X_50)\n",
    "\n",
    "# Show the scatter plot\n",
    "import matplotlib.pyplot as plt\n",
    "plt.scatter(Y[:,0], Y[:,1], 20)\n",
    "\n",
    "# Add labels\n",
    "for label, x, y in zip(labels, Y[:, 0], Y[:, 1]):\n",
    "    plt.annotate(label, xy = (x,y), xytext = (0, 0), textcoords = 'offset points', size = 10)\n",
    "\n",
    "plt.show()"
   ]
  },
  {
   "cell_type": "code",
   "execution_count": null,
   "metadata": {},
   "outputs": [],
   "source": [
    "w2v_model.wv.most_similar(positive=[\"beef\",\"chicken\",\"pork\"], negative=[\"western\"], topn=3)\n"
   ]
  },
  {
   "cell_type": "code",
   "execution_count": null,
   "metadata": {},
   "outputs": [],
   "source": [
    "w2v_model.wv.most_similar(positive=[\"beef\"], topn=20)"
   ]
  },
  {
   "cell_type": "code",
   "execution_count": null,
   "metadata": {},
   "outputs": [],
   "source": [
    "for i in range(20):\n",
    "     print(w2v_model.wv.most_similar(positive=[\"beef\"], topn=20)[i][0], end = ', ')"
   ]
  },
  {
   "cell_type": "code",
   "execution_count": null,
   "metadata": {},
   "outputs": [],
   "source": [
    "w2v_model.wv.most_similar(positive=[\"beef\",\"noodle\",\"sushi\"],negative=[\"chicken\"], topn=20)"
   ]
  },
  {
   "cell_type": "code",
   "execution_count": null,
   "metadata": {},
   "outputs": [],
   "source": [
    "for each in w2v_model.wv.most_similar(positive=[\"beef\",\"noodle\",\"sushi\"],negative=[\"chicken\"], topn=20):\n",
    "    print (each[0], end = ', ')"
   ]
  },
  {
   "cell_type": "code",
   "execution_count": null,
   "metadata": {},
   "outputs": [],
   "source": [
    "count=0\n",
    "for each in w2v_model.wv.most_similar(positive=[\"beef\",\"noodle\",\"sushi\"],negative=[\"chicken\"], topn=50):\n",
    "    if nlp(each[0])[0].pos_ != 'NOUN': #NOUN,VERB\n",
    "        if count < 20:\n",
    "            print (each[0], end = ', ')\n",
    "            count += 1"
   ]
  },
  {
   "cell_type": "code",
   "execution_count": null,
   "metadata": {},
   "outputs": [],
   "source": [
    "def simlar_pos(words):\n",
    "    count=0\n",
    "    list=[]\n",
    "    for each in w2v_model.wv.most_similar(positive=words, topn=100):\n",
    "        if nlp(each[0])[0].pos_ == 'NOUN': #NOUN,VERB\n",
    "            if count < 20:\n",
    "                list.append(each)\n",
    "                count += 1\n",
    "    return list"
   ]
  },
  {
   "cell_type": "code",
   "execution_count": null,
   "metadata": {},
   "outputs": [],
   "source": [
    "simlar_pos([\"beef\",\"noodle\",\"sushi\"])"
   ]
  },
  {
   "cell_type": "code",
   "execution_count": null,
   "metadata": {},
   "outputs": [],
   "source": [
    "a=[5,6,7]\n",
    "print(a*3)"
   ]
  },
  {
   "cell_type": "code",
   "execution_count": null,
   "metadata": {},
   "outputs": [],
   "source": [
    "print(simlar_pos(\"bread\"))"
   ]
  },
  {
   "cell_type": "code",
   "execution_count": null,
   "metadata": {},
   "outputs": [],
   "source": [
    "import numpy as np\n",
    "import matplotlib.pyplot as plt\n",
    "%matplotlib inline\n",
    " \n",
    "import seaborn as sns\n",
    "sns.set_style(\"darkgrid\")\n",
    "\n",
    "from sklearn.decomposition import PCA\n",
    "from sklearn.manifold import TSNE"
   ]
  },
  {
   "cell_type": "code",
   "execution_count": null,
   "metadata": {},
   "outputs": [],
   "source": [
    "def tsnescatterplot(model, word, list_names):\n",
    "    \"\"\" Plot in seaborn the results from the t-SNE dimensionality reduction algorithm of the vectors of a query word,\n",
    "    its list of most similar words, and a list of words.\n",
    "    \"\"\"\n",
    "    arrays = np.empty((0, 300), dtype='f')\n",
    "    word_labels = [word]\n",
    "    color_list  = ['red']\n",
    "\n",
    "    # adds the vector of the query word\n",
    "    arrays = np.append(arrays, model.wv.__getitem__([word]), axis=0)\n",
    "    \n",
    "    # gets list of most similar words\n",
    "    close_words = model.wv.most_similar([word])\n",
    "    \n",
    "    # adds the vector for each of the closest words to the array\n",
    "    for wrd_score in close_words:\n",
    "        wrd_vector = model.wv.__getitem__([wrd_score[0]])\n",
    "        word_labels.append(wrd_score[0])\n",
    "        color_list.append('blue')\n",
    "        arrays = np.append(arrays, wrd_vector, axis=0)\n",
    "    \n",
    "    # adds the vector for each of the words from list_names to the array\n",
    "    for wrd in list_names:\n",
    "        wrd_vector = model.wv.__getitem__([wrd])\n",
    "        word_labels.append(wrd)\n",
    "        color_list.append('green')\n",
    "        arrays = np.append(arrays, wrd_vector, axis=0)\n",
    "        \n",
    "    # Reduces the dimensionality from 300 to 50 dimensions with PCA\n",
    "    reduc = PCA(n_components=15).fit_transform(arrays)\n",
    "    \n",
    "    # Finds t-SNE coordinates for 2 dimensions\n",
    "    np.set_printoptions(suppress=True)\n",
    "    \n",
    "    Y = TSNE(n_components=2, random_state=0, perplexity=15).fit_transform(reduc)\n",
    "    \n",
    "    # Sets everything up to plot\n",
    "    df = pd.DataFrame({'x': [x for x in Y[:, 0]],\n",
    "                       'y': [y for y in Y[:, 1]],\n",
    "                       'words': word_labels,\n",
    "                       'color': color_list})\n",
    "    \n",
    "    fig, _ = plt.subplots()\n",
    "    fig.set_size_inches(9, 9)\n",
    "    \n",
    "    # Basic plot\n",
    "    p1 = sns.regplot(data=df,\n",
    "                     x=\"x\",\n",
    "                     y=\"y\",\n",
    "                     fit_reg=False,\n",
    "                     marker=\"o\",\n",
    "                     scatter_kws={'s': 40,\n",
    "                                  'facecolors': df['color']\n",
    "                                 }\n",
    "                    )\n",
    "    \n",
    "    # Adds annotations one by one with a loop\n",
    "    for line in range(0, df.shape[0]):\n",
    "         p1.text(df[\"x\"][line],\n",
    "                 df['y'][line],\n",
    "                 '  ' + df[\"words\"][line].title(),\n",
    "                 horizontalalignment='left',\n",
    "                 verticalalignment='bottom', size='medium',\n",
    "                 color=df['color'][line],\n",
    "                 weight='normal'\n",
    "                ).set_size(15)\n",
    "\n",
    "    \n",
    "    plt.xlim(Y[:, 0].min()-50, Y[:, 0].max()+50)\n",
    "    plt.ylim(Y[:, 1].min()-50, Y[:, 1].max()+50)\n",
    "            \n",
    "    plt.title('visualization for {}'.format(word.title()))"
   ]
  },
  {
   "cell_type": "code",
   "execution_count": null,
   "metadata": {},
   "outputs": [],
   "source": [
    "def tsnescatterplot1(model, word1,word2):\n",
    "    \"\"\" Plot in seaborn the results from the t-SNE dimensionality reduction algorithm of the vectors of a query word,\n",
    "    its list of most similar words, and a list of words.\n",
    "    \"\"\"\n",
    "    arrays = np.empty((0, 300), dtype='f')\n",
    "    word_labels = []\n",
    "    color_list  = []\n",
    "\n",
    "    # adds the vector of the query word\n",
    "    for wrd_score in word1:\n",
    "        wrd_vector = model.wv.__getitem__([wrd_score])\n",
    "        word_labels.append(wrd_score)\n",
    "        color_list.append('red')\n",
    "        arrays = np.append(arrays, wrd_vector, axis=0)\n",
    "\n",
    "    \n",
    "    # gets list of most similar words\n",
    "    close_words = model.wv.most_similar(positive=word1,negative=word2, topn=20)\n",
    "    \n",
    "    # adds the vector for each of the closest words to the array\n",
    "    for wrd_score in close_words:\n",
    "        wrd_vector = model.wv.__getitem__([wrd_score[0]])\n",
    "        word_labels.append(wrd_score[0])\n",
    "        color_list.append('blue')\n",
    "        arrays = np.append(arrays, wrd_vector, axis=0)\n",
    "    \n",
    "\n",
    "        \n",
    "    # Reduces the dimensionality from 300 to 50 dimensions with PCA\n",
    "    reduc = PCA(n_components=21).fit_transform(arrays)\n",
    "    \n",
    "    # Finds t-SNE coordinates for 2 dimensions\n",
    "    np.set_printoptions(suppress=True)\n",
    "    \n",
    "    Y = TSNE(n_components=2, random_state=0, perplexity=15).fit_transform(reduc)\n",
    "    \n",
    "    # Sets everything up to plot\n",
    "    df = pd.DataFrame({'x': [x for x in Y[:, 0]],\n",
    "                       'y': [y for y in Y[:, 1]],\n",
    "                       'words': word_labels,\n",
    "                       'color': color_list})\n",
    "    \n",
    "    fig, _ = plt.subplots()\n",
    "    fig.set_size_inches(9, 9)\n",
    "    \n",
    "    # Basic plot\n",
    "    p1 = sns.regplot(data=df,\n",
    "                     x=\"x\",\n",
    "                     y=\"y\",\n",
    "                     fit_reg=False,\n",
    "                     marker=\"o\",\n",
    "                     scatter_kws={'s': 40,\n",
    "                                  'facecolors': df['color']\n",
    "                                 }\n",
    "                    )\n",
    "    \n",
    "    # Adds annotations one by one with a loop\n",
    "    for line in range(0, df.shape[0]):\n",
    "         p1.text(df[\"x\"][line],\n",
    "                 df['y'][line],\n",
    "                 '  ' + df[\"words\"][line].title(),\n",
    "                 horizontalalignment='left',\n",
    "                 verticalalignment='bottom', size='medium',\n",
    "                 color=df['color'][line],\n",
    "                 weight='normal'\n",
    "                ).set_size(15)\n",
    "\n",
    "    \n",
    "    plt.xlim(Y[:, 0].min()-50, Y[:, 0].max()+50)\n",
    "    plt.ylim(Y[:, 1].min()-50, Y[:, 1].max()+50)\n",
    "            \n",
    "    plt.title('Similarity visualization for {} without {}'.format(word1.title(),word2.title()))"
   ]
  },
  {
   "cell_type": "code",
   "execution_count": null,
   "metadata": {},
   "outputs": [],
   "source": [
    "def tsnescatterplot2(model, word1,title):\n",
    "    \"\"\" Plot in seaborn the results from the t-SNE dimensionality reduction algorithm of the vectors of a query word,\n",
    "    its list of most similar words, and a list of words.\n",
    "    \"\"\"\n",
    "    arrays = np.empty((0, 300), dtype='f')\n",
    "    word_labels = []\n",
    "    color_list  = []\n",
    "\n",
    "    # adds the vector of the query word\n",
    "    for wrd_score in word1:\n",
    "        wrd_vector = model.wv.__getitem__([wrd_score])\n",
    "        word_labels.append(wrd_score)\n",
    "        color_list.append('red')\n",
    "        arrays = np.append(arrays, wrd_vector, axis=0)\n",
    "    \n",
    "    # gets list of most similar words\n",
    "    close_words = model.wv.most_similar(positive=word1,topn=20)\n",
    "    \n",
    "    # adds the vector for each of the closest words to the array\n",
    "    for wrd_score in close_words:\n",
    "        wrd_vector = model.wv.__getitem__([wrd_score[0]])\n",
    "        word_labels.append(wrd_score[0])\n",
    "        color_list.append('blue')\n",
    "        arrays = np.append(arrays, wrd_vector, axis=0)\n",
    "    \n",
    "\n",
    "        \n",
    "    # Reduces the dimensionality from 300 to 50 dimensions with PCA\n",
    "    reduc = PCA(n_components=len(word1)+20).fit_transform(arrays)\n",
    "    \n",
    "    # Finds t-SNE coordinates for 2 dimensions\n",
    "    np.set_printoptions(suppress=True)\n",
    "    \n",
    "    Y = TSNE(n_components=2, random_state=0, perplexity=15).fit_transform(reduc)\n",
    "    \n",
    "    # Sets everything up to plot\n",
    "    df = pd.DataFrame({'x': [x for x in Y[:, 0]],\n",
    "                       'y': [y for y in Y[:, 1]],\n",
    "                       'words': word_labels,\n",
    "                       'color': color_list})\n",
    "    \n",
    "    fig, _ = plt.subplots()\n",
    "    fig.set_size_inches(9, 9)\n",
    "    \n",
    "    # Basic plot\n",
    "    p1 = sns.regplot(data=df,\n",
    "                     x=\"x\",\n",
    "                     y=\"y\",\n",
    "                     fit_reg=False,\n",
    "                     marker=\"o\",\n",
    "                     scatter_kws={'s': 40,\n",
    "                                  'facecolors': df['color']\n",
    "                                 }\n",
    "                    )\n",
    "    \n",
    "    # Adds annotations one by one with a loop\n",
    "    for line in range(0, df.shape[0]):\n",
    "         p1.text(df[\"x\"][line],\n",
    "                 df['y'][line],\n",
    "                 '  ' + df[\"words\"][line].title(),\n",
    "                 horizontalalignment='left',\n",
    "                 verticalalignment='bottom', size='medium',\n",
    "                 color=df['color'][line],\n",
    "                 weight='normal'\n",
    "                ).set_size(15)\n",
    "\n",
    "    \n",
    "    plt.xlim(Y[:, 0].min()-50, Y[:, 0].max()+50)\n",
    "    plt.ylim(Y[:, 1].min()-50, Y[:, 1].max()+50)\n",
    "            \n",
    "    plt.title(title)"
   ]
  },
  {
   "cell_type": "code",
   "execution_count": null,
   "metadata": {},
   "outputs": [],
   "source": [
    "def tsnescatterplot3(model, word1,title):\n",
    "    \"\"\" Plot in seaborn the results from the t-SNE dimensionality reduction algorithm of the vectors of a query word,\n",
    "    its list of most similar words, and a list of words.\n",
    "    \"\"\"\n",
    "    arrays = np.empty((0, 300), dtype='f')\n",
    "    word_labels = []\n",
    "    color_list  = []\n",
    "\n",
    "    # adds the vector of the query word\n",
    "    for wrd_score in word1:\n",
    "        wrd_vector = model.wv.__getitem__([wrd_score[0]])\n",
    "        word_labels.append(wrd_score)\n",
    "        color_list.append('red')\n",
    "        arrays = np.append(arrays, wrd_vector, axis=0)\n",
    "    \n",
    "    # gets list of most similar words\n",
    "    close_words = model.wv.most_similar(positive=word1,topn=20)\n",
    "    \n",
    "    # adds the vector for each of the closest words to the array\n",
    "    for wrd_score in close_words:\n",
    "        wrd_vector = model.wv.__getitem__([wrd_score[0]])\n",
    "        word_labels.append(wrd_score[0])\n",
    "        color_list.append('blue')\n",
    "        arrays = np.append(arrays, wrd_vector, axis=0)\n",
    "    \n",
    "\n",
    "        \n",
    "    # Reduces the dimensionality from 300 to 50 dimensions with PCA\n",
    "    reduc = PCA(n_components=len(word1)+20).fit_transform(arrays)\n",
    "    \n",
    "    # Finds t-SNE coordinates for 2 dimensions\n",
    "    np.set_printoptions(suppress=True)\n",
    "    \n",
    "    Y = TSNE(n_components=2, random_state=0, perplexity=15).fit_transform(reduc)\n",
    "    \n",
    "    # Sets everything up to plot\n",
    "    df = pd.DataFrame({'x': [x for x in Y[:, 0]],\n",
    "                       'y': [y for y in Y[:, 1]],\n",
    "                       'words': word_labels,\n",
    "                       'color': color_list})\n",
    "    \n",
    "    fig, _ = plt.subplots()\n",
    "    fig.set_size_inches(9, 9)\n",
    "    \n",
    "    # Basic plot\n",
    "    p1 = sns.regplot(data=df,\n",
    "                     x=\"x\",\n",
    "                     y=\"y\",\n",
    "                     fit_reg=False,\n",
    "                     marker=\"o\",\n",
    "                     scatter_kws={'s': 40,\n",
    "                                  'facecolors': df['color']\n",
    "                                 }\n",
    "                    )\n",
    "    \n",
    "    # Adds annotations one by one with a loop\n",
    "    for line in range(0, df.shape[0]):\n",
    "         p1.text(df[\"x\"][line],\n",
    "                 df['y'][line],\n",
    "                 '  ' + df[\"words\"][line].title(),\n",
    "                 horizontalalignment='left',\n",
    "                 verticalalignment='bottom', size='medium',\n",
    "                 color=df['color'][line],\n",
    "                 weight='normal'\n",
    "                ).set_size(15)\n",
    "\n",
    "    \n",
    "    plt.xlim(Y[:, 0].min()-50, Y[:, 0].max()+50)\n",
    "    plt.ylim(Y[:, 1].min()-50, Y[:, 1].max()+50)\n",
    "            \n",
    "    plt.title(title)"
   ]
  },
  {
   "cell_type": "code",
   "execution_count": null,
   "metadata": {
    "scrolled": true
   },
   "outputs": [],
   "source": [
    "tsnescatterplot1(w2v_model, [\"beef\"],[])\n"
   ]
  },
  {
   "cell_type": "code",
   "execution_count": null,
   "metadata": {},
   "outputs": [],
   "source": [
    "#tsnescatterplot(w2v_model, 'beef', [i[0] for i in w2v_model.wv.most_similar(negative=[\"beef\"])])"
   ]
  },
  {
   "cell_type": "code",
   "execution_count": null,
   "metadata": {},
   "outputs": [],
   "source": [
    "tsnescatterplot(w2v_model, 'chicken', [i[0] for i in w2v_model.wv.most_similar(positive=[\"fish\"])])"
   ]
  },
  {
   "cell_type": "code",
   "execution_count": null,
   "metadata": {},
   "outputs": [],
   "source": [
    "tsnescatterplot(w2v_model, 'dumpling', [i[0] for i in w2v_model.wv.most_similar(positive=[\"bread\"])])"
   ]
  },
  {
   "cell_type": "code",
   "execution_count": null,
   "metadata": {},
   "outputs": [],
   "source": [
    "tsnescatterplot(w2v_model, 'masala', [i[0] for i in w2v_model.wv.most_similar(positive=[\"soy_sauce\"])])"
   ]
  },
  {
   "cell_type": "code",
   "execution_count": null,
   "metadata": {},
   "outputs": [],
   "source": [
    "1. catagory\n",
    "2. pos & neg\n",
    "3. top ten similarity"
   ]
  },
  {
   "cell_type": "code",
   "execution_count": null,
   "metadata": {},
   "outputs": [],
   "source": [
    "unik word,more details about data, how many artical mention chicken, beef\n",
    "most frequent word.\n",
    "after clearing, explain dataset, compair how many is left , how many \"beef\" remaining\n",
    "\n",
    "explain figure 2\n",
    "explain figure TSNE or PCA\n",
    "explain figure"
   ]
  }
 ],
 "metadata": {
  "kernelspec": {
   "display_name": "Python 3",
   "language": "python",
   "name": "python3"
  },
  "language_info": {
   "codemirror_mode": {
    "name": "ipython",
    "version": 3
   },
   "file_extension": ".py",
   "mimetype": "text/x-python",
   "name": "python",
   "nbconvert_exporter": "python",
   "pygments_lexer": "ipython3",
   "version": "3.8.8"
  }
 },
 "nbformat": 4,
 "nbformat_minor": 4
}

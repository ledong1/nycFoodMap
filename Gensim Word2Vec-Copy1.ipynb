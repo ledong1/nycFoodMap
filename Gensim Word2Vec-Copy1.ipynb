{
 "cells": [
  {
   "cell_type": "code",
   "execution_count": 2,
   "metadata": {},
   "outputs": [],
   "source": [
    "import numpy as np\n",
    "b=np.load('ny.eater-content-new.npy')\n",
    "content=b.tolist()"
   ]
  },
  {
   "cell_type": "code",
   "execution_count": 3,
   "metadata": {},
   "outputs": [],
   "source": [
    "import re  # For preprocessing\n",
    "import pandas as pd  # For data handling\n",
    "from time import time  # To time our operations\n",
    "from collections import defaultdict  # For word frequency\n",
    "\n",
    "import spacy  # For preprocessing\n",
    "\n",
    "import logging  # Setting up the loggings to monitor gensim\n",
    "logging.basicConfig(format=\"%(levelname)s - %(asctime)s: %(message)s\", datefmt= '%H:%M:%S', level=logging.INFO)"
   ]
  },
  {
   "cell_type": "code",
   "execution_count": 4,
   "metadata": {},
   "outputs": [],
   "source": [
    "nlp = spacy.load('en', disable=['ner', 'parser']) # disabling Named Entity Recognition for speed\n",
    "\n",
    "def cleaning(doc):\n",
    "    # Lemmatizes and removes stopwords\n",
    "    # doc needs to be a spacy Doc object\n",
    "    txt = [token.lemma_ for token in doc if not token.is_stop]\n",
    "    # Word2Vec uses context words to learn the vector representation of a target word,\n",
    "    # if a sentence is only one or two words long,\n",
    "    # the benefit for the training is very small\n",
    "    if len(txt) > 2:\n",
    "        return ' '.join(txt)"
   ]
  },
  {
   "cell_type": "code",
   "execution_count": 5,
   "metadata": {},
   "outputs": [],
   "source": [
    "new_content = []\n",
    "for article in content:\n",
    "    text = \"\"\n",
    "    for sent in article:\n",
    "        text = text + sent\n",
    "    new_content.append(text)"
   ]
  },
  {
   "cell_type": "code",
   "execution_count": 6,
   "metadata": {},
   "outputs": [],
   "source": [
    "brief_cleaning = (re.sub(\"[^A-Za-z']+\", ' ', str(article)).lower() for article in new_content)"
   ]
  },
  {
   "cell_type": "code",
   "execution_count": 7,
   "metadata": {},
   "outputs": [
    {
     "name": "stdout",
     "output_type": "stream",
     "text": [
      "Time to clean up everything: 0.47 mins\n"
     ]
    }
   ],
   "source": [
    "t = time()\n",
    "\n",
    "txt = [cleaning(doc) for doc in nlp.pipe(brief_cleaning, batch_size=5000, n_threads=-1)]\n",
    "\n",
    "print('Time to clean up everything: {} mins'.format(round((time() - t) / 60, 2)))"
   ]
  },
  {
   "cell_type": "code",
   "execution_count": 8,
   "metadata": {},
   "outputs": [
    {
     "data": {
      "text/plain": [
       "(395, 1)"
      ]
     },
     "execution_count": 8,
     "metadata": {},
     "output_type": "execute_result"
    }
   ],
   "source": [
    "df_clean = pd.DataFrame({'clean': txt})\n",
    "df_clean = df_clean.dropna().drop_duplicates()\n",
    "df_clean.shape"
   ]
  },
  {
   "cell_type": "code",
   "execution_count": 9,
   "metadata": {},
   "outputs": [],
   "source": [
    "from gensim.models.phrases import Phrases, Phraser"
   ]
  },
  {
   "cell_type": "code",
   "execution_count": 10,
   "metadata": {},
   "outputs": [],
   "source": [
    "sent = [row.split() for row in df_clean['clean']]"
   ]
  },
  {
   "cell_type": "code",
   "execution_count": 11,
   "metadata": {},
   "outputs": [
    {
     "name": "stderr",
     "output_type": "stream",
     "text": [
      "INFO - 10:39:25: collecting all words and their counts\n",
      "INFO - 10:39:25: PROGRESS: at sentence #0, processed 0 words and 0 word types\n",
      "INFO - 10:39:25: collected 240879 word types from a corpus of 290176 words (unigram + bigrams) and 395 sentences\n",
      "INFO - 10:39:25: using 240879 counts as vocab in Phrases<0 vocab, min_count=30, threshold=10.0, max_vocab_size=40000000>\n"
     ]
    }
   ],
   "source": [
    "bigram = Phrases(sent, min_count=30, progress_per=10000)"
   ]
  },
  {
   "cell_type": "code",
   "execution_count": 12,
   "metadata": {},
   "outputs": [],
   "source": [
    "#bigram = Phraser(phrases)"
   ]
  },
  {
   "cell_type": "code",
   "execution_count": 13,
   "metadata": {},
   "outputs": [],
   "source": [
    "sentences = bigram[sent]"
   ]
  },
  {
   "cell_type": "code",
   "execution_count": 14,
   "metadata": {},
   "outputs": [
    {
     "name": "stdout",
     "output_type": "stream",
     "text": [
      "<gensim.interfaces.TransformedCorpus object at 0x000001C33CD97448>\n"
     ]
    }
   ],
   "source": [
    "print(bigram[sent])"
   ]
  },
  {
   "cell_type": "code",
   "execution_count": 15,
   "metadata": {},
   "outputs": [
    {
     "data": {
      "text/plain": [
       "22922"
      ]
     },
     "execution_count": 15,
     "metadata": {},
     "output_type": "execute_result"
    }
   ],
   "source": [
    "word_freq = defaultdict(int)\n",
    "for sent in sentences:\n",
    "    for i in sent:\n",
    "        word_freq[i] += 1\n",
    "len(word_freq)"
   ]
  },
  {
   "cell_type": "code",
   "execution_count": 16,
   "metadata": {},
   "outputs": [
    {
     "data": {
      "text/plain": [
       "['s', 'restaurant', \"'s\", 'like', 'be', 'dish', 'good', 'menu', 'food', 'chef']"
      ]
     },
     "execution_count": 16,
     "metadata": {},
     "output_type": "execute_result"
    }
   ],
   "source": [
    "sorted(word_freq, key=word_freq.get, reverse=True)[:10]"
   ]
  },
  {
   "cell_type": "code",
   "execution_count": 17,
   "metadata": {},
   "outputs": [],
   "source": [
    "import multiprocessing\n",
    "\n",
    "from gensim.models import Word2Vec"
   ]
  },
  {
   "cell_type": "code",
   "execution_count": 18,
   "metadata": {},
   "outputs": [],
   "source": [
    "cores = multiprocessing.cpu_count() # Count the number of cores in a computer"
   ]
  },
  {
   "cell_type": "code",
   "execution_count": 19,
   "metadata": {},
   "outputs": [],
   "source": [
    "w2v_model = Word2Vec(min_count=20,\n",
    "                     window=2,\n",
    "                     size=300,\n",
    "                     sample=6e-5, \n",
    "                     alpha=0.03, \n",
    "                     min_alpha=0.0007, \n",
    "                     negative=20,\n",
    "                     workers=cores-1)"
   ]
  },
  {
   "cell_type": "code",
   "execution_count": 20,
   "metadata": {},
   "outputs": [
    {
     "name": "stderr",
     "output_type": "stream",
     "text": [
      "INFO - 10:39:27: collecting all words and their counts\n",
      "INFO - 10:39:27: PROGRESS: at sentence #0, processed 0 words, keeping 0 word types\n",
      "INFO - 10:39:28: collected 22922 word types from a corpus of 281782 raw words and 395 sentences\n",
      "INFO - 10:39:28: Loading a fresh vocabulary\n",
      "INFO - 10:39:28: effective_min_count=20 retains 2629 unique words (11% of original 22922, drops 20293)\n",
      "INFO - 10:39:28: effective_min_count=20 leaves 210633 word corpus (74% of original 281782, drops 71149)\n",
      "INFO - 10:39:28: deleting the raw counts dictionary of 22922 items\n",
      "INFO - 10:39:28: sample=6e-05 downsamples 1616 most-common words\n",
      "INFO - 10:39:28: downsampling leaves estimated 101776 word corpus (48.3% of prior 210633)\n",
      "INFO - 10:39:28: estimated required memory for 2629 words and 300 dimensions: 7624100 bytes\n",
      "INFO - 10:39:28: resetting layer weights\n"
     ]
    },
    {
     "name": "stdout",
     "output_type": "stream",
     "text": [
      "Time to build vocab: 0.03 mins\n"
     ]
    }
   ],
   "source": [
    "t = time()\n",
    "\n",
    "w2v_model.build_vocab(sentences, progress_per=10000)\n",
    "\n",
    "print('Time to build vocab: {} mins'.format(round((time() - t) / 60, 2)))"
   ]
  },
  {
   "cell_type": "code",
   "execution_count": 21,
   "metadata": {},
   "outputs": [
    {
     "name": "stderr",
     "output_type": "stream",
     "text": [
      "INFO - 10:39:28: training model with 11 workers on 2629 vocabulary and 300 features, using sg=0 hs=0 sample=6e-05 negative=20 window=2\n",
      "INFO - 10:39:29: EPOCH 1 - PROGRESS: at 58.99% examples, 61196 words/s, in_qsize 0, out_qsize 0\n",
      "INFO - 10:39:30: worker thread finished; awaiting finish of 10 more threads\n",
      "INFO - 10:39:30: worker thread finished; awaiting finish of 9 more threads\n",
      "INFO - 10:39:30: worker thread finished; awaiting finish of 8 more threads\n",
      "INFO - 10:39:30: worker thread finished; awaiting finish of 7 more threads\n",
      "INFO - 10:39:30: worker thread finished; awaiting finish of 6 more threads\n",
      "INFO - 10:39:30: worker thread finished; awaiting finish of 5 more threads\n",
      "INFO - 10:39:30: worker thread finished; awaiting finish of 4 more threads\n",
      "INFO - 10:39:30: worker thread finished; awaiting finish of 3 more threads\n",
      "INFO - 10:39:30: worker thread finished; awaiting finish of 2 more threads\n",
      "INFO - 10:39:30: worker thread finished; awaiting finish of 1 more threads\n",
      "INFO - 10:39:30: worker thread finished; awaiting finish of 0 more threads\n",
      "INFO - 10:39:30: EPOCH - 1 : training on 281782 raw words (101822 effective words) took 1.6s, 65365 effective words/s\n",
      "INFO - 10:39:31: EPOCH 2 - PROGRESS: at 71.65% examples, 74694 words/s, in_qsize 0, out_qsize 0\n",
      "INFO - 10:39:31: worker thread finished; awaiting finish of 10 more threads\n",
      "INFO - 10:39:31: worker thread finished; awaiting finish of 9 more threads\n",
      "INFO - 10:39:31: worker thread finished; awaiting finish of 8 more threads\n",
      "INFO - 10:39:31: worker thread finished; awaiting finish of 7 more threads\n",
      "INFO - 10:39:31: worker thread finished; awaiting finish of 6 more threads\n",
      "INFO - 10:39:31: worker thread finished; awaiting finish of 5 more threads\n",
      "INFO - 10:39:31: worker thread finished; awaiting finish of 4 more threads\n",
      "INFO - 10:39:31: worker thread finished; awaiting finish of 3 more threads\n",
      "INFO - 10:39:31: worker thread finished; awaiting finish of 2 more threads\n",
      "INFO - 10:39:31: worker thread finished; awaiting finish of 1 more threads\n",
      "INFO - 10:39:31: worker thread finished; awaiting finish of 0 more threads\n",
      "INFO - 10:39:31: EPOCH - 2 : training on 281782 raw words (101700 effective words) took 1.3s, 75409 effective words/s\n",
      "INFO - 10:39:32: EPOCH 3 - PROGRESS: at 65.82% examples, 67504 words/s, in_qsize 0, out_qsize 0\n",
      "INFO - 10:39:33: worker thread finished; awaiting finish of 10 more threads\n",
      "INFO - 10:39:33: worker thread finished; awaiting finish of 9 more threads\n",
      "INFO - 10:39:33: worker thread finished; awaiting finish of 8 more threads\n",
      "INFO - 10:39:33: worker thread finished; awaiting finish of 7 more threads\n",
      "INFO - 10:39:33: worker thread finished; awaiting finish of 6 more threads\n",
      "INFO - 10:39:33: worker thread finished; awaiting finish of 5 more threads\n",
      "INFO - 10:39:33: worker thread finished; awaiting finish of 4 more threads\n",
      "INFO - 10:39:33: worker thread finished; awaiting finish of 3 more threads\n",
      "INFO - 10:39:33: worker thread finished; awaiting finish of 2 more threads\n",
      "INFO - 10:39:33: worker thread finished; awaiting finish of 1 more threads\n",
      "INFO - 10:39:33: worker thread finished; awaiting finish of 0 more threads\n",
      "INFO - 10:39:33: EPOCH - 3 : training on 281782 raw words (101709 effective words) took 1.4s, 70515 effective words/s\n",
      "INFO - 10:39:34: EPOCH 4 - PROGRESS: at 68.61% examples, 70277 words/s, in_qsize 1, out_qsize 0\n",
      "INFO - 10:39:34: worker thread finished; awaiting finish of 10 more threads\n",
      "INFO - 10:39:34: worker thread finished; awaiting finish of 9 more threads\n",
      "INFO - 10:39:34: worker thread finished; awaiting finish of 8 more threads\n",
      "INFO - 10:39:34: worker thread finished; awaiting finish of 7 more threads\n",
      "INFO - 10:39:34: worker thread finished; awaiting finish of 6 more threads\n",
      "INFO - 10:39:34: worker thread finished; awaiting finish of 5 more threads\n",
      "INFO - 10:39:34: worker thread finished; awaiting finish of 4 more threads\n",
      "INFO - 10:39:34: worker thread finished; awaiting finish of 3 more threads\n",
      "INFO - 10:39:34: worker thread finished; awaiting finish of 2 more threads\n",
      "INFO - 10:39:34: worker thread finished; awaiting finish of 1 more threads\n",
      "INFO - 10:39:34: worker thread finished; awaiting finish of 0 more threads\n",
      "INFO - 10:39:34: EPOCH - 4 : training on 281782 raw words (102121 effective words) took 1.4s, 70884 effective words/s\n",
      "INFO - 10:39:35: EPOCH 5 - PROGRESS: at 68.61% examples, 70718 words/s, in_qsize 0, out_qsize 0\n",
      "INFO - 10:39:36: worker thread finished; awaiting finish of 10 more threads\n",
      "INFO - 10:39:36: worker thread finished; awaiting finish of 9 more threads\n",
      "INFO - 10:39:36: worker thread finished; awaiting finish of 8 more threads\n",
      "INFO - 10:39:36: worker thread finished; awaiting finish of 7 more threads\n",
      "INFO - 10:39:36: worker thread finished; awaiting finish of 6 more threads\n",
      "INFO - 10:39:36: worker thread finished; awaiting finish of 5 more threads\n",
      "INFO - 10:39:36: worker thread finished; awaiting finish of 4 more threads\n",
      "INFO - 10:39:36: worker thread finished; awaiting finish of 3 more threads\n",
      "INFO - 10:39:36: worker thread finished; awaiting finish of 2 more threads\n",
      "INFO - 10:39:36: worker thread finished; awaiting finish of 1 more threads\n",
      "INFO - 10:39:36: worker thread finished; awaiting finish of 0 more threads\n",
      "INFO - 10:39:36: EPOCH - 5 : training on 281782 raw words (101897 effective words) took 1.4s, 70397 effective words/s\n",
      "INFO - 10:39:37: EPOCH 6 - PROGRESS: at 68.61% examples, 72890 words/s, in_qsize 1, out_qsize 0\n",
      "INFO - 10:39:37: worker thread finished; awaiting finish of 10 more threads\n",
      "INFO - 10:39:37: worker thread finished; awaiting finish of 9 more threads\n",
      "INFO - 10:39:37: worker thread finished; awaiting finish of 8 more threads\n",
      "INFO - 10:39:37: worker thread finished; awaiting finish of 7 more threads\n",
      "INFO - 10:39:37: worker thread finished; awaiting finish of 6 more threads\n",
      "INFO - 10:39:37: worker thread finished; awaiting finish of 5 more threads\n",
      "INFO - 10:39:37: worker thread finished; awaiting finish of 4 more threads\n",
      "INFO - 10:39:37: worker thread finished; awaiting finish of 3 more threads\n",
      "INFO - 10:39:37: worker thread finished; awaiting finish of 2 more threads\n",
      "INFO - 10:39:37: worker thread finished; awaiting finish of 1 more threads\n",
      "INFO - 10:39:37: worker thread finished; awaiting finish of 0 more threads\n",
      "INFO - 10:39:37: EPOCH - 6 : training on 281782 raw words (101822 effective words) took 1.4s, 72985 effective words/s\n",
      "INFO - 10:39:38: EPOCH 7 - PROGRESS: at 68.61% examples, 69857 words/s, in_qsize 0, out_qsize 0\n",
      "INFO - 10:39:38: worker thread finished; awaiting finish of 10 more threads\n",
      "INFO - 10:39:38: worker thread finished; awaiting finish of 9 more threads\n",
      "INFO - 10:39:38: worker thread finished; awaiting finish of 8 more threads\n",
      "INFO - 10:39:38: worker thread finished; awaiting finish of 7 more threads\n",
      "INFO - 10:39:38: worker thread finished; awaiting finish of 6 more threads\n",
      "INFO - 10:39:38: worker thread finished; awaiting finish of 5 more threads\n",
      "INFO - 10:39:38: worker thread finished; awaiting finish of 4 more threads\n",
      "INFO - 10:39:38: worker thread finished; awaiting finish of 3 more threads\n",
      "INFO - 10:39:38: worker thread finished; awaiting finish of 2 more threads\n",
      "INFO - 10:39:38: worker thread finished; awaiting finish of 1 more threads\n",
      "INFO - 10:39:38: worker thread finished; awaiting finish of 0 more threads\n",
      "INFO - 10:39:38: EPOCH - 7 : training on 281782 raw words (101891 effective words) took 1.4s, 70525 effective words/s\n",
      "INFO - 10:39:40: EPOCH 8 - PROGRESS: at 68.61% examples, 71052 words/s, in_qsize 0, out_qsize 0\n",
      "INFO - 10:39:40: worker thread finished; awaiting finish of 10 more threads\n",
      "INFO - 10:39:40: worker thread finished; awaiting finish of 9 more threads\n",
      "INFO - 10:39:40: worker thread finished; awaiting finish of 8 more threads\n",
      "INFO - 10:39:40: worker thread finished; awaiting finish of 7 more threads\n",
      "INFO - 10:39:40: worker thread finished; awaiting finish of 6 more threads\n",
      "INFO - 10:39:40: worker thread finished; awaiting finish of 5 more threads\n",
      "INFO - 10:39:40: worker thread finished; awaiting finish of 4 more threads\n",
      "INFO - 10:39:40: worker thread finished; awaiting finish of 3 more threads\n",
      "INFO - 10:39:40: worker thread finished; awaiting finish of 2 more threads\n",
      "INFO - 10:39:40: worker thread finished; awaiting finish of 1 more threads\n"
     ]
    },
    {
     "name": "stderr",
     "output_type": "stream",
     "text": [
      "INFO - 10:39:40: worker thread finished; awaiting finish of 0 more threads\n",
      "INFO - 10:39:40: EPOCH - 8 : training on 281782 raw words (102150 effective words) took 1.4s, 72691 effective words/s\n",
      "INFO - 10:39:41: EPOCH 9 - PROGRESS: at 71.65% examples, 73652 words/s, in_qsize 0, out_qsize 0\n",
      "INFO - 10:39:41: worker thread finished; awaiting finish of 10 more threads\n",
      "INFO - 10:39:41: worker thread finished; awaiting finish of 9 more threads\n",
      "INFO - 10:39:41: worker thread finished; awaiting finish of 8 more threads\n",
      "INFO - 10:39:41: worker thread finished; awaiting finish of 7 more threads\n",
      "INFO - 10:39:41: worker thread finished; awaiting finish of 6 more threads\n",
      "INFO - 10:39:41: worker thread finished; awaiting finish of 5 more threads\n",
      "INFO - 10:39:41: worker thread finished; awaiting finish of 4 more threads\n",
      "INFO - 10:39:41: worker thread finished; awaiting finish of 3 more threads\n",
      "INFO - 10:39:41: worker thread finished; awaiting finish of 2 more threads\n",
      "INFO - 10:39:41: worker thread finished; awaiting finish of 1 more threads\n",
      "INFO - 10:39:41: worker thread finished; awaiting finish of 0 more threads\n",
      "INFO - 10:39:41: EPOCH - 9 : training on 281782 raw words (101953 effective words) took 1.4s, 74262 effective words/s\n",
      "INFO - 10:39:42: EPOCH 10 - PROGRESS: at 65.82% examples, 69091 words/s, in_qsize 0, out_qsize 0\n",
      "INFO - 10:39:43: worker thread finished; awaiting finish of 10 more threads\n",
      "INFO - 10:39:43: worker thread finished; awaiting finish of 9 more threads\n",
      "INFO - 10:39:43: worker thread finished; awaiting finish of 8 more threads\n",
      "INFO - 10:39:43: worker thread finished; awaiting finish of 7 more threads\n",
      "INFO - 10:39:43: worker thread finished; awaiting finish of 6 more threads\n",
      "INFO - 10:39:43: worker thread finished; awaiting finish of 5 more threads\n",
      "INFO - 10:39:43: worker thread finished; awaiting finish of 4 more threads\n",
      "INFO - 10:39:43: worker thread finished; awaiting finish of 3 more threads\n",
      "INFO - 10:39:43: worker thread finished; awaiting finish of 2 more threads\n",
      "INFO - 10:39:43: worker thread finished; awaiting finish of 1 more threads\n",
      "INFO - 10:39:43: worker thread finished; awaiting finish of 0 more threads\n",
      "INFO - 10:39:43: EPOCH - 10 : training on 281782 raw words (102065 effective words) took 1.4s, 72552 effective words/s\n",
      "INFO - 10:39:44: EPOCH 11 - PROGRESS: at 71.65% examples, 74588 words/s, in_qsize 0, out_qsize 0\n",
      "INFO - 10:39:44: worker thread finished; awaiting finish of 10 more threads\n",
      "INFO - 10:39:44: worker thread finished; awaiting finish of 9 more threads\n",
      "INFO - 10:39:44: worker thread finished; awaiting finish of 8 more threads\n",
      "INFO - 10:39:44: worker thread finished; awaiting finish of 7 more threads\n",
      "INFO - 10:39:44: worker thread finished; awaiting finish of 6 more threads\n",
      "INFO - 10:39:44: worker thread finished; awaiting finish of 5 more threads\n",
      "INFO - 10:39:44: worker thread finished; awaiting finish of 4 more threads\n",
      "INFO - 10:39:44: worker thread finished; awaiting finish of 3 more threads\n",
      "INFO - 10:39:44: worker thread finished; awaiting finish of 2 more threads\n",
      "INFO - 10:39:44: worker thread finished; awaiting finish of 1 more threads\n",
      "INFO - 10:39:44: worker thread finished; awaiting finish of 0 more threads\n",
      "INFO - 10:39:44: EPOCH - 11 : training on 281782 raw words (101747 effective words) took 1.4s, 74688 effective words/s\n",
      "INFO - 10:39:45: EPOCH 12 - PROGRESS: at 68.61% examples, 70135 words/s, in_qsize 0, out_qsize 0\n",
      "INFO - 10:39:46: worker thread finished; awaiting finish of 10 more threads\n",
      "INFO - 10:39:46: worker thread finished; awaiting finish of 9 more threads\n",
      "INFO - 10:39:46: worker thread finished; awaiting finish of 8 more threads\n",
      "INFO - 10:39:46: worker thread finished; awaiting finish of 7 more threads\n",
      "INFO - 10:39:46: worker thread finished; awaiting finish of 6 more threads\n",
      "INFO - 10:39:46: worker thread finished; awaiting finish of 5 more threads\n",
      "INFO - 10:39:46: worker thread finished; awaiting finish of 4 more threads\n",
      "INFO - 10:39:46: worker thread finished; awaiting finish of 3 more threads\n",
      "INFO - 10:39:46: worker thread finished; awaiting finish of 2 more threads\n",
      "INFO - 10:39:46: worker thread finished; awaiting finish of 1 more threads\n",
      "INFO - 10:39:46: worker thread finished; awaiting finish of 0 more threads\n",
      "INFO - 10:39:46: EPOCH - 12 : training on 281782 raw words (101776 effective words) took 1.5s, 69877 effective words/s\n",
      "INFO - 10:39:47: EPOCH 13 - PROGRESS: at 65.82% examples, 66275 words/s, in_qsize 0, out_qsize 0\n",
      "INFO - 10:39:47: worker thread finished; awaiting finish of 10 more threads\n",
      "INFO - 10:39:47: worker thread finished; awaiting finish of 9 more threads\n",
      "INFO - 10:39:47: worker thread finished; awaiting finish of 8 more threads\n",
      "INFO - 10:39:47: worker thread finished; awaiting finish of 7 more threads\n",
      "INFO - 10:39:47: worker thread finished; awaiting finish of 6 more threads\n",
      "INFO - 10:39:47: worker thread finished; awaiting finish of 5 more threads\n",
      "INFO - 10:39:47: worker thread finished; awaiting finish of 4 more threads\n",
      "INFO - 10:39:47: worker thread finished; awaiting finish of 3 more threads\n",
      "INFO - 10:39:47: worker thread finished; awaiting finish of 2 more threads\n",
      "INFO - 10:39:47: worker thread finished; awaiting finish of 1 more threads\n",
      "INFO - 10:39:47: worker thread finished; awaiting finish of 0 more threads\n",
      "INFO - 10:39:47: EPOCH - 13 : training on 281782 raw words (101871 effective words) took 1.5s, 67972 effective words/s\n",
      "INFO - 10:39:48: EPOCH 14 - PROGRESS: at 58.99% examples, 62441 words/s, in_qsize 0, out_qsize 0\n",
      "INFO - 10:39:49: worker thread finished; awaiting finish of 10 more threads\n",
      "INFO - 10:39:49: worker thread finished; awaiting finish of 9 more threads\n",
      "INFO - 10:39:49: worker thread finished; awaiting finish of 8 more threads\n",
      "INFO - 10:39:49: worker thread finished; awaiting finish of 7 more threads\n",
      "INFO - 10:39:49: worker thread finished; awaiting finish of 6 more threads\n",
      "INFO - 10:39:49: worker thread finished; awaiting finish of 5 more threads\n",
      "INFO - 10:39:49: worker thread finished; awaiting finish of 4 more threads\n",
      "INFO - 10:39:49: worker thread finished; awaiting finish of 3 more threads\n",
      "INFO - 10:39:49: worker thread finished; awaiting finish of 2 more threads\n",
      "INFO - 10:39:49: worker thread finished; awaiting finish of 1 more threads\n",
      "INFO - 10:39:49: worker thread finished; awaiting finish of 0 more threads\n",
      "INFO - 10:39:49: EPOCH - 14 : training on 281782 raw words (101792 effective words) took 1.6s, 62116 effective words/s\n",
      "INFO - 10:39:50: EPOCH 15 - PROGRESS: at 65.82% examples, 68430 words/s, in_qsize 0, out_qsize 0\n",
      "INFO - 10:39:50: worker thread finished; awaiting finish of 10 more threads\n",
      "INFO - 10:39:50: worker thread finished; awaiting finish of 9 more threads\n",
      "INFO - 10:39:50: worker thread finished; awaiting finish of 8 more threads\n",
      "INFO - 10:39:50: worker thread finished; awaiting finish of 7 more threads\n",
      "INFO - 10:39:50: worker thread finished; awaiting finish of 6 more threads\n",
      "INFO - 10:39:50: worker thread finished; awaiting finish of 5 more threads\n",
      "INFO - 10:39:50: worker thread finished; awaiting finish of 4 more threads\n",
      "INFO - 10:39:50: worker thread finished; awaiting finish of 3 more threads\n",
      "INFO - 10:39:50: worker thread finished; awaiting finish of 2 more threads\n",
      "INFO - 10:39:50: worker thread finished; awaiting finish of 1 more threads\n",
      "INFO - 10:39:50: worker thread finished; awaiting finish of 0 more threads\n",
      "INFO - 10:39:50: EPOCH - 15 : training on 281782 raw words (102001 effective words) took 1.5s, 69793 effective words/s\n",
      "INFO - 10:39:51: EPOCH 16 - PROGRESS: at 71.65% examples, 75463 words/s, in_qsize 0, out_qsize 0\n",
      "INFO - 10:39:52: worker thread finished; awaiting finish of 10 more threads\n",
      "INFO - 10:39:52: worker thread finished; awaiting finish of 9 more threads\n",
      "INFO - 10:39:52: worker thread finished; awaiting finish of 8 more threads\n",
      "INFO - 10:39:52: worker thread finished; awaiting finish of 7 more threads\n",
      "INFO - 10:39:52: worker thread finished; awaiting finish of 6 more threads\n",
      "INFO - 10:39:52: worker thread finished; awaiting finish of 5 more threads\n",
      "INFO - 10:39:52: worker thread finished; awaiting finish of 4 more threads\n",
      "INFO - 10:39:52: worker thread finished; awaiting finish of 3 more threads\n",
      "INFO - 10:39:52: worker thread finished; awaiting finish of 2 more threads\n"
     ]
    },
    {
     "name": "stderr",
     "output_type": "stream",
     "text": [
      "INFO - 10:39:52: worker thread finished; awaiting finish of 1 more threads\n",
      "INFO - 10:39:52: worker thread finished; awaiting finish of 0 more threads\n",
      "INFO - 10:39:52: EPOCH - 16 : training on 281782 raw words (101832 effective words) took 1.3s, 77148 effective words/s\n",
      "INFO - 10:39:53: EPOCH 17 - PROGRESS: at 65.82% examples, 66198 words/s, in_qsize 0, out_qsize 1\n",
      "INFO - 10:39:53: worker thread finished; awaiting finish of 10 more threads\n",
      "INFO - 10:39:53: worker thread finished; awaiting finish of 9 more threads\n",
      "INFO - 10:39:53: worker thread finished; awaiting finish of 8 more threads\n",
      "INFO - 10:39:53: worker thread finished; awaiting finish of 7 more threads\n",
      "INFO - 10:39:53: worker thread finished; awaiting finish of 6 more threads\n",
      "INFO - 10:39:53: worker thread finished; awaiting finish of 5 more threads\n",
      "INFO - 10:39:53: worker thread finished; awaiting finish of 4 more threads\n",
      "INFO - 10:39:53: worker thread finished; awaiting finish of 3 more threads\n",
      "INFO - 10:39:53: worker thread finished; awaiting finish of 2 more threads\n",
      "INFO - 10:39:53: worker thread finished; awaiting finish of 1 more threads\n",
      "INFO - 10:39:53: worker thread finished; awaiting finish of 0 more threads\n",
      "INFO - 10:39:53: EPOCH - 17 : training on 281782 raw words (101575 effective words) took 1.4s, 70705 effective words/s\n",
      "INFO - 10:39:54: EPOCH 18 - PROGRESS: at 68.61% examples, 72463 words/s, in_qsize 1, out_qsize 0\n",
      "INFO - 10:39:54: worker thread finished; awaiting finish of 10 more threads\n",
      "INFO - 10:39:54: worker thread finished; awaiting finish of 9 more threads\n",
      "INFO - 10:39:54: worker thread finished; awaiting finish of 8 more threads\n",
      "INFO - 10:39:54: worker thread finished; awaiting finish of 7 more threads\n",
      "INFO - 10:39:54: worker thread finished; awaiting finish of 6 more threads\n",
      "INFO - 10:39:54: worker thread finished; awaiting finish of 5 more threads\n",
      "INFO - 10:39:54: worker thread finished; awaiting finish of 4 more threads\n",
      "INFO - 10:39:54: worker thread finished; awaiting finish of 3 more threads\n",
      "INFO - 10:39:54: worker thread finished; awaiting finish of 2 more threads\n",
      "INFO - 10:39:54: worker thread finished; awaiting finish of 1 more threads\n",
      "INFO - 10:39:54: worker thread finished; awaiting finish of 0 more threads\n",
      "INFO - 10:39:54: EPOCH - 18 : training on 281782 raw words (101578 effective words) took 1.4s, 74253 effective words/s\n",
      "INFO - 10:39:55: EPOCH 19 - PROGRESS: at 68.61% examples, 71718 words/s, in_qsize 0, out_qsize 0\n",
      "INFO - 10:39:56: worker thread finished; awaiting finish of 10 more threads\n",
      "INFO - 10:39:56: worker thread finished; awaiting finish of 9 more threads\n",
      "INFO - 10:39:56: worker thread finished; awaiting finish of 8 more threads\n",
      "INFO - 10:39:56: worker thread finished; awaiting finish of 7 more threads\n",
      "INFO - 10:39:56: worker thread finished; awaiting finish of 6 more threads\n",
      "INFO - 10:39:56: worker thread finished; awaiting finish of 5 more threads\n",
      "INFO - 10:39:56: worker thread finished; awaiting finish of 4 more threads\n",
      "INFO - 10:39:56: worker thread finished; awaiting finish of 3 more threads\n",
      "INFO - 10:39:56: worker thread finished; awaiting finish of 2 more threads\n",
      "INFO - 10:39:56: worker thread finished; awaiting finish of 1 more threads\n",
      "INFO - 10:39:56: worker thread finished; awaiting finish of 0 more threads\n",
      "INFO - 10:39:56: EPOCH - 19 : training on 281782 raw words (102105 effective words) took 1.4s, 73308 effective words/s\n",
      "INFO - 10:39:57: EPOCH 20 - PROGRESS: at 71.65% examples, 73418 words/s, in_qsize 1, out_qsize 0\n",
      "INFO - 10:39:57: worker thread finished; awaiting finish of 10 more threads\n",
      "INFO - 10:39:57: worker thread finished; awaiting finish of 9 more threads\n",
      "INFO - 10:39:57: worker thread finished; awaiting finish of 8 more threads\n",
      "INFO - 10:39:57: worker thread finished; awaiting finish of 7 more threads\n",
      "INFO - 10:39:57: worker thread finished; awaiting finish of 6 more threads\n",
      "INFO - 10:39:57: worker thread finished; awaiting finish of 5 more threads\n",
      "INFO - 10:39:57: worker thread finished; awaiting finish of 4 more threads\n",
      "INFO - 10:39:57: worker thread finished; awaiting finish of 3 more threads\n",
      "INFO - 10:39:57: worker thread finished; awaiting finish of 2 more threads\n",
      "INFO - 10:39:57: worker thread finished; awaiting finish of 1 more threads\n",
      "INFO - 10:39:57: worker thread finished; awaiting finish of 0 more threads\n",
      "INFO - 10:39:57: EPOCH - 20 : training on 281782 raw words (101783 effective words) took 1.3s, 75714 effective words/s\n",
      "INFO - 10:39:58: EPOCH 21 - PROGRESS: at 71.65% examples, 73470 words/s, in_qsize 0, out_qsize 0\n",
      "INFO - 10:39:59: worker thread finished; awaiting finish of 10 more threads\n",
      "INFO - 10:39:59: worker thread finished; awaiting finish of 9 more threads\n",
      "INFO - 10:39:59: worker thread finished; awaiting finish of 8 more threads\n",
      "INFO - 10:39:59: worker thread finished; awaiting finish of 7 more threads\n",
      "INFO - 10:39:59: worker thread finished; awaiting finish of 6 more threads\n",
      "INFO - 10:39:59: worker thread finished; awaiting finish of 5 more threads\n",
      "INFO - 10:39:59: worker thread finished; awaiting finish of 4 more threads\n",
      "INFO - 10:39:59: worker thread finished; awaiting finish of 3 more threads\n",
      "INFO - 10:39:59: worker thread finished; awaiting finish of 2 more threads\n",
      "INFO - 10:39:59: worker thread finished; awaiting finish of 1 more threads\n",
      "INFO - 10:39:59: worker thread finished; awaiting finish of 0 more threads\n",
      "INFO - 10:39:59: EPOCH - 21 : training on 281782 raw words (101405 effective words) took 1.4s, 70624 effective words/s\n",
      "INFO - 10:40:00: EPOCH 22 - PROGRESS: at 68.61% examples, 72794 words/s, in_qsize 0, out_qsize 0\n",
      "INFO - 10:40:00: worker thread finished; awaiting finish of 10 more threads\n",
      "INFO - 10:40:00: worker thread finished; awaiting finish of 9 more threads\n",
      "INFO - 10:40:00: worker thread finished; awaiting finish of 8 more threads\n",
      "INFO - 10:40:00: worker thread finished; awaiting finish of 7 more threads\n",
      "INFO - 10:40:00: worker thread finished; awaiting finish of 6 more threads\n",
      "INFO - 10:40:00: worker thread finished; awaiting finish of 5 more threads\n",
      "INFO - 10:40:00: worker thread finished; awaiting finish of 4 more threads\n",
      "INFO - 10:40:00: worker thread finished; awaiting finish of 3 more threads\n",
      "INFO - 10:40:00: worker thread finished; awaiting finish of 2 more threads\n",
      "INFO - 10:40:00: worker thread finished; awaiting finish of 1 more threads\n",
      "INFO - 10:40:00: worker thread finished; awaiting finish of 0 more threads\n",
      "INFO - 10:40:00: EPOCH - 22 : training on 281782 raw words (101799 effective words) took 1.4s, 72041 effective words/s\n",
      "INFO - 10:40:01: EPOCH 23 - PROGRESS: at 65.82% examples, 68328 words/s, in_qsize 0, out_qsize 0\n",
      "INFO - 10:40:02: worker thread finished; awaiting finish of 10 more threads\n",
      "INFO - 10:40:02: worker thread finished; awaiting finish of 9 more threads\n",
      "INFO - 10:40:02: worker thread finished; awaiting finish of 8 more threads\n",
      "INFO - 10:40:02: worker thread finished; awaiting finish of 7 more threads\n",
      "INFO - 10:40:02: worker thread finished; awaiting finish of 6 more threads\n",
      "INFO - 10:40:02: worker thread finished; awaiting finish of 5 more threads\n",
      "INFO - 10:40:02: worker thread finished; awaiting finish of 4 more threads\n",
      "INFO - 10:40:02: worker thread finished; awaiting finish of 3 more threads\n",
      "INFO - 10:40:02: worker thread finished; awaiting finish of 2 more threads\n",
      "INFO - 10:40:02: worker thread finished; awaiting finish of 1 more threads\n",
      "INFO - 10:40:02: worker thread finished; awaiting finish of 0 more threads\n",
      "INFO - 10:40:02: EPOCH - 23 : training on 281782 raw words (101619 effective words) took 1.5s, 66940 effective words/s\n",
      "INFO - 10:40:03: EPOCH 24 - PROGRESS: at 62.28% examples, 63177 words/s, in_qsize 0, out_qsize 0\n",
      "INFO - 10:40:03: worker thread finished; awaiting finish of 10 more threads\n",
      "INFO - 10:40:03: worker thread finished; awaiting finish of 9 more threads\n",
      "INFO - 10:40:03: worker thread finished; awaiting finish of 8 more threads\n",
      "INFO - 10:40:03: worker thread finished; awaiting finish of 7 more threads\n",
      "INFO - 10:40:03: worker thread finished; awaiting finish of 6 more threads\n",
      "INFO - 10:40:03: worker thread finished; awaiting finish of 5 more threads\n",
      "INFO - 10:40:03: worker thread finished; awaiting finish of 4 more threads\n",
      "INFO - 10:40:03: worker thread finished; awaiting finish of 3 more threads\n"
     ]
    },
    {
     "name": "stderr",
     "output_type": "stream",
     "text": [
      "INFO - 10:40:03: worker thread finished; awaiting finish of 2 more threads\n",
      "INFO - 10:40:03: worker thread finished; awaiting finish of 1 more threads\n",
      "INFO - 10:40:03: worker thread finished; awaiting finish of 0 more threads\n",
      "INFO - 10:40:03: EPOCH - 24 : training on 281782 raw words (101792 effective words) took 1.6s, 63415 effective words/s\n",
      "INFO - 10:40:04: EPOCH 25 - PROGRESS: at 52.41% examples, 55757 words/s, in_qsize 1, out_qsize 0\n",
      "INFO - 10:40:05: worker thread finished; awaiting finish of 10 more threads\n",
      "INFO - 10:40:05: worker thread finished; awaiting finish of 9 more threads\n",
      "INFO - 10:40:05: worker thread finished; awaiting finish of 8 more threads\n",
      "INFO - 10:40:05: worker thread finished; awaiting finish of 7 more threads\n",
      "INFO - 10:40:05: worker thread finished; awaiting finish of 6 more threads\n",
      "INFO - 10:40:05: worker thread finished; awaiting finish of 5 more threads\n",
      "INFO - 10:40:05: worker thread finished; awaiting finish of 4 more threads\n",
      "INFO - 10:40:05: worker thread finished; awaiting finish of 3 more threads\n",
      "INFO - 10:40:05: worker thread finished; awaiting finish of 2 more threads\n",
      "INFO - 10:40:05: worker thread finished; awaiting finish of 1 more threads\n",
      "INFO - 10:40:05: worker thread finished; awaiting finish of 0 more threads\n",
      "INFO - 10:40:05: EPOCH - 25 : training on 281782 raw words (101367 effective words) took 1.8s, 57801 effective words/s\n",
      "INFO - 10:40:06: EPOCH 26 - PROGRESS: at 65.82% examples, 67741 words/s, in_qsize 0, out_qsize 0\n",
      "INFO - 10:40:06: worker thread finished; awaiting finish of 10 more threads\n",
      "INFO - 10:40:06: worker thread finished; awaiting finish of 9 more threads\n",
      "INFO - 10:40:06: worker thread finished; awaiting finish of 8 more threads\n",
      "INFO - 10:40:06: worker thread finished; awaiting finish of 7 more threads\n",
      "INFO - 10:40:06: worker thread finished; awaiting finish of 6 more threads\n",
      "INFO - 10:40:06: worker thread finished; awaiting finish of 5 more threads\n",
      "INFO - 10:40:06: worker thread finished; awaiting finish of 4 more threads\n",
      "INFO - 10:40:06: worker thread finished; awaiting finish of 3 more threads\n",
      "INFO - 10:40:06: worker thread finished; awaiting finish of 2 more threads\n",
      "INFO - 10:40:06: worker thread finished; awaiting finish of 1 more threads\n",
      "INFO - 10:40:06: worker thread finished; awaiting finish of 0 more threads\n",
      "INFO - 10:40:06: EPOCH - 26 : training on 281782 raw words (101806 effective words) took 1.5s, 67358 effective words/s\n",
      "INFO - 10:40:08: EPOCH 27 - PROGRESS: at 58.99% examples, 61979 words/s, in_qsize 0, out_qsize 0\n",
      "INFO - 10:40:08: worker thread finished; awaiting finish of 10 more threads\n",
      "INFO - 10:40:08: worker thread finished; awaiting finish of 9 more threads\n",
      "INFO - 10:40:08: worker thread finished; awaiting finish of 8 more threads\n",
      "INFO - 10:40:08: worker thread finished; awaiting finish of 7 more threads\n",
      "INFO - 10:40:08: worker thread finished; awaiting finish of 6 more threads\n",
      "INFO - 10:40:08: worker thread finished; awaiting finish of 5 more threads\n",
      "INFO - 10:40:08: worker thread finished; awaiting finish of 4 more threads\n",
      "INFO - 10:40:08: worker thread finished; awaiting finish of 3 more threads\n",
      "INFO - 10:40:08: worker thread finished; awaiting finish of 2 more threads\n",
      "INFO - 10:40:08: worker thread finished; awaiting finish of 1 more threads\n",
      "INFO - 10:40:08: worker thread finished; awaiting finish of 0 more threads\n",
      "INFO - 10:40:08: EPOCH - 27 : training on 281782 raw words (101812 effective words) took 1.8s, 57362 effective words/s\n",
      "INFO - 10:40:09: EPOCH 28 - PROGRESS: at 52.41% examples, 52713 words/s, in_qsize 0, out_qsize 0\n",
      "INFO - 10:40:10: worker thread finished; awaiting finish of 10 more threads\n",
      "INFO - 10:40:10: worker thread finished; awaiting finish of 9 more threads\n",
      "INFO - 10:40:10: worker thread finished; awaiting finish of 8 more threads\n",
      "INFO - 10:40:10: worker thread finished; awaiting finish of 7 more threads\n",
      "INFO - 10:40:10: worker thread finished; awaiting finish of 6 more threads\n",
      "INFO - 10:40:10: worker thread finished; awaiting finish of 5 more threads\n",
      "INFO - 10:40:10: worker thread finished; awaiting finish of 4 more threads\n",
      "INFO - 10:40:10: worker thread finished; awaiting finish of 3 more threads\n",
      "INFO - 10:40:10: worker thread finished; awaiting finish of 2 more threads\n",
      "INFO - 10:40:10: worker thread finished; awaiting finish of 1 more threads\n",
      "INFO - 10:40:10: worker thread finished; awaiting finish of 0 more threads\n",
      "INFO - 10:40:10: EPOCH - 28 : training on 281782 raw words (101801 effective words) took 1.8s, 56949 effective words/s\n",
      "INFO - 10:40:11: EPOCH 29 - PROGRESS: at 58.99% examples, 60184 words/s, in_qsize 0, out_qsize 0\n",
      "INFO - 10:40:12: worker thread finished; awaiting finish of 10 more threads\n",
      "INFO - 10:40:12: worker thread finished; awaiting finish of 9 more threads\n",
      "INFO - 10:40:12: worker thread finished; awaiting finish of 8 more threads\n",
      "INFO - 10:40:12: worker thread finished; awaiting finish of 7 more threads\n",
      "INFO - 10:40:12: worker thread finished; awaiting finish of 6 more threads\n",
      "INFO - 10:40:12: worker thread finished; awaiting finish of 5 more threads\n",
      "INFO - 10:40:12: worker thread finished; awaiting finish of 4 more threads\n",
      "INFO - 10:40:12: worker thread finished; awaiting finish of 3 more threads\n",
      "INFO - 10:40:12: worker thread finished; awaiting finish of 2 more threads\n",
      "INFO - 10:40:12: worker thread finished; awaiting finish of 1 more threads\n",
      "INFO - 10:40:12: worker thread finished; awaiting finish of 0 more threads\n",
      "INFO - 10:40:12: EPOCH - 29 : training on 281782 raw words (101738 effective words) took 1.6s, 63132 effective words/s\n",
      "INFO - 10:40:13: EPOCH 30 - PROGRESS: at 55.44% examples, 58509 words/s, in_qsize 0, out_qsize 0\n",
      "INFO - 10:40:13: worker thread finished; awaiting finish of 10 more threads\n",
      "INFO - 10:40:13: worker thread finished; awaiting finish of 9 more threads\n",
      "INFO - 10:40:13: worker thread finished; awaiting finish of 8 more threads\n",
      "INFO - 10:40:13: worker thread finished; awaiting finish of 7 more threads\n",
      "INFO - 10:40:13: worker thread finished; awaiting finish of 6 more threads\n",
      "INFO - 10:40:13: worker thread finished; awaiting finish of 5 more threads\n",
      "INFO - 10:40:13: worker thread finished; awaiting finish of 4 more threads\n",
      "INFO - 10:40:13: worker thread finished; awaiting finish of 3 more threads\n",
      "INFO - 10:40:13: worker thread finished; awaiting finish of 2 more threads\n",
      "INFO - 10:40:13: worker thread finished; awaiting finish of 1 more threads\n",
      "INFO - 10:40:13: worker thread finished; awaiting finish of 0 more threads\n",
      "INFO - 10:40:13: EPOCH - 30 : training on 281782 raw words (101740 effective words) took 1.6s, 61673 effective words/s\n",
      "INFO - 10:40:13: training on a 8453460 raw words (3054069 effective words) took 45.2s, 67632 effective words/s\n"
     ]
    },
    {
     "name": "stdout",
     "output_type": "stream",
     "text": [
      "Time to train the model: 0.75 mins\n"
     ]
    }
   ],
   "source": [
    "t = time()\n",
    "\n",
    "w2v_model.train(sentences, total_examples=w2v_model.corpus_count, epochs=30, report_delay=1)\n",
    "\n",
    "print('Time to train the model: {} mins'.format(round((time() - t) / 60, 2)))"
   ]
  },
  {
   "cell_type": "code",
   "execution_count": 22,
   "metadata": {},
   "outputs": [
    {
     "name": "stderr",
     "output_type": "stream",
     "text": [
      "INFO - 10:40:13: precomputing L2-norms of word weight vectors\n"
     ]
    }
   ],
   "source": [
    "w2v_model.init_sims(replace=True)"
   ]
  },
  {
   "cell_type": "code",
   "execution_count": 25,
   "metadata": {},
   "outputs": [
    {
     "data": {
      "text/plain": [
       "[('pork', 0.9840567111968994),\n",
       " ('lamb', 0.9713866114616394),\n",
       " ('sauteed', 0.9637244939804077),\n",
       " ('rib', 0.9601218700408936),\n",
       " ('fry', 0.9590514898300171),\n",
       " ('kebab', 0.956694483757019),\n",
       " ('stew', 0.9524548649787903),\n",
       " ('chicken_wing', 0.9482629895210266),\n",
       " ('meatball', 0.9469231367111206),\n",
       " ('grill', 0.9456901550292969)]"
      ]
     },
     "execution_count": 25,
     "metadata": {},
     "output_type": "execute_result"
    }
   ],
   "source": [
    "w2v_model.wv.most_similar(positive=[\"beef\",\"chicken\",\"fish\"])"
   ]
  },
  {
   "cell_type": "code",
   "execution_count": 25,
   "metadata": {
    "scrolled": false
   },
   "outputs": [
    {
     "name": "stdout",
     "output_type": "stream",
     "text": [
      "('sauteed', 0.0009075872)\n",
      "('queso', 0.000869389)\n",
      "('biryani', 0.0008498551)\n",
      "('paneer', 0.00084196054)\n",
      "('pao', 0.00080325606)\n",
      "('curry', 0.00080078305)\n",
      "('masala', 0.0007994436)\n",
      "('mofongo', 0.00079513475)\n",
      "('entr_e', 0.00077619834)\n",
      "('fritter', 0.00077479327)\n",
      "('oxtail', 0.00077331095)\n",
      "('plantain', 0.0007628969)\n",
      "('boneless', 0.00075039006)\n",
      "('assortment', 0.0007444519)\n",
      "('vegan', 0.00074372935)\n",
      "('hunan', 0.0007404213)\n",
      "('roti', 0.00073781505)\n",
      "('chow', 0.0007369584)\n",
      "('goat', 0.000727191)\n",
      "('papaya', 0.00072706136)\n",
      "('pork', 0.0007193554)\n",
      "('chicken', 0.0007175683)\n",
      "('eel', 0.000717245)\n",
      "('lamb', 0.000715312)\n",
      "('pisco', 0.00071329874)\n",
      "('braise', 0.00070664997)\n",
      "('app', 0.0006990632)\n",
      "('momo', 0.0006958833)\n",
      "('noodle', 0.000692139)\n",
      "('kebab', 0.0006893638)\n",
      "('cost_dinner', 0.0006845835)\n",
      "('appetizer', 0.000681779)\n",
      "('shanghai', 0.0006806231)\n",
      "('empanada', 0.0006792542)\n",
      "('shrimp', 0.0006786865)\n",
      "('main_course', 0.00067574653)\n",
      "('nigiri', 0.0006733656)\n",
      "('side', 0.00067331886)\n",
      "('okra', 0.0006720624)\n",
      "('larb', 0.0006691184)\n",
      "('rice_cake', 0.00066703226)\n",
      "('pan', 0.0006661975)\n",
      "('port', 0.0006626841)\n",
      "('starch', 0.0006623761)\n",
      "('ceviche', 0.00066182617)\n",
      "('entree', 0.0006617906)\n",
      "('salad', 0.0006538407)\n",
      "('rib', 0.0006492512)\n",
      "('chicken_wing', 0.0006447665)\n",
      "('skewer', 0.00064461)\n",
      "('crudo', 0.00064364565)\n",
      "('mango', 0.0006424429)\n",
      "('jalapeno', 0.00063706556)\n",
      "('beef', 0.00063676113)\n",
      "('pork_chop', 0.0006362674)\n",
      "('jerk', 0.0006359784)\n"
     ]
    }
   ],
   "source": [
    "for each in w2v_model.predict_output_word(['chicken'],100):\n",
    "    if nlp(each[0])[0].pos_ == 'NOUN': #NOUN,VERB\n",
    "        print (each)"
   ]
  },
  {
   "cell_type": "code",
   "execution_count": 59,
   "metadata": {},
   "outputs": [
    {
     "name": "stderr",
     "output_type": "stream",
     "text": [
      "C:\\Users\\shile\\Anaconda3\\envs\\nlp_course\\lib\\site-packages\\ipykernel_launcher.py:5: DeprecationWarning: Call to deprecated `__getitem__` (Method will be removed in 4.0.0, use self.wv.__getitem__() instead).\n",
      "  \"\"\"\n",
      "C:\\Users\\shile\\Anaconda3\\envs\\nlp_course\\lib\\site-packages\\ipykernel_launcher.py:8: DeprecationWarning: Call to deprecated `__getitem__` (Method will be removed in 4.0.0, use self.wv.__getitem__() instead).\n",
      "  \n"
     ]
    },
    {
     "data": {
      "image/png": "[encoded data removed]",
      "text/plain": [
       "<Figure size 432x288 with 1 Axes>"
      ]
     },
     "metadata": {
      "needs_background": "light"
     },
     "output_type": "display_data"
    }
   ],
   "source": [
    "import numpy as np\n",
    "labels = []\n",
    "count = 0\n",
    "max_count = 50\n",
    "X = np.zeros(shape=(max_count,len(w2v_model['beef'])))\n",
    "\n",
    "for term in w2v_model.wv.vocab:\n",
    "    X[count] = w2v_model[term]\n",
    "    labels.append(term)\n",
    "    count+= 1\n",
    "    if count >= max_count: break\n",
    "\n",
    "# It is recommended to use PCA first to reduce to ~50 dimensions\n",
    "from sklearn.decomposition import PCA\n",
    "pca = PCA(n_components=50)\n",
    "X_50 = pca.fit_transform(X)\n",
    "\n",
    "# Using TSNE to further reduce to 2 dimensions\n",
    "from sklearn.manifold import TSNE\n",
    "model_tsne = TSNE(n_components=2, random_state=0)\n",
    "Y = model_tsne.fit_transform(X_50)\n",
    "\n",
    "# Show the scatter plot\n",
    "import matplotlib.pyplot as plt\n",
    "plt.scatter(Y[:,0], Y[:,1], 20)\n",
    "\n",
    "# Add labels\n",
    "for label, x, y in zip(labels, Y[:, 0], Y[:, 1]):\n",
    "    plt.annotate(label, xy = (x,y), xytext = (0, 0), textcoords = 'offset points', size = 10)\n",
    "\n",
    "plt.show()"
   ]
  },
  {
   "cell_type": "code",
   "execution_count": 60,
   "metadata": {},
   "outputs": [
    {
     "data": {
      "text/plain": [
       "[('lamb', 0.9443982839584351),\n",
       " ('fry', 0.9257964491844177),\n",
       " ('kebab', 0.9211352467536926)]"
      ]
     },
     "execution_count": 60,
     "metadata": {},
     "output_type": "execute_result"
    }
   ],
   "source": [
    "w2v_model.wv.most_similar(positive=[\"beef\",\"chicken\",\"pork\"], negative=[\"spicy\"], topn=3)"
   ]
  },
  {
   "cell_type": "code",
   "execution_count": 64,
   "metadata": {},
   "outputs": [],
   "source": [
    "import numpy as np\n",
    "import matplotlib.pyplot as plt\n",
    "%matplotlib inline\n",
    " \n",
    "import seaborn as sns\n",
    "sns.set_style(\"darkgrid\")\n",
    "\n",
    "from sklearn.decomposition import PCA\n",
    "from sklearn.manifold import TSNE"
   ]
  },
  {
   "cell_type": "code",
   "execution_count": 72,
   "metadata": {},
   "outputs": [],
   "source": [
    "def tsnescatterplot(model, word, list_names):\n",
    "    \"\"\" Plot in seaborn the results from the t-SNE dimensionality reduction algorithm of the vectors of a query word,\n",
    "    its list of most similar words, and a list of words.\n",
    "    \"\"\"\n",
    "    arrays = np.empty((0, 300), dtype='f')\n",
    "    word_labels = [word]\n",
    "    color_list  = ['red']\n",
    "\n",
    "    # adds the vector of the query word\n",
    "    arrays = np.append(arrays, model.wv.__getitem__([word]), axis=0)\n",
    "    \n",
    "    # gets list of most similar words\n",
    "    close_words = model.wv.most_similar([word])\n",
    "    \n",
    "    # adds the vector for each of the closest words to the array\n",
    "    for wrd_score in close_words:\n",
    "        wrd_vector = model.wv.__getitem__([wrd_score[0]])\n",
    "        word_labels.append(wrd_score[0])\n",
    "        color_list.append('blue')\n",
    "        arrays = np.append(arrays, wrd_vector, axis=0)\n",
    "    \n",
    "    # adds the vector for each of the words from list_names to the array\n",
    "    for wrd in list_names:\n",
    "        wrd_vector = model.wv.__getitem__([wrd])\n",
    "        word_labels.append(wrd)\n",
    "        color_list.append('green')\n",
    "        arrays = np.append(arrays, wrd_vector, axis=0)\n",
    "        \n",
    "    # Reduces the dimensionality from 300 to 50 dimensions with PCA\n",
    "    reduc = PCA(n_components=15).fit_transform(arrays)\n",
    "    \n",
    "    # Finds t-SNE coordinates for 2 dimensions\n",
    "    np.set_printoptions(suppress=True)\n",
    "    \n",
    "    Y = TSNE(n_components=2, random_state=0, perplexity=15).fit_transform(reduc)\n",
    "    \n",
    "    # Sets everything up to plot\n",
    "    df = pd.DataFrame({'x': [x for x in Y[:, 0]],\n",
    "                       'y': [y for y in Y[:, 1]],\n",
    "                       'words': word_labels,\n",
    "                       'color': color_list})\n",
    "    \n",
    "    fig, _ = plt.subplots()\n",
    "    fig.set_size_inches(9, 9)\n",
    "    \n",
    "    # Basic plot\n",
    "    p1 = sns.regplot(data=df,\n",
    "                     x=\"x\",\n",
    "                     y=\"y\",\n",
    "                     fit_reg=False,\n",
    "                     marker=\"o\",\n",
    "                     scatter_kws={'s': 40,\n",
    "                                  'facecolors': df['color']\n",
    "                                 }\n",
    "                    )\n",
    "    \n",
    "    # Adds annotations one by one with a loop\n",
    "    for line in range(0, df.shape[0]):\n",
    "         p1.text(df[\"x\"][line],\n",
    "                 df['y'][line],\n",
    "                 '  ' + df[\"words\"][line].title(),\n",
    "                 horizontalalignment='left',\n",
    "                 verticalalignment='bottom', size='medium',\n",
    "                 color=df['color'][line],\n",
    "                 weight='normal'\n",
    "                ).set_size(15)\n",
    "\n",
    "    \n",
    "    plt.xlim(Y[:, 0].min()-50, Y[:, 0].max()+50)\n",
    "    plt.ylim(Y[:, 1].min()-50, Y[:, 1].max()+50)\n",
    "            \n",
    "    plt.title('t-SNE visualization for {}'.format(word.title()))"
   ]
  },
  {
   "cell_type": "code",
   "execution_count": 76,
   "metadata": {
    "scrolled": true
   },
   "outputs": [
    {
     "data": {
      "image/png": "[encoded data removed]",
      "text/plain": [
       "<Figure size 648x648 with 1 Axes>"
      ]
     },
     "metadata": {},
     "output_type": "display_data"
    }
   ],
   "source": [
    "tsnescatterplot(w2v_model, 'beef', ['lamb','pork', 'chicken', 'grill', 'fish','rib', 'short_rib', 'fry'])"
   ]
  },
  {
   "cell_type": "code",
   "execution_count": 77,
   "metadata": {},
   "outputs": [
    {
     "data": {
      "image/png": "[encoded data removed]",
      "text/plain": [
       "<Figure size 648x648 with 1 Axes>"
      ]
     },
     "metadata": {},
     "output_type": "display_data"
    }
   ],
   "source": [
    "tsnescatterplot(w2v_model, 'beef', [i[0] for i in w2v_model.wv.most_similar(negative=[\"beef\"])])"
   ]
  },
  {
   "cell_type": "code",
   "execution_count": 75,
   "metadata": {},
   "outputs": [
    {
     "ename": "SyntaxError",
     "evalue": "invalid syntax (<ipython-input-75-ac030bf80383>, line 1)",
     "output_type": "error",
     "traceback": [
      "\u001b[1;36m  File \u001b[1;32m\"<ipython-input-75-ac030bf80383>\"\u001b[1;36m, line \u001b[1;32m1\u001b[0m\n\u001b[1;33m    1. catagory\u001b[0m\n\u001b[1;37m              ^\u001b[0m\n\u001b[1;31mSyntaxError\u001b[0m\u001b[1;31m:\u001b[0m invalid syntax\n"
     ]
    }
   ],
   "source": [
    "1. catagory\n",
    "2. pos & neg\n",
    "3. top ten similarity"
   ]
  },
  {
   "cell_type": "code",
   "execution_count": null,
   "metadata": {},
   "outputs": [],
   "source": []
  }
 ],
 "metadata": {
  "kernelspec": {
   "display_name": "Python 3",
   "language": "python",
   "name": "python3"
  },
  "language_info": {
   "codemirror_mode": {
    "name": "ipython",
    "version": 3
   },
   "file_extension": ".py",
   "mimetype": "text/x-python",
   "name": "python",
   "nbconvert_exporter": "python",
   "pygments_lexer": "ipython3",
   "version": "3.7.7"
  }
 },
 "nbformat": 4,
 "nbformat_minor": 4
}

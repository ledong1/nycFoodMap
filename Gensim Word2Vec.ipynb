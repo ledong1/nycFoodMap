{
 "cells": [
  {
   "cell_type": "code",
   "execution_count": 1,
   "metadata": {},
   "outputs": [],
   "source": [
    "import numpy as np\n",
    "b=np.load('ny.eater-content.npy')\n",
    "content=b.tolist()"
   ]
  },
  {
   "cell_type": "code",
   "execution_count": 2,
   "metadata": {},
   "outputs": [],
   "source": [
    "import re  # For preprocessing\n",
    "import pandas as pd  # For data handling\n",
    "from time import time  # To time our operations\n",
    "from collections import defaultdict  # For word frequency\n",
    "\n",
    "import spacy  # For preprocessing\n",
    "\n",
    "import logging  # Setting up the loggings to monitor gensim\n",
    "logging.basicConfig(format=\"%(levelname)s - %(asctime)s: %(message)s\", datefmt= '%H:%M:%S', level=logging.INFO)"
   ]
  },
  {
   "cell_type": "code",
   "execution_count": 3,
   "metadata": {},
   "outputs": [],
   "source": [
    "nlp = spacy.load('en', disable=['ner', 'parser']) # disabling Named Entity Recognition for speed\n",
    "\n",
    "def cleaning(doc):\n",
    "    # Lemmatizes and removes stopwords\n",
    "    # doc needs to be a spacy Doc object\n",
    "    txt = [token.lemma_ for token in doc if not token.is_stop]\n",
    "    # Word2Vec uses context words to learn the vector representation of a target word,\n",
    "    # if a sentence is only one or two words long,\n",
    "    # the benefit for the training is very small\n",
    "    if len(txt) > 2:\n",
    "        return ' '.join(txt)"
   ]
  },
  {
   "cell_type": "code",
   "execution_count": 5,
   "metadata": {},
   "outputs": [],
   "source": [
    "new_content = []\n",
    "for article in content:\n",
    "    text = \"\"\n",
    "    for sent in article:\n",
    "        text = text + sent\n",
    "    new_content.append(text)"
   ]
  },
  {
   "cell_type": "code",
   "execution_count": 7,
   "metadata": {},
   "outputs": [],
   "source": [
    "brief_cleaning = (re.sub(\"[^A-Za-z']+\", ' ', str(article)).lower() for article in new_content)"
   ]
  },
  {
   "cell_type": "code",
   "execution_count": 8,
   "metadata": {},
   "outputs": [
    {
     "name": "stdout",
     "output_type": "stream",
     "text": [
      "Time to clean up everything: 0.28 mins\n"
     ]
    }
   ],
   "source": [
    "t = time()\n",
    "\n",
    "txt = [cleaning(doc) for doc in nlp.pipe(brief_cleaning, batch_size=5000, n_threads=-1)]\n",
    "\n",
    "print('Time to clean up everything: {} mins'.format(round((time() - t) / 60, 2)))"
   ]
  },
  {
   "cell_type": "code",
   "execution_count": 9,
   "metadata": {},
   "outputs": [
    {
     "data": {
      "text/plain": [
       "(243, 1)"
      ]
     },
     "execution_count": 9,
     "metadata": {},
     "output_type": "execute_result"
    }
   ],
   "source": [
    "df_clean = pd.DataFrame({'clean': txt})\n",
    "df_clean = df_clean.dropna().drop_duplicates()\n",
    "df_clean.shape"
   ]
  },
  {
   "cell_type": "code",
   "execution_count": 10,
   "metadata": {},
   "outputs": [],
   "source": [
    "from gensim.models.phrases import Phrases, Phraser"
   ]
  },
  {
   "cell_type": "code",
   "execution_count": 11,
   "metadata": {},
   "outputs": [],
   "source": [
    "sent = [row.split() for row in df_clean['clean']]"
   ]
  },
  {
   "cell_type": "code",
   "execution_count": 12,
   "metadata": {},
   "outputs": [
    {
     "name": "stderr",
     "output_type": "stream",
     "text": [
      "INFO - 03:23:44: collecting all words and their counts\n",
      "INFO - 03:23:44: PROGRESS: at sentence #0, processed 0 words and 0 word types\n",
      "INFO - 03:23:44: collected 157893 word types from a corpus of 181837 words (unigram + bigrams) and 243 sentences\n",
      "INFO - 03:23:44: using 157893 counts as vocab in Phrases<0 vocab, min_count=30, threshold=10.0, max_vocab_size=40000000>\n"
     ]
    }
   ],
   "source": [
    "phrases = Phrases(sent, min_count=30, progress_per=10000)"
   ]
  },
  {
   "cell_type": "code",
   "execution_count": 14,
   "metadata": {},
   "outputs": [
    {
     "name": "stderr",
     "output_type": "stream",
     "text": [
      "INFO - 03:26:10: source_vocab length 157893\n",
      "INFO - 03:26:12: Phraser built with 56 phrasegrams\n"
     ]
    }
   ],
   "source": [
    "bigram = Phraser(phrases)"
   ]
  },
  {
   "cell_type": "code",
   "execution_count": 15,
   "metadata": {},
   "outputs": [],
   "source": [
    "sentences = bigram[sent]"
   ]
  },
  {
   "cell_type": "code",
   "execution_count": 19,
   "metadata": {},
   "outputs": [
    {
     "name": "stdout",
     "output_type": "stream",
     "text": [
      "<gensim.interfaces.TransformedCorpus object at 0x000001B717BCE148>\n"
     ]
    }
   ],
   "source": [
    "print(bigram[sent])"
   ]
  },
  {
   "cell_type": "code",
   "execution_count": 20,
   "metadata": {},
   "outputs": [
    {
     "data": {
      "text/plain": [
       "17112"
      ]
     },
     "execution_count": 20,
     "metadata": {},
     "output_type": "execute_result"
    }
   ],
   "source": [
    "word_freq = defaultdict(int)\n",
    "for sent in sentences:\n",
    "    for i in sent:\n",
    "        word_freq[i] += 1\n",
    "len(word_freq)"
   ]
  },
  {
   "cell_type": "code",
   "execution_count": 21,
   "metadata": {},
   "outputs": [
    {
     "data": {
      "text/plain": [
       "['s',\n",
       " 'restaurant',\n",
       " 'like',\n",
       " 'be',\n",
       " 'good',\n",
       " \"'s\",\n",
       " 'dish',\n",
       " 'menu',\n",
       " 'chef',\n",
       " 'chicken']"
      ]
     },
     "execution_count": 21,
     "metadata": {},
     "output_type": "execute_result"
    }
   ],
   "source": [
    "sorted(word_freq, key=word_freq.get, reverse=True)[:10]"
   ]
  },
  {
   "cell_type": "code",
   "execution_count": 22,
   "metadata": {},
   "outputs": [],
   "source": [
    "import multiprocessing\n",
    "\n",
    "from gensim.models import Word2Vec"
   ]
  },
  {
   "cell_type": "code",
   "execution_count": 23,
   "metadata": {},
   "outputs": [],
   "source": [
    "cores = multiprocessing.cpu_count() # Count the number of cores in a computer"
   ]
  },
  {
   "cell_type": "code",
   "execution_count": 24,
   "metadata": {},
   "outputs": [],
   "source": [
    "w2v_model = Word2Vec(min_count=20,\n",
    "                     window=2,\n",
    "                     size=300,\n",
    "                     sample=6e-5, \n",
    "                     alpha=0.03, \n",
    "                     min_alpha=0.0007, \n",
    "                     negative=20,\n",
    "                     workers=cores-1)"
   ]
  },
  {
   "cell_type": "code",
   "execution_count": 25,
   "metadata": {},
   "outputs": [
    {
     "name": "stderr",
     "output_type": "stream",
     "text": [
      "INFO - 03:29:57: collecting all words and their counts\n",
      "INFO - 03:29:57: PROGRESS: at sentence #0, processed 0 words, keeping 0 word types\n",
      "INFO - 03:29:58: collected 17112 word types from a corpus of 177414 raw words and 243 sentences\n",
      "INFO - 03:29:58: Loading a fresh vocabulary\n",
      "INFO - 03:29:58: effective_min_count=20 retains 1738 unique words (10% of original 17112, drops 15374)\n",
      "INFO - 03:29:58: effective_min_count=20 leaves 123955 word corpus (69% of original 177414, drops 53459)\n",
      "INFO - 03:29:58: deleting the raw counts dictionary of 17112 items\n",
      "INFO - 03:29:58: sample=6e-05 downsamples 1738 most-common words\n",
      "INFO - 03:29:58: downsampling leaves estimated 48827 word corpus (39.4% of prior 123955)\n",
      "INFO - 03:29:58: estimated required memory for 1738 words and 300 dimensions: 5040200 bytes\n",
      "INFO - 03:29:58: resetting layer weights\n"
     ]
    },
    {
     "name": "stdout",
     "output_type": "stream",
     "text": [
      "Time to build vocab: 0.01 mins\n"
     ]
    }
   ],
   "source": [
    "t = time()\n",
    "\n",
    "w2v_model.build_vocab(sentences, progress_per=10000)\n",
    "\n",
    "print('Time to build vocab: {} mins'.format(round((time() - t) / 60, 2)))"
   ]
  },
  {
   "cell_type": "code",
   "execution_count": 26,
   "metadata": {},
   "outputs": [
    {
     "name": "stderr",
     "output_type": "stream",
     "text": [
      "INFO - 03:30:13: training model with 11 workers on 1738 vocabulary and 300 features, using sg=0 hs=0 sample=6e-05 negative=20 window=2\n",
      "INFO - 03:30:13: worker thread finished; awaiting finish of 10 more threads\n",
      "INFO - 03:30:13: worker thread finished; awaiting finish of 9 more threads\n",
      "INFO - 03:30:13: worker thread finished; awaiting finish of 8 more threads\n",
      "INFO - 03:30:13: worker thread finished; awaiting finish of 7 more threads\n",
      "INFO - 03:30:13: worker thread finished; awaiting finish of 6 more threads\n",
      "INFO - 03:30:13: worker thread finished; awaiting finish of 5 more threads\n",
      "INFO - 03:30:13: worker thread finished; awaiting finish of 4 more threads\n",
      "INFO - 03:30:13: worker thread finished; awaiting finish of 3 more threads\n",
      "INFO - 03:30:13: worker thread finished; awaiting finish of 2 more threads\n",
      "INFO - 03:30:13: worker thread finished; awaiting finish of 1 more threads\n",
      "INFO - 03:30:13: worker thread finished; awaiting finish of 0 more threads\n",
      "INFO - 03:30:13: EPOCH - 1 : training on 177414 raw words (48791 effective words) took 0.5s, 107988 effective words/s\n",
      "INFO - 03:30:13: worker thread finished; awaiting finish of 10 more threads\n",
      "INFO - 03:30:14: worker thread finished; awaiting finish of 9 more threads\n",
      "INFO - 03:30:14: worker thread finished; awaiting finish of 8 more threads\n",
      "INFO - 03:30:14: worker thread finished; awaiting finish of 7 more threads\n",
      "INFO - 03:30:14: worker thread finished; awaiting finish of 6 more threads\n",
      "INFO - 03:30:14: worker thread finished; awaiting finish of 5 more threads\n",
      "INFO - 03:30:14: worker thread finished; awaiting finish of 4 more threads\n",
      "INFO - 03:30:14: worker thread finished; awaiting finish of 3 more threads\n",
      "INFO - 03:30:14: worker thread finished; awaiting finish of 2 more threads\n",
      "INFO - 03:30:14: worker thread finished; awaiting finish of 1 more threads\n",
      "INFO - 03:30:14: worker thread finished; awaiting finish of 0 more threads\n",
      "INFO - 03:30:14: EPOCH - 2 : training on 177414 raw words (48713 effective words) took 0.4s, 113507 effective words/s\n",
      "INFO - 03:30:14: worker thread finished; awaiting finish of 10 more threads\n",
      "INFO - 03:30:14: worker thread finished; awaiting finish of 9 more threads\n",
      "INFO - 03:30:14: worker thread finished; awaiting finish of 8 more threads\n",
      "INFO - 03:30:14: worker thread finished; awaiting finish of 7 more threads\n",
      "INFO - 03:30:14: worker thread finished; awaiting finish of 6 more threads\n",
      "INFO - 03:30:14: worker thread finished; awaiting finish of 5 more threads\n",
      "INFO - 03:30:14: worker thread finished; awaiting finish of 4 more threads\n",
      "INFO - 03:30:14: worker thread finished; awaiting finish of 3 more threads\n",
      "INFO - 03:30:14: worker thread finished; awaiting finish of 2 more threads\n",
      "INFO - 03:30:14: worker thread finished; awaiting finish of 1 more threads\n",
      "INFO - 03:30:14: worker thread finished; awaiting finish of 0 more threads\n",
      "INFO - 03:30:14: EPOCH - 3 : training on 177414 raw words (48824 effective words) took 0.5s, 105532 effective words/s\n",
      "INFO - 03:30:14: worker thread finished; awaiting finish of 10 more threads\n",
      "INFO - 03:30:14: worker thread finished; awaiting finish of 9 more threads\n",
      "INFO - 03:30:14: worker thread finished; awaiting finish of 8 more threads\n",
      "INFO - 03:30:14: worker thread finished; awaiting finish of 7 more threads\n",
      "INFO - 03:30:14: worker thread finished; awaiting finish of 6 more threads\n",
      "INFO - 03:30:14: worker thread finished; awaiting finish of 5 more threads\n",
      "INFO - 03:30:14: worker thread finished; awaiting finish of 4 more threads\n",
      "INFO - 03:30:14: worker thread finished; awaiting finish of 3 more threads\n",
      "INFO - 03:30:14: worker thread finished; awaiting finish of 2 more threads\n",
      "INFO - 03:30:14: worker thread finished; awaiting finish of 1 more threads\n",
      "INFO - 03:30:14: worker thread finished; awaiting finish of 0 more threads\n",
      "INFO - 03:30:14: EPOCH - 4 : training on 177414 raw words (48598 effective words) took 0.5s, 104926 effective words/s\n",
      "INFO - 03:30:15: worker thread finished; awaiting finish of 10 more threads\n",
      "INFO - 03:30:15: worker thread finished; awaiting finish of 9 more threads\n",
      "INFO - 03:30:15: worker thread finished; awaiting finish of 8 more threads\n",
      "INFO - 03:30:15: worker thread finished; awaiting finish of 7 more threads\n",
      "INFO - 03:30:15: worker thread finished; awaiting finish of 6 more threads\n",
      "INFO - 03:30:15: worker thread finished; awaiting finish of 5 more threads\n",
      "INFO - 03:30:15: worker thread finished; awaiting finish of 4 more threads\n",
      "INFO - 03:30:15: worker thread finished; awaiting finish of 3 more threads\n",
      "INFO - 03:30:15: worker thread finished; awaiting finish of 2 more threads\n",
      "INFO - 03:30:15: worker thread finished; awaiting finish of 1 more threads\n",
      "INFO - 03:30:15: worker thread finished; awaiting finish of 0 more threads\n",
      "INFO - 03:30:15: EPOCH - 5 : training on 177414 raw words (48844 effective words) took 0.5s, 106544 effective words/s\n",
      "INFO - 03:30:15: worker thread finished; awaiting finish of 10 more threads\n",
      "INFO - 03:30:15: worker thread finished; awaiting finish of 9 more threads\n",
      "INFO - 03:30:15: worker thread finished; awaiting finish of 8 more threads\n",
      "INFO - 03:30:15: worker thread finished; awaiting finish of 7 more threads\n",
      "INFO - 03:30:15: worker thread finished; awaiting finish of 6 more threads\n",
      "INFO - 03:30:15: worker thread finished; awaiting finish of 5 more threads\n",
      "INFO - 03:30:15: worker thread finished; awaiting finish of 4 more threads\n",
      "INFO - 03:30:15: worker thread finished; awaiting finish of 3 more threads\n",
      "INFO - 03:30:15: worker thread finished; awaiting finish of 2 more threads\n",
      "INFO - 03:30:15: worker thread finished; awaiting finish of 1 more threads\n",
      "INFO - 03:30:15: worker thread finished; awaiting finish of 0 more threads\n",
      "INFO - 03:30:15: EPOCH - 6 : training on 177414 raw words (48800 effective words) took 0.5s, 108230 effective words/s\n",
      "INFO - 03:30:16: worker thread finished; awaiting finish of 10 more threads\n",
      "INFO - 03:30:16: worker thread finished; awaiting finish of 9 more threads\n",
      "INFO - 03:30:16: worker thread finished; awaiting finish of 8 more threads\n",
      "INFO - 03:30:16: worker thread finished; awaiting finish of 7 more threads\n",
      "INFO - 03:30:16: worker thread finished; awaiting finish of 6 more threads\n",
      "INFO - 03:30:16: worker thread finished; awaiting finish of 5 more threads\n",
      "INFO - 03:30:16: worker thread finished; awaiting finish of 4 more threads\n",
      "INFO - 03:30:16: worker thread finished; awaiting finish of 3 more threads\n",
      "INFO - 03:30:16: worker thread finished; awaiting finish of 2 more threads\n",
      "INFO - 03:30:16: worker thread finished; awaiting finish of 1 more threads\n",
      "INFO - 03:30:16: worker thread finished; awaiting finish of 0 more threads\n",
      "INFO - 03:30:16: EPOCH - 7 : training on 177414 raw words (48852 effective words) took 0.5s, 100762 effective words/s\n",
      "INFO - 03:30:16: worker thread finished; awaiting finish of 10 more threads\n",
      "INFO - 03:30:16: worker thread finished; awaiting finish of 9 more threads\n",
      "INFO - 03:30:16: worker thread finished; awaiting finish of 8 more threads\n",
      "INFO - 03:30:16: worker thread finished; awaiting finish of 7 more threads\n",
      "INFO - 03:30:16: worker thread finished; awaiting finish of 6 more threads\n",
      "INFO - 03:30:16: worker thread finished; awaiting finish of 5 more threads\n",
      "INFO - 03:30:16: worker thread finished; awaiting finish of 4 more threads\n",
      "INFO - 03:30:16: worker thread finished; awaiting finish of 3 more threads\n",
      "INFO - 03:30:16: worker thread finished; awaiting finish of 2 more threads\n",
      "INFO - 03:30:16: worker thread finished; awaiting finish of 1 more threads\n",
      "INFO - 03:30:16: worker thread finished; awaiting finish of 0 more threads\n",
      "INFO - 03:30:16: EPOCH - 8 : training on 177414 raw words (49015 effective words) took 0.4s, 112030 effective words/s\n",
      "INFO - 03:30:17: worker thread finished; awaiting finish of 10 more threads\n",
      "INFO - 03:30:17: worker thread finished; awaiting finish of 9 more threads\n",
      "INFO - 03:30:17: worker thread finished; awaiting finish of 8 more threads\n",
      "INFO - 03:30:17: worker thread finished; awaiting finish of 7 more threads\n",
      "INFO - 03:30:17: worker thread finished; awaiting finish of 6 more threads\n",
      "INFO - 03:30:17: worker thread finished; awaiting finish of 5 more threads\n",
      "INFO - 03:30:17: worker thread finished; awaiting finish of 4 more threads\n"
     ]
    },
    {
     "name": "stderr",
     "output_type": "stream",
     "text": [
      "INFO - 03:30:17: worker thread finished; awaiting finish of 3 more threads\n",
      "INFO - 03:30:17: worker thread finished; awaiting finish of 2 more threads\n",
      "INFO - 03:30:17: worker thread finished; awaiting finish of 1 more threads\n",
      "INFO - 03:30:17: worker thread finished; awaiting finish of 0 more threads\n",
      "INFO - 03:30:17: EPOCH - 9 : training on 177414 raw words (48849 effective words) took 0.5s, 106774 effective words/s\n",
      "INFO - 03:30:17: worker thread finished; awaiting finish of 10 more threads\n",
      "INFO - 03:30:17: worker thread finished; awaiting finish of 9 more threads\n",
      "INFO - 03:30:17: worker thread finished; awaiting finish of 8 more threads\n",
      "INFO - 03:30:17: worker thread finished; awaiting finish of 7 more threads\n",
      "INFO - 03:30:17: worker thread finished; awaiting finish of 6 more threads\n",
      "INFO - 03:30:17: worker thread finished; awaiting finish of 5 more threads\n",
      "INFO - 03:30:17: worker thread finished; awaiting finish of 4 more threads\n",
      "INFO - 03:30:17: worker thread finished; awaiting finish of 3 more threads\n",
      "INFO - 03:30:17: worker thread finished; awaiting finish of 2 more threads\n",
      "INFO - 03:30:17: worker thread finished; awaiting finish of 1 more threads\n",
      "INFO - 03:30:17: worker thread finished; awaiting finish of 0 more threads\n",
      "INFO - 03:30:17: EPOCH - 10 : training on 177414 raw words (48767 effective words) took 0.4s, 108740 effective words/s\n",
      "INFO - 03:30:18: worker thread finished; awaiting finish of 10 more threads\n",
      "INFO - 03:30:18: worker thread finished; awaiting finish of 9 more threads\n",
      "INFO - 03:30:18: worker thread finished; awaiting finish of 8 more threads\n",
      "INFO - 03:30:18: worker thread finished; awaiting finish of 7 more threads\n",
      "INFO - 03:30:18: worker thread finished; awaiting finish of 6 more threads\n",
      "INFO - 03:30:18: worker thread finished; awaiting finish of 5 more threads\n",
      "INFO - 03:30:18: worker thread finished; awaiting finish of 4 more threads\n",
      "INFO - 03:30:18: worker thread finished; awaiting finish of 3 more threads\n",
      "INFO - 03:30:18: worker thread finished; awaiting finish of 2 more threads\n",
      "INFO - 03:30:18: worker thread finished; awaiting finish of 1 more threads\n",
      "INFO - 03:30:18: worker thread finished; awaiting finish of 0 more threads\n",
      "INFO - 03:30:18: EPOCH - 11 : training on 177414 raw words (48606 effective words) took 0.5s, 91153 effective words/s\n",
      "INFO - 03:30:18: worker thread finished; awaiting finish of 10 more threads\n",
      "INFO - 03:30:18: worker thread finished; awaiting finish of 9 more threads\n",
      "INFO - 03:30:18: worker thread finished; awaiting finish of 8 more threads\n",
      "INFO - 03:30:18: worker thread finished; awaiting finish of 7 more threads\n",
      "INFO - 03:30:18: worker thread finished; awaiting finish of 6 more threads\n",
      "INFO - 03:30:18: worker thread finished; awaiting finish of 5 more threads\n",
      "INFO - 03:30:18: worker thread finished; awaiting finish of 4 more threads\n",
      "INFO - 03:30:18: worker thread finished; awaiting finish of 3 more threads\n",
      "INFO - 03:30:18: worker thread finished; awaiting finish of 2 more threads\n",
      "INFO - 03:30:18: worker thread finished; awaiting finish of 1 more threads\n",
      "INFO - 03:30:18: worker thread finished; awaiting finish of 0 more threads\n",
      "INFO - 03:30:18: EPOCH - 12 : training on 177414 raw words (48679 effective words) took 0.6s, 81779 effective words/s\n",
      "INFO - 03:30:19: worker thread finished; awaiting finish of 10 more threads\n",
      "INFO - 03:30:19: worker thread finished; awaiting finish of 9 more threads\n",
      "INFO - 03:30:19: worker thread finished; awaiting finish of 8 more threads\n",
      "INFO - 03:30:19: worker thread finished; awaiting finish of 7 more threads\n",
      "INFO - 03:30:19: worker thread finished; awaiting finish of 6 more threads\n",
      "INFO - 03:30:19: worker thread finished; awaiting finish of 5 more threads\n",
      "INFO - 03:30:19: worker thread finished; awaiting finish of 4 more threads\n",
      "INFO - 03:30:19: worker thread finished; awaiting finish of 3 more threads\n",
      "INFO - 03:30:19: worker thread finished; awaiting finish of 2 more threads\n",
      "INFO - 03:30:19: worker thread finished; awaiting finish of 1 more threads\n",
      "INFO - 03:30:19: worker thread finished; awaiting finish of 0 more threads\n",
      "INFO - 03:30:19: EPOCH - 13 : training on 177414 raw words (48882 effective words) took 0.6s, 84324 effective words/s\n",
      "INFO - 03:30:20: worker thread finished; awaiting finish of 10 more threads\n",
      "INFO - 03:30:20: worker thread finished; awaiting finish of 9 more threads\n",
      "INFO - 03:30:20: worker thread finished; awaiting finish of 8 more threads\n",
      "INFO - 03:30:20: worker thread finished; awaiting finish of 7 more threads\n",
      "INFO - 03:30:20: worker thread finished; awaiting finish of 6 more threads\n",
      "INFO - 03:30:20: worker thread finished; awaiting finish of 5 more threads\n",
      "INFO - 03:30:20: worker thread finished; awaiting finish of 4 more threads\n",
      "INFO - 03:30:20: worker thread finished; awaiting finish of 3 more threads\n",
      "INFO - 03:30:20: worker thread finished; awaiting finish of 2 more threads\n",
      "INFO - 03:30:20: worker thread finished; awaiting finish of 1 more threads\n",
      "INFO - 03:30:20: worker thread finished; awaiting finish of 0 more threads\n",
      "INFO - 03:30:20: EPOCH - 14 : training on 177414 raw words (48841 effective words) took 0.5s, 89897 effective words/s\n",
      "INFO - 03:30:20: worker thread finished; awaiting finish of 10 more threads\n",
      "INFO - 03:30:20: worker thread finished; awaiting finish of 9 more threads\n",
      "INFO - 03:30:20: worker thread finished; awaiting finish of 8 more threads\n",
      "INFO - 03:30:20: worker thread finished; awaiting finish of 7 more threads\n",
      "INFO - 03:30:20: worker thread finished; awaiting finish of 6 more threads\n",
      "INFO - 03:30:20: worker thread finished; awaiting finish of 5 more threads\n",
      "INFO - 03:30:20: worker thread finished; awaiting finish of 4 more threads\n",
      "INFO - 03:30:20: worker thread finished; awaiting finish of 3 more threads\n",
      "INFO - 03:30:20: worker thread finished; awaiting finish of 2 more threads\n",
      "INFO - 03:30:20: worker thread finished; awaiting finish of 1 more threads\n",
      "INFO - 03:30:20: worker thread finished; awaiting finish of 0 more threads\n",
      "INFO - 03:30:20: EPOCH - 15 : training on 177414 raw words (48694 effective words) took 0.5s, 88616 effective words/s\n",
      "INFO - 03:30:21: worker thread finished; awaiting finish of 10 more threads\n",
      "INFO - 03:30:21: worker thread finished; awaiting finish of 9 more threads\n",
      "INFO - 03:30:21: worker thread finished; awaiting finish of 8 more threads\n",
      "INFO - 03:30:21: worker thread finished; awaiting finish of 7 more threads\n",
      "INFO - 03:30:21: worker thread finished; awaiting finish of 6 more threads\n",
      "INFO - 03:30:21: worker thread finished; awaiting finish of 5 more threads\n",
      "INFO - 03:30:21: worker thread finished; awaiting finish of 4 more threads\n",
      "INFO - 03:30:21: worker thread finished; awaiting finish of 3 more threads\n",
      "INFO - 03:30:21: worker thread finished; awaiting finish of 2 more threads\n",
      "INFO - 03:30:21: worker thread finished; awaiting finish of 1 more threads\n",
      "INFO - 03:30:21: worker thread finished; awaiting finish of 0 more threads\n",
      "INFO - 03:30:21: EPOCH - 16 : training on 177414 raw words (48772 effective words) took 0.5s, 92381 effective words/s\n",
      "INFO - 03:30:21: worker thread finished; awaiting finish of 10 more threads\n",
      "INFO - 03:30:21: worker thread finished; awaiting finish of 9 more threads\n",
      "INFO - 03:30:21: worker thread finished; awaiting finish of 8 more threads\n",
      "INFO - 03:30:21: worker thread finished; awaiting finish of 7 more threads\n",
      "INFO - 03:30:21: worker thread finished; awaiting finish of 6 more threads\n",
      "INFO - 03:30:21: worker thread finished; awaiting finish of 5 more threads\n",
      "INFO - 03:30:21: worker thread finished; awaiting finish of 4 more threads\n",
      "INFO - 03:30:21: worker thread finished; awaiting finish of 3 more threads\n",
      "INFO - 03:30:21: worker thread finished; awaiting finish of 2 more threads\n",
      "INFO - 03:30:21: worker thread finished; awaiting finish of 1 more threads\n",
      "INFO - 03:30:21: worker thread finished; awaiting finish of 0 more threads\n",
      "INFO - 03:30:21: EPOCH - 17 : training on 177414 raw words (48889 effective words) took 0.5s, 99845 effective words/s\n",
      "INFO - 03:30:22: worker thread finished; awaiting finish of 10 more threads\n",
      "INFO - 03:30:22: worker thread finished; awaiting finish of 9 more threads\n",
      "INFO - 03:30:22: worker thread finished; awaiting finish of 8 more threads\n"
     ]
    },
    {
     "name": "stderr",
     "output_type": "stream",
     "text": [
      "INFO - 03:30:22: worker thread finished; awaiting finish of 7 more threads\n",
      "INFO - 03:30:22: worker thread finished; awaiting finish of 6 more threads\n",
      "INFO - 03:30:22: worker thread finished; awaiting finish of 5 more threads\n",
      "INFO - 03:30:22: worker thread finished; awaiting finish of 4 more threads\n",
      "INFO - 03:30:22: worker thread finished; awaiting finish of 3 more threads\n",
      "INFO - 03:30:22: worker thread finished; awaiting finish of 2 more threads\n",
      "INFO - 03:30:22: worker thread finished; awaiting finish of 1 more threads\n",
      "INFO - 03:30:22: worker thread finished; awaiting finish of 0 more threads\n",
      "INFO - 03:30:22: EPOCH - 18 : training on 177414 raw words (48760 effective words) took 0.5s, 92999 effective words/s\n",
      "INFO - 03:30:22: worker thread finished; awaiting finish of 10 more threads\n",
      "INFO - 03:30:22: worker thread finished; awaiting finish of 9 more threads\n",
      "INFO - 03:30:22: worker thread finished; awaiting finish of 8 more threads\n",
      "INFO - 03:30:22: worker thread finished; awaiting finish of 7 more threads\n",
      "INFO - 03:30:22: worker thread finished; awaiting finish of 6 more threads\n",
      "INFO - 03:30:22: worker thread finished; awaiting finish of 5 more threads\n",
      "INFO - 03:30:22: worker thread finished; awaiting finish of 4 more threads\n",
      "INFO - 03:30:22: worker thread finished; awaiting finish of 3 more threads\n",
      "INFO - 03:30:22: worker thread finished; awaiting finish of 2 more threads\n",
      "INFO - 03:30:22: worker thread finished; awaiting finish of 1 more threads\n",
      "INFO - 03:30:22: worker thread finished; awaiting finish of 0 more threads\n",
      "INFO - 03:30:22: EPOCH - 19 : training on 177414 raw words (48689 effective words) took 0.6s, 88116 effective words/s\n",
      "INFO - 03:30:23: worker thread finished; awaiting finish of 10 more threads\n",
      "INFO - 03:30:23: worker thread finished; awaiting finish of 9 more threads\n",
      "INFO - 03:30:23: worker thread finished; awaiting finish of 8 more threads\n",
      "INFO - 03:30:23: worker thread finished; awaiting finish of 7 more threads\n",
      "INFO - 03:30:23: worker thread finished; awaiting finish of 6 more threads\n",
      "INFO - 03:30:23: worker thread finished; awaiting finish of 5 more threads\n",
      "INFO - 03:30:23: worker thread finished; awaiting finish of 4 more threads\n",
      "INFO - 03:30:23: worker thread finished; awaiting finish of 3 more threads\n",
      "INFO - 03:30:23: worker thread finished; awaiting finish of 2 more threads\n",
      "INFO - 03:30:23: worker thread finished; awaiting finish of 1 more threads\n",
      "INFO - 03:30:23: worker thread finished; awaiting finish of 0 more threads\n",
      "INFO - 03:30:23: EPOCH - 20 : training on 177414 raw words (48555 effective words) took 0.6s, 83821 effective words/s\n",
      "INFO - 03:30:23: worker thread finished; awaiting finish of 10 more threads\n",
      "INFO - 03:30:23: worker thread finished; awaiting finish of 9 more threads\n",
      "INFO - 03:30:23: worker thread finished; awaiting finish of 8 more threads\n",
      "INFO - 03:30:23: worker thread finished; awaiting finish of 7 more threads\n",
      "INFO - 03:30:23: worker thread finished; awaiting finish of 6 more threads\n",
      "INFO - 03:30:23: worker thread finished; awaiting finish of 5 more threads\n",
      "INFO - 03:30:23: worker thread finished; awaiting finish of 4 more threads\n",
      "INFO - 03:30:23: worker thread finished; awaiting finish of 3 more threads\n",
      "INFO - 03:30:23: worker thread finished; awaiting finish of 2 more threads\n",
      "INFO - 03:30:23: worker thread finished; awaiting finish of 1 more threads\n",
      "INFO - 03:30:23: worker thread finished; awaiting finish of 0 more threads\n",
      "INFO - 03:30:23: EPOCH - 21 : training on 177414 raw words (48685 effective words) took 0.5s, 97256 effective words/s\n",
      "INFO - 03:30:24: worker thread finished; awaiting finish of 10 more threads\n",
      "INFO - 03:30:24: worker thread finished; awaiting finish of 9 more threads\n",
      "INFO - 03:30:24: worker thread finished; awaiting finish of 8 more threads\n",
      "INFO - 03:30:24: worker thread finished; awaiting finish of 7 more threads\n",
      "INFO - 03:30:24: worker thread finished; awaiting finish of 6 more threads\n",
      "INFO - 03:30:24: worker thread finished; awaiting finish of 5 more threads\n",
      "INFO - 03:30:24: worker thread finished; awaiting finish of 4 more threads\n",
      "INFO - 03:30:24: worker thread finished; awaiting finish of 3 more threads\n",
      "INFO - 03:30:24: worker thread finished; awaiting finish of 2 more threads\n",
      "INFO - 03:30:24: worker thread finished; awaiting finish of 1 more threads\n",
      "INFO - 03:30:24: worker thread finished; awaiting finish of 0 more threads\n",
      "INFO - 03:30:24: EPOCH - 22 : training on 177414 raw words (48883 effective words) took 0.6s, 76448 effective words/s\n",
      "INFO - 03:30:25: worker thread finished; awaiting finish of 10 more threads\n",
      "INFO - 03:30:25: worker thread finished; awaiting finish of 9 more threads\n",
      "INFO - 03:30:25: worker thread finished; awaiting finish of 8 more threads\n",
      "INFO - 03:30:25: worker thread finished; awaiting finish of 7 more threads\n",
      "INFO - 03:30:25: worker thread finished; awaiting finish of 6 more threads\n",
      "INFO - 03:30:25: worker thread finished; awaiting finish of 5 more threads\n",
      "INFO - 03:30:25: worker thread finished; awaiting finish of 4 more threads\n",
      "INFO - 03:30:25: worker thread finished; awaiting finish of 3 more threads\n",
      "INFO - 03:30:25: worker thread finished; awaiting finish of 2 more threads\n",
      "INFO - 03:30:25: worker thread finished; awaiting finish of 1 more threads\n",
      "INFO - 03:30:25: worker thread finished; awaiting finish of 0 more threads\n",
      "INFO - 03:30:25: EPOCH - 23 : training on 177414 raw words (48769 effective words) took 0.6s, 85565 effective words/s\n",
      "INFO - 03:30:25: worker thread finished; awaiting finish of 10 more threads\n",
      "INFO - 03:30:25: worker thread finished; awaiting finish of 9 more threads\n",
      "INFO - 03:30:25: worker thread finished; awaiting finish of 8 more threads\n",
      "INFO - 03:30:25: worker thread finished; awaiting finish of 7 more threads\n",
      "INFO - 03:30:25: worker thread finished; awaiting finish of 6 more threads\n",
      "INFO - 03:30:25: worker thread finished; awaiting finish of 5 more threads\n",
      "INFO - 03:30:25: worker thread finished; awaiting finish of 4 more threads\n",
      "INFO - 03:30:25: worker thread finished; awaiting finish of 3 more threads\n",
      "INFO - 03:30:25: worker thread finished; awaiting finish of 2 more threads\n",
      "INFO - 03:30:25: worker thread finished; awaiting finish of 1 more threads\n",
      "INFO - 03:30:25: worker thread finished; awaiting finish of 0 more threads\n",
      "INFO - 03:30:25: EPOCH - 24 : training on 177414 raw words (48875 effective words) took 0.5s, 94476 effective words/s\n",
      "INFO - 03:30:26: worker thread finished; awaiting finish of 10 more threads\n",
      "INFO - 03:30:26: worker thread finished; awaiting finish of 9 more threads\n",
      "INFO - 03:30:26: worker thread finished; awaiting finish of 8 more threads\n",
      "INFO - 03:30:26: worker thread finished; awaiting finish of 7 more threads\n",
      "INFO - 03:30:26: worker thread finished; awaiting finish of 6 more threads\n",
      "INFO - 03:30:26: worker thread finished; awaiting finish of 5 more threads\n",
      "INFO - 03:30:26: worker thread finished; awaiting finish of 4 more threads\n",
      "INFO - 03:30:26: worker thread finished; awaiting finish of 3 more threads\n",
      "INFO - 03:30:26: worker thread finished; awaiting finish of 2 more threads\n",
      "INFO - 03:30:26: worker thread finished; awaiting finish of 1 more threads\n",
      "INFO - 03:30:26: worker thread finished; awaiting finish of 0 more threads\n",
      "INFO - 03:30:26: EPOCH - 25 : training on 177414 raw words (48695 effective words) took 0.5s, 99208 effective words/s\n",
      "INFO - 03:30:26: worker thread finished; awaiting finish of 10 more threads\n",
      "INFO - 03:30:26: worker thread finished; awaiting finish of 9 more threads\n",
      "INFO - 03:30:26: worker thread finished; awaiting finish of 8 more threads\n",
      "INFO - 03:30:26: worker thread finished; awaiting finish of 7 more threads\n",
      "INFO - 03:30:26: worker thread finished; awaiting finish of 6 more threads\n",
      "INFO - 03:30:26: worker thread finished; awaiting finish of 5 more threads\n",
      "INFO - 03:30:26: worker thread finished; awaiting finish of 4 more threads\n",
      "INFO - 03:30:26: worker thread finished; awaiting finish of 3 more threads\n",
      "INFO - 03:30:26: worker thread finished; awaiting finish of 2 more threads\n",
      "INFO - 03:30:26: worker thread finished; awaiting finish of 1 more threads\n",
      "INFO - 03:30:26: worker thread finished; awaiting finish of 0 more threads\n",
      "INFO - 03:30:26: EPOCH - 26 : training on 177414 raw words (48906 effective words) took 0.5s, 95749 effective words/s\n"
     ]
    },
    {
     "name": "stderr",
     "output_type": "stream",
     "text": [
      "INFO - 03:30:27: worker thread finished; awaiting finish of 10 more threads\n",
      "INFO - 03:30:27: worker thread finished; awaiting finish of 9 more threads\n",
      "INFO - 03:30:27: worker thread finished; awaiting finish of 8 more threads\n",
      "INFO - 03:30:27: worker thread finished; awaiting finish of 7 more threads\n",
      "INFO - 03:30:27: worker thread finished; awaiting finish of 6 more threads\n",
      "INFO - 03:30:27: worker thread finished; awaiting finish of 5 more threads\n",
      "INFO - 03:30:27: worker thread finished; awaiting finish of 4 more threads\n",
      "INFO - 03:30:27: worker thread finished; awaiting finish of 3 more threads\n",
      "INFO - 03:30:27: worker thread finished; awaiting finish of 2 more threads\n",
      "INFO - 03:30:27: worker thread finished; awaiting finish of 1 more threads\n",
      "INFO - 03:30:27: worker thread finished; awaiting finish of 0 more threads\n",
      "INFO - 03:30:27: EPOCH - 27 : training on 177414 raw words (48530 effective words) took 0.5s, 99146 effective words/s\n",
      "INFO - 03:30:27: worker thread finished; awaiting finish of 10 more threads\n",
      "INFO - 03:30:27: worker thread finished; awaiting finish of 9 more threads\n",
      "INFO - 03:30:27: worker thread finished; awaiting finish of 8 more threads\n",
      "INFO - 03:30:27: worker thread finished; awaiting finish of 7 more threads\n",
      "INFO - 03:30:27: worker thread finished; awaiting finish of 6 more threads\n",
      "INFO - 03:30:27: worker thread finished; awaiting finish of 5 more threads\n",
      "INFO - 03:30:27: worker thread finished; awaiting finish of 4 more threads\n",
      "INFO - 03:30:27: worker thread finished; awaiting finish of 3 more threads\n",
      "INFO - 03:30:27: worker thread finished; awaiting finish of 2 more threads\n",
      "INFO - 03:30:27: worker thread finished; awaiting finish of 1 more threads\n",
      "INFO - 03:30:27: worker thread finished; awaiting finish of 0 more threads\n",
      "INFO - 03:30:27: EPOCH - 28 : training on 177414 raw words (48921 effective words) took 0.5s, 98116 effective words/s\n",
      "INFO - 03:30:28: worker thread finished; awaiting finish of 10 more threads\n",
      "INFO - 03:30:28: worker thread finished; awaiting finish of 9 more threads\n",
      "INFO - 03:30:28: worker thread finished; awaiting finish of 8 more threads\n",
      "INFO - 03:30:28: worker thread finished; awaiting finish of 7 more threads\n",
      "INFO - 03:30:28: worker thread finished; awaiting finish of 6 more threads\n",
      "INFO - 03:30:28: worker thread finished; awaiting finish of 5 more threads\n",
      "INFO - 03:30:28: worker thread finished; awaiting finish of 4 more threads\n",
      "INFO - 03:30:28: worker thread finished; awaiting finish of 3 more threads\n",
      "INFO - 03:30:28: worker thread finished; awaiting finish of 2 more threads\n",
      "INFO - 03:30:28: worker thread finished; awaiting finish of 1 more threads\n",
      "INFO - 03:30:28: worker thread finished; awaiting finish of 0 more threads\n",
      "INFO - 03:30:28: EPOCH - 29 : training on 177414 raw words (48988 effective words) took 0.5s, 90301 effective words/s\n",
      "INFO - 03:30:28: worker thread finished; awaiting finish of 10 more threads\n",
      "INFO - 03:30:28: worker thread finished; awaiting finish of 9 more threads\n",
      "INFO - 03:30:28: worker thread finished; awaiting finish of 8 more threads\n",
      "INFO - 03:30:28: worker thread finished; awaiting finish of 7 more threads\n",
      "INFO - 03:30:28: worker thread finished; awaiting finish of 6 more threads\n",
      "INFO - 03:30:28: worker thread finished; awaiting finish of 5 more threads\n",
      "INFO - 03:30:28: worker thread finished; awaiting finish of 4 more threads\n",
      "INFO - 03:30:28: worker thread finished; awaiting finish of 3 more threads\n",
      "INFO - 03:30:28: worker thread finished; awaiting finish of 2 more threads\n",
      "INFO - 03:30:28: worker thread finished; awaiting finish of 1 more threads\n",
      "INFO - 03:30:28: worker thread finished; awaiting finish of 0 more threads\n",
      "INFO - 03:30:28: EPOCH - 30 : training on 177414 raw words (48723 effective words) took 0.5s, 91749 effective words/s\n",
      "INFO - 03:30:28: training on a 5322420 raw words (1463395 effective words) took 15.7s, 93482 effective words/s\n"
     ]
    },
    {
     "name": "stdout",
     "output_type": "stream",
     "text": [
      "Time to train the model: 0.26 mins\n"
     ]
    }
   ],
   "source": [
    "t = time()\n",
    "\n",
    "w2v_model.train(sentences, total_examples=w2v_model.corpus_count, epochs=30, report_delay=1)\n",
    "\n",
    "print('Time to train the model: {} mins'.format(round((time() - t) / 60, 2)))"
   ]
  },
  {
   "cell_type": "code",
   "execution_count": 27,
   "metadata": {},
   "outputs": [
    {
     "name": "stderr",
     "output_type": "stream",
     "text": [
      "INFO - 03:30:55: precomputing L2-norms of word weight vectors\n"
     ]
    }
   ],
   "source": [
    "w2v_model.init_sims(replace=True)"
   ]
  },
  {
   "cell_type": "code",
   "execution_count": 29,
   "metadata": {},
   "outputs": [
    {
     "data": {
      "text/plain": [
       "[('masala', 0.9988456964492798),\n",
       " ('vegetable', 0.9986583590507507),\n",
       " ('noodle', 0.9985232353210449),\n",
       " ('casserole', 0.9984180927276611),\n",
       " ('cauliflower', 0.9978220462799072),\n",
       " ('bread', 0.9977096319198608),\n",
       " ('meatball', 0.9975254535675049),\n",
       " ('pea', 0.9973939061164856),\n",
       " ('eel', 0.997329831123352),\n",
       " ('stuff', 0.997185468673706)]"
      ]
     },
     "execution_count": 29,
     "metadata": {},
     "output_type": "execute_result"
    }
   ],
   "source": [
    "w2v_model.wv.most_similar(positive=[\"dumpling\"])"
   ]
  },
  {
   "cell_type": "code",
   "execution_count": null,
   "metadata": {},
   "outputs": [],
   "source": []
  }
 ],
 "metadata": {
  "kernelspec": {
   "display_name": "Python 3",
   "language": "python",
   "name": "python3"
  },
  "language_info": {
   "codemirror_mode": {
    "name": "ipython",
    "version": 3
   },
   "file_extension": ".py",
   "mimetype": "text/x-python",
   "name": "python",
   "nbconvert_exporter": "python",
   "pygments_lexer": "ipython3",
   "version": "3.7.7"
  }
 },
 "nbformat": 4,
 "nbformat_minor": 4
}

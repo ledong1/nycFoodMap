{
 "cells": [
  {
   "cell_type": "markdown",
   "metadata": {},
   "source": [
    "1.term reconizetion: food? adj for foods?  \n",
    "[Automatic Food Categorization from Large Unlabeled Corpora and Its\n",
    "Impact on Relation Extraction](https://www.aclweb.org/anthology/E14-1071.pdf)  \n",
    "[Towards the Detection of Reliable Food-Health Relationships](https://www.aclweb.org/anthology/W13-1108.pdf)  \n",
    "[How do non-tastes taste?\n",
    "A corpus-based study on Chinese people’s perception of spicy and\n",
    "numbing food](https://www.aclweb.org/anthology/Y18-2001.pdf)  \n",
    "[FoodIE: A Rule-based Named-entity Recognition Method for Food\n",
    "Information Extraction\n",
    "](https://www.researchgate.net/profile/Tome_Eftimov/publication/331233364_FoodIE_A_Rule-based_Named-entity_Recognition_Method_for_Food_Information_Extraction/links/5c6d8a32a6fdcc404ec17b76/FoodIE-A-Rule-based-Named-entity-Recognition-Method-for-Food-Information-Extraction.pdf)  \n",
    "[FoodBase corpus: a new resource of annotated food entities](https://www.researchgate.net/publication/337030736_FoodBase_corpus_a_new_resource_of_annotated_food_entities)  \n",
    "2.Bigram: red wine,etc.(https://www.nltk.org/book/ch01.html)\n",
    "food phrease??  \n",
    "[Knowledge Acquisition with Natural Language\n",
    "Processing in the Food Domain: Potential and Challenges](https://projet.liris.cnrs.fr/cwc/cwc2012/cwc2012_submission_1.pdf)\n",
    "\n",
    "\n",
    "\n",
    "1.adapt the paper.  \n",
    "2.github repo,include readme(resourse paper, ...), dataset, share. \n",
    "3.write down the step, how to adapt the paper in github.\n",
    "\n",
    "[Machine Learning Food Datasets Collection](https://hackernoon.com/machine-learning-food-datasets-collection-db21e38ea225)\n"
   ]
  },
  {
   "cell_type": "code",
   "execution_count": 79,
   "metadata": {},
   "outputs": [],
   "source": [
    "url=f\"https://www.eater.com/reviews/{i}\""
   ]
  },
  {
   "cell_type": "code",
   "execution_count": 3,
   "metadata": {},
   "outputs": [],
   "source": [
    "from bs4 import BeautifulSoup\n",
    "import urllib\n",
    "import requests\n",
    "import time"
   ]
  },
  {
   "cell_type": "code",
   "execution_count": 29,
   "metadata": {},
   "outputs": [],
   "source": [
    "headers = {'User-Agent':'Mozilla/5.0 (Windows NT 6.1; WOW64; rv:23.0) Gecko/20100101 Firefox/23.0'}\n",
    "req = requests.get(url=f\"https://www.eater.com/reviews/1\", headers=headers, timeout=(3,7))\n",
    "\n",
    "html = req.text\n",
    "soup = BeautifulSoup(html, features=\"lxml\")"
   ]
  },
  {
   "cell_type": "code",
   "execution_count": 31,
   "metadata": {},
   "outputs": [
    {
     "data": {
      "text/plain": [
       "['https://ny.eater.com/2018/11/28/18114350/adda-restaurant-review-long-island-city-nyc',\n",
       " 'https://ny.eater.com/2019/1/22/18191165/intersect-lexus-danny-meyer-restaurant-review-nyc',\n",
       " 'https://ny.eater.com/2019/2/12/18218817/spa88-wall-street-russian-sauna-bathhouse-review-nyc',\n",
       " 'https://ny.eater.com/2019/6/18/18681291/au-cheval-nyc-chicago-sodikoff-restaurant-review',\n",
       " 'https://ny.eater.com/2019/5/29/18637338/estiatorio-milos-hudson-yards-nyc-restaurant-review',\n",
       " 'https://ny.eater.com/2019/4/16/18311018/wayan-vongerichten-nyc-restaurant-review',\n",
       " 'https://ny.eater.com/authors/ryan-sutton',\n",
       " 'https://ny.eater.com/2019/3/12/18259972/gupshup-nyc-restaurant-review-gramercy',\n",
       " 'https://ny.eater.com/2019/10/22/20923848/electric-lemon-hudson-yards-stephen-starr-review-nyc-restaurants-equinox-hotel',\n",
       " 'https://ny.eater.com/2019/10/15/20913008/sushi-noda-noz-review-nyc-restaurant-omakase',\n",
       " 'https://ny.eater.com/2019/2/27/18240210/hotpot-chinese-review-nyc-zhen-wei-fang-tang-hotpot-bowery-lower-east-side',\n",
       " 'https://ny.eater.com/2018/12/18/18143635/bluebird-london-restaurant-review-nyc-time-warner-center',\n",
       " 'https://ny.eater.com/2019/4/9/18300767/haenyeo-park-slope-korean-review-nyc',\n",
       " 'https://ny.eater.com/2019/12/10/20995696/montesacro-pinseria-restaurant-review-williamsburg-nyc',\n",
       " 'https://ny.eater.com/2019/9/19/20868449/red-paper-clip-west-village-nyc-restaurant-review',\n",
       " 'https://ny.eater.com/2019/11/5/20947880/llama-san-restaurant-review-nyc-japanese-peruvian-nikkei',\n",
       " 'https://ny.eater.com/2020/3/10/21171994/veronika-nyc-restaurant-review-stephen-starr-fotografiska',\n",
       " 'https://ny.eater.com/2019/8/27/20833283/pastis-restaurant-review-keith-mcnally-stephen-starr-meatpacking-district-nyc',\n",
       " 'https://ny.eater.com/2019/11/19/20970672/gotham-bar-grill-restaurant-review-new-york',\n",
       " 'https://ny.eater.com/authors/robert-sietsema',\n",
       " 'https://ny.eater.com/2019/5/29/18639015/milos-wine-bar-hudson-yards-review-nyc-restaurant',\n",
       " 'https://ny.eater.com/2019/2/28/18225261/atlas-kitchen-restaurant-review-uws-nyc',\n",
       " 'https://ny.eater.com/2019/11/7/20941839/biryani-darbar-jersey-city-restaurant-review',\n",
       " 'https://ny.eater.com/2019/5/29/18638988/kawi-momofuku-hudson-yards-david-chang-restaurant-review-eunjo-park',\n",
       " 'https://ny.eater.com/2019/2/5/18209981/momofuku-noodle-bar-restaurant-review-david-chang-time-warner-center-nyc',\n",
       " 'https://ny.eater.com/2019/8/6/20754772/rezdora-italian-pasta-restaurant-review-nyc',\n",
       " 'https://ny.eater.com/2019/12/17/21024279/le-bernardin-eric-ripert-nyc-seafood-restaurant-review',\n",
       " 'https://ny.eater.com/2019/5/29/18638983/wild-ink-hudson-yards-restaurant-review-nyc',\n",
       " 'https://ny.eater.com/2019/5/29/18638993/tak-room-thomas-keller-restaurant-review-nyc-hudson-yards',\n",
       " 'https://ny.eater.com/2019/1/16/18183818/farida-nyc-restaurant-review-port-authority',\n",
       " 'https://ny.eater.com/2019/12/4/20991672/airs-riddler-champagne-bar-review-nyc-restaurants',\n",
       " 'https://ny.eater.com/2019/1/15/18182087/di-an-di-restaurant-review-nyc-greenpoint',\n",
       " 'https://ny.eater.com/2019/5/29/18638963/belcampo-nyc-hudson-yards-restaurant-review-restaurant',\n",
       " 'https://ny.eater.com/2019/7/2/20677226/maison-yaki-new-york-restaurant-review-prospect-heights-brooklyn']"
      ]
     },
     "execution_count": 31,
     "metadata": {},
     "output_type": "execute_result"
    }
   ],
   "source": [
    "all_href = soup.find_all('a')\n",
    "links=set()\n",
    "a=0\n",
    "\n",
    "while(a<len(all_href)):\n",
    "    try:\n",
    "        try:\n",
    "            name = all_href[a]['data-analytics-link']\n",
    "        except KeyError:\n",
    "            pass\n",
    "        else:\n",
    "            if 'https://ny.eater.com' in all_href[a]['href']:\n",
    "                links.add(all_href[a]['href'])\n",
    "        #print(a,all_href[a])\n",
    "        a = a + 1\n",
    "    except KeyError:\n",
    "        a = a + 1\n",
    "    else:\n",
    "        pass\n",
    "    \n",
    "links=list(links)\n"
   ]
  },
  {
   "cell_type": "code",
   "execution_count": 32,
   "metadata": {},
   "outputs": [],
   "source": [
    "req_current_page = requests.get(url=links[9], headers=headers, timeout=(3,7))\n",
    "\n",
    "\n",
    "html_c = req_current_page.text\n",
    "soup_c = BeautifulSoup(html_c, features=\"lxml\")"
   ]
  },
  {
   "cell_type": "code",
   "execution_count": 33,
   "metadata": {},
   "outputs": [],
   "source": [
    "name=[]\n",
    "content=[]\n",
    "\n",
    "sent=[]\n",
    "name.append(soup_c.h1.get_text())\n",
    "\n",
    "all_p = soup_c.find_all('p')\n",
    "\n",
    "for m in all_p:\n",
    "    try:\n",
    "        m.get_text().isspace()\n",
    "    except TypeError:\n",
    "        pass\n",
    "    else:\n",
    "        if not m.get_text().isspace():\n",
    "            sent.append(m.get_text())\n",
    "content.append(sent[1:-1])\n"
   ]
  },
  {
   "cell_type": "code",
   "execution_count": 49,
   "metadata": {},
   "outputs": [],
   "source": [
    "name=[]\n",
    "content=[]\n",
    "links_all=[]\n",
    "requests.adapters.DEFAULT_RETRIES = 5\n",
    "headers = {'User-Agent':'Mozilla/5.0 (Windows NT 6.1; WOW64; rv:23.0) Gecko/20100101 Firefox/23.0','Connection': 'close'}\n",
    "\n",
    "for i in range(1,14):\n",
    "    \n",
    "    req = requests.get(url=f\"https://www.eater.com/reviews/{i}\", headers=headers, timeout=5)\n",
    "\n",
    "    html = req.text\n",
    "    soup = BeautifulSoup(html, features=\"lxml\")\n",
    "    \n",
    "    all_href = soup.find_all('a')\n",
    "    links=set()\n",
    "    a=0\n",
    "\n",
    "    while(a<len(all_href)):\n",
    "        try:\n",
    "            try:\n",
    "                all_href[a]['data-analytics-link']\n",
    "            except KeyError:\n",
    "                pass\n",
    "            else:\n",
    "                if 'https://ny.eater.com/201' in all_href[a]['href']:\n",
    "                    links.add(all_href[a]['href'])\n",
    "            #print(a,all_href[a])\n",
    "            a = a + 1\n",
    "        except KeyError:\n",
    "            a = a + 1\n",
    "        else:\n",
    "            pass\n",
    "\n",
    "    links_all= links_all + list(links)\n",
    "    time.sleep(5)"
   ]
  },
  {
   "cell_type": "code",
   "execution_count": 56,
   "metadata": {},
   "outputs": [
    {
     "name": "stdout",
     "output_type": "stream",
     "text": [
      "Connection refused\n",
      "Connection refused\n",
      "Connection refused\n",
      "Connection refused\n",
      "Connection refused\n"
     ]
    }
   ],
   "source": [
    "for link in links_all:\n",
    "    try:\n",
    "        req_current_page = requests.get(url=link, headers=headers, timeout=5)\n",
    "    except requests.exceptions.ConnectionError:\n",
    "        print(\"Connection refused\")\n",
    "    else:        \n",
    "        html_c = req_current_page.text\n",
    "        soup_c = BeautifulSoup(html_c, features=\"lxml\")\n",
    "\n",
    "        sent=[]\n",
    "        name.append(soup_c.h1.get_text())\n",
    "\n",
    "        all_p = soup_c.find_all('p')\n",
    "\n",
    "        for m in all_p:\n",
    "            try:\n",
    "                m.get_text().isspace()\n",
    "            except TypeError:\n",
    "                pass\n",
    "            else:\n",
    "                if not m.get_text().isspace():\n",
    "                    sent.append(m.get_text())\n",
    "        content.append(sent[1:-1])\n",
    "        time.sleep(5)"
   ]
  },
  {
   "cell_type": "code",
   "execution_count": 2,
   "metadata": {},
   "outputs": [
    {
     "ename": "NameError",
     "evalue": "name 'content' is not defined",
     "output_type": "error",
     "traceback": [
      "\u001b[1;31m---------------------------------------------------------------------------\u001b[0m",
      "\u001b[1;31mNameError\u001b[0m                                 Traceback (most recent call last)",
      "\u001b[1;32m<ipython-input-2-0980b5cc3869>\u001b[0m in \u001b[0;36m<module>\u001b[1;34m\u001b[0m\n\u001b[0;32m      1\u001b[0m \u001b[1;32mimport\u001b[0m \u001b[0mnumpy\u001b[0m \u001b[1;32mas\u001b[0m \u001b[0mnp\u001b[0m\u001b[1;33m\u001b[0m\u001b[1;33m\u001b[0m\u001b[0m\n\u001b[1;32m----> 2\u001b[1;33m \u001b[0ma\u001b[0m\u001b[1;33m=\u001b[0m\u001b[0mnp\u001b[0m\u001b[1;33m.\u001b[0m\u001b[0marray\u001b[0m\u001b[1;33m(\u001b[0m\u001b[0mcontent\u001b[0m\u001b[1;33m)\u001b[0m\u001b[1;33m\u001b[0m\u001b[1;33m\u001b[0m\u001b[0m\n\u001b[0m\u001b[0;32m      3\u001b[0m \u001b[0mnp\u001b[0m\u001b[1;33m.\u001b[0m\u001b[0msave\u001b[0m\u001b[1;33m(\u001b[0m\u001b[1;34m'ny.eater-content.npy'\u001b[0m\u001b[1;33m,\u001b[0m\u001b[0ma\u001b[0m\u001b[1;33m)\u001b[0m\u001b[1;33m\u001b[0m\u001b[1;33m\u001b[0m\u001b[0m\n\u001b[0;32m      4\u001b[0m \u001b[0mb\u001b[0m\u001b[1;33m=\u001b[0m\u001b[0mnp\u001b[0m\u001b[1;33m.\u001b[0m\u001b[0marray\u001b[0m\u001b[1;33m(\u001b[0m\u001b[0mname\u001b[0m\u001b[1;33m)\u001b[0m\u001b[1;33m\u001b[0m\u001b[1;33m\u001b[0m\u001b[0m\n\u001b[0;32m      5\u001b[0m \u001b[0mnp\u001b[0m\u001b[1;33m.\u001b[0m\u001b[0msave\u001b[0m\u001b[1;33m(\u001b[0m\u001b[1;34m'ny.eater-name.npy'\u001b[0m\u001b[1;33m,\u001b[0m\u001b[0mb\u001b[0m\u001b[1;33m)\u001b[0m\u001b[1;33m\u001b[0m\u001b[1;33m\u001b[0m\u001b[0m\n",
      "\u001b[1;31mNameError\u001b[0m: name 'content' is not defined"
     ]
    }
   ],
   "source": [
    "import numpy as np\n",
    "a=np.array(content)\n",
    "np.save('ny.eater-content.npy',a) \n",
    "b=np.array(name)\n",
    "np.save('ny.eater-name.npy',b) \n",
    "\n"
   ]
  },
  {
   "cell_type": "code",
   "execution_count": 1,
   "metadata": {},
   "outputs": [],
   "source": [
    "import numpy as np\n",
    "b=np.load('ny.eater-content.npy')\n",
    "content=b.tolist()"
   ]
  },
  {
   "cell_type": "code",
   "execution_count": null,
   "metadata": {},
   "outputs": [],
   "source": []
  },
  {
   "cell_type": "code",
   "execution_count": 5,
   "metadata": {},
   "outputs": [],
   "source": [
    "from nltk.tokenize import sent_tokenize, word_tokenize \n",
    "import warnings \n",
    "\n",
    "warnings.filterwarnings(action = 'ignore') \n",
    "\n",
    "import gensim \n",
    "from gensim.models import Word2Vec \n",
    "import pandas as pd\n",
    "import numpy as np\n",
    "import re\n",
    "from nltk.corpus import stopwords"
   ]
  },
  {
   "cell_type": "code",
   "execution_count": 6,
   "metadata": {},
   "outputs": [],
   "source": [
    "sents=''\n",
    "for each in content:\n",
    "    art=''\n",
    "    for sent in each:\n",
    "        art=art+sent\n",
    "    sents=sents+art"
   ]
  },
  {
   "cell_type": "code",
   "execution_count": 7,
   "metadata": {},
   "outputs": [],
   "source": [
    "s=sents\n",
    "\n",
    "f = s.replace(\"\\n\", \" \") \n",
    "\n",
    "data = [] \n",
    "\n",
    "stop_words = set(stopwords.words('english')) \n",
    "  \n",
    "\n",
    "  \n",
    "\n",
    "\n",
    "# iterate through each sentence in the file \n",
    "for i in sent_tokenize(f): \n",
    "    temp = [] \n",
    "    # tokenize the sentence into words \n",
    "    for j in word_tokenize(i): \n",
    "        if j.isalpha():\n",
    "            if j not in stop_words: \n",
    "                temp.append(j.lower()) \n",
    "\n",
    "    data.append(temp) "
   ]
  },
  {
   "cell_type": "code",
   "execution_count": 8,
   "metadata": {},
   "outputs": [],
   "source": [
    "model1 = gensim.models.Word2Vec(data, min_count = 1, size = 100, window = 5) "
   ]
  },
  {
   "cell_type": "code",
   "execution_count": 9,
   "metadata": {
    "scrolled": true
   },
   "outputs": [
    {
     "name": "stdout",
     "output_type": "stream",
     "text": [
      "('pork', 0.00024690854)\n",
      "('padding', 0.00022691576)\n",
      "('despise', 0.00022247143)\n",
      "('evoo', 0.00022072936)\n",
      "('kothu', 0.00022063038)\n",
      "('usa', 0.0002037813)\n",
      "('mingala', 0.00020377112)\n",
      "('mafia', 0.00019946248)\n",
      "('drink', 0.00019426145)\n",
      "('capezzana', 0.0001898633)\n",
      "('chicken', 0.0001850719)\n",
      "('rears', 0.00018233387)\n",
      "('checkers', 0.00017869262)\n",
      "('livestock', 0.00017622442)\n",
      "('coddling', 0.00017557562)\n",
      "('punchcaviar', 0.00017494515)\n",
      "('wine', 0.00017489241)\n",
      "('ringers', 0.0001747836)\n",
      "('tax', 0.00017263941)\n",
      "('sustainability', 0.00017211547)\n",
      "('cracklings', 0.0001685704)\n",
      "('brulée', 0.0001660845)\n",
      "('schedules', 0.00016386775)\n",
      "('deficiencies', 0.00016347095)\n",
      "('verdency', 0.00016164228)\n",
      "('plates', 0.00016117663)\n",
      "('indians', 0.00016044019)\n",
      "('markovcha', 0.00016034918)\n",
      "('duckand', 0.00015930446)\n",
      "('dimayuga', 0.00015911805)\n",
      "('demolish', 0.00015793483)\n",
      "('fates', 0.00015636055)\n",
      "('mishima', 0.00015611565)\n",
      "('clumps', 0.00015609834)\n",
      "('visas', 0.00015568384)\n",
      "('strogonoff', 0.00015542473)\n",
      "('esca', 0.00015457717)\n",
      "('freaks', 0.00015434982)\n",
      "('stroller', 0.00015314198)\n",
      "('princess', 0.00015241196)\n",
      "('signatures', 0.00015228376)\n",
      "('restauranta', 0.00015225404)\n",
      "('whiffs', 0.00015118626)\n",
      "('standout', 0.00015102173)\n",
      "('beef', 0.00015086865)\n",
      "('muppet', 0.00015076032)\n",
      "('trendiness', 0.00015073572)\n",
      "('corny', 0.00015035816)\n",
      "('commitment', 0.00015025413)\n",
      "('batters', 0.0001498503)\n",
      "('tip', 0.0001485348)\n",
      "('cedars', 0.00014824845)\n",
      "('burratashall', 0.00014823493)\n",
      "('wreck', 0.00014807613)\n",
      "('complaint', 0.00014774052)\n",
      "('reins', 0.00014731883)\n",
      "('coconuts', 0.00014712161)\n"
     ]
    }
   ],
   "source": [
    "import spacy\n",
    "nlp = spacy.load('en_core_web_sm')\n",
    "for each in model1.predict_output_word(['spicy'],100):\n",
    "    if nlp(each[0])[0].pos_ == 'NOUN': #NOUN,VERB\n",
    "        print (each)"
   ]
  },
  {
   "cell_type": "code",
   "execution_count": 75,
   "metadata": {},
   "outputs": [
    {
     "name": "stdout",
     "output_type": "stream",
     "text": [
      "[('keep', 0.9999181032180786), ('used', 0.9999152421951294), ('rather', 0.9999114274978638), ('enough', 0.9999063014984131), ('they', 0.9999054670333862), ('he', 0.9999032020568848), ('product', 0.9999029040336609), ('classic', 0.9999024868011475), ('perfect', 0.9998944401741028), ('interior', 0.9998928308486938)]\n"
     ]
    }
   ],
   "source": [
    "print( model1.wv.most_similar('delicious'))"
   ]
  },
  {
   "cell_type": "code",
   "execution_count": 76,
   "metadata": {},
   "outputs": [
    {
     "data": {
      "image/png": "[encoded data removed]",
      "text/plain": [
       "<Figure size 432x288 with 1 Axes>"
      ]
     },
     "metadata": {
      "needs_background": "light"
     },
     "output_type": "display_data"
    }
   ],
   "source": [
    "import numpy as np\n",
    "labels = []\n",
    "count = 0\n",
    "max_count = 50\n",
    "X = np.zeros(shape=(max_count,len(model1['delicious'])))\n",
    "\n",
    "for term in model1.wv.vocab:\n",
    "    X[count] = model1[term]\n",
    "    labels.append(term)\n",
    "    count+= 1\n",
    "    if count >= max_count: break\n",
    "\n",
    "# It is recommended to use PCA first to reduce to ~50 dimensions\n",
    "from sklearn.decomposition import PCA\n",
    "pca = PCA(n_components=50)\n",
    "X_50 = pca.fit_transform(X)\n",
    "\n",
    "# Using TSNE to further reduce to 2 dimensions\n",
    "from sklearn.manifold import TSNE\n",
    "model_tsne = TSNE(n_components=2, random_state=0)\n",
    "Y = model_tsne.fit_transform(X_50)\n",
    "\n",
    "# Show the scatter plot\n",
    "import matplotlib.pyplot as plt\n",
    "plt.scatter(Y[:,0], Y[:,1], 20)\n",
    "\n",
    "# Add labels\n",
    "for label, x, y in zip(labels, Y[:, 0], Y[:, 1]):\n",
    "    plt.annotate(label, xy = (x,y), xytext = (0, 0), textcoords = 'offset points', size = 10)\n",
    "\n",
    "plt.show()"
   ]
  },
  {
   "cell_type": "code",
   "execution_count": null,
   "metadata": {},
   "outputs": [],
   "source": []
  }
 ],
 "metadata": {
  "kernelspec": {
   "display_name": "Python 3",
   "language": "python",
   "name": "python3"
  },
  "language_info": {
   "codemirror_mode": {
    "name": "ipython",
    "version": 3
   },
   "file_extension": ".py",
   "mimetype": "text/x-python",
   "name": "python",
   "nbconvert_exporter": "python",
   "pygments_lexer": "ipython3",
   "version": "3.7.7"
  }
 },
 "nbformat": 4,
 "nbformat_minor": 4
}

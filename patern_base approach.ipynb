{
 "cells": [
  {
   "cell_type": "code",
   "execution_count": 2,
   "metadata": {},
   "outputs": [],
   "source": [
    "import numpy as np\n",
    "b=np.load('ny.eater-content.npy')\n",
    "content=b.tolist()"
   ]
  },
  {
   "cell_type": "code",
   "execution_count": 3,
   "metadata": {},
   "outputs": [],
   "source": [
    "import re \n",
    "import string \n",
    "import nltk \n",
    "import spacy \n",
    "import pandas as pd \n",
    "import numpy as np \n",
    "import math \n",
    "from tqdm import tqdm \n",
    "\n",
    "from spacy.matcher import Matcher \n",
    "from spacy.tokens import Span \n",
    "from spacy import displacy "
   ]
  },
  {
   "cell_type": "code",
   "execution_count": 4,
   "metadata": {},
   "outputs": [],
   "source": [
    "nlp = spacy.load(\"en_core_web_sm\")"
   ]
  },
  {
   "cell_type": "code",
   "execution_count": 12,
   "metadata": {},
   "outputs": [
    {
     "data": {
      "text/plain": [
       "274"
      ]
     },
     "execution_count": 12,
     "metadata": {},
     "output_type": "execute_result"
    }
   ],
   "source": []
  },
  {
   "cell_type": "code",
   "execution_count": 5,
   "metadata": {},
   "outputs": [],
   "source": [
    "doc = ''\n",
    "for i in range(100):\n",
    "    for w in content[i]:\n",
    "        doc += w"
   ]
  },
  {
   "cell_type": "code",
   "execution_count": null,
   "metadata": {},
   "outputs": [],
   "source": []
  },
  {
   "cell_type": "code",
   "execution_count": 6,
   "metadata": {},
   "outputs": [],
   "source": [
    "doc = nlp(doc)"
   ]
  },
  {
   "cell_type": "code",
   "execution_count": 35,
   "metadata": {},
   "outputs": [
    {
     "name": "stdout",
     "output_type": "stream",
     "text": [
      "out --> advmod --> PART\n",
      "homey --> ROOT --> ADJ\n",
      "dishes --> dobj --> NOUN\n",
      "with --> prep --> ADP\n",
      "punchthe --> pobj --> ADJ\n",
      "“ --> intj --> PUNCT\n",
      "oohs --> intj --> INTJ\n",
      "” --> nmod --> PUNCT\n",
      "and --> cc --> CCONJ\n",
      "“ --> compound --> PUNCT\n",
      "ahhs --> nmod --> NOUN\n",
      "” --> punct --> PUNCT\n",
      "follow --> compound --> NOUN\n",
      "dum --> compound --> NOUN\n",
      "biryani --> ROOT --> NOUN\n",
      "( --> punct --> PUNCT\n",
      "$ --> nmod --> SYM\n",
      "19 --> appos --> NUM\n",
      ") --> punct --> PUNCT\n",
      "as --> mark --> ADP\n",
      "it --> nsubj --> PRON\n",
      "bobs --> advcl --> VERB\n",
      "across --> prep --> ADP\n",
      "the --> det --> DET\n",
      "room --> pobj --> NOUN\n"
     ]
    }
   ],
   "source": [
    "a = nlp(\"out homey dishes with punchthe “oohs” and “ahhs” follow dum biryani ($19) as it bobs across the room\")\n",
    "for tok in a: \n",
    "  print(tok.text, \"-->\",tok.dep_,\"-->\", tok.pos_)"
   ]
  },
  {
   "cell_type": "code",
   "execution_count": 37,
   "metadata": {},
   "outputs": [
    {
     "name": "stdout",
     "output_type": "stream",
     "text": [
      "dum biryani ($19)\n",
      "chile paneer tikka ($7)\n",
      "paneer tikka ($7)\n",
      "seekh kebab ($13)\n",
      "called junglee maas ($18)\n",
      "junglee maas ($18)\n",
      "new zealand lamb ($15)\n",
      "zealand lamb ($15)\n",
      "head roulade ($11)\n",
      "yolky carbonara ($18)\n",
      "humongous steamed fish head ($30.95)\n",
      "steamed fish head ($30.95)\n",
      "fish head ($30.95)\n",
      "vinegar sauce ($24.95)\n",
      "chicken biryani ($11.95)\n",
      "goat biryani ($13.95)\n",
      "malai muttar ($9.95)\n",
      "navazos niepoort ($15)\n",
      "rib shashlyk ($9)\n",
      "oxtail stew ($21)\n",
      "standard steak frites ($28)\n",
      "steak frites ($28)\n",
      "burger field ($16)\n",
      "rib wellington: $178 (\n",
      "sandy breadcrumbs.oxtail consomme ($32)\n",
      "breadcrumbs.oxtail consomme ($32)\n",
      "black truffle fettuccine ($46)\n",
      "truffle fettuccine ($46)\n",
      "dum biryani ($19)\n",
      "chile paneer tikka ($7)\n",
      "paneer tikka ($7)\n",
      "seekh kebab ($13)\n",
      "called junglee maas ($18)\n",
      "junglee maas ($18)\n",
      "new zealand lamb ($15)\n",
      "zealand lamb ($15)\n",
      "head roulade ($11)\n",
      "yolky carbonara ($18)\n",
      "humongous steamed fish head ($30.95)\n",
      "steamed fish head ($30.95)\n",
      "fish head ($30.95)\n",
      "vinegar sauce ($24.95)\n",
      "chicken biryani ($11.95)\n",
      "goat biryani ($13.95)\n",
      "malai muttar ($9.95)\n",
      "navazos niepoort ($15)\n",
      "rib shashlyk ($9)\n",
      "oxtail stew ($21)\n",
      "standard steak frites ($28)\n",
      "steak frites ($28)\n",
      "burger field ($16)\n",
      "rib wellington: $178 (\n",
      "sandy breadcrumbs.oxtail consomme ($32)\n",
      "breadcrumbs.oxtail consomme ($32)\n",
      "black truffle fettuccine ($46)\n",
      "truffle fettuccine ($46)\n",
      "single vegetarian entrée ($18)\n",
      "vegetarian entrée ($18)\n",
      "tomato salad ($16)\n",
      "vecchia roma ($18)\n",
      "e piselli ($19)\n",
      "puff pastry ($45)\n",
      "grilled strip loin ($34)\n",
      "strip loin ($34)\n",
      "aforementioned chicken tagine ($15)\n",
      "chicken tagine ($15)\n",
      "bespoke couch ($16,000)\n",
      "cheese croissant ($11)\n",
      "creme anglaise ($8),\n",
      "salad nicoise ($27)\n",
      "vanilla butter ($21)\n",
      "wonderful bhatmas sandheko ($5.95)\n",
      "bhatmas sandheko ($5.95)\n",
      "bone soup ($5.95)\n",
      "goat biryani ($13.95)\n",
      "bengoli fish curry ($14.95)\n",
      "fish curry ($14.95)\n",
      "jerk pork ($9.50)\n",
      "jerk chicken ($6-$13)\n",
      "curry goat ($9)\n",
      "jerk chicken ($9.50)\n",
      "jerk pork ($9.50)\n",
      "curry goat ($12.50)\n",
      "rock shrimp ($17)\n",
      "wagyu skirt steak ($41)\n",
      "skirt steak ($41)\n",
      "salmon teriyaki ($31)\n",
      "rau kao ($14)\n",
      "rib memela ($16)\n",
      "tuna tostada ($22)\n",
      "lunchtime beef bowls ($13)\n",
      "beef bowls ($13)\n",
      "alla vaccinara ($15)\n",
      "fritto misto ($17)\n",
      "is khachapuri acharuli ($15)\n",
      "khachapuri acharuli ($15)\n",
      "khachapuri megruli ($12)\n",
      "offers pork kebabs ($12)\n",
      "pork kebabs ($12)\n",
      "bacalao con coliflor ($28)\n",
      "con coliflor ($28)\n",
      "like arroz caldosto ($48,\n",
      "arroz caldosto ($48,\n",
      "cream chicken ($8.99)\n",
      "is kukuri bhindi ($6.99)\n",
      "kukuri bhindi ($6.99)\n",
      "skirt steak ($8)\n",
      "foie gras ($75)\n"
     ]
    }
   ],
   "source": [
    "matcher = Matcher(nlp.vocab)\n",
    "\n",
    "#define the pattern\n",
    "pattern = [{'POS':'ADJ', 'OP':\"?\"},\n",
    "           {'POS':'ADJ', 'OP':\"?\"}, \n",
    "           {'POS':'VERB', 'OP':\"?\"},\n",
    "           {'POS':'VERB', 'OP':\"?\"},\n",
    "           {'POS':'NOUN', 'OP':\"?\"},\n",
    "           {'POS':'NOUN'},\n",
    "           {'POS':'VERB', 'OP':\"?\"},\n",
    "           {'POS':'PUNCT'},\n",
    "           {'LOWER':'$'},\n",
    "           {'POS':'NUM'},\n",
    "           {'POS':'PUNCT'}]\n",
    "\n",
    "matcher.add(\"matching_1\", None, pattern)\n",
    "matches = matcher(doc)\n",
    "matches\n",
    "for i in range(len(matches)):\n",
    "    span = doc[matches[i][1]:matches[i][2]]\n",
    "    print(span.text)"
   ]
  },
  {
   "cell_type": "code",
   "execution_count": null,
   "metadata": {},
   "outputs": [],
   "source": []
  },
  {
   "cell_type": "code",
   "execution_count": null,
   "metadata": {},
   "outputs": [],
   "source": []
  }
 ],
 "metadata": {
  "kernelspec": {
   "display_name": "Python 3",
   "language": "python",
   "name": "python3"
  },
  "language_info": {
   "codemirror_mode": {
    "name": "ipython",
    "version": 3
   },
   "file_extension": ".py",
   "mimetype": "text/x-python",
   "name": "python",
   "nbconvert_exporter": "python",
   "pygments_lexer": "ipython3",
   "version": "3.7.7"
  }
 },
 "nbformat": 4,
 "nbformat_minor": 4
}

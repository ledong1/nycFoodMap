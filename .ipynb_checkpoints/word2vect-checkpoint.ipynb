{
 "cells": [
  {
   "cell_type": "code",
   "execution_count": 1,
   "metadata": {},
   "outputs": [],
   "source": [
    "#1.Find the problem\n",
    "#2.Paper about the problem \n",
    "#3.Solution answer the question, output, what the output looks like\n",
    "#4.food vs topic? food vs adj? test the model \n",
    "\n",
    "#course:\n",
    "#https://web.stanford.edu/class/linguist62n/\n",
    "#paper:\n",
    "#https://www.aclweb.org/anthology/Y18-2001.pdf\n",
    "\n",
    "\n",
    "#from adj to food none\n",
    "#from food to adj\n",
    "\n",
    "#topic for each artical?\n",
    "#yelp \n",
    "\n",
    "\n",
    "\n",
    "# from Fazel Keshtkar (internal) to everyone:\n",
    "# https://www.geeksforgeeks.org/python-nlp-analysis-of-restaurant-reviews/\n",
    "# from Fazel Keshtkar (internal) to everyone:\n",
    "# https://acadgild.com/blog/analysis-of-restaurant-reviews-with-nlp\n",
    "# from Fazel Keshtkar (internal) to everyone:\n",
    "# https://www.analyticsvidhya.com/blog/2018/10/mining-online-reviews-topic-modeling-lda/\n",
    "# from Fazel Keshtkar (internal) to everyone:\n",
    "# https://www.kaggle.com/apekshakom/sentiment-analysis-of-restaurant-reviews\n",
    "# from Fazel Keshtkar (internal) to everyone:\n",
    "# https://cs224d.stanford.edu/reports/WuJi.pdf\n",
    "# from Fazel Keshtkar (internal) to everyone:\n",
    "# https://web.stanford.edu/~jurafsky/\n",
    "# from Fazel Keshtkar (internal) to everyone:\n",
    "# https://towardsdatascience.com/natural-language-processing-pipeline-93df02ecd03f\n",
    "# from Fazel Keshtkar (internal) to everyone:\n",
    "# https://towardsdatascience.com/develop-a-nlp-model-in-python-deploy-it-with-flask-step-by-step-744f3bdd7776\n",
    "# from Fazel Keshtkar (internal) to everyone:\n",
    "# https://www.researchgate.net/figure/The-NLP-pipeline-for-automatic-classification-of-document-abstracts-Chem-Chemical_fig1_314225820\n",
    "# from Fazel Keshtkar (internal) to everyone:\n",
    "# https://www.researchgate.net/figure/NLP-pipeline-used-to-predict-the-ICD-9-code-group-using-unstructured-clinical-nursing_fig4_337725118\n",
    "# from Fazel Keshtkar (internal) to everyone:\n",
    "# https://www.aclweb.org/anthology/\n",
    "# from Fazel Keshtkar (internal) to everyone:\n",
    "# https://archive.ics.uci.edu/ml/datasets.php\n",
    "# from Fazel Keshtkar (internal) to everyone:\n",
    "# https://archive.ics.uci.edu/ml/datasets/Restaurant+%26+consumer+data\n",
    "# from Fazel Keshtkar (internal) to everyone:\n",
    "# https://www.kaggle.com/vigneshwarsofficial/reviews"
   ]
  },
  {
   "cell_type": "code",
   "execution_count": 2,
   "metadata": {},
   "outputs": [],
   "source": [
    "from nltk.tokenize import sent_tokenize, word_tokenize \n",
    "import warnings \n",
    "\n",
    "warnings.filterwarnings(action = 'ignore') \n",
    "\n",
    "import gensim \n",
    "from gensim.models import Word2Vec \n",
    "import pandas as pd\n",
    "import numpy as np\n",
    "import re\n",
    "import jieba\n",
    "import jieba.posseg as pseg"
   ]
  },
  {
   "cell_type": "code",
   "execution_count": 3,
   "metadata": {},
   "outputs": [],
   "source": [
    "b=np.load('nycfoodmap.npy')\n",
    "b=b.tolist()"
   ]
  },
  {
   "cell_type": "code",
   "execution_count": 4,
   "metadata": {},
   "outputs": [],
   "source": [
    "stop = [line.strip().decode('utf-8') for line in open('cn_stopwords.txt','rb').readlines()]\n"
   ]
  },
  {
   "cell_type": "code",
   "execution_count": 5,
   "metadata": {},
   "outputs": [],
   "source": [
    "sents=[]\n",
    "for each in b:\n",
    "    sents = sents + each"
   ]
  },
  {
   "cell_type": "code",
   "execution_count": 6,
   "metadata": {},
   "outputs": [],
   "source": [
    "# jieba.enable_paddle()\n",
    "# cleared_sents=[]\n",
    "# for each in sents:\n",
    "#     deep=[]\n",
    "#     cleaned_data = ''.join(re.findall(r'[\\u4e00-\\u9fa5]', each))\n",
    "#     wordlist = pseg.cut(cleaned_data,use_paddle=True)\n",
    "#     for word in wordlist:\n",
    "#         if word.flag == 'n' or word.flag == 'a':\n",
    "#             deep.append(word.word)\n",
    "#             #print(word.word)\n",
    "#     cleared_sents.append(deep)\n"
   ]
  },
  {
   "cell_type": "code",
   "execution_count": 7,
   "metadata": {},
   "outputs": [
    {
     "name": "stderr",
     "output_type": "stream",
     "text": [
      "Building prefix dict from the default dictionary ...\n",
      "Dumping model to file cache C:\\Users\\shile\\AppData\\Local\\Temp\\jieba.cache\n",
      "Loading model cost 0.819 seconds.\n",
      "Prefix dict has been built successfully.\n"
     ]
    }
   ],
   "source": [
    "cleared_sents=[]\n",
    "for each in sents:\n",
    "    deep=[]\n",
    "    cleaned_data = ''.join(re.findall(r'[\\u4e00-\\u9fa5]', each))\n",
    "    wordlist = jieba.lcut(cleaned_data)\n",
    "    for word in wordlist:\n",
    "        if word not in stop:\n",
    "            deep.append(word)\n",
    "    cleared_sents.append(deep)\n"
   ]
  },
  {
   "cell_type": "code",
   "execution_count": 8,
   "metadata": {},
   "outputs": [],
   "source": [
    "model1 = gensim.models.Word2Vec(cleared_sents, min_count = 0, size = 100, window = 10)"
   ]
  },
  {
   "cell_type": "code",
   "execution_count": 9,
   "metadata": {},
   "outputs": [
    {
     "name": "stdout",
     "output_type": "stream",
     "text": [
      "[('酸爽', 0.9997003078460693), ('爽口', 0.9996358156204224), ('汁儿', 0.9995895624160767), ('汁', 0.9995747208595276), ('十足', 0.999505877494812), ('虾肉', 0.9994626045227051), ('鲜弹', 0.9994038343429565), ('清口', 0.9993957281112671), ('甘甜', 0.9993458390235901), ('片', 0.9993162751197815)]\n"
     ]
    }
   ],
   "source": [
    "print( model1.wv.most_similar('猪肉'))"
   ]
  },
  {
   "cell_type": "code",
   "execution_count": 30,
   "metadata": {
    "scrolled": true
   },
   "outputs": [
    {
     "name": "stdout",
     "output_type": "stream",
     "text": [
      "('新开', 0.0001703415)\n",
      "('精致', 0.00016257897)\n",
      "('全', 0.00015223268)\n",
      "('方便', 0.00013681035)\n",
      "('新', 0.00013193206)\n"
     ]
    }
   ],
   "source": [
    "for each in model1.predict_output_word(['a'],200):\n",
    "    if list(pseg.cut(each[0],use_paddle=True))[0].flag == 'a'and list(pseg.cut(each[0],use_paddle=True))[0].word not in ['小','不错','最好']:\n",
    "        print (each)"
   ]
  },
  {
   "cell_type": "code",
   "execution_count": 9,
   "metadata": {},
   "outputs": [],
   "source": [
    "def generate_candidate_phrases(text, stopwords):\n",
    "    \"\"\" generate phrases using phrase boundary markers \"\"\"\n",
    "\n",
    "    # generate approximate phrases with punctation\n",
    "    coarse_candidates = char_splitter.split(text.lower())\n",
    "\n",
    "    candidate_phrases = []\n",
    "\n",
    "    for coarse_phrase\\\n",
    "            in coarse_candidates:\n",
    "\n",
    "        words = re.split(\"\\\\s+\", coarse_phrase)\n",
    "        previous_stop = False\n",
    "\n",
    "        # examine each word to determine if it is a phrase boundary marker or part of a phrase or lone ranger\n",
    "        for w in words:\n",
    "\n",
    "            if w in stopwords and not previous_stop:\n",
    "                # phrase boundary encountered, so put a hard indicator\n",
    "                candidate_phrases.append(\";\")\n",
    "                previous_stop = True\n",
    "            elif w not in stopwords and len(w) > 3:\n",
    "                # keep adding words to list until a phrase boundary is detected\n",
    "                candidate_phrases.append(w.strip())\n",
    "                previous_stop = False\n",
    "\n",
    "    # get a list of candidate phrases without boundary demarcation\n",
    "    phrases = re.split(\";+\", ' '.join(candidate_phrases))\n",
    "\n",
    "    return phrases"
   ]
  },
  {
   "cell_type": "code",
   "execution_count": 10,
   "metadata": {},
   "outputs": [],
   "source": [
    "cleared_sents=[]\n",
    "for each in sents:\n",
    "    deep=[]\n",
    "    cleaned_data = ''.join(re.findall(r'[\\u4e00-\\u9fa5]', each))\n",
    "    wordlist = jieba.lcut(cleaned_data)\n",
    "    for word in wordlist:\n",
    "        if word not in stop:\n",
    "            deep.append(word)\n",
    "    cleared_sents.append(deep)"
   ]
  },
  {
   "cell_type": "code",
   "execution_count": 40,
   "metadata": {
    "scrolled": true
   },
   "outputs": [
    {
     "data": {
      "image/png": "[encoded data removed]",
      "text/plain": [
       "<Figure size 432x288 with 1 Axes>"
      ]
     },
     "metadata": {
      "needs_background": "light"
     },
     "output_type": "display_data"
    }
   ],
   "source": [
    "import numpy as np\n",
    "labels = []\n",
    "count = 0\n",
    "max_count = 50\n",
    "X = np.zeros(shape=(max_count,len(model1['美食'])))\n",
    "\n",
    "for term in model1.wv.vocab:\n",
    "    X[count] = model1[term]\n",
    "    labels.append(term)\n",
    "    count+= 1\n",
    "    if count >= max_count: break\n",
    "\n",
    "# It is recommended to use PCA first to reduce to ~50 dimensions\n",
    "from sklearn.decomposition import PCA\n",
    "pca = PCA(n_components=50)\n",
    "X_50 = pca.fit_transform(X)\n",
    "\n",
    "# Using TSNE to further reduce to 2 dimensions\n",
    "from sklearn.manifold import TSNE\n",
    "model_tsne = TSNE(n_components=2, random_state=0)\n",
    "Y = model_tsne.fit_transform(X_50)\n",
    "\n",
    "import matplotlib\n",
    "# Show the scatter plot\n",
    "import matplotlib.pyplot as plt\n",
    "matplotlib.rcParams['font.family'] = ['SimHei']\n",
    "plt.scatter(Y[:,0], Y[:,1], 20)\n",
    "\n",
    "# Add labels\n",
    "for label, x, y in zip(labels, Y[:, 0], Y[:, 1]):\n",
    "    plt.annotate(label, xy = (x,y), xytext = (0, 0), textcoords = 'offset points', size = 10)\n",
    "\n",
    "plt.show()"
   ]
  },
  {
   "cell_type": "code",
   "execution_count": 39,
   "metadata": {},
   "outputs": [],
   "source": [
    "def genshin(g,n):\n",
    "    ticks = time.time()\n",
    "    resin = int(g)\n",
    "    next = int(n)\n",
    "    current_t = time.strftime(\"%Y-%m-%d %H:%M:%S\", time.localtime())\n",
    "    result = f\"当前时间为:{current_t}\\n\"\n",
    "    a=[20,40,60,80,100,120]\n",
    "    for i in a: \n",
    "        if resin < i:\n",
    "            b = time.strftime(\"%H:%M\", time.localtime(time.time()+(i-resin)*480-next*60))\n",
    "            d = \"今天\" if time.localtime(time.time()+(i-resin)*480-next*60).tm_mday == time.localtime().tm_mday else \"明天\"\n",
    "            result = result + f'恢复到{i}体力:{d} {b}\\n' \n",
    "    \n",
    "    return result\n",
    "    \n"
   ]
  },
  {
   "cell_type": "code",
   "execution_count": 75,
   "metadata": {
    "scrolled": true
   },
   "outputs": [
    {
     "name": "stdout",
     "output_type": "stream",
     "text": [
      " Given the history of much of Latin America, any movement that makes inroads among the poorest must of necessity be crossing racial boundaries, and much of the recent revivalism in Brazil has occurred among those of African descent. Despite the nation’s vaunted multiracialism, Brazil’s blacks  and mestizo people have been largely excluded from political and social power, and that fact has been refl ected in religious institutions. Broadly speaking, darkness of skin directly correlates with poverty and political weakness. Though blacks make up about half the national population, they represent only 2 percent of congressional representatives and a tiny fraction of the corporate elite. In the Roman Catholic Church too, Afro-Brazilians supply only 1.5 percent of bishops and priests. Not surprisingly, blacks provide willing recruits for new churches in which they can rise to leadership positions and to which they can bring their own cultural traditions. According to Paul Freston, the typical Brazilian Catholic is elderly, rural, white, and male; the typical Protestant is young, urban, dark, and female. 54 The growth of black spirituality has powerful implications for the wider picture of world Christianity in the next half-century. Not only will Africa itself be the religion’s spiritual center within a few decades, but hundreds of millions of other Christians will belong to the wider African diaspora in the Americas and the Caribbean, and on the soil of Europe itself. As one Nigerian Pentecostal pastor declared, “This is the time of the African. The Europeans have had their time, the Asians have had their time, the Americans have had their time. The black man is going to read the last Gospel before the coming of Christ. That is why the most vibrant churches in the world are pastored by blacks. It’s our time.” It may not be too long before some enthusiast modifi es Belloc’s celebrated phrase to boast that “Africa is the Faith.” 55 The new churches are succeeding because they fulfi ll emerging social needs, and this is as true in matters of gender as of race. No account of the new Southern movements can fail to recognize the pervasive role of women in these structures, if not as leaders then as devoted core members. Carol Ann Drogus writes of Latin America that “most Pentecostal converts are women . . . women are crucial to the maintenance and expansion of Pentecostal churches.” Especially in this continent, much of the best recent scholarship on Pentecostalism stresses the sweeping changes that religious conversion can make in the lives of women and their families. A North American audience is accustomed to seeing religious believers as reactionary on issues of women’s rights, but the new churches play a vital role in reshaping women’s lives, in allowing them to fi nd their voices. As in nineteenth-century England or North America, evangelical religion has encouraged a new and exalted view of the family and of domesticity, placing much greater emphasis on male responsibility and chastity. The reshaping of gender roles echoes through global South Christianity, and Latin American churches often present Jesus as divine Husband and Father.  \n"
     ]
    }
   ],
   "source": [
    "a='''\n",
    "Given the history of much of Latin America, any movement that makes\n",
    "inroads among the poorest must of necessity be crossing racial boundaries,\n",
    "and much of the recent revivalism in Brazil has occurred among those of\n",
    "African descent. Despite the nation’s vaunted multiracialism, Brazil’s blacks \n",
    "and mestizo people have been largely excluded from political and social\n",
    "power, and that fact has been refl ected in religious institutions. Broadly\n",
    "speaking, darkness of skin directly correlates with poverty and political\n",
    "weakness. Though blacks make up about half the national population, they\n",
    "represent only 2 percent of congressional representatives and a tiny fraction\n",
    "of the corporate elite. In the Roman Catholic Church too, Afro-Brazilians\n",
    "supply only 1.5 percent of bishops and priests. Not surprisingly, blacks provide willing recruits for new churches in which they can rise to leadership\n",
    "positions and to which they can bring their own cultural traditions.\n",
    "According to Paul Freston, the typical Brazilian Catholic is elderly, rural,\n",
    "white, and male; the typical Protestant is young, urban, dark, and female. 54\n",
    "The growth of black spirituality has powerful implications for the wider\n",
    "picture of world Christianity in the next half-century. Not only will Africa\n",
    "itself be the religion’s spiritual center within a few decades, but hundreds\n",
    "of millions of other Christians will belong to the wider African diaspora in\n",
    "the Americas and the Caribbean, and on the soil of Europe itself. As one\n",
    "Nigerian Pentecostal pastor declared, “This is the time of the African. The\n",
    "Europeans have had their time, the Asians have had their time, the\n",
    "Americans have had their time. The black man is going to read the last\n",
    "Gospel before the coming of Christ. That is why the most vibrant churches\n",
    "in the world are pastored by blacks. It’s our time.” It may not be too long\n",
    "before some enthusiast modifi es Belloc’s celebrated phrase to boast that\n",
    "“Africa is the Faith.” 55\n",
    "The new churches are succeeding because they fulfi ll emerging social\n",
    "needs, and this is as true in matters of gender as of race. No account of the\n",
    "new Southern movements can fail to recognize the pervasive role of women\n",
    "in these structures, if not as leaders then as devoted core members. Carol\n",
    "Ann Drogus writes of Latin America that “most Pentecostal converts are\n",
    "women . . . women are crucial to the maintenance and expansion of\n",
    "Pentecostal churches.” Especially in this continent, much of the best recent\n",
    "scholarship on Pentecostalism stresses the sweeping changes that religious\n",
    "conversion can make in the lives of women and their families. A North\n",
    "American audience is accustomed to seeing religious believers as reactionary on issues of women’s rights, but the new churches play a vital role\n",
    "in reshaping women’s lives, in allowing them to fi nd their voices. As in\n",
    "nineteenth-century England or North America, evangelical religion has\n",
    "encouraged a new and exalted view of the family and of domesticity, placing much greater emphasis on male responsibility and chastity. The reshaping of gender roles echoes through global South Christianity, and Latin\n",
    "American churches often present Jesus as divine Husband and Father.\n",
    "\n",
    "'''\n",
    "\n",
    "print(a.replace(\"\\n\", \" \"))"
   ]
  },
  {
   "cell_type": "code",
   "execution_count": 44,
   "metadata": {},
   "outputs": [],
   "source": [
    "import tkinter as tk\n",
    "from tkinter import messagebox\n",
    "\n",
    "root = tk.Tk()\n",
    " \n",
    "w1 = tk.Label(root, text=\"乐乐的原神体力计算器 v1.0\", font=13)\n",
    "w1.pack()\n",
    "w2 = tk.Label(root, text=\"旅行者~起来清体力了哦~\")\n",
    "w2.pack()\n",
    "L1 = tk.Label(root, text=\"当前体力值:\")\n",
    "L1.pack()\n",
    "E1 = Entry(root, bd =5)\n",
    "E1.pack()\n",
    "\n",
    "L2 = tk.Label(root, text=\"据下一个体力恢复还剩几分钟:\")\n",
    "L2.pack()\n",
    "E2 = Entry(root, bd =5)\n",
    "E2.pack()\n",
    "\n",
    "def genshin(g,n):\n",
    "    ticks = time.time()\n",
    "    resin = int(g)\n",
    "    next = int(n)\n",
    "    current_t = time.strftime(\"%Y-%m-%d %H:%M:%S\", time.localtime())\n",
    "    result = f\"当前时间为:{current_t}\\n\"\n",
    "    a=[20,40,60,80,100,120]\n",
    "    for i in a: \n",
    "        if resin < i:\n",
    "            b = time.strftime(\"%H:%M\", time.localtime(time.time()+(i-resin)*480-next*60))\n",
    "            d = \"今天\" if time.localtime(time.time()+(i-resin)*480-next*60).tm_mday == time.localtime().tm_mday else \"明天\"\n",
    "            result = result + f'恢复到{i}体力:{d} {b}\\n' \n",
    "    \n",
    "    return result\n",
    "\n",
    "def genshinCallBack():\n",
    "   messagebox.showinfo( \"结果\", genshin(E1.get(),E2.get()))\n",
    " \n",
    "B = tk.Button(root, text =\"计算\", command = genshinCallBack)\n",
    "B.pack()\n",
    "\n",
    "root.mainloop()"
   ]
  },
  {
   "cell_type": "code",
   "execution_count": 3,
   "metadata": {},
   "outputs": [
    {
     "name": "stdout",
     "output_type": "stream",
     "text": [
      "0\n",
      "0\n",
      "5\n"
     ]
    }
   ],
   "source": [
    "i=0\n",
    "while(i<10):\n",
    "    if i % 5 ==0:\n",
    "        print (i)\n",
    "    if i %10 ==0:\n",
    "        print (i**2)\n",
    "    i +=1"
   ]
  },
  {
   "cell_type": "code",
   "execution_count": 8,
   "metadata": {},
   "outputs": [
    {
     "name": "stdout",
     "output_type": "stream",
     "text": [
      "5\n"
     ]
    }
   ],
   "source": [
    "for i in range(5,10):\n",
    "    if i % 5 ==0:\n",
    "        print (i)\n",
    "    if i %10 ==0:\n",
    "        print (i**2)"
   ]
  },
  {
   "cell_type": "code",
   "execution_count": 14,
   "metadata": {},
   "outputs": [],
   "source": [
    "def d(q):\n",
    "    b=''\n",
    "    while(q!=0):\n",
    "        r=q%2\n",
    "        q=q//2\n",
    "        b = str(r) +b\n",
    "    return b\n"
   ]
  },
  {
   "cell_type": "code",
   "execution_count": null,
   "metadata": {},
   "outputs": [],
   "source": []
  },
  {
   "cell_type": "code",
   "execution_count": 23,
   "metadata": {},
   "outputs": [
    {
     "data": {
      "text/plain": [
       "'1'"
      ]
     },
     "execution_count": 23,
     "metadata": {},
     "output_type": "execute_result"
    }
   ],
   "source": [
    "str('1')"
   ]
  }
 ],
 "metadata": {
  "kernelspec": {
   "display_name": "Python 3",
   "language": "python",
   "name": "python3"
  },
  "language_info": {
   "codemirror_mode": {
    "name": "ipython",
    "version": 3
   },
   "file_extension": ".py",
   "mimetype": "text/x-python",
   "name": "python",
   "nbconvert_exporter": "python",
   "pygments_lexer": "ipython3",
   "version": "3.7.7"
  }
 },
 "nbformat": 4,
 "nbformat_minor": 4
}
